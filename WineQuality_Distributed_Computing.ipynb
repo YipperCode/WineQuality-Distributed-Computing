{
  "cells": [
    {
      "cell_type": "markdown",
      "metadata": {
        "id": "SxF34Mvf3ytC"
      },
      "source": [
        "<h1 align=\"center\">\n",
        "  <b>Universidad Autónoma de Chihuahua</b>\n",
        "</h1>\n",
        "<h2 align=\"center\">\n",
        "  <b>Facultad de Ingeniaría</b>\n",
        "</h2>\n",
        "<br>\n",
        "<p align = \"center\">\n",
        "  <a href=\"https://sega.uach.mx/\">\n",
        "     <img src=\"https://drive.google.com/uc?id=1n8NdPSF4WAZRxVomm74jf0zLU9ibdxqT\">\n",
        "  </a>\n",
        "</p>\n",
        "\n",
        "<h1 align=\"center\">\n",
        "  <b>Clasificador de calidad de vino tinto</b>\n",
        "</h1>\n",
        "<br>\n",
        "\n",
        "<h2 align=\"center\">\n",
        "  <b>Cómputo Paralelo y Distribuido</b>\n",
        "</h2>\n",
        "\n",
        "<h3 align=\"center\">\n",
        "  <b>Proyecto Tercer Parcial</b>\n",
        "</h3>\n",
        "<br>\n",
        "\n",
        "<p align=\"center\">\n",
        "  <b>Alumnos: </b>\n",
        "  <br>\n",
        "  José Carlos Chaparro Morales - 329613\n",
        "  <br>\n",
        "  Juan Luis Del Valle Sotelo - 338912 \n",
        "  <br>\n",
        "  Dante Yahír Rodríguez Herrera - 338725\n",
        "</p>\n",
        "<p align=\"center\">\n",
        "  <b>Profesor:</b>\n",
        "  Jesús Roberto López Santillán\n",
        "</p>\n",
        "<br>\n",
        "\n",
        "<p align=\"center\">\n",
        "  <b>Github:</b>\n",
        "  <a href='https://github.com/mus1cian/Wine-Quality-Prediction' >WineClassifier</a>\n",
        "</p>\n",
        "<p align=\"center\">\n",
        "  <b>Deployment:</b>\n",
        "  <a href='https://mus1cian-wine-quality-prediction-app-dck61g.streamlit.app/' >Streamlit</a>\n",
        "</p>\n",
        "\n",
        "<p align=\"left\">\n",
        "  A lunes 24 de abril de 2023\n",
        "</p>"
      ]
    },
    {
      "cell_type": "markdown",
      "metadata": {
        "id": "MXInaKTC80jD"
      },
      "source": [
        "# 1. Variable Declaration"
      ]
    },
    {
      "cell_type": "code",
      "execution_count": 2,
      "metadata": {
        "id": "qmI5fNkq9HD5"
      },
      "outputs": [],
      "source": [
        "test_set_size = 20 #@param {type:\"slider\", min:0, max:50, step:1}"
      ]
    },
    {
      "cell_type": "markdown",
      "metadata": {
        "id": "ECSDhVRp9LPl"
      },
      "source": [
        "#2. Get the Data"
      ]
    },
    {
      "cell_type": "markdown",
      "metadata": {
        "id": "5rDPd9DR9Zef"
      },
      "source": [
        "##2.1 Download the Data"
      ]
    },
    {
      "cell_type": "code",
      "execution_count": 3,
      "metadata": {
        "id": "xJSIIuAd32r5"
      },
      "outputs": [],
      "source": [
        "# Code to read csv file into Colaboratory:\n",
        "import pandas as pd\n",
        "\n",
        "red_wine = pd.read_csv('winequality-red.csv')"
      ]
    },
    {
      "cell_type": "markdown",
      "metadata": {
        "id": "_1-Yi1qn9iwV"
      },
      "source": [
        "##2.2 Load and look at the data"
      ]
    },
    {
      "cell_type": "code",
      "execution_count": 4,
      "metadata": {
        "colab": {
          "base_uri": "https://localhost:8080/",
          "height": 206
        },
        "id": "LlBXpkip8mgC",
        "outputId": "356f12c6-4893-4ac9-87b1-dd409180f112"
      },
      "outputs": [
        {
          "data": {
            "text/html": [
              "<div>\n",
              "<style scoped>\n",
              "    .dataframe tbody tr th:only-of-type {\n",
              "        vertical-align: middle;\n",
              "    }\n",
              "\n",
              "    .dataframe tbody tr th {\n",
              "        vertical-align: top;\n",
              "    }\n",
              "\n",
              "    .dataframe thead th {\n",
              "        text-align: right;\n",
              "    }\n",
              "</style>\n",
              "<table border=\"1\" class=\"dataframe\">\n",
              "  <thead>\n",
              "    <tr style=\"text-align: right;\">\n",
              "      <th></th>\n",
              "      <th>fixed acidity</th>\n",
              "      <th>volatile acidity</th>\n",
              "      <th>citric acid</th>\n",
              "      <th>residual sugar</th>\n",
              "      <th>chlorides</th>\n",
              "      <th>free sulfur dioxide</th>\n",
              "      <th>total sulfur dioxide</th>\n",
              "      <th>density</th>\n",
              "      <th>pH</th>\n",
              "      <th>sulphates</th>\n",
              "      <th>alcohol</th>\n",
              "      <th>quality</th>\n",
              "    </tr>\n",
              "  </thead>\n",
              "  <tbody>\n",
              "    <tr>\n",
              "      <th>0</th>\n",
              "      <td>7.4</td>\n",
              "      <td>0.70</td>\n",
              "      <td>0.00</td>\n",
              "      <td>1.9</td>\n",
              "      <td>0.076</td>\n",
              "      <td>11.0</td>\n",
              "      <td>34.0</td>\n",
              "      <td>0.9978</td>\n",
              "      <td>3.51</td>\n",
              "      <td>0.56</td>\n",
              "      <td>9.4</td>\n",
              "      <td>5</td>\n",
              "    </tr>\n",
              "    <tr>\n",
              "      <th>1</th>\n",
              "      <td>7.8</td>\n",
              "      <td>0.88</td>\n",
              "      <td>0.00</td>\n",
              "      <td>2.6</td>\n",
              "      <td>0.098</td>\n",
              "      <td>25.0</td>\n",
              "      <td>67.0</td>\n",
              "      <td>0.9968</td>\n",
              "      <td>3.20</td>\n",
              "      <td>0.68</td>\n",
              "      <td>9.8</td>\n",
              "      <td>5</td>\n",
              "    </tr>\n",
              "    <tr>\n",
              "      <th>2</th>\n",
              "      <td>7.8</td>\n",
              "      <td>0.76</td>\n",
              "      <td>0.04</td>\n",
              "      <td>2.3</td>\n",
              "      <td>0.092</td>\n",
              "      <td>15.0</td>\n",
              "      <td>54.0</td>\n",
              "      <td>0.9970</td>\n",
              "      <td>3.26</td>\n",
              "      <td>0.65</td>\n",
              "      <td>9.8</td>\n",
              "      <td>5</td>\n",
              "    </tr>\n",
              "    <tr>\n",
              "      <th>3</th>\n",
              "      <td>11.2</td>\n",
              "      <td>0.28</td>\n",
              "      <td>0.56</td>\n",
              "      <td>1.9</td>\n",
              "      <td>0.075</td>\n",
              "      <td>17.0</td>\n",
              "      <td>60.0</td>\n",
              "      <td>0.9980</td>\n",
              "      <td>3.16</td>\n",
              "      <td>0.58</td>\n",
              "      <td>9.8</td>\n",
              "      <td>6</td>\n",
              "    </tr>\n",
              "    <tr>\n",
              "      <th>4</th>\n",
              "      <td>7.4</td>\n",
              "      <td>0.70</td>\n",
              "      <td>0.00</td>\n",
              "      <td>1.9</td>\n",
              "      <td>0.076</td>\n",
              "      <td>11.0</td>\n",
              "      <td>34.0</td>\n",
              "      <td>0.9978</td>\n",
              "      <td>3.51</td>\n",
              "      <td>0.56</td>\n",
              "      <td>9.4</td>\n",
              "      <td>5</td>\n",
              "    </tr>\n",
              "  </tbody>\n",
              "</table>\n",
              "</div>"
            ],
            "text/plain": [
              "   fixed acidity  volatile acidity  citric acid  residual sugar  chlorides   \n",
              "0            7.4              0.70         0.00             1.9      0.076  \\\n",
              "1            7.8              0.88         0.00             2.6      0.098   \n",
              "2            7.8              0.76         0.04             2.3      0.092   \n",
              "3           11.2              0.28         0.56             1.9      0.075   \n",
              "4            7.4              0.70         0.00             1.9      0.076   \n",
              "\n",
              "   free sulfur dioxide  total sulfur dioxide  density    pH  sulphates   \n",
              "0                 11.0                  34.0   0.9978  3.51       0.56  \\\n",
              "1                 25.0                  67.0   0.9968  3.20       0.68   \n",
              "2                 15.0                  54.0   0.9970  3.26       0.65   \n",
              "3                 17.0                  60.0   0.9980  3.16       0.58   \n",
              "4                 11.0                  34.0   0.9978  3.51       0.56   \n",
              "\n",
              "   alcohol  quality  \n",
              "0      9.4        5  \n",
              "1      9.8        5  \n",
              "2      9.8        5  \n",
              "3      9.8        6  \n",
              "4      9.4        5  "
            ]
          },
          "execution_count": 4,
          "metadata": {},
          "output_type": "execute_result"
        }
      ],
      "source": [
        "red_wine.head()"
      ]
    },
    {
      "cell_type": "markdown",
      "metadata": {
        "id": "lx2REvtJ-LUR"
      },
      "source": [
        "##2.3 Create a Test Set"
      ]
    },
    {
      "cell_type": "code",
      "execution_count": 5,
      "metadata": {
        "id": "JUGh0QLk9xpP"
      },
      "outputs": [],
      "source": [
        "from sklearn.model_selection import train_test_split"
      ]
    },
    {
      "cell_type": "code",
      "execution_count": 6,
      "metadata": {
        "colab": {
          "base_uri": "https://localhost:8080/"
        },
        "id": "1UJWs4xA-myS",
        "outputId": "1eba26e2-c165-4535-e486-a5e8ae504835"
      },
      "outputs": [
        {
          "name": "stdout",
          "output_type": "stream",
          "text": [
            "<class 'pandas.core.frame.DataFrame'>\n",
            "RangeIndex: 1599 entries, 0 to 1598\n",
            "Data columns (total 12 columns):\n",
            " #   Column                Non-Null Count  Dtype  \n",
            "---  ------                --------------  -----  \n",
            " 0   fixed acidity         1599 non-null   float64\n",
            " 1   volatile acidity      1599 non-null   float64\n",
            " 2   citric acid           1599 non-null   float64\n",
            " 3   residual sugar        1599 non-null   float64\n",
            " 4   chlorides             1599 non-null   float64\n",
            " 5   free sulfur dioxide   1599 non-null   float64\n",
            " 6   total sulfur dioxide  1599 non-null   float64\n",
            " 7   density               1599 non-null   float64\n",
            " 8   pH                    1599 non-null   float64\n",
            " 9   sulphates             1599 non-null   float64\n",
            " 10  alcohol               1599 non-null   float64\n",
            " 11  quality               1599 non-null   int64  \n",
            "dtypes: float64(11), int64(1)\n",
            "memory usage: 150.0 KB\n"
          ]
        }
      ],
      "source": [
        "red_wine.info()"
      ]
    },
    {
      "cell_type": "markdown",
      "metadata": {
        "id": "ivii0jOJA7je"
      },
      "source": [
        "##2.4 Representative Test Set"
      ]
    },
    {
      "cell_type": "code",
      "execution_count": 7,
      "metadata": {
        "colab": {
          "base_uri": "https://localhost:8080/",
          "height": 447
        },
        "id": "jHTEe9KWBQYX",
        "outputId": "a04b6ee4-9661-447f-b4f8-182287fd2522"
      },
      "outputs": [
        {
          "data": {
            "text/plain": [
              "<Axes: >"
            ]
          },
          "execution_count": 7,
          "metadata": {},
          "output_type": "execute_result"
        },
        {
          "data": {
            "image/png": "[encoded data removed]",
            "text/plain": [
              "<Figure size 640x480 with 1 Axes>"
            ]
          },
          "metadata": {},
          "output_type": "display_data"
        }
      ],
      "source": [
        "red_wine[\"quality\"].hist(bins = 6)"
      ]
    },
    {
      "cell_type": "markdown",
      "metadata": {
        "id": "wTk2s9VvA3wC"
      },
      "source": [
        "#3. Discover and Visualize the Data to Gain Insights"
      ]
    },
    {
      "cell_type": "code",
      "execution_count": 8,
      "metadata": {
        "colab": {
          "base_uri": "https://localhost:8080/",
          "height": 1000
        },
        "id": "xkwvl9Fq-vO0",
        "outputId": "b0d7d9ab-708c-49d8-ab3a-99154e316937"
      },
      "outputs": [
        {
          "data": {
            "image/png": "[encoded data removed]",
            "text/plain": [
              "<Figure size 1500x1500 with 12 Axes>"
            ]
          },
          "metadata": {},
          "output_type": "display_data"
        }
      ],
      "source": [
        "import matplotlib.pyplot as plt\n",
        "import seaborn as sns\n",
        "fig, axes = plt.subplots(nrows=4, ncols=3, figsize=(15, 15))\n",
        "\n",
        "for i, column in enumerate(red_wine.columns[:-1]):\n",
        "    row = i // 3\n",
        "    col = i % 3\n",
        "    sns.barplot(x='quality', y=column, data=red_wine, ax=axes[row, col])\n",
        "    axes[row, col].set_xlabel('Quality', fontsize=12)\n",
        "    axes[row, col].set_ylabel(column.capitalize(), fontsize=12)\n",
        "\n",
        "plt.subplots_adjust(wspace=0.3, hspace=0.5)\n",
        "\n",
        "plt.show()"
      ]
    },
    {
      "cell_type": "markdown",
      "metadata": {
        "id": "wPxOlTtKrXwM"
      },
      "source": [
        "# 4. Prepare the data for Machine Learning Algorithms\n"
      ]
    },
    {
      "cell_type": "markdown",
      "metadata": {
        "id": "epMh2fT8D4PU"
      },
      "source": [
        "## 4.1 Classifying quality and assigning labels"
      ]
    },
    {
      "cell_type": "code",
      "execution_count": 9,
      "metadata": {
        "id": "5kFlfYjXrbsy"
      },
      "outputs": [],
      "source": [
        "bins = (2, 5, 6, 8)\n",
        "group_names = ['bad', 'average', 'good']\n",
        "red_wine['quality'] = pd.cut(red_wine['quality'], bins = bins, labels = group_names)"
      ]
    },
    {
      "cell_type": "code",
      "execution_count": 10,
      "metadata": {
        "id": "OctgvayKAzY-"
      },
      "outputs": [],
      "source": [
        "from sklearn.preprocessing import StandardScaler, LabelEncoder\n",
        "\n",
        "label_quality = LabelEncoder()"
      ]
    },
    {
      "cell_type": "code",
      "execution_count": 11,
      "metadata": {
        "id": "hJsekRaBA1Nu"
      },
      "outputs": [],
      "source": [
        "red_wine['quality'] = label_quality.fit_transform(red_wine['quality'])"
      ]
    },
    {
      "cell_type": "code",
      "execution_count": 12,
      "metadata": {
        "colab": {
          "base_uri": "https://localhost:8080/"
        },
        "id": "xWJwLeaZA3vU",
        "outputId": "31a37b81-977f-4c89-b3ad-e52e8019d762"
      },
      "outputs": [
        {
          "data": {
            "text/plain": [
              "quality\n",
              "1    744\n",
              "0    638\n",
              "2    217\n",
              "Name: count, dtype: int64"
            ]
          },
          "execution_count": 12,
          "metadata": {},
          "output_type": "execute_result"
        }
      ],
      "source": [
        "red_wine['quality'].value_counts()"
      ]
    },
    {
      "cell_type": "code",
      "execution_count": 13,
      "metadata": {
        "colab": {
          "base_uri": "https://localhost:8080/",
          "height": 466
        },
        "id": "F4WmoKB0Bk-e",
        "outputId": "3404904f-9959-49b8-8dd3-fc5d6b5fe0bb"
      },
      "outputs": [
        {
          "data": {
            "text/plain": [
              "<Axes: xlabel='quality', ylabel='count'>"
            ]
          },
          "execution_count": 13,
          "metadata": {},
          "output_type": "execute_result"
        },
        {
          "data": {
            "image/png": "[encoded data removed]",
            "text/plain": [
              "<Figure size 640x480 with 1 Axes>"
            ]
          },
          "metadata": {},
          "output_type": "display_data"
        }
      ],
      "source": [
        "sns.countplot(x='quality', data=red_wine, order=[0,1,2])\n"
      ]
    },
    {
      "cell_type": "code",
      "execution_count": 14,
      "metadata": {
        "colab": {
          "base_uri": "https://localhost:8080/"
        },
        "id": "hgGA_rniwpbw",
        "outputId": "d571bb7f-550a-4335-bd1d-c482a6eb2ea1"
      },
      "outputs": [
        {
          "name": "stdout",
          "output_type": "stream",
          "text": [
            "0       1\n",
            "1       1\n",
            "2       1\n",
            "3       0\n",
            "4       1\n",
            "       ..\n",
            "1594    1\n",
            "1595    0\n",
            "1596    0\n",
            "1597    1\n",
            "1598    0\n",
            "Name: quality, Length: 1599, dtype: int32\n",
            "<class 'pandas.core.series.Series'>\n"
          ]
        }
      ],
      "source": [
        "red_wine['quality']\n",
        "print(red_wine['quality'])\n",
        "print(type(red_wine['quality']))"
      ]
    },
    {
      "cell_type": "code",
      "execution_count": 15,
      "metadata": {
        "colab": {
          "base_uri": "https://localhost:8080/"
        },
        "id": "k_uN8Z4ShyJ3",
        "outputId": "d9a8d924-f5ec-4986-f77b-2c389c96c8fd"
      },
      "outputs": [
        {
          "name": "stdout",
          "output_type": "stream",
          "text": [
            "0       1\n",
            "1       1\n",
            "2       1\n",
            "3       0\n",
            "4       1\n",
            "       ..\n",
            "1594    1\n",
            "1595    0\n",
            "1596    0\n",
            "1597    1\n",
            "1598    0\n",
            "Name: quality, Length: 1599, dtype: int32\n",
            "638\n"
          ]
        }
      ],
      "source": [
        "array = red_wine['quality']\n",
        "print(array)\n",
        "c = array.value_counts()[0]\n",
        "\n",
        "print(c)"
      ]
    },
    {
      "cell_type": "code",
      "execution_count": 16,
      "metadata": {
        "id": "bIJjQlBJBZd-"
      },
      "outputs": [],
      "source": [
        "X = red_wine.drop('quality', axis = 1)\n",
        "y = red_wine['quality'].copy()"
      ]
    },
    {
      "cell_type": "code",
      "execution_count": 17,
      "metadata": {
        "colab": {
          "base_uri": "https://localhost:8080/"
        },
        "id": "mB2pZRQvndLK",
        "outputId": "3fb82bf9-2b8d-47f4-84f9-40f0bcb47a1b"
      },
      "outputs": [
        {
          "name": "stdout",
          "output_type": "stream",
          "text": [
            "      fixed acidity  volatile acidity  citric acid  residual sugar  chlorides   \n",
            "0               7.4             0.700         0.00             1.9      0.076  \\\n",
            "1               7.8             0.880         0.00             2.6      0.098   \n",
            "2               7.8             0.760         0.04             2.3      0.092   \n",
            "3              11.2             0.280         0.56             1.9      0.075   \n",
            "4               7.4             0.700         0.00             1.9      0.076   \n",
            "...             ...               ...          ...             ...        ...   \n",
            "1594            6.2             0.600         0.08             2.0      0.090   \n",
            "1595            5.9             0.550         0.10             2.2      0.062   \n",
            "1596            6.3             0.510         0.13             2.3      0.076   \n",
            "1597            5.9             0.645         0.12             2.0      0.075   \n",
            "1598            6.0             0.310         0.47             3.6      0.067   \n",
            "\n",
            "      free sulfur dioxide  total sulfur dioxide  density    pH  sulphates   \n",
            "0                    11.0                  34.0  0.99780  3.51       0.56  \\\n",
            "1                    25.0                  67.0  0.99680  3.20       0.68   \n",
            "2                    15.0                  54.0  0.99700  3.26       0.65   \n",
            "3                    17.0                  60.0  0.99800  3.16       0.58   \n",
            "4                    11.0                  34.0  0.99780  3.51       0.56   \n",
            "...                   ...                   ...      ...   ...        ...   \n",
            "1594                 32.0                  44.0  0.99490  3.45       0.58   \n",
            "1595                 39.0                  51.0  0.99512  3.52       0.76   \n",
            "1596                 29.0                  40.0  0.99574  3.42       0.75   \n",
            "1597                 32.0                  44.0  0.99547  3.57       0.71   \n",
            "1598                 18.0                  42.0  0.99549  3.39       0.66   \n",
            "\n",
            "      alcohol  \n",
            "0         9.4  \n",
            "1         9.8  \n",
            "2         9.8  \n",
            "3         9.8  \n",
            "4         9.4  \n",
            "...       ...  \n",
            "1594     10.5  \n",
            "1595     11.2  \n",
            "1596     11.0  \n",
            "1597     10.2  \n",
            "1598     11.0  \n",
            "\n",
            "[1599 rows x 11 columns]\n"
          ]
        }
      ],
      "source": [
        "print(X)"
      ]
    },
    {
      "cell_type": "code",
      "execution_count": 18,
      "metadata": {
        "id": "HC1crKf0FLTJ"
      },
      "outputs": [],
      "source": [
        "from sklearn.model_selection import train_test_split, StratifiedShuffleSplit\n",
        "\n",
        "strat_shuff_split = StratifiedShuffleSplit(n_splits=1, test_size=test_set_size, random_state=42)\n",
        "\n",
        "for train_index, test_index in strat_shuff_split.split(X, y):\n",
        "    X_train, X_test = X.iloc[train_index], X.iloc[test_index]\n",
        "    y_train, y_test = y.iloc[train_index], y.iloc[test_index]"
      ]
    },
    {
      "cell_type": "markdown",
      "metadata": {
        "id": "vefLUHH5Gy83"
      },
      "source": [
        "## 4.2 Transformation Pipeline"
      ]
    },
    {
      "cell_type": "code",
      "execution_count": 19,
      "metadata": {
        "id": "UqYiMq2jG1mG"
      },
      "outputs": [],
      "source": [
        "from sklearn.pipeline import Pipeline\n",
        "from sklearn.preprocessing import StandardScaler\n",
        "from sklearn.impute import SimpleImputer\n",
        "from sklearn.decomposition import PCA"
      ]
    },
    {
      "cell_type": "code",
      "execution_count": 20,
      "metadata": {
        "id": "1usZTXPBG25M"
      },
      "outputs": [],
      "source": [
        "full_pipeline = Pipeline([\n",
        "    ('imputer', SimpleImputer(strategy=\"median\")),\n",
        "    ('std_scaler', StandardScaler())\n",
        "])\n",
        "\n",
        "red_wine_prepared = full_pipeline.fit_transform(X_train)\n",
        "red_test = full_pipeline.transform(X_test)"
      ]
    },
    {
      "cell_type": "code",
      "execution_count": 21,
      "metadata": {
        "colab": {
          "base_uri": "https://localhost:8080/"
        },
        "id": "3-Ny6OnXoLBj",
        "outputId": "ba4682a2-5c14-4b19-95c8-a22404cca3ae"
      },
      "outputs": [
        {
          "data": {
            "text/plain": [
              "array([-0.98963013,  1.10270258, -0.36513127,  3.75716056, -0.30866228,\n",
              "        1.25019964,  0.98477552,  0.5061313 , -0.13280162, -0.69577545,\n",
              "       -1.1493235 ])"
            ]
          },
          "execution_count": 21,
          "metadata": {},
          "output_type": "execute_result"
        }
      ],
      "source": [
        "red_wine_prepared[0]"
      ]
    },
    {
      "cell_type": "code",
      "execution_count": 22,
      "metadata": {
        "colab": {
          "base_uri": "https://localhost:8080/"
        },
        "id": "KHGwXdf9oYEh",
        "outputId": "76872fbd-a1a5-4d6a-a97e-a2f1ab3a83f6"
      },
      "outputs": [
        {
          "data": {
            "text/plain": [
              "array([-0.58702489, -0.09922057, -0.46795671, -0.31139212, -0.37210365,\n",
              "       -0.37038704, -0.56106156,  0.49551588,  1.36083617,  0.42353172,\n",
              "       -0.86688916])"
            ]
          },
          "execution_count": 22,
          "metadata": {},
          "output_type": "execute_result"
        }
      ],
      "source": [
        "red_test[0]"
      ]
    },
    {
      "cell_type": "markdown",
      "metadata": {
        "id": "uxsg_TrYFGgy"
      },
      "source": [
        "# 5. Select and Train a Model"
      ]
    },
    {
      "cell_type": "markdown",
      "metadata": {
        "id": "hP_Oki4etsKH"
      },
      "source": [
        "##5.1 Extra Trees"
      ]
    },
    {
      "cell_type": "markdown",
      "metadata": {
        "id": "mHiKOrDLug_C"
      },
      "source": [
        "### 5.1.1 Extra Trees Grid-Search - Sequential"
      ]
    },
    {
      "cell_type": "code",
      "execution_count": 23,
      "metadata": {
        "colab": {
          "base_uri": "https://localhost:8080/"
        },
        "id": "bQaAfxIBuvG_",
        "outputId": "04ec6aeb-05fe-4c9f-93a5-d5403ca1720d"
      },
      "outputs": [
        {
          "name": "stdout",
          "output_type": "stream",
          "text": [
            "Fitting 5 folds for each of 324 candidates, totalling 1620 fits\n",
            "[CV] END bootstrap=False, criterion=gini, max_features=sqrt, min_samples_leaf=1, min_samples_split=2, n_estimators=50; total time=   0.0s\n",
            "[CV] END bootstrap=False, criterion=gini, max_features=sqrt, min_samples_leaf=1, min_samples_split=2, n_estimators=50; total time=   0.0s\n",
            "[CV] END bootstrap=False, criterion=gini, max_features=sqrt, min_samples_leaf=1, min_samples_split=2, n_estimators=50; total time=   0.0s\n",
            "[CV] END bootstrap=False, criterion=gini, max_features=sqrt, min_samples_leaf=1, min_samples_split=2, n_estimators=50; total time=   0.0s\n",
            "[CV] END bootstrap=False, criterion=gini, max_features=sqrt, min_samples_leaf=1, min_samples_split=2, n_estimators=50; total time=   0.0s\n",
            "[CV] END bootstrap=False, criterion=gini, max_features=sqrt, min_samples_leaf=1, min_samples_split=2, n_estimators=100; total time=   0.2s\n",
            "[CV] END bootstrap=False, criterion=gini, max_features=sqrt, min_samples_leaf=1, min_samples_split=2, n_estimators=100; total time=   0.2s\n",
            "[CV] END bootstrap=False, criterion=gini, max_features=sqrt, min_samples_leaf=1, min_samples_split=2, n_estimators=100; total time=   0.2s\n",
            "[CV] END bootstrap=False, criterion=gini, max_features=sqrt, min_samples_leaf=1, min_samples_split=2, n_estimators=100; total time=   0.1s\n",
            "[CV] END bootstrap=False, criterion=gini, max_features=sqrt, min_samples_leaf=1, min_samples_split=2, n_estimators=100; total time=   0.1s\n",
            "[CV] END bootstrap=False, criterion=gini, max_features=sqrt, min_samples_leaf=1, min_samples_split=2, n_estimators=200; total time=   0.4s\n",
            "[CV] END bootstrap=False, criterion=gini, max_features=sqrt, min_samples_leaf=1, min_samples_split=2, n_estimators=200; total time=   0.4s\n",
            "[CV] END bootstrap=False, criterion=gini, max_features=sqrt, min_samples_leaf=1, min_samples_split=2, n_estimators=200; total time=   0.4s\n",
            "[CV] END bootstrap=False, criterion=gini, max_features=sqrt, min_samples_leaf=1, min_samples_split=2, n_estimators=200; total time=   0.4s\n",
            "[CV] END bootstrap=False, criterion=gini, max_features=sqrt, min_samples_leaf=1, min_samples_split=2, n_estimators=200; total time=   0.4s\n",
            "[CV] END bootstrap=False, criterion=gini, max_features=sqrt, min_samples_leaf=1, min_samples_split=5, n_estimators=50; total time=   0.0s\n",
            "[CV] END bootstrap=False, criterion=gini, max_features=sqrt, min_samples_leaf=1, min_samples_split=5, n_estimators=50; total time=   0.0s\n",
            "[CV] END bootstrap=False, criterion=gini, max_features=sqrt, min_samples_leaf=1, min_samples_split=5, n_estimators=50; total time=   0.0s\n",
            "[CV] END bootstrap=False, criterion=gini, max_features=sqrt, min_samples_leaf=1, min_samples_split=5, n_estimators=50; total time=   0.0s\n",
            "[CV] END bootstrap=False, criterion=gini, max_features=sqrt, min_samples_leaf=1, min_samples_split=5, n_estimators=50; total time=   0.1s\n",
            "[CV] END bootstrap=False, criterion=gini, max_features=sqrt, min_samples_leaf=1, min_samples_split=5, n_estimators=100; total time=   0.2s\n",
            "[CV] END bootstrap=False, criterion=gini, max_features=sqrt, min_samples_leaf=1, min_samples_split=5, n_estimators=100; total time=   0.1s\n",
            "[CV] END bootstrap=False, criterion=gini, max_features=sqrt, min_samples_leaf=1, min_samples_split=5, n_estimators=100; total time=   0.2s\n",
            "[CV] END bootstrap=False, criterion=gini, max_features=sqrt, min_samples_leaf=1, min_samples_split=5, n_estimators=100; total time=   0.3s\n",
            "[CV] END bootstrap=False, criterion=gini, max_features=sqrt, min_samples_leaf=1, min_samples_split=5, n_estimators=100; total time=   0.2s\n",
            "[CV] END bootstrap=False, criterion=gini, max_features=sqrt, min_samples_leaf=1, min_samples_split=5, n_estimators=200; total time=   0.4s\n",
            "[CV] END bootstrap=False, criterion=gini, max_features=sqrt, min_samples_leaf=1, min_samples_split=5, n_estimators=200; total time=   0.3s\n",
            "[CV] END bootstrap=False, criterion=gini, max_features=sqrt, min_samples_leaf=1, min_samples_split=5, n_estimators=200; total time=   0.4s\n",
            "[CV] END bootstrap=False, criterion=gini, max_features=sqrt, min_samples_leaf=1, min_samples_split=5, n_estimators=200; total time=   0.3s\n",
            "[CV] END bootstrap=False, criterion=gini, max_features=sqrt, min_samples_leaf=1, min_samples_split=5, n_estimators=200; total time=   0.3s\n",
            "[CV] END bootstrap=False, criterion=gini, max_features=sqrt, min_samples_leaf=1, min_samples_split=10, n_estimators=50; total time=   0.0s\n",
            "[CV] END bootstrap=False, criterion=gini, max_features=sqrt, min_samples_leaf=1, min_samples_split=10, n_estimators=50; total time=   0.0s\n",
            "[CV] END bootstrap=False, criterion=gini, max_features=sqrt, min_samples_leaf=1, min_samples_split=10, n_estimators=50; total time=   0.0s\n",
            "[CV] END bootstrap=False, criterion=gini, max_features=sqrt, min_samples_leaf=1, min_samples_split=10, n_estimators=50; total time=   0.0s\n",
            "[CV] END bootstrap=False, criterion=gini, max_features=sqrt, min_samples_leaf=1, min_samples_split=10, n_estimators=50; total time=   0.0s\n",
            "[CV] END bootstrap=False, criterion=gini, max_features=sqrt, min_samples_leaf=1, min_samples_split=10, n_estimators=100; total time=   0.1s\n",
            "[CV] END bootstrap=False, criterion=gini, max_features=sqrt, min_samples_leaf=1, min_samples_split=10, n_estimators=100; total time=   0.1s\n",
            "[CV] END bootstrap=False, criterion=gini, max_features=sqrt, min_samples_leaf=1, min_samples_split=10, n_estimators=100; total time=   0.1s\n",
            "[CV] END bootstrap=False, criterion=gini, max_features=sqrt, min_samples_leaf=1, min_samples_split=10, n_estimators=100; total time=   0.1s\n",
            "[CV] END bootstrap=False, criterion=gini, max_features=sqrt, min_samples_leaf=1, min_samples_split=10, n_estimators=100; total time=   0.1s\n",
            "[CV] END bootstrap=False, criterion=gini, max_features=sqrt, min_samples_leaf=1, min_samples_split=10, n_estimators=200; total time=   0.2s\n",
            "[CV] END bootstrap=False, criterion=gini, max_features=sqrt, min_samples_leaf=1, min_samples_split=10, n_estimators=200; total time=   0.3s\n",
            "[CV] END bootstrap=False, criterion=gini, max_features=sqrt, min_samples_leaf=1, min_samples_split=10, n_estimators=200; total time=   0.2s\n",
            "[CV] END bootstrap=False, criterion=gini, max_features=sqrt, min_samples_leaf=1, min_samples_split=10, n_estimators=200; total time=   0.2s\n",
            "[CV] END bootstrap=False, criterion=gini, max_features=sqrt, min_samples_leaf=1, min_samples_split=10, n_estimators=200; total time=   0.2s\n",
            "[CV] END bootstrap=False, criterion=gini, max_features=sqrt, min_samples_leaf=2, min_samples_split=2, n_estimators=50; total time=   0.0s\n",
            "[CV] END bootstrap=False, criterion=gini, max_features=sqrt, min_samples_leaf=2, min_samples_split=2, n_estimators=50; total time=   0.0s\n",
            "[CV] END bootstrap=False, criterion=gini, max_features=sqrt, min_samples_leaf=2, min_samples_split=2, n_estimators=50; total time=   0.0s\n",
            "[CV] END bootstrap=False, criterion=gini, max_features=sqrt, min_samples_leaf=2, min_samples_split=2, n_estimators=50; total time=   0.0s\n",
            "[CV] END bootstrap=False, criterion=gini, max_features=sqrt, min_samples_leaf=2, min_samples_split=2, n_estimators=50; total time=   0.0s\n",
            "[CV] END bootstrap=False, criterion=gini, max_features=sqrt, min_samples_leaf=2, min_samples_split=2, n_estimators=100; total time=   0.1s\n",
            "[CV] END bootstrap=False, criterion=gini, max_features=sqrt, min_samples_leaf=2, min_samples_split=2, n_estimators=100; total time=   0.1s\n",
            "[CV] END bootstrap=False, criterion=gini, max_features=sqrt, min_samples_leaf=2, min_samples_split=2, n_estimators=100; total time=   0.1s\n",
            "[CV] END bootstrap=False, criterion=gini, max_features=sqrt, min_samples_leaf=2, min_samples_split=2, n_estimators=100; total time=   0.1s\n",
            "[CV] END bootstrap=False, criterion=gini, max_features=sqrt, min_samples_leaf=2, min_samples_split=2, n_estimators=100; total time=   0.1s\n",
            "[CV] END bootstrap=False, criterion=gini, max_features=sqrt, min_samples_leaf=2, min_samples_split=2, n_estimators=200; total time=   0.3s\n",
            "[CV] END bootstrap=False, criterion=gini, max_features=sqrt, min_samples_leaf=2, min_samples_split=2, n_estimators=200; total time=   0.3s\n",
            "[CV] END bootstrap=False, criterion=gini, max_features=sqrt, min_samples_leaf=2, min_samples_split=2, n_estimators=200; total time=   0.3s\n",
            "[CV] END bootstrap=False, criterion=gini, max_features=sqrt, min_samples_leaf=2, min_samples_split=2, n_estimators=200; total time=   0.3s\n",
            "[CV] END bootstrap=False, criterion=gini, max_features=sqrt, min_samples_leaf=2, min_samples_split=2, n_estimators=200; total time=   0.3s\n",
            "[CV] END bootstrap=False, criterion=gini, max_features=sqrt, min_samples_leaf=2, min_samples_split=5, n_estimators=50; total time=   0.0s\n",
            "[CV] END bootstrap=False, criterion=gini, max_features=sqrt, min_samples_leaf=2, min_samples_split=5, n_estimators=50; total time=   0.0s\n",
            "[CV] END bootstrap=False, criterion=gini, max_features=sqrt, min_samples_leaf=2, min_samples_split=5, n_estimators=50; total time=   0.0s\n",
            "[CV] END bootstrap=False, criterion=gini, max_features=sqrt, min_samples_leaf=2, min_samples_split=5, n_estimators=50; total time=   0.0s\n",
            "[CV] END bootstrap=False, criterion=gini, max_features=sqrt, min_samples_leaf=2, min_samples_split=5, n_estimators=50; total time=   0.0s\n",
            "[CV] END bootstrap=False, criterion=gini, max_features=sqrt, min_samples_leaf=2, min_samples_split=5, n_estimators=100; total time=   0.1s\n",
            "[CV] END bootstrap=False, criterion=gini, max_features=sqrt, min_samples_leaf=2, min_samples_split=5, n_estimators=100; total time=   0.1s\n",
            "[CV] END bootstrap=False, criterion=gini, max_features=sqrt, min_samples_leaf=2, min_samples_split=5, n_estimators=100; total time=   0.1s\n",
            "[CV] END bootstrap=False, criterion=gini, max_features=sqrt, min_samples_leaf=2, min_samples_split=5, n_estimators=100; total time=   0.1s\n",
            "[CV] END bootstrap=False, criterion=gini, max_features=sqrt, min_samples_leaf=2, min_samples_split=5, n_estimators=100; total time=   0.1s\n",
            "[CV] END bootstrap=False, criterion=gini, max_features=sqrt, min_samples_leaf=2, min_samples_split=5, n_estimators=200; total time=   0.3s\n",
            "[CV] END bootstrap=False, criterion=gini, max_features=sqrt, min_samples_leaf=2, min_samples_split=5, n_estimators=200; total time=   0.3s\n",
            "[CV] END bootstrap=False, criterion=gini, max_features=sqrt, min_samples_leaf=2, min_samples_split=5, n_estimators=200; total time=   0.3s\n",
            "[CV] END bootstrap=False, criterion=gini, max_features=sqrt, min_samples_leaf=2, min_samples_split=5, n_estimators=200; total time=   0.3s\n",
            "[CV] END bootstrap=False, criterion=gini, max_features=sqrt, min_samples_leaf=2, min_samples_split=5, n_estimators=200; total time=   0.3s\n",
            "[CV] END bootstrap=False, criterion=gini, max_features=sqrt, min_samples_leaf=2, min_samples_split=10, n_estimators=50; total time=   0.0s\n",
            "[CV] END bootstrap=False, criterion=gini, max_features=sqrt, min_samples_leaf=2, min_samples_split=10, n_estimators=50; total time=   0.0s\n",
            "[CV] END bootstrap=False, criterion=gini, max_features=sqrt, min_samples_leaf=2, min_samples_split=10, n_estimators=50; total time=   0.0s\n",
            "[CV] END bootstrap=False, criterion=gini, max_features=sqrt, min_samples_leaf=2, min_samples_split=10, n_estimators=50; total time=   0.0s\n",
            "[CV] END bootstrap=False, criterion=gini, max_features=sqrt, min_samples_leaf=2, min_samples_split=10, n_estimators=50; total time=   0.0s\n",
            "[CV] END bootstrap=False, criterion=gini, max_features=sqrt, min_samples_leaf=2, min_samples_split=10, n_estimators=100; total time=   0.1s\n",
            "[CV] END bootstrap=False, criterion=gini, max_features=sqrt, min_samples_leaf=2, min_samples_split=10, n_estimators=100; total time=   0.1s\n",
            "[CV] END bootstrap=False, criterion=gini, max_features=sqrt, min_samples_leaf=2, min_samples_split=10, n_estimators=100; total time=   0.1s\n",
            "[CV] END bootstrap=False, criterion=gini, max_features=sqrt, min_samples_leaf=2, min_samples_split=10, n_estimators=100; total time=   0.1s\n",
            "[CV] END bootstrap=False, criterion=gini, max_features=sqrt, min_samples_leaf=2, min_samples_split=10, n_estimators=100; total time=   0.1s\n",
            "[CV] END bootstrap=False, criterion=gini, max_features=sqrt, min_samples_leaf=2, min_samples_split=10, n_estimators=200; total time=   0.2s\n",
            "[CV] END bootstrap=False, criterion=gini, max_features=sqrt, min_samples_leaf=2, min_samples_split=10, n_estimators=200; total time=   0.2s\n",
            "[CV] END bootstrap=False, criterion=gini, max_features=sqrt, min_samples_leaf=2, min_samples_split=10, n_estimators=200; total time=   0.2s\n",
            "[CV] END bootstrap=False, criterion=gini, max_features=sqrt, min_samples_leaf=2, min_samples_split=10, n_estimators=200; total time=   0.2s\n",
            "[CV] END bootstrap=False, criterion=gini, max_features=sqrt, min_samples_leaf=2, min_samples_split=10, n_estimators=200; total time=   0.2s\n",
            "[CV] END bootstrap=False, criterion=gini, max_features=sqrt, min_samples_leaf=4, min_samples_split=2, n_estimators=50; total time=   0.0s\n",
            "[CV] END bootstrap=False, criterion=gini, max_features=sqrt, min_samples_leaf=4, min_samples_split=2, n_estimators=50; total time=   0.0s\n",
            "[CV] END bootstrap=False, criterion=gini, max_features=sqrt, min_samples_leaf=4, min_samples_split=2, n_estimators=50; total time=   0.0s\n",
            "[CV] END bootstrap=False, criterion=gini, max_features=sqrt, min_samples_leaf=4, min_samples_split=2, n_estimators=50; total time=   0.0s\n",
            "[CV] END bootstrap=False, criterion=gini, max_features=sqrt, min_samples_leaf=4, min_samples_split=2, n_estimators=50; total time=   0.0s\n",
            "[CV] END bootstrap=False, criterion=gini, max_features=sqrt, min_samples_leaf=4, min_samples_split=2, n_estimators=100; total time=   0.1s\n",
            "[CV] END bootstrap=False, criterion=gini, max_features=sqrt, min_samples_leaf=4, min_samples_split=2, n_estimators=100; total time=   0.1s\n",
            "[CV] END bootstrap=False, criterion=gini, max_features=sqrt, min_samples_leaf=4, min_samples_split=2, n_estimators=100; total time=   0.0s\n",
            "[CV] END bootstrap=False, criterion=gini, max_features=sqrt, min_samples_leaf=4, min_samples_split=2, n_estimators=100; total time=   0.1s\n",
            "[CV] END bootstrap=False, criterion=gini, max_features=sqrt, min_samples_leaf=4, min_samples_split=2, n_estimators=100; total time=   0.0s\n",
            "[CV] END bootstrap=False, criterion=gini, max_features=sqrt, min_samples_leaf=4, min_samples_split=2, n_estimators=200; total time=   0.2s\n",
            "[CV] END bootstrap=False, criterion=gini, max_features=sqrt, min_samples_leaf=4, min_samples_split=2, n_estimators=200; total time=   0.2s\n",
            "[CV] END bootstrap=False, criterion=gini, max_features=sqrt, min_samples_leaf=4, min_samples_split=2, n_estimators=200; total time=   0.2s\n",
            "[CV] END bootstrap=False, criterion=gini, max_features=sqrt, min_samples_leaf=4, min_samples_split=2, n_estimators=200; total time=   0.2s\n",
            "[CV] END bootstrap=False, criterion=gini, max_features=sqrt, min_samples_leaf=4, min_samples_split=2, n_estimators=200; total time=   0.2s\n",
            "[CV] END bootstrap=False, criterion=gini, max_features=sqrt, min_samples_leaf=4, min_samples_split=5, n_estimators=50; total time=   0.0s\n",
            "[CV] END bootstrap=False, criterion=gini, max_features=sqrt, min_samples_leaf=4, min_samples_split=5, n_estimators=50; total time=   0.0s\n",
            "[CV] END bootstrap=False, criterion=gini, max_features=sqrt, min_samples_leaf=4, min_samples_split=5, n_estimators=50; total time=   0.0s\n",
            "[CV] END bootstrap=False, criterion=gini, max_features=sqrt, min_samples_leaf=4, min_samples_split=5, n_estimators=50; total time=   0.0s\n",
            "[CV] END bootstrap=False, criterion=gini, max_features=sqrt, min_samples_leaf=4, min_samples_split=5, n_estimators=50; total time=   0.0s\n",
            "[CV] END bootstrap=False, criterion=gini, max_features=sqrt, min_samples_leaf=4, min_samples_split=5, n_estimators=100; total time=   0.1s\n",
            "[CV] END bootstrap=False, criterion=gini, max_features=sqrt, min_samples_leaf=4, min_samples_split=5, n_estimators=100; total time=   0.1s\n",
            "[CV] END bootstrap=False, criterion=gini, max_features=sqrt, min_samples_leaf=4, min_samples_split=5, n_estimators=100; total time=   0.1s\n",
            "[CV] END bootstrap=False, criterion=gini, max_features=sqrt, min_samples_leaf=4, min_samples_split=5, n_estimators=100; total time=   0.1s\n",
            "[CV] END bootstrap=False, criterion=gini, max_features=sqrt, min_samples_leaf=4, min_samples_split=5, n_estimators=100; total time=   0.0s\n",
            "[CV] END bootstrap=False, criterion=gini, max_features=sqrt, min_samples_leaf=4, min_samples_split=5, n_estimators=200; total time=   0.2s\n",
            "[CV] END bootstrap=False, criterion=gini, max_features=sqrt, min_samples_leaf=4, min_samples_split=5, n_estimators=200; total time=   0.2s\n",
            "[CV] END bootstrap=False, criterion=gini, max_features=sqrt, min_samples_leaf=4, min_samples_split=5, n_estimators=200; total time=   0.2s\n",
            "[CV] END bootstrap=False, criterion=gini, max_features=sqrt, min_samples_leaf=4, min_samples_split=5, n_estimators=200; total time=   0.2s\n",
            "[CV] END bootstrap=False, criterion=gini, max_features=sqrt, min_samples_leaf=4, min_samples_split=5, n_estimators=200; total time=   0.2s\n",
            "[CV] END bootstrap=False, criterion=gini, max_features=sqrt, min_samples_leaf=4, min_samples_split=10, n_estimators=50; total time=   0.0s\n",
            "[CV] END bootstrap=False, criterion=gini, max_features=sqrt, min_samples_leaf=4, min_samples_split=10, n_estimators=50; total time=   0.0s\n",
            "[CV] END bootstrap=False, criterion=gini, max_features=sqrt, min_samples_leaf=4, min_samples_split=10, n_estimators=50; total time=   0.0s\n",
            "[CV] END bootstrap=False, criterion=gini, max_features=sqrt, min_samples_leaf=4, min_samples_split=10, n_estimators=50; total time=   0.0s\n",
            "[CV] END bootstrap=False, criterion=gini, max_features=sqrt, min_samples_leaf=4, min_samples_split=10, n_estimators=50; total time=   0.0s\n",
            "[CV] END bootstrap=False, criterion=gini, max_features=sqrt, min_samples_leaf=4, min_samples_split=10, n_estimators=100; total time=   0.0s\n",
            "[CV] END bootstrap=False, criterion=gini, max_features=sqrt, min_samples_leaf=4, min_samples_split=10, n_estimators=100; total time=   0.1s\n",
            "[CV] END bootstrap=False, criterion=gini, max_features=sqrt, min_samples_leaf=4, min_samples_split=10, n_estimators=100; total time=   0.0s\n",
            "[CV] END bootstrap=False, criterion=gini, max_features=sqrt, min_samples_leaf=4, min_samples_split=10, n_estimators=100; total time=   0.0s\n",
            "[CV] END bootstrap=False, criterion=gini, max_features=sqrt, min_samples_leaf=4, min_samples_split=10, n_estimators=100; total time=   0.1s\n",
            "[CV] END bootstrap=False, criterion=gini, max_features=sqrt, min_samples_leaf=4, min_samples_split=10, n_estimators=200; total time=   0.2s\n",
            "[CV] END bootstrap=False, criterion=gini, max_features=sqrt, min_samples_leaf=4, min_samples_split=10, n_estimators=200; total time=   0.2s\n",
            "[CV] END bootstrap=False, criterion=gini, max_features=sqrt, min_samples_leaf=4, min_samples_split=10, n_estimators=200; total time=   0.2s\n",
            "[CV] END bootstrap=False, criterion=gini, max_features=sqrt, min_samples_leaf=4, min_samples_split=10, n_estimators=200; total time=   0.2s\n",
            "[CV] END bootstrap=False, criterion=gini, max_features=sqrt, min_samples_leaf=4, min_samples_split=10, n_estimators=200; total time=   0.2s\n",
            "[CV] END bootstrap=False, criterion=gini, max_features=log2, min_samples_leaf=1, min_samples_split=2, n_estimators=50; total time=   0.0s\n",
            "[CV] END bootstrap=False, criterion=gini, max_features=log2, min_samples_leaf=1, min_samples_split=2, n_estimators=50; total time=   0.0s\n",
            "[CV] END bootstrap=False, criterion=gini, max_features=log2, min_samples_leaf=1, min_samples_split=2, n_estimators=50; total time=   0.0s\n",
            "[CV] END bootstrap=False, criterion=gini, max_features=log2, min_samples_leaf=1, min_samples_split=2, n_estimators=50; total time=   0.0s\n",
            "[CV] END bootstrap=False, criterion=gini, max_features=log2, min_samples_leaf=1, min_samples_split=2, n_estimators=50; total time=   0.0s\n",
            "[CV] END bootstrap=False, criterion=gini, max_features=log2, min_samples_leaf=1, min_samples_split=2, n_estimators=100; total time=   0.1s\n",
            "[CV] END bootstrap=False, criterion=gini, max_features=log2, min_samples_leaf=1, min_samples_split=2, n_estimators=100; total time=   0.1s\n",
            "[CV] END bootstrap=False, criterion=gini, max_features=log2, min_samples_leaf=1, min_samples_split=2, n_estimators=100; total time=   0.1s\n",
            "[CV] END bootstrap=False, criterion=gini, max_features=log2, min_samples_leaf=1, min_samples_split=2, n_estimators=100; total time=   0.1s\n",
            "[CV] END bootstrap=False, criterion=gini, max_features=log2, min_samples_leaf=1, min_samples_split=2, n_estimators=100; total time=   0.1s\n",
            "[CV] END bootstrap=False, criterion=gini, max_features=log2, min_samples_leaf=1, min_samples_split=2, n_estimators=200; total time=   0.3s\n",
            "[CV] END bootstrap=False, criterion=gini, max_features=log2, min_samples_leaf=1, min_samples_split=2, n_estimators=200; total time=   0.3s\n",
            "[CV] END bootstrap=False, criterion=gini, max_features=log2, min_samples_leaf=1, min_samples_split=2, n_estimators=200; total time=   0.3s\n",
            "[CV] END bootstrap=False, criterion=gini, max_features=log2, min_samples_leaf=1, min_samples_split=2, n_estimators=200; total time=   0.4s\n",
            "[CV] END bootstrap=False, criterion=gini, max_features=log2, min_samples_leaf=1, min_samples_split=2, n_estimators=200; total time=   0.3s\n",
            "[CV] END bootstrap=False, criterion=gini, max_features=log2, min_samples_leaf=1, min_samples_split=5, n_estimators=50; total time=   0.0s\n",
            "[CV] END bootstrap=False, criterion=gini, max_features=log2, min_samples_leaf=1, min_samples_split=5, n_estimators=50; total time=   0.0s\n",
            "[CV] END bootstrap=False, criterion=gini, max_features=log2, min_samples_leaf=1, min_samples_split=5, n_estimators=50; total time=   0.0s\n",
            "[CV] END bootstrap=False, criterion=gini, max_features=log2, min_samples_leaf=1, min_samples_split=5, n_estimators=50; total time=   0.0s\n",
            "[CV] END bootstrap=False, criterion=gini, max_features=log2, min_samples_leaf=1, min_samples_split=5, n_estimators=50; total time=   0.0s\n",
            "[CV] END bootstrap=False, criterion=gini, max_features=log2, min_samples_leaf=1, min_samples_split=5, n_estimators=100; total time=   0.1s\n",
            "[CV] END bootstrap=False, criterion=gini, max_features=log2, min_samples_leaf=1, min_samples_split=5, n_estimators=100; total time=   0.1s\n",
            "[CV] END bootstrap=False, criterion=gini, max_features=log2, min_samples_leaf=1, min_samples_split=5, n_estimators=100; total time=   0.1s\n",
            "[CV] END bootstrap=False, criterion=gini, max_features=log2, min_samples_leaf=1, min_samples_split=5, n_estimators=100; total time=   0.1s\n",
            "[CV] END bootstrap=False, criterion=gini, max_features=log2, min_samples_leaf=1, min_samples_split=5, n_estimators=100; total time=   0.1s\n",
            "[CV] END bootstrap=False, criterion=gini, max_features=log2, min_samples_leaf=1, min_samples_split=5, n_estimators=200; total time=   0.3s\n",
            "[CV] END bootstrap=False, criterion=gini, max_features=log2, min_samples_leaf=1, min_samples_split=5, n_estimators=200; total time=   0.3s\n",
            "[CV] END bootstrap=False, criterion=gini, max_features=log2, min_samples_leaf=1, min_samples_split=5, n_estimators=200; total time=   0.3s\n",
            "[CV] END bootstrap=False, criterion=gini, max_features=log2, min_samples_leaf=1, min_samples_split=5, n_estimators=200; total time=   0.3s\n",
            "[CV] END bootstrap=False, criterion=gini, max_features=log2, min_samples_leaf=1, min_samples_split=5, n_estimators=200; total time=   0.3s\n",
            "[CV] END bootstrap=False, criterion=gini, max_features=log2, min_samples_leaf=1, min_samples_split=10, n_estimators=50; total time=   0.0s\n",
            "[CV] END bootstrap=False, criterion=gini, max_features=log2, min_samples_leaf=1, min_samples_split=10, n_estimators=50; total time=   0.0s\n",
            "[CV] END bootstrap=False, criterion=gini, max_features=log2, min_samples_leaf=1, min_samples_split=10, n_estimators=50; total time=   0.0s\n",
            "[CV] END bootstrap=False, criterion=gini, max_features=log2, min_samples_leaf=1, min_samples_split=10, n_estimators=50; total time=   0.0s\n",
            "[CV] END bootstrap=False, criterion=gini, max_features=log2, min_samples_leaf=1, min_samples_split=10, n_estimators=50; total time=   0.0s\n",
            "[CV] END bootstrap=False, criterion=gini, max_features=log2, min_samples_leaf=1, min_samples_split=10, n_estimators=100; total time=   0.1s\n",
            "[CV] END bootstrap=False, criterion=gini, max_features=log2, min_samples_leaf=1, min_samples_split=10, n_estimators=100; total time=   0.1s\n",
            "[CV] END bootstrap=False, criterion=gini, max_features=log2, min_samples_leaf=1, min_samples_split=10, n_estimators=100; total time=   0.1s\n",
            "[CV] END bootstrap=False, criterion=gini, max_features=log2, min_samples_leaf=1, min_samples_split=10, n_estimators=100; total time=   0.1s\n",
            "[CV] END bootstrap=False, criterion=gini, max_features=log2, min_samples_leaf=1, min_samples_split=10, n_estimators=100; total time=   0.1s\n",
            "[CV] END bootstrap=False, criterion=gini, max_features=log2, min_samples_leaf=1, min_samples_split=10, n_estimators=200; total time=   0.2s\n",
            "[CV] END bootstrap=False, criterion=gini, max_features=log2, min_samples_leaf=1, min_samples_split=10, n_estimators=200; total time=   0.2s\n",
            "[CV] END bootstrap=False, criterion=gini, max_features=log2, min_samples_leaf=1, min_samples_split=10, n_estimators=200; total time=   0.2s\n",
            "[CV] END bootstrap=False, criterion=gini, max_features=log2, min_samples_leaf=1, min_samples_split=10, n_estimators=200; total time=   0.2s\n",
            "[CV] END bootstrap=False, criterion=gini, max_features=log2, min_samples_leaf=1, min_samples_split=10, n_estimators=200; total time=   0.2s\n",
            "[CV] END bootstrap=False, criterion=gini, max_features=log2, min_samples_leaf=2, min_samples_split=2, n_estimators=50; total time=   0.0s\n",
            "[CV] END bootstrap=False, criterion=gini, max_features=log2, min_samples_leaf=2, min_samples_split=2, n_estimators=50; total time=   0.0s\n",
            "[CV] END bootstrap=False, criterion=gini, max_features=log2, min_samples_leaf=2, min_samples_split=2, n_estimators=50; total time=   0.0s\n",
            "[CV] END bootstrap=False, criterion=gini, max_features=log2, min_samples_leaf=2, min_samples_split=2, n_estimators=50; total time=   0.0s\n",
            "[CV] END bootstrap=False, criterion=gini, max_features=log2, min_samples_leaf=2, min_samples_split=2, n_estimators=50; total time=   0.0s\n",
            "[CV] END bootstrap=False, criterion=gini, max_features=log2, min_samples_leaf=2, min_samples_split=2, n_estimators=100; total time=   0.1s\n",
            "[CV] END bootstrap=False, criterion=gini, max_features=log2, min_samples_leaf=2, min_samples_split=2, n_estimators=100; total time=   0.1s\n",
            "[CV] END bootstrap=False, criterion=gini, max_features=log2, min_samples_leaf=2, min_samples_split=2, n_estimators=100; total time=   0.1s\n",
            "[CV] END bootstrap=False, criterion=gini, max_features=log2, min_samples_leaf=2, min_samples_split=2, n_estimators=100; total time=   0.1s\n",
            "[CV] END bootstrap=False, criterion=gini, max_features=log2, min_samples_leaf=2, min_samples_split=2, n_estimators=100; total time=   0.1s\n",
            "[CV] END bootstrap=False, criterion=gini, max_features=log2, min_samples_leaf=2, min_samples_split=2, n_estimators=200; total time=   0.3s\n",
            "[CV] END bootstrap=False, criterion=gini, max_features=log2, min_samples_leaf=2, min_samples_split=2, n_estimators=200; total time=   0.3s\n",
            "[CV] END bootstrap=False, criterion=gini, max_features=log2, min_samples_leaf=2, min_samples_split=2, n_estimators=200; total time=   0.3s\n",
            "[CV] END bootstrap=False, criterion=gini, max_features=log2, min_samples_leaf=2, min_samples_split=2, n_estimators=200; total time=   0.3s\n",
            "[CV] END bootstrap=False, criterion=gini, max_features=log2, min_samples_leaf=2, min_samples_split=2, n_estimators=200; total time=   0.3s\n",
            "[CV] END bootstrap=False, criterion=gini, max_features=log2, min_samples_leaf=2, min_samples_split=5, n_estimators=50; total time=   0.0s\n",
            "[CV] END bootstrap=False, criterion=gini, max_features=log2, min_samples_leaf=2, min_samples_split=5, n_estimators=50; total time=   0.0s\n",
            "[CV] END bootstrap=False, criterion=gini, max_features=log2, min_samples_leaf=2, min_samples_split=5, n_estimators=50; total time=   0.0s\n",
            "[CV] END bootstrap=False, criterion=gini, max_features=log2, min_samples_leaf=2, min_samples_split=5, n_estimators=50; total time=   0.0s\n",
            "[CV] END bootstrap=False, criterion=gini, max_features=log2, min_samples_leaf=2, min_samples_split=5, n_estimators=50; total time=   0.0s\n",
            "[CV] END bootstrap=False, criterion=gini, max_features=log2, min_samples_leaf=2, min_samples_split=5, n_estimators=100; total time=   0.1s\n",
            "[CV] END bootstrap=False, criterion=gini, max_features=log2, min_samples_leaf=2, min_samples_split=5, n_estimators=100; total time=   0.1s\n",
            "[CV] END bootstrap=False, criterion=gini, max_features=log2, min_samples_leaf=2, min_samples_split=5, n_estimators=100; total time=   0.1s\n",
            "[CV] END bootstrap=False, criterion=gini, max_features=log2, min_samples_leaf=2, min_samples_split=5, n_estimators=100; total time=   0.1s\n",
            "[CV] END bootstrap=False, criterion=gini, max_features=log2, min_samples_leaf=2, min_samples_split=5, n_estimators=100; total time=   0.1s\n",
            "[CV] END bootstrap=False, criterion=gini, max_features=log2, min_samples_leaf=2, min_samples_split=5, n_estimators=200; total time=   0.3s\n",
            "[CV] END bootstrap=False, criterion=gini, max_features=log2, min_samples_leaf=2, min_samples_split=5, n_estimators=200; total time=   0.3s\n",
            "[CV] END bootstrap=False, criterion=gini, max_features=log2, min_samples_leaf=2, min_samples_split=5, n_estimators=200; total time=   0.3s\n",
            "[CV] END bootstrap=False, criterion=gini, max_features=log2, min_samples_leaf=2, min_samples_split=5, n_estimators=200; total time=   0.3s\n",
            "[CV] END bootstrap=False, criterion=gini, max_features=log2, min_samples_leaf=2, min_samples_split=5, n_estimators=200; total time=   0.3s\n",
            "[CV] END bootstrap=False, criterion=gini, max_features=log2, min_samples_leaf=2, min_samples_split=10, n_estimators=50; total time=   0.0s\n",
            "[CV] END bootstrap=False, criterion=gini, max_features=log2, min_samples_leaf=2, min_samples_split=10, n_estimators=50; total time=   0.0s\n",
            "[CV] END bootstrap=False, criterion=gini, max_features=log2, min_samples_leaf=2, min_samples_split=10, n_estimators=50; total time=   0.0s\n",
            "[CV] END bootstrap=False, criterion=gini, max_features=log2, min_samples_leaf=2, min_samples_split=10, n_estimators=50; total time=   0.0s\n",
            "[CV] END bootstrap=False, criterion=gini, max_features=log2, min_samples_leaf=2, min_samples_split=10, n_estimators=50; total time=   0.0s\n",
            "[CV] END bootstrap=False, criterion=gini, max_features=log2, min_samples_leaf=2, min_samples_split=10, n_estimators=100; total time=   0.1s\n",
            "[CV] END bootstrap=False, criterion=gini, max_features=log2, min_samples_leaf=2, min_samples_split=10, n_estimators=100; total time=   0.1s\n",
            "[CV] END bootstrap=False, criterion=gini, max_features=log2, min_samples_leaf=2, min_samples_split=10, n_estimators=100; total time=   0.1s\n",
            "[CV] END bootstrap=False, criterion=gini, max_features=log2, min_samples_leaf=2, min_samples_split=10, n_estimators=100; total time=   0.1s\n",
            "[CV] END bootstrap=False, criterion=gini, max_features=log2, min_samples_leaf=2, min_samples_split=10, n_estimators=100; total time=   0.1s\n",
            "[CV] END bootstrap=False, criterion=gini, max_features=log2, min_samples_leaf=2, min_samples_split=10, n_estimators=200; total time=   0.2s\n",
            "[CV] END bootstrap=False, criterion=gini, max_features=log2, min_samples_leaf=2, min_samples_split=10, n_estimators=200; total time=   0.2s\n",
            "[CV] END bootstrap=False, criterion=gini, max_features=log2, min_samples_leaf=2, min_samples_split=10, n_estimators=200; total time=   0.2s\n",
            "[CV] END bootstrap=False, criterion=gini, max_features=log2, min_samples_leaf=2, min_samples_split=10, n_estimators=200; total time=   0.2s\n",
            "[CV] END bootstrap=False, criterion=gini, max_features=log2, min_samples_leaf=2, min_samples_split=10, n_estimators=200; total time=   0.2s\n",
            "[CV] END bootstrap=False, criterion=gini, max_features=log2, min_samples_leaf=4, min_samples_split=2, n_estimators=50; total time=   0.0s\n",
            "[CV] END bootstrap=False, criterion=gini, max_features=log2, min_samples_leaf=4, min_samples_split=2, n_estimators=50; total time=   0.0s\n",
            "[CV] END bootstrap=False, criterion=gini, max_features=log2, min_samples_leaf=4, min_samples_split=2, n_estimators=50; total time=   0.0s\n",
            "[CV] END bootstrap=False, criterion=gini, max_features=log2, min_samples_leaf=4, min_samples_split=2, n_estimators=50; total time=   0.0s\n",
            "[CV] END bootstrap=False, criterion=gini, max_features=log2, min_samples_leaf=4, min_samples_split=2, n_estimators=50; total time=   0.0s\n",
            "[CV] END bootstrap=False, criterion=gini, max_features=log2, min_samples_leaf=4, min_samples_split=2, n_estimators=100; total time=   0.1s\n",
            "[CV] END bootstrap=False, criterion=gini, max_features=log2, min_samples_leaf=4, min_samples_split=2, n_estimators=100; total time=   0.0s\n",
            "[CV] END bootstrap=False, criterion=gini, max_features=log2, min_samples_leaf=4, min_samples_split=2, n_estimators=100; total time=   0.0s\n",
            "[CV] END bootstrap=False, criterion=gini, max_features=log2, min_samples_leaf=4, min_samples_split=2, n_estimators=100; total time=   0.0s\n",
            "[CV] END bootstrap=False, criterion=gini, max_features=log2, min_samples_leaf=4, min_samples_split=2, n_estimators=100; total time=   0.1s\n",
            "[CV] END bootstrap=False, criterion=gini, max_features=log2, min_samples_leaf=4, min_samples_split=2, n_estimators=200; total time=   0.2s\n",
            "[CV] END bootstrap=False, criterion=gini, max_features=log2, min_samples_leaf=4, min_samples_split=2, n_estimators=200; total time=   0.2s\n",
            "[CV] END bootstrap=False, criterion=gini, max_features=log2, min_samples_leaf=4, min_samples_split=2, n_estimators=200; total time=   0.2s\n",
            "[CV] END bootstrap=False, criterion=gini, max_features=log2, min_samples_leaf=4, min_samples_split=2, n_estimators=200; total time=   0.2s\n",
            "[CV] END bootstrap=False, criterion=gini, max_features=log2, min_samples_leaf=4, min_samples_split=2, n_estimators=200; total time=   0.2s\n",
            "[CV] END bootstrap=False, criterion=gini, max_features=log2, min_samples_leaf=4, min_samples_split=5, n_estimators=50; total time=   0.0s\n",
            "[CV] END bootstrap=False, criterion=gini, max_features=log2, min_samples_leaf=4, min_samples_split=5, n_estimators=50; total time=   0.0s\n",
            "[CV] END bootstrap=False, criterion=gini, max_features=log2, min_samples_leaf=4, min_samples_split=5, n_estimators=50; total time=   0.0s\n",
            "[CV] END bootstrap=False, criterion=gini, max_features=log2, min_samples_leaf=4, min_samples_split=5, n_estimators=50; total time=   0.0s\n",
            "[CV] END bootstrap=False, criterion=gini, max_features=log2, min_samples_leaf=4, min_samples_split=5, n_estimators=50; total time=   0.0s\n",
            "[CV] END bootstrap=False, criterion=gini, max_features=log2, min_samples_leaf=4, min_samples_split=5, n_estimators=100; total time=   0.1s\n",
            "[CV] END bootstrap=False, criterion=gini, max_features=log2, min_samples_leaf=4, min_samples_split=5, n_estimators=100; total time=   0.1s\n",
            "[CV] END bootstrap=False, criterion=gini, max_features=log2, min_samples_leaf=4, min_samples_split=5, n_estimators=100; total time=   0.1s\n",
            "[CV] END bootstrap=False, criterion=gini, max_features=log2, min_samples_leaf=4, min_samples_split=5, n_estimators=100; total time=   0.1s\n",
            "[CV] END bootstrap=False, criterion=gini, max_features=log2, min_samples_leaf=4, min_samples_split=5, n_estimators=100; total time=   0.1s\n",
            "[CV] END bootstrap=False, criterion=gini, max_features=log2, min_samples_leaf=4, min_samples_split=5, n_estimators=200; total time=   0.2s\n",
            "[CV] END bootstrap=False, criterion=gini, max_features=log2, min_samples_leaf=4, min_samples_split=5, n_estimators=200; total time=   0.2s\n",
            "[CV] END bootstrap=False, criterion=gini, max_features=log2, min_samples_leaf=4, min_samples_split=5, n_estimators=200; total time=   0.2s\n",
            "[CV] END bootstrap=False, criterion=gini, max_features=log2, min_samples_leaf=4, min_samples_split=5, n_estimators=200; total time=   0.2s\n",
            "[CV] END bootstrap=False, criterion=gini, max_features=log2, min_samples_leaf=4, min_samples_split=5, n_estimators=200; total time=   0.2s\n",
            "[CV] END bootstrap=False, criterion=gini, max_features=log2, min_samples_leaf=4, min_samples_split=10, n_estimators=50; total time=   0.0s\n",
            "[CV] END bootstrap=False, criterion=gini, max_features=log2, min_samples_leaf=4, min_samples_split=10, n_estimators=50; total time=   0.0s\n",
            "[CV] END bootstrap=False, criterion=gini, max_features=log2, min_samples_leaf=4, min_samples_split=10, n_estimators=50; total time=   0.0s\n",
            "[CV] END bootstrap=False, criterion=gini, max_features=log2, min_samples_leaf=4, min_samples_split=10, n_estimators=50; total time=   0.0s\n",
            "[CV] END bootstrap=False, criterion=gini, max_features=log2, min_samples_leaf=4, min_samples_split=10, n_estimators=50; total time=   0.0s\n",
            "[CV] END bootstrap=False, criterion=gini, max_features=log2, min_samples_leaf=4, min_samples_split=10, n_estimators=100; total time=   0.1s\n",
            "[CV] END bootstrap=False, criterion=gini, max_features=log2, min_samples_leaf=4, min_samples_split=10, n_estimators=100; total time=   0.1s\n",
            "[CV] END bootstrap=False, criterion=gini, max_features=log2, min_samples_leaf=4, min_samples_split=10, n_estimators=100; total time=   0.0s\n",
            "[CV] END bootstrap=False, criterion=gini, max_features=log2, min_samples_leaf=4, min_samples_split=10, n_estimators=100; total time=   0.1s\n",
            "[CV] END bootstrap=False, criterion=gini, max_features=log2, min_samples_leaf=4, min_samples_split=10, n_estimators=100; total time=   0.1s\n",
            "[CV] END bootstrap=False, criterion=gini, max_features=log2, min_samples_leaf=4, min_samples_split=10, n_estimators=200; total time=   0.2s\n",
            "[CV] END bootstrap=False, criterion=gini, max_features=log2, min_samples_leaf=4, min_samples_split=10, n_estimators=200; total time=   0.2s\n",
            "[CV] END bootstrap=False, criterion=gini, max_features=log2, min_samples_leaf=4, min_samples_split=10, n_estimators=200; total time=   0.2s\n",
            "[CV] END bootstrap=False, criterion=gini, max_features=log2, min_samples_leaf=4, min_samples_split=10, n_estimators=200; total time=   0.2s\n",
            "[CV] END bootstrap=False, criterion=gini, max_features=log2, min_samples_leaf=4, min_samples_split=10, n_estimators=200; total time=   0.2s\n",
            "[CV] END bootstrap=False, criterion=entropy, max_features=sqrt, min_samples_leaf=1, min_samples_split=2, n_estimators=50; total time=   0.0s\n",
            "[CV] END bootstrap=False, criterion=entropy, max_features=sqrt, min_samples_leaf=1, min_samples_split=2, n_estimators=50; total time=   0.0s\n",
            "[CV] END bootstrap=False, criterion=entropy, max_features=sqrt, min_samples_leaf=1, min_samples_split=2, n_estimators=50; total time=   0.0s\n",
            "[CV] END bootstrap=False, criterion=entropy, max_features=sqrt, min_samples_leaf=1, min_samples_split=2, n_estimators=50; total time=   0.0s\n",
            "[CV] END bootstrap=False, criterion=entropy, max_features=sqrt, min_samples_leaf=1, min_samples_split=2, n_estimators=50; total time=   0.0s\n",
            "[CV] END bootstrap=False, criterion=entropy, max_features=sqrt, min_samples_leaf=1, min_samples_split=2, n_estimators=100; total time=   0.1s\n",
            "[CV] END bootstrap=False, criterion=entropy, max_features=sqrt, min_samples_leaf=1, min_samples_split=2, n_estimators=100; total time=   0.1s\n",
            "[CV] END bootstrap=False, criterion=entropy, max_features=sqrt, min_samples_leaf=1, min_samples_split=2, n_estimators=100; total time=   0.2s\n",
            "[CV] END bootstrap=False, criterion=entropy, max_features=sqrt, min_samples_leaf=1, min_samples_split=2, n_estimators=100; total time=   0.1s\n",
            "[CV] END bootstrap=False, criterion=entropy, max_features=sqrt, min_samples_leaf=1, min_samples_split=2, n_estimators=100; total time=   0.1s\n",
            "[CV] END bootstrap=False, criterion=entropy, max_features=sqrt, min_samples_leaf=1, min_samples_split=2, n_estimators=200; total time=   0.4s\n",
            "[CV] END bootstrap=False, criterion=entropy, max_features=sqrt, min_samples_leaf=1, min_samples_split=2, n_estimators=200; total time=   0.4s\n",
            "[CV] END bootstrap=False, criterion=entropy, max_features=sqrt, min_samples_leaf=1, min_samples_split=2, n_estimators=200; total time=   0.4s\n",
            "[CV] END bootstrap=False, criterion=entropy, max_features=sqrt, min_samples_leaf=1, min_samples_split=2, n_estimators=200; total time=   0.4s\n",
            "[CV] END bootstrap=False, criterion=entropy, max_features=sqrt, min_samples_leaf=1, min_samples_split=2, n_estimators=200; total time=   0.4s\n",
            "[CV] END bootstrap=False, criterion=entropy, max_features=sqrt, min_samples_leaf=1, min_samples_split=5, n_estimators=50; total time=   0.0s\n",
            "[CV] END bootstrap=False, criterion=entropy, max_features=sqrt, min_samples_leaf=1, min_samples_split=5, n_estimators=50; total time=   0.0s\n",
            "[CV] END bootstrap=False, criterion=entropy, max_features=sqrt, min_samples_leaf=1, min_samples_split=5, n_estimators=50; total time=   0.0s\n",
            "[CV] END bootstrap=False, criterion=entropy, max_features=sqrt, min_samples_leaf=1, min_samples_split=5, n_estimators=50; total time=   0.0s\n",
            "[CV] END bootstrap=False, criterion=entropy, max_features=sqrt, min_samples_leaf=1, min_samples_split=5, n_estimators=50; total time=   0.0s\n",
            "[CV] END bootstrap=False, criterion=entropy, max_features=sqrt, min_samples_leaf=1, min_samples_split=5, n_estimators=100; total time=   0.1s\n",
            "[CV] END bootstrap=False, criterion=entropy, max_features=sqrt, min_samples_leaf=1, min_samples_split=5, n_estimators=100; total time=   0.1s\n",
            "[CV] END bootstrap=False, criterion=entropy, max_features=sqrt, min_samples_leaf=1, min_samples_split=5, n_estimators=100; total time=   0.1s\n",
            "[CV] END bootstrap=False, criterion=entropy, max_features=sqrt, min_samples_leaf=1, min_samples_split=5, n_estimators=100; total time=   0.1s\n",
            "[CV] END bootstrap=False, criterion=entropy, max_features=sqrt, min_samples_leaf=1, min_samples_split=5, n_estimators=100; total time=   0.1s\n",
            "[CV] END bootstrap=False, criterion=entropy, max_features=sqrt, min_samples_leaf=1, min_samples_split=5, n_estimators=200; total time=   0.3s\n",
            "[CV] END bootstrap=False, criterion=entropy, max_features=sqrt, min_samples_leaf=1, min_samples_split=5, n_estimators=200; total time=   0.3s\n",
            "[CV] END bootstrap=False, criterion=entropy, max_features=sqrt, min_samples_leaf=1, min_samples_split=5, n_estimators=200; total time=   0.3s\n",
            "[CV] END bootstrap=False, criterion=entropy, max_features=sqrt, min_samples_leaf=1, min_samples_split=5, n_estimators=200; total time=   0.3s\n",
            "[CV] END bootstrap=False, criterion=entropy, max_features=sqrt, min_samples_leaf=1, min_samples_split=5, n_estimators=200; total time=   0.3s\n",
            "[CV] END bootstrap=False, criterion=entropy, max_features=sqrt, min_samples_leaf=1, min_samples_split=10, n_estimators=50; total time=   0.0s\n",
            "[CV] END bootstrap=False, criterion=entropy, max_features=sqrt, min_samples_leaf=1, min_samples_split=10, n_estimators=50; total time=   0.0s\n",
            "[CV] END bootstrap=False, criterion=entropy, max_features=sqrt, min_samples_leaf=1, min_samples_split=10, n_estimators=50; total time=   0.0s\n",
            "[CV] END bootstrap=False, criterion=entropy, max_features=sqrt, min_samples_leaf=1, min_samples_split=10, n_estimators=50; total time=   0.0s\n",
            "[CV] END bootstrap=False, criterion=entropy, max_features=sqrt, min_samples_leaf=1, min_samples_split=10, n_estimators=50; total time=   0.0s\n",
            "[CV] END bootstrap=False, criterion=entropy, max_features=sqrt, min_samples_leaf=1, min_samples_split=10, n_estimators=100; total time=   0.1s\n",
            "[CV] END bootstrap=False, criterion=entropy, max_features=sqrt, min_samples_leaf=1, min_samples_split=10, n_estimators=100; total time=   0.1s\n",
            "[CV] END bootstrap=False, criterion=entropy, max_features=sqrt, min_samples_leaf=1, min_samples_split=10, n_estimators=100; total time=   0.1s\n",
            "[CV] END bootstrap=False, criterion=entropy, max_features=sqrt, min_samples_leaf=1, min_samples_split=10, n_estimators=100; total time=   0.1s\n",
            "[CV] END bootstrap=False, criterion=entropy, max_features=sqrt, min_samples_leaf=1, min_samples_split=10, n_estimators=100; total time=   0.1s\n",
            "[CV] END bootstrap=False, criterion=entropy, max_features=sqrt, min_samples_leaf=1, min_samples_split=10, n_estimators=200; total time=   0.3s\n",
            "[CV] END bootstrap=False, criterion=entropy, max_features=sqrt, min_samples_leaf=1, min_samples_split=10, n_estimators=200; total time=   0.3s\n",
            "[CV] END bootstrap=False, criterion=entropy, max_features=sqrt, min_samples_leaf=1, min_samples_split=10, n_estimators=200; total time=   0.3s\n",
            "[CV] END bootstrap=False, criterion=entropy, max_features=sqrt, min_samples_leaf=1, min_samples_split=10, n_estimators=200; total time=   0.3s\n",
            "[CV] END bootstrap=False, criterion=entropy, max_features=sqrt, min_samples_leaf=1, min_samples_split=10, n_estimators=200; total time=   0.3s\n",
            "[CV] END bootstrap=False, criterion=entropy, max_features=sqrt, min_samples_leaf=2, min_samples_split=2, n_estimators=50; total time=   0.0s\n",
            "[CV] END bootstrap=False, criterion=entropy, max_features=sqrt, min_samples_leaf=2, min_samples_split=2, n_estimators=50; total time=   0.0s\n",
            "[CV] END bootstrap=False, criterion=entropy, max_features=sqrt, min_samples_leaf=2, min_samples_split=2, n_estimators=50; total time=   0.0s\n",
            "[CV] END bootstrap=False, criterion=entropy, max_features=sqrt, min_samples_leaf=2, min_samples_split=2, n_estimators=50; total time=   0.0s\n",
            "[CV] END bootstrap=False, criterion=entropy, max_features=sqrt, min_samples_leaf=2, min_samples_split=2, n_estimators=50; total time=   0.0s\n",
            "[CV] END bootstrap=False, criterion=entropy, max_features=sqrt, min_samples_leaf=2, min_samples_split=2, n_estimators=100; total time=   0.1s\n",
            "[CV] END bootstrap=False, criterion=entropy, max_features=sqrt, min_samples_leaf=2, min_samples_split=2, n_estimators=100; total time=   0.1s\n",
            "[CV] END bootstrap=False, criterion=entropy, max_features=sqrt, min_samples_leaf=2, min_samples_split=2, n_estimators=100; total time=   0.1s\n",
            "[CV] END bootstrap=False, criterion=entropy, max_features=sqrt, min_samples_leaf=2, min_samples_split=2, n_estimators=100; total time=   0.1s\n",
            "[CV] END bootstrap=False, criterion=entropy, max_features=sqrt, min_samples_leaf=2, min_samples_split=2, n_estimators=100; total time=   0.1s\n",
            "[CV] END bootstrap=False, criterion=entropy, max_features=sqrt, min_samples_leaf=2, min_samples_split=2, n_estimators=200; total time=   0.3s\n",
            "[CV] END bootstrap=False, criterion=entropy, max_features=sqrt, min_samples_leaf=2, min_samples_split=2, n_estimators=200; total time=   0.3s\n",
            "[CV] END bootstrap=False, criterion=entropy, max_features=sqrt, min_samples_leaf=2, min_samples_split=2, n_estimators=200; total time=   0.3s\n",
            "[CV] END bootstrap=False, criterion=entropy, max_features=sqrt, min_samples_leaf=2, min_samples_split=2, n_estimators=200; total time=   0.3s\n",
            "[CV] END bootstrap=False, criterion=entropy, max_features=sqrt, min_samples_leaf=2, min_samples_split=2, n_estimators=200; total time=   0.3s\n",
            "[CV] END bootstrap=False, criterion=entropy, max_features=sqrt, min_samples_leaf=2, min_samples_split=5, n_estimators=50; total time=   0.0s\n",
            "[CV] END bootstrap=False, criterion=entropy, max_features=sqrt, min_samples_leaf=2, min_samples_split=5, n_estimators=50; total time=   0.0s\n",
            "[CV] END bootstrap=False, criterion=entropy, max_features=sqrt, min_samples_leaf=2, min_samples_split=5, n_estimators=50; total time=   0.0s\n",
            "[CV] END bootstrap=False, criterion=entropy, max_features=sqrt, min_samples_leaf=2, min_samples_split=5, n_estimators=50; total time=   0.0s\n",
            "[CV] END bootstrap=False, criterion=entropy, max_features=sqrt, min_samples_leaf=2, min_samples_split=5, n_estimators=50; total time=   0.0s\n",
            "[CV] END bootstrap=False, criterion=entropy, max_features=sqrt, min_samples_leaf=2, min_samples_split=5, n_estimators=100; total time=   0.1s\n",
            "[CV] END bootstrap=False, criterion=entropy, max_features=sqrt, min_samples_leaf=2, min_samples_split=5, n_estimators=100; total time=   0.1s\n",
            "[CV] END bootstrap=False, criterion=entropy, max_features=sqrt, min_samples_leaf=2, min_samples_split=5, n_estimators=100; total time=   0.1s\n",
            "[CV] END bootstrap=False, criterion=entropy, max_features=sqrt, min_samples_leaf=2, min_samples_split=5, n_estimators=100; total time=   0.1s\n",
            "[CV] END bootstrap=False, criterion=entropy, max_features=sqrt, min_samples_leaf=2, min_samples_split=5, n_estimators=100; total time=   0.1s\n",
            "[CV] END bootstrap=False, criterion=entropy, max_features=sqrt, min_samples_leaf=2, min_samples_split=5, n_estimators=200; total time=   0.3s\n",
            "[CV] END bootstrap=False, criterion=entropy, max_features=sqrt, min_samples_leaf=2, min_samples_split=5, n_estimators=200; total time=   0.3s\n",
            "[CV] END bootstrap=False, criterion=entropy, max_features=sqrt, min_samples_leaf=2, min_samples_split=5, n_estimators=200; total time=   0.3s\n",
            "[CV] END bootstrap=False, criterion=entropy, max_features=sqrt, min_samples_leaf=2, min_samples_split=5, n_estimators=200; total time=   0.3s\n",
            "[CV] END bootstrap=False, criterion=entropy, max_features=sqrt, min_samples_leaf=2, min_samples_split=5, n_estimators=200; total time=   0.3s\n",
            "[CV] END bootstrap=False, criterion=entropy, max_features=sqrt, min_samples_leaf=2, min_samples_split=10, n_estimators=50; total time=   0.0s\n",
            "[CV] END bootstrap=False, criterion=entropy, max_features=sqrt, min_samples_leaf=2, min_samples_split=10, n_estimators=50; total time=   0.0s\n",
            "[CV] END bootstrap=False, criterion=entropy, max_features=sqrt, min_samples_leaf=2, min_samples_split=10, n_estimators=50; total time=   0.0s\n",
            "[CV] END bootstrap=False, criterion=entropy, max_features=sqrt, min_samples_leaf=2, min_samples_split=10, n_estimators=50; total time=   0.0s\n",
            "[CV] END bootstrap=False, criterion=entropy, max_features=sqrt, min_samples_leaf=2, min_samples_split=10, n_estimators=50; total time=   0.0s\n",
            "[CV] END bootstrap=False, criterion=entropy, max_features=sqrt, min_samples_leaf=2, min_samples_split=10, n_estimators=100; total time=   0.1s\n",
            "[CV] END bootstrap=False, criterion=entropy, max_features=sqrt, min_samples_leaf=2, min_samples_split=10, n_estimators=100; total time=   0.1s\n",
            "[CV] END bootstrap=False, criterion=entropy, max_features=sqrt, min_samples_leaf=2, min_samples_split=10, n_estimators=100; total time=   0.1s\n",
            "[CV] END bootstrap=False, criterion=entropy, max_features=sqrt, min_samples_leaf=2, min_samples_split=10, n_estimators=100; total time=   0.1s\n",
            "[CV] END bootstrap=False, criterion=entropy, max_features=sqrt, min_samples_leaf=2, min_samples_split=10, n_estimators=100; total time=   0.1s\n",
            "[CV] END bootstrap=False, criterion=entropy, max_features=sqrt, min_samples_leaf=2, min_samples_split=10, n_estimators=200; total time=   0.3s\n",
            "[CV] END bootstrap=False, criterion=entropy, max_features=sqrt, min_samples_leaf=2, min_samples_split=10, n_estimators=200; total time=   0.3s\n",
            "[CV] END bootstrap=False, criterion=entropy, max_features=sqrt, min_samples_leaf=2, min_samples_split=10, n_estimators=200; total time=   0.2s\n",
            "[CV] END bootstrap=False, criterion=entropy, max_features=sqrt, min_samples_leaf=2, min_samples_split=10, n_estimators=200; total time=   0.3s\n",
            "[CV] END bootstrap=False, criterion=entropy, max_features=sqrt, min_samples_leaf=2, min_samples_split=10, n_estimators=200; total time=   0.2s\n",
            "[CV] END bootstrap=False, criterion=entropy, max_features=sqrt, min_samples_leaf=4, min_samples_split=2, n_estimators=50; total time=   0.0s\n",
            "[CV] END bootstrap=False, criterion=entropy, max_features=sqrt, min_samples_leaf=4, min_samples_split=2, n_estimators=50; total time=   0.0s\n",
            "[CV] END bootstrap=False, criterion=entropy, max_features=sqrt, min_samples_leaf=4, min_samples_split=2, n_estimators=50; total time=   0.0s\n",
            "[CV] END bootstrap=False, criterion=entropy, max_features=sqrt, min_samples_leaf=4, min_samples_split=2, n_estimators=50; total time=   0.0s\n",
            "[CV] END bootstrap=False, criterion=entropy, max_features=sqrt, min_samples_leaf=4, min_samples_split=2, n_estimators=50; total time=   0.0s\n",
            "[CV] END bootstrap=False, criterion=entropy, max_features=sqrt, min_samples_leaf=4, min_samples_split=2, n_estimators=100; total time=   0.1s\n",
            "[CV] END bootstrap=False, criterion=entropy, max_features=sqrt, min_samples_leaf=4, min_samples_split=2, n_estimators=100; total time=   0.1s\n",
            "[CV] END bootstrap=False, criterion=entropy, max_features=sqrt, min_samples_leaf=4, min_samples_split=2, n_estimators=100; total time=   0.1s\n",
            "[CV] END bootstrap=False, criterion=entropy, max_features=sqrt, min_samples_leaf=4, min_samples_split=2, n_estimators=100; total time=   0.1s\n",
            "[CV] END bootstrap=False, criterion=entropy, max_features=sqrt, min_samples_leaf=4, min_samples_split=2, n_estimators=100; total time=   0.1s\n",
            "[CV] END bootstrap=False, criterion=entropy, max_features=sqrt, min_samples_leaf=4, min_samples_split=2, n_estimators=200; total time=   0.2s\n",
            "[CV] END bootstrap=False, criterion=entropy, max_features=sqrt, min_samples_leaf=4, min_samples_split=2, n_estimators=200; total time=   0.2s\n",
            "[CV] END bootstrap=False, criterion=entropy, max_features=sqrt, min_samples_leaf=4, min_samples_split=2, n_estimators=200; total time=   0.2s\n",
            "[CV] END bootstrap=False, criterion=entropy, max_features=sqrt, min_samples_leaf=4, min_samples_split=2, n_estimators=200; total time=   0.2s\n",
            "[CV] END bootstrap=False, criterion=entropy, max_features=sqrt, min_samples_leaf=4, min_samples_split=2, n_estimators=200; total time=   0.2s\n",
            "[CV] END bootstrap=False, criterion=entropy, max_features=sqrt, min_samples_leaf=4, min_samples_split=5, n_estimators=50; total time=   0.0s\n",
            "[CV] END bootstrap=False, criterion=entropy, max_features=sqrt, min_samples_leaf=4, min_samples_split=5, n_estimators=50; total time=   0.0s\n",
            "[CV] END bootstrap=False, criterion=entropy, max_features=sqrt, min_samples_leaf=4, min_samples_split=5, n_estimators=50; total time=   0.0s\n",
            "[CV] END bootstrap=False, criterion=entropy, max_features=sqrt, min_samples_leaf=4, min_samples_split=5, n_estimators=50; total time=   0.0s\n",
            "[CV] END bootstrap=False, criterion=entropy, max_features=sqrt, min_samples_leaf=4, min_samples_split=5, n_estimators=50; total time=   0.0s\n",
            "[CV] END bootstrap=False, criterion=entropy, max_features=sqrt, min_samples_leaf=4, min_samples_split=5, n_estimators=100; total time=   0.1s\n",
            "[CV] END bootstrap=False, criterion=entropy, max_features=sqrt, min_samples_leaf=4, min_samples_split=5, n_estimators=100; total time=   0.1s\n",
            "[CV] END bootstrap=False, criterion=entropy, max_features=sqrt, min_samples_leaf=4, min_samples_split=5, n_estimators=100; total time=   0.1s\n",
            "[CV] END bootstrap=False, criterion=entropy, max_features=sqrt, min_samples_leaf=4, min_samples_split=5, n_estimators=100; total time=   0.1s\n",
            "[CV] END bootstrap=False, criterion=entropy, max_features=sqrt, min_samples_leaf=4, min_samples_split=5, n_estimators=100; total time=   0.1s\n",
            "[CV] END bootstrap=False, criterion=entropy, max_features=sqrt, min_samples_leaf=4, min_samples_split=5, n_estimators=200; total time=   0.2s\n",
            "[CV] END bootstrap=False, criterion=entropy, max_features=sqrt, min_samples_leaf=4, min_samples_split=5, n_estimators=200; total time=   0.2s\n",
            "[CV] END bootstrap=False, criterion=entropy, max_features=sqrt, min_samples_leaf=4, min_samples_split=5, n_estimators=200; total time=   0.2s\n",
            "[CV] END bootstrap=False, criterion=entropy, max_features=sqrt, min_samples_leaf=4, min_samples_split=5, n_estimators=200; total time=   0.2s\n",
            "[CV] END bootstrap=False, criterion=entropy, max_features=sqrt, min_samples_leaf=4, min_samples_split=5, n_estimators=200; total time=   0.2s\n",
            "[CV] END bootstrap=False, criterion=entropy, max_features=sqrt, min_samples_leaf=4, min_samples_split=10, n_estimators=50; total time=   0.0s\n",
            "[CV] END bootstrap=False, criterion=entropy, max_features=sqrt, min_samples_leaf=4, min_samples_split=10, n_estimators=50; total time=   0.0s\n",
            "[CV] END bootstrap=False, criterion=entropy, max_features=sqrt, min_samples_leaf=4, min_samples_split=10, n_estimators=50; total time=   0.0s\n",
            "[CV] END bootstrap=False, criterion=entropy, max_features=sqrt, min_samples_leaf=4, min_samples_split=10, n_estimators=50; total time=   0.0s\n",
            "[CV] END bootstrap=False, criterion=entropy, max_features=sqrt, min_samples_leaf=4, min_samples_split=10, n_estimators=50; total time=   0.0s\n",
            "[CV] END bootstrap=False, criterion=entropy, max_features=sqrt, min_samples_leaf=4, min_samples_split=10, n_estimators=100; total time=   0.1s\n",
            "[CV] END bootstrap=False, criterion=entropy, max_features=sqrt, min_samples_leaf=4, min_samples_split=10, n_estimators=100; total time=   0.1s\n",
            "[CV] END bootstrap=False, criterion=entropy, max_features=sqrt, min_samples_leaf=4, min_samples_split=10, n_estimators=100; total time=   0.1s\n",
            "[CV] END bootstrap=False, criterion=entropy, max_features=sqrt, min_samples_leaf=4, min_samples_split=10, n_estimators=100; total time=   0.1s\n",
            "[CV] END bootstrap=False, criterion=entropy, max_features=sqrt, min_samples_leaf=4, min_samples_split=10, n_estimators=100; total time=   0.1s\n",
            "[CV] END bootstrap=False, criterion=entropy, max_features=sqrt, min_samples_leaf=4, min_samples_split=10, n_estimators=200; total time=   0.2s\n",
            "[CV] END bootstrap=False, criterion=entropy, max_features=sqrt, min_samples_leaf=4, min_samples_split=10, n_estimators=200; total time=   0.2s\n",
            "[CV] END bootstrap=False, criterion=entropy, max_features=sqrt, min_samples_leaf=4, min_samples_split=10, n_estimators=200; total time=   0.2s\n",
            "[CV] END bootstrap=False, criterion=entropy, max_features=sqrt, min_samples_leaf=4, min_samples_split=10, n_estimators=200; total time=   0.2s\n",
            "[CV] END bootstrap=False, criterion=entropy, max_features=sqrt, min_samples_leaf=4, min_samples_split=10, n_estimators=200; total time=   0.2s\n",
            "[CV] END bootstrap=False, criterion=entropy, max_features=log2, min_samples_leaf=1, min_samples_split=2, n_estimators=50; total time=   0.0s\n",
            "[CV] END bootstrap=False, criterion=entropy, max_features=log2, min_samples_leaf=1, min_samples_split=2, n_estimators=50; total time=   0.0s\n",
            "[CV] END bootstrap=False, criterion=entropy, max_features=log2, min_samples_leaf=1, min_samples_split=2, n_estimators=50; total time=   0.0s\n",
            "[CV] END bootstrap=False, criterion=entropy, max_features=log2, min_samples_leaf=1, min_samples_split=2, n_estimators=50; total time=   0.0s\n",
            "[CV] END bootstrap=False, criterion=entropy, max_features=log2, min_samples_leaf=1, min_samples_split=2, n_estimators=50; total time=   0.0s\n",
            "[CV] END bootstrap=False, criterion=entropy, max_features=log2, min_samples_leaf=1, min_samples_split=2, n_estimators=100; total time=   0.1s\n",
            "[CV] END bootstrap=False, criterion=entropy, max_features=log2, min_samples_leaf=1, min_samples_split=2, n_estimators=100; total time=   0.1s\n",
            "[CV] END bootstrap=False, criterion=entropy, max_features=log2, min_samples_leaf=1, min_samples_split=2, n_estimators=100; total time=   0.1s\n",
            "[CV] END bootstrap=False, criterion=entropy, max_features=log2, min_samples_leaf=1, min_samples_split=2, n_estimators=100; total time=   0.1s\n",
            "[CV] END bootstrap=False, criterion=entropy, max_features=log2, min_samples_leaf=1, min_samples_split=2, n_estimators=100; total time=   0.1s\n",
            "[CV] END bootstrap=False, criterion=entropy, max_features=log2, min_samples_leaf=1, min_samples_split=2, n_estimators=200; total time=   0.4s\n",
            "[CV] END bootstrap=False, criterion=entropy, max_features=log2, min_samples_leaf=1, min_samples_split=2, n_estimators=200; total time=   0.4s\n",
            "[CV] END bootstrap=False, criterion=entropy, max_features=log2, min_samples_leaf=1, min_samples_split=2, n_estimators=200; total time=   0.4s\n",
            "[CV] END bootstrap=False, criterion=entropy, max_features=log2, min_samples_leaf=1, min_samples_split=2, n_estimators=200; total time=   0.4s\n",
            "[CV] END bootstrap=False, criterion=entropy, max_features=log2, min_samples_leaf=1, min_samples_split=2, n_estimators=200; total time=   0.4s\n",
            "[CV] END bootstrap=False, criterion=entropy, max_features=log2, min_samples_leaf=1, min_samples_split=5, n_estimators=50; total time=   0.0s\n",
            "[CV] END bootstrap=False, criterion=entropy, max_features=log2, min_samples_leaf=1, min_samples_split=5, n_estimators=50; total time=   0.0s\n",
            "[CV] END bootstrap=False, criterion=entropy, max_features=log2, min_samples_leaf=1, min_samples_split=5, n_estimators=50; total time=   0.0s\n",
            "[CV] END bootstrap=False, criterion=entropy, max_features=log2, min_samples_leaf=1, min_samples_split=5, n_estimators=50; total time=   0.0s\n",
            "[CV] END bootstrap=False, criterion=entropy, max_features=log2, min_samples_leaf=1, min_samples_split=5, n_estimators=50; total time=   0.0s\n",
            "[CV] END bootstrap=False, criterion=entropy, max_features=log2, min_samples_leaf=1, min_samples_split=5, n_estimators=100; total time=   0.1s\n",
            "[CV] END bootstrap=False, criterion=entropy, max_features=log2, min_samples_leaf=1, min_samples_split=5, n_estimators=100; total time=   0.1s\n",
            "[CV] END bootstrap=False, criterion=entropy, max_features=log2, min_samples_leaf=1, min_samples_split=5, n_estimators=100; total time=   0.1s\n",
            "[CV] END bootstrap=False, criterion=entropy, max_features=log2, min_samples_leaf=1, min_samples_split=5, n_estimators=100; total time=   0.1s\n",
            "[CV] END bootstrap=False, criterion=entropy, max_features=log2, min_samples_leaf=1, min_samples_split=5, n_estimators=100; total time=   0.1s\n",
            "[CV] END bootstrap=False, criterion=entropy, max_features=log2, min_samples_leaf=1, min_samples_split=5, n_estimators=200; total time=   0.3s\n",
            "[CV] END bootstrap=False, criterion=entropy, max_features=log2, min_samples_leaf=1, min_samples_split=5, n_estimators=200; total time=   0.4s\n",
            "[CV] END bootstrap=False, criterion=entropy, max_features=log2, min_samples_leaf=1, min_samples_split=5, n_estimators=200; total time=   0.3s\n",
            "[CV] END bootstrap=False, criterion=entropy, max_features=log2, min_samples_leaf=1, min_samples_split=5, n_estimators=200; total time=   0.3s\n",
            "[CV] END bootstrap=False, criterion=entropy, max_features=log2, min_samples_leaf=1, min_samples_split=5, n_estimators=200; total time=   0.3s\n",
            "[CV] END bootstrap=False, criterion=entropy, max_features=log2, min_samples_leaf=1, min_samples_split=10, n_estimators=50; total time=   0.0s\n",
            "[CV] END bootstrap=False, criterion=entropy, max_features=log2, min_samples_leaf=1, min_samples_split=10, n_estimators=50; total time=   0.0s\n",
            "[CV] END bootstrap=False, criterion=entropy, max_features=log2, min_samples_leaf=1, min_samples_split=10, n_estimators=50; total time=   0.0s\n",
            "[CV] END bootstrap=False, criterion=entropy, max_features=log2, min_samples_leaf=1, min_samples_split=10, n_estimators=50; total time=   0.0s\n",
            "[CV] END bootstrap=False, criterion=entropy, max_features=log2, min_samples_leaf=1, min_samples_split=10, n_estimators=50; total time=   0.0s\n",
            "[CV] END bootstrap=False, criterion=entropy, max_features=log2, min_samples_leaf=1, min_samples_split=10, n_estimators=100; total time=   0.1s\n",
            "[CV] END bootstrap=False, criterion=entropy, max_features=log2, min_samples_leaf=1, min_samples_split=10, n_estimators=100; total time=   0.1s\n",
            "[CV] END bootstrap=False, criterion=entropy, max_features=log2, min_samples_leaf=1, min_samples_split=10, n_estimators=100; total time=   0.1s\n",
            "[CV] END bootstrap=False, criterion=entropy, max_features=log2, min_samples_leaf=1, min_samples_split=10, n_estimators=100; total time=   0.1s\n",
            "[CV] END bootstrap=False, criterion=entropy, max_features=log2, min_samples_leaf=1, min_samples_split=10, n_estimators=100; total time=   0.1s\n",
            "[CV] END bootstrap=False, criterion=entropy, max_features=log2, min_samples_leaf=1, min_samples_split=10, n_estimators=200; total time=   0.3s\n",
            "[CV] END bootstrap=False, criterion=entropy, max_features=log2, min_samples_leaf=1, min_samples_split=10, n_estimators=200; total time=   0.3s\n",
            "[CV] END bootstrap=False, criterion=entropy, max_features=log2, min_samples_leaf=1, min_samples_split=10, n_estimators=200; total time=   0.3s\n",
            "[CV] END bootstrap=False, criterion=entropy, max_features=log2, min_samples_leaf=1, min_samples_split=10, n_estimators=200; total time=   0.3s\n",
            "[CV] END bootstrap=False, criterion=entropy, max_features=log2, min_samples_leaf=1, min_samples_split=10, n_estimators=200; total time=   0.3s\n",
            "[CV] END bootstrap=False, criterion=entropy, max_features=log2, min_samples_leaf=2, min_samples_split=2, n_estimators=50; total time=   0.0s\n",
            "[CV] END bootstrap=False, criterion=entropy, max_features=log2, min_samples_leaf=2, min_samples_split=2, n_estimators=50; total time=   0.0s\n",
            "[CV] END bootstrap=False, criterion=entropy, max_features=log2, min_samples_leaf=2, min_samples_split=2, n_estimators=50; total time=   0.0s\n",
            "[CV] END bootstrap=False, criterion=entropy, max_features=log2, min_samples_leaf=2, min_samples_split=2, n_estimators=50; total time=   0.0s\n",
            "[CV] END bootstrap=False, criterion=entropy, max_features=log2, min_samples_leaf=2, min_samples_split=2, n_estimators=50; total time=   0.0s\n",
            "[CV] END bootstrap=False, criterion=entropy, max_features=log2, min_samples_leaf=2, min_samples_split=2, n_estimators=100; total time=   0.1s\n",
            "[CV] END bootstrap=False, criterion=entropy, max_features=log2, min_samples_leaf=2, min_samples_split=2, n_estimators=100; total time=   0.1s\n",
            "[CV] END bootstrap=False, criterion=entropy, max_features=log2, min_samples_leaf=2, min_samples_split=2, n_estimators=100; total time=   0.1s\n",
            "[CV] END bootstrap=False, criterion=entropy, max_features=log2, min_samples_leaf=2, min_samples_split=2, n_estimators=100; total time=   0.1s\n",
            "[CV] END bootstrap=False, criterion=entropy, max_features=log2, min_samples_leaf=2, min_samples_split=2, n_estimators=100; total time=   0.1s\n",
            "[CV] END bootstrap=False, criterion=entropy, max_features=log2, min_samples_leaf=2, min_samples_split=2, n_estimators=200; total time=   0.3s\n",
            "[CV] END bootstrap=False, criterion=entropy, max_features=log2, min_samples_leaf=2, min_samples_split=2, n_estimators=200; total time=   0.3s\n",
            "[CV] END bootstrap=False, criterion=entropy, max_features=log2, min_samples_leaf=2, min_samples_split=2, n_estimators=200; total time=   0.3s\n",
            "[CV] END bootstrap=False, criterion=entropy, max_features=log2, min_samples_leaf=2, min_samples_split=2, n_estimators=200; total time=   0.3s\n",
            "[CV] END bootstrap=False, criterion=entropy, max_features=log2, min_samples_leaf=2, min_samples_split=2, n_estimators=200; total time=   0.3s\n",
            "[CV] END bootstrap=False, criterion=entropy, max_features=log2, min_samples_leaf=2, min_samples_split=5, n_estimators=50; total time=   0.0s\n",
            "[CV] END bootstrap=False, criterion=entropy, max_features=log2, min_samples_leaf=2, min_samples_split=5, n_estimators=50; total time=   0.0s\n",
            "[CV] END bootstrap=False, criterion=entropy, max_features=log2, min_samples_leaf=2, min_samples_split=5, n_estimators=50; total time=   0.0s\n",
            "[CV] END bootstrap=False, criterion=entropy, max_features=log2, min_samples_leaf=2, min_samples_split=5, n_estimators=50; total time=   0.0s\n",
            "[CV] END bootstrap=False, criterion=entropy, max_features=log2, min_samples_leaf=2, min_samples_split=5, n_estimators=50; total time=   0.0s\n",
            "[CV] END bootstrap=False, criterion=entropy, max_features=log2, min_samples_leaf=2, min_samples_split=5, n_estimators=100; total time=   0.1s\n",
            "[CV] END bootstrap=False, criterion=entropy, max_features=log2, min_samples_leaf=2, min_samples_split=5, n_estimators=100; total time=   0.1s\n",
            "[CV] END bootstrap=False, criterion=entropy, max_features=log2, min_samples_leaf=2, min_samples_split=5, n_estimators=100; total time=   0.1s\n",
            "[CV] END bootstrap=False, criterion=entropy, max_features=log2, min_samples_leaf=2, min_samples_split=5, n_estimators=100; total time=   0.1s\n",
            "[CV] END bootstrap=False, criterion=entropy, max_features=log2, min_samples_leaf=2, min_samples_split=5, n_estimators=100; total time=   0.1s\n",
            "[CV] END bootstrap=False, criterion=entropy, max_features=log2, min_samples_leaf=2, min_samples_split=5, n_estimators=200; total time=   0.3s\n",
            "[CV] END bootstrap=False, criterion=entropy, max_features=log2, min_samples_leaf=2, min_samples_split=5, n_estimators=200; total time=   0.3s\n",
            "[CV] END bootstrap=False, criterion=entropy, max_features=log2, min_samples_leaf=2, min_samples_split=5, n_estimators=200; total time=   0.3s\n",
            "[CV] END bootstrap=False, criterion=entropy, max_features=log2, min_samples_leaf=2, min_samples_split=5, n_estimators=200; total time=   0.3s\n",
            "[CV] END bootstrap=False, criterion=entropy, max_features=log2, min_samples_leaf=2, min_samples_split=5, n_estimators=200; total time=   0.3s\n",
            "[CV] END bootstrap=False, criterion=entropy, max_features=log2, min_samples_leaf=2, min_samples_split=10, n_estimators=50; total time=   0.0s\n",
            "[CV] END bootstrap=False, criterion=entropy, max_features=log2, min_samples_leaf=2, min_samples_split=10, n_estimators=50; total time=   0.0s\n",
            "[CV] END bootstrap=False, criterion=entropy, max_features=log2, min_samples_leaf=2, min_samples_split=10, n_estimators=50; total time=   0.0s\n",
            "[CV] END bootstrap=False, criterion=entropy, max_features=log2, min_samples_leaf=2, min_samples_split=10, n_estimators=50; total time=   0.0s\n",
            "[CV] END bootstrap=False, criterion=entropy, max_features=log2, min_samples_leaf=2, min_samples_split=10, n_estimators=50; total time=   0.0s\n",
            "[CV] END bootstrap=False, criterion=entropy, max_features=log2, min_samples_leaf=2, min_samples_split=10, n_estimators=100; total time=   0.1s\n",
            "[CV] END bootstrap=False, criterion=entropy, max_features=log2, min_samples_leaf=2, min_samples_split=10, n_estimators=100; total time=   0.1s\n",
            "[CV] END bootstrap=False, criterion=entropy, max_features=log2, min_samples_leaf=2, min_samples_split=10, n_estimators=100; total time=   0.1s\n",
            "[CV] END bootstrap=False, criterion=entropy, max_features=log2, min_samples_leaf=2, min_samples_split=10, n_estimators=100; total time=   0.1s\n",
            "[CV] END bootstrap=False, criterion=entropy, max_features=log2, min_samples_leaf=2, min_samples_split=10, n_estimators=100; total time=   0.1s\n",
            "[CV] END bootstrap=False, criterion=entropy, max_features=log2, min_samples_leaf=2, min_samples_split=10, n_estimators=200; total time=   0.2s\n",
            "[CV] END bootstrap=False, criterion=entropy, max_features=log2, min_samples_leaf=2, min_samples_split=10, n_estimators=200; total time=   0.2s\n",
            "[CV] END bootstrap=False, criterion=entropy, max_features=log2, min_samples_leaf=2, min_samples_split=10, n_estimators=200; total time=   0.2s\n",
            "[CV] END bootstrap=False, criterion=entropy, max_features=log2, min_samples_leaf=2, min_samples_split=10, n_estimators=200; total time=   0.2s\n",
            "[CV] END bootstrap=False, criterion=entropy, max_features=log2, min_samples_leaf=2, min_samples_split=10, n_estimators=200; total time=   0.2s\n",
            "[CV] END bootstrap=False, criterion=entropy, max_features=log2, min_samples_leaf=4, min_samples_split=2, n_estimators=50; total time=   0.0s\n",
            "[CV] END bootstrap=False, criterion=entropy, max_features=log2, min_samples_leaf=4, min_samples_split=2, n_estimators=50; total time=   0.0s\n",
            "[CV] END bootstrap=False, criterion=entropy, max_features=log2, min_samples_leaf=4, min_samples_split=2, n_estimators=50; total time=   0.0s\n",
            "[CV] END bootstrap=False, criterion=entropy, max_features=log2, min_samples_leaf=4, min_samples_split=2, n_estimators=50; total time=   0.0s\n",
            "[CV] END bootstrap=False, criterion=entropy, max_features=log2, min_samples_leaf=4, min_samples_split=2, n_estimators=50; total time=   0.0s\n",
            "[CV] END bootstrap=False, criterion=entropy, max_features=log2, min_samples_leaf=4, min_samples_split=2, n_estimators=100; total time=   0.1s\n",
            "[CV] END bootstrap=False, criterion=entropy, max_features=log2, min_samples_leaf=4, min_samples_split=2, n_estimators=100; total time=   0.1s\n",
            "[CV] END bootstrap=False, criterion=entropy, max_features=log2, min_samples_leaf=4, min_samples_split=2, n_estimators=100; total time=   0.1s\n",
            "[CV] END bootstrap=False, criterion=entropy, max_features=log2, min_samples_leaf=4, min_samples_split=2, n_estimators=100; total time=   0.1s\n",
            "[CV] END bootstrap=False, criterion=entropy, max_features=log2, min_samples_leaf=4, min_samples_split=2, n_estimators=100; total time=   0.1s\n",
            "[CV] END bootstrap=False, criterion=entropy, max_features=log2, min_samples_leaf=4, min_samples_split=2, n_estimators=200; total time=   0.2s\n",
            "[CV] END bootstrap=False, criterion=entropy, max_features=log2, min_samples_leaf=4, min_samples_split=2, n_estimators=200; total time=   0.2s\n",
            "[CV] END bootstrap=False, criterion=entropy, max_features=log2, min_samples_leaf=4, min_samples_split=2, n_estimators=200; total time=   0.2s\n",
            "[CV] END bootstrap=False, criterion=entropy, max_features=log2, min_samples_leaf=4, min_samples_split=2, n_estimators=200; total time=   0.2s\n",
            "[CV] END bootstrap=False, criterion=entropy, max_features=log2, min_samples_leaf=4, min_samples_split=2, n_estimators=200; total time=   0.2s\n",
            "[CV] END bootstrap=False, criterion=entropy, max_features=log2, min_samples_leaf=4, min_samples_split=5, n_estimators=50; total time=   0.0s\n",
            "[CV] END bootstrap=False, criterion=entropy, max_features=log2, min_samples_leaf=4, min_samples_split=5, n_estimators=50; total time=   0.0s\n",
            "[CV] END bootstrap=False, criterion=entropy, max_features=log2, min_samples_leaf=4, min_samples_split=5, n_estimators=50; total time=   0.0s\n",
            "[CV] END bootstrap=False, criterion=entropy, max_features=log2, min_samples_leaf=4, min_samples_split=5, n_estimators=50; total time=   0.0s\n",
            "[CV] END bootstrap=False, criterion=entropy, max_features=log2, min_samples_leaf=4, min_samples_split=5, n_estimators=50; total time=   0.0s\n",
            "[CV] END bootstrap=False, criterion=entropy, max_features=log2, min_samples_leaf=4, min_samples_split=5, n_estimators=100; total time=   0.1s\n",
            "[CV] END bootstrap=False, criterion=entropy, max_features=log2, min_samples_leaf=4, min_samples_split=5, n_estimators=100; total time=   0.1s\n",
            "[CV] END bootstrap=False, criterion=entropy, max_features=log2, min_samples_leaf=4, min_samples_split=5, n_estimators=100; total time=   0.1s\n",
            "[CV] END bootstrap=False, criterion=entropy, max_features=log2, min_samples_leaf=4, min_samples_split=5, n_estimators=100; total time=   0.1s\n",
            "[CV] END bootstrap=False, criterion=entropy, max_features=log2, min_samples_leaf=4, min_samples_split=5, n_estimators=100; total time=   0.1s\n",
            "[CV] END bootstrap=False, criterion=entropy, max_features=log2, min_samples_leaf=4, min_samples_split=5, n_estimators=200; total time=   0.2s\n",
            "[CV] END bootstrap=False, criterion=entropy, max_features=log2, min_samples_leaf=4, min_samples_split=5, n_estimators=200; total time=   0.2s\n",
            "[CV] END bootstrap=False, criterion=entropy, max_features=log2, min_samples_leaf=4, min_samples_split=5, n_estimators=200; total time=   0.2s\n",
            "[CV] END bootstrap=False, criterion=entropy, max_features=log2, min_samples_leaf=4, min_samples_split=5, n_estimators=200; total time=   0.2s\n",
            "[CV] END bootstrap=False, criterion=entropy, max_features=log2, min_samples_leaf=4, min_samples_split=5, n_estimators=200; total time=   0.2s\n",
            "[CV] END bootstrap=False, criterion=entropy, max_features=log2, min_samples_leaf=4, min_samples_split=10, n_estimators=50; total time=   0.0s\n",
            "[CV] END bootstrap=False, criterion=entropy, max_features=log2, min_samples_leaf=4, min_samples_split=10, n_estimators=50; total time=   0.0s\n",
            "[CV] END bootstrap=False, criterion=entropy, max_features=log2, min_samples_leaf=4, min_samples_split=10, n_estimators=50; total time=   0.0s\n",
            "[CV] END bootstrap=False, criterion=entropy, max_features=log2, min_samples_leaf=4, min_samples_split=10, n_estimators=50; total time=   0.0s\n",
            "[CV] END bootstrap=False, criterion=entropy, max_features=log2, min_samples_leaf=4, min_samples_split=10, n_estimators=50; total time=   0.0s\n",
            "[CV] END bootstrap=False, criterion=entropy, max_features=log2, min_samples_leaf=4, min_samples_split=10, n_estimators=100; total time=   0.1s\n",
            "[CV] END bootstrap=False, criterion=entropy, max_features=log2, min_samples_leaf=4, min_samples_split=10, n_estimators=100; total time=   0.1s\n",
            "[CV] END bootstrap=False, criterion=entropy, max_features=log2, min_samples_leaf=4, min_samples_split=10, n_estimators=100; total time=   0.1s\n",
            "[CV] END bootstrap=False, criterion=entropy, max_features=log2, min_samples_leaf=4, min_samples_split=10, n_estimators=100; total time=   0.1s\n",
            "[CV] END bootstrap=False, criterion=entropy, max_features=log2, min_samples_leaf=4, min_samples_split=10, n_estimators=100; total time=   0.1s\n",
            "[CV] END bootstrap=False, criterion=entropy, max_features=log2, min_samples_leaf=4, min_samples_split=10, n_estimators=200; total time=   0.2s\n",
            "[CV] END bootstrap=False, criterion=entropy, max_features=log2, min_samples_leaf=4, min_samples_split=10, n_estimators=200; total time=   0.2s\n",
            "[CV] END bootstrap=False, criterion=entropy, max_features=log2, min_samples_leaf=4, min_samples_split=10, n_estimators=200; total time=   0.2s\n",
            "[CV] END bootstrap=False, criterion=entropy, max_features=log2, min_samples_leaf=4, min_samples_split=10, n_estimators=200; total time=   0.2s\n",
            "[CV] END bootstrap=False, criterion=entropy, max_features=log2, min_samples_leaf=4, min_samples_split=10, n_estimators=200; total time=   0.2s\n",
            "[CV] END bootstrap=False, criterion=log_loss, max_features=sqrt, min_samples_leaf=1, min_samples_split=2, n_estimators=50; total time=   0.0s\n",
            "[CV] END bootstrap=False, criterion=log_loss, max_features=sqrt, min_samples_leaf=1, min_samples_split=2, n_estimators=50; total time=   0.0s\n",
            "[CV] END bootstrap=False, criterion=log_loss, max_features=sqrt, min_samples_leaf=1, min_samples_split=2, n_estimators=50; total time=   0.0s\n",
            "[CV] END bootstrap=False, criterion=log_loss, max_features=sqrt, min_samples_leaf=1, min_samples_split=2, n_estimators=50; total time=   0.0s\n",
            "[CV] END bootstrap=False, criterion=log_loss, max_features=sqrt, min_samples_leaf=1, min_samples_split=2, n_estimators=50; total time=   0.0s\n",
            "[CV] END bootstrap=False, criterion=log_loss, max_features=sqrt, min_samples_leaf=1, min_samples_split=2, n_estimators=100; total time=   0.1s\n",
            "[CV] END bootstrap=False, criterion=log_loss, max_features=sqrt, min_samples_leaf=1, min_samples_split=2, n_estimators=100; total time=   0.1s\n",
            "[CV] END bootstrap=False, criterion=log_loss, max_features=sqrt, min_samples_leaf=1, min_samples_split=2, n_estimators=100; total time=   0.2s\n",
            "[CV] END bootstrap=False, criterion=log_loss, max_features=sqrt, min_samples_leaf=1, min_samples_split=2, n_estimators=100; total time=   0.1s\n",
            "[CV] END bootstrap=False, criterion=log_loss, max_features=sqrt, min_samples_leaf=1, min_samples_split=2, n_estimators=100; total time=   0.1s\n",
            "[CV] END bootstrap=False, criterion=log_loss, max_features=sqrt, min_samples_leaf=1, min_samples_split=2, n_estimators=200; total time=   0.4s\n",
            "[CV] END bootstrap=False, criterion=log_loss, max_features=sqrt, min_samples_leaf=1, min_samples_split=2, n_estimators=200; total time=   0.4s\n",
            "[CV] END bootstrap=False, criterion=log_loss, max_features=sqrt, min_samples_leaf=1, min_samples_split=2, n_estimators=200; total time=   0.4s\n",
            "[CV] END bootstrap=False, criterion=log_loss, max_features=sqrt, min_samples_leaf=1, min_samples_split=2, n_estimators=200; total time=   0.4s\n",
            "[CV] END bootstrap=False, criterion=log_loss, max_features=sqrt, min_samples_leaf=1, min_samples_split=2, n_estimators=200; total time=   0.4s\n",
            "[CV] END bootstrap=False, criterion=log_loss, max_features=sqrt, min_samples_leaf=1, min_samples_split=5, n_estimators=50; total time=   0.0s\n",
            "[CV] END bootstrap=False, criterion=log_loss, max_features=sqrt, min_samples_leaf=1, min_samples_split=5, n_estimators=50; total time=   0.0s\n",
            "[CV] END bootstrap=False, criterion=log_loss, max_features=sqrt, min_samples_leaf=1, min_samples_split=5, n_estimators=50; total time=   0.0s\n",
            "[CV] END bootstrap=False, criterion=log_loss, max_features=sqrt, min_samples_leaf=1, min_samples_split=5, n_estimators=50; total time=   0.0s\n",
            "[CV] END bootstrap=False, criterion=log_loss, max_features=sqrt, min_samples_leaf=1, min_samples_split=5, n_estimators=50; total time=   0.0s\n",
            "[CV] END bootstrap=False, criterion=log_loss, max_features=sqrt, min_samples_leaf=1, min_samples_split=5, n_estimators=100; total time=   0.1s\n",
            "[CV] END bootstrap=False, criterion=log_loss, max_features=sqrt, min_samples_leaf=1, min_samples_split=5, n_estimators=100; total time=   0.1s\n",
            "[CV] END bootstrap=False, criterion=log_loss, max_features=sqrt, min_samples_leaf=1, min_samples_split=5, n_estimators=100; total time=   0.1s\n",
            "[CV] END bootstrap=False, criterion=log_loss, max_features=sqrt, min_samples_leaf=1, min_samples_split=5, n_estimators=100; total time=   0.1s\n",
            "[CV] END bootstrap=False, criterion=log_loss, max_features=sqrt, min_samples_leaf=1, min_samples_split=5, n_estimators=100; total time=   0.1s\n",
            "[CV] END bootstrap=False, criterion=log_loss, max_features=sqrt, min_samples_leaf=1, min_samples_split=5, n_estimators=200; total time=   0.3s\n",
            "[CV] END bootstrap=False, criterion=log_loss, max_features=sqrt, min_samples_leaf=1, min_samples_split=5, n_estimators=200; total time=   0.3s\n",
            "[CV] END bootstrap=False, criterion=log_loss, max_features=sqrt, min_samples_leaf=1, min_samples_split=5, n_estimators=200; total time=   0.3s\n",
            "[CV] END bootstrap=False, criterion=log_loss, max_features=sqrt, min_samples_leaf=1, min_samples_split=5, n_estimators=200; total time=   0.3s\n",
            "[CV] END bootstrap=False, criterion=log_loss, max_features=sqrt, min_samples_leaf=1, min_samples_split=5, n_estimators=200; total time=   0.3s\n",
            "[CV] END bootstrap=False, criterion=log_loss, max_features=sqrt, min_samples_leaf=1, min_samples_split=10, n_estimators=50; total time=   0.0s\n",
            "[CV] END bootstrap=False, criterion=log_loss, max_features=sqrt, min_samples_leaf=1, min_samples_split=10, n_estimators=50; total time=   0.0s\n",
            "[CV] END bootstrap=False, criterion=log_loss, max_features=sqrt, min_samples_leaf=1, min_samples_split=10, n_estimators=50; total time=   0.0s\n",
            "[CV] END bootstrap=False, criterion=log_loss, max_features=sqrt, min_samples_leaf=1, min_samples_split=10, n_estimators=50; total time=   0.0s\n",
            "[CV] END bootstrap=False, criterion=log_loss, max_features=sqrt, min_samples_leaf=1, min_samples_split=10, n_estimators=50; total time=   0.0s\n",
            "[CV] END bootstrap=False, criterion=log_loss, max_features=sqrt, min_samples_leaf=1, min_samples_split=10, n_estimators=100; total time=   0.1s\n",
            "[CV] END bootstrap=False, criterion=log_loss, max_features=sqrt, min_samples_leaf=1, min_samples_split=10, n_estimators=100; total time=   0.1s\n",
            "[CV] END bootstrap=False, criterion=log_loss, max_features=sqrt, min_samples_leaf=1, min_samples_split=10, n_estimators=100; total time=   0.1s\n",
            "[CV] END bootstrap=False, criterion=log_loss, max_features=sqrt, min_samples_leaf=1, min_samples_split=10, n_estimators=100; total time=   0.1s\n",
            "[CV] END bootstrap=False, criterion=log_loss, max_features=sqrt, min_samples_leaf=1, min_samples_split=10, n_estimators=100; total time=   0.1s\n",
            "[CV] END bootstrap=False, criterion=log_loss, max_features=sqrt, min_samples_leaf=1, min_samples_split=10, n_estimators=200; total time=   0.3s\n",
            "[CV] END bootstrap=False, criterion=log_loss, max_features=sqrt, min_samples_leaf=1, min_samples_split=10, n_estimators=200; total time=   0.3s\n",
            "[CV] END bootstrap=False, criterion=log_loss, max_features=sqrt, min_samples_leaf=1, min_samples_split=10, n_estimators=200; total time=   0.3s\n",
            "[CV] END bootstrap=False, criterion=log_loss, max_features=sqrt, min_samples_leaf=1, min_samples_split=10, n_estimators=200; total time=   0.3s\n",
            "[CV] END bootstrap=False, criterion=log_loss, max_features=sqrt, min_samples_leaf=1, min_samples_split=10, n_estimators=200; total time=   0.3s\n",
            "[CV] END bootstrap=False, criterion=log_loss, max_features=sqrt, min_samples_leaf=2, min_samples_split=2, n_estimators=50; total time=   0.0s\n",
            "[CV] END bootstrap=False, criterion=log_loss, max_features=sqrt, min_samples_leaf=2, min_samples_split=2, n_estimators=50; total time=   0.0s\n",
            "[CV] END bootstrap=False, criterion=log_loss, max_features=sqrt, min_samples_leaf=2, min_samples_split=2, n_estimators=50; total time=   0.0s\n",
            "[CV] END bootstrap=False, criterion=log_loss, max_features=sqrt, min_samples_leaf=2, min_samples_split=2, n_estimators=50; total time=   0.0s\n",
            "[CV] END bootstrap=False, criterion=log_loss, max_features=sqrt, min_samples_leaf=2, min_samples_split=2, n_estimators=50; total time=   0.0s\n",
            "[CV] END bootstrap=False, criterion=log_loss, max_features=sqrt, min_samples_leaf=2, min_samples_split=2, n_estimators=100; total time=   0.1s\n",
            "[CV] END bootstrap=False, criterion=log_loss, max_features=sqrt, min_samples_leaf=2, min_samples_split=2, n_estimators=100; total time=   0.1s\n",
            "[CV] END bootstrap=False, criterion=log_loss, max_features=sqrt, min_samples_leaf=2, min_samples_split=2, n_estimators=100; total time=   0.1s\n",
            "[CV] END bootstrap=False, criterion=log_loss, max_features=sqrt, min_samples_leaf=2, min_samples_split=2, n_estimators=100; total time=   0.1s\n",
            "[CV] END bootstrap=False, criterion=log_loss, max_features=sqrt, min_samples_leaf=2, min_samples_split=2, n_estimators=100; total time=   0.1s\n",
            "[CV] END bootstrap=False, criterion=log_loss, max_features=sqrt, min_samples_leaf=2, min_samples_split=2, n_estimators=200; total time=   0.3s\n",
            "[CV] END bootstrap=False, criterion=log_loss, max_features=sqrt, min_samples_leaf=2, min_samples_split=2, n_estimators=200; total time=   0.3s\n",
            "[CV] END bootstrap=False, criterion=log_loss, max_features=sqrt, min_samples_leaf=2, min_samples_split=2, n_estimators=200; total time=   0.3s\n",
            "[CV] END bootstrap=False, criterion=log_loss, max_features=sqrt, min_samples_leaf=2, min_samples_split=2, n_estimators=200; total time=   0.3s\n",
            "[CV] END bootstrap=False, criterion=log_loss, max_features=sqrt, min_samples_leaf=2, min_samples_split=2, n_estimators=200; total time=   0.3s\n",
            "[CV] END bootstrap=False, criterion=log_loss, max_features=sqrt, min_samples_leaf=2, min_samples_split=5, n_estimators=50; total time=   0.0s\n",
            "[CV] END bootstrap=False, criterion=log_loss, max_features=sqrt, min_samples_leaf=2, min_samples_split=5, n_estimators=50; total time=   0.0s\n",
            "[CV] END bootstrap=False, criterion=log_loss, max_features=sqrt, min_samples_leaf=2, min_samples_split=5, n_estimators=50; total time=   0.0s\n",
            "[CV] END bootstrap=False, criterion=log_loss, max_features=sqrt, min_samples_leaf=2, min_samples_split=5, n_estimators=50; total time=   0.0s\n",
            "[CV] END bootstrap=False, criterion=log_loss, max_features=sqrt, min_samples_leaf=2, min_samples_split=5, n_estimators=50; total time=   0.0s\n",
            "[CV] END bootstrap=False, criterion=log_loss, max_features=sqrt, min_samples_leaf=2, min_samples_split=5, n_estimators=100; total time=   0.1s\n",
            "[CV] END bootstrap=False, criterion=log_loss, max_features=sqrt, min_samples_leaf=2, min_samples_split=5, n_estimators=100; total time=   0.1s\n",
            "[CV] END bootstrap=False, criterion=log_loss, max_features=sqrt, min_samples_leaf=2, min_samples_split=5, n_estimators=100; total time=   0.1s\n",
            "[CV] END bootstrap=False, criterion=log_loss, max_features=sqrt, min_samples_leaf=2, min_samples_split=5, n_estimators=100; total time=   0.1s\n",
            "[CV] END bootstrap=False, criterion=log_loss, max_features=sqrt, min_samples_leaf=2, min_samples_split=5, n_estimators=100; total time=   0.1s\n",
            "[CV] END bootstrap=False, criterion=log_loss, max_features=sqrt, min_samples_leaf=2, min_samples_split=5, n_estimators=200; total time=   0.3s\n",
            "[CV] END bootstrap=False, criterion=log_loss, max_features=sqrt, min_samples_leaf=2, min_samples_split=5, n_estimators=200; total time=   0.3s\n",
            "[CV] END bootstrap=False, criterion=log_loss, max_features=sqrt, min_samples_leaf=2, min_samples_split=5, n_estimators=200; total time=   0.3s\n",
            "[CV] END bootstrap=False, criterion=log_loss, max_features=sqrt, min_samples_leaf=2, min_samples_split=5, n_estimators=200; total time=   0.3s\n",
            "[CV] END bootstrap=False, criterion=log_loss, max_features=sqrt, min_samples_leaf=2, min_samples_split=5, n_estimators=200; total time=   0.3s\n",
            "[CV] END bootstrap=False, criterion=log_loss, max_features=sqrt, min_samples_leaf=2, min_samples_split=10, n_estimators=50; total time=   0.0s\n",
            "[CV] END bootstrap=False, criterion=log_loss, max_features=sqrt, min_samples_leaf=2, min_samples_split=10, n_estimators=50; total time=   0.0s\n",
            "[CV] END bootstrap=False, criterion=log_loss, max_features=sqrt, min_samples_leaf=2, min_samples_split=10, n_estimators=50; total time=   0.0s\n",
            "[CV] END bootstrap=False, criterion=log_loss, max_features=sqrt, min_samples_leaf=2, min_samples_split=10, n_estimators=50; total time=   0.0s\n",
            "[CV] END bootstrap=False, criterion=log_loss, max_features=sqrt, min_samples_leaf=2, min_samples_split=10, n_estimators=50; total time=   0.0s\n",
            "[CV] END bootstrap=False, criterion=log_loss, max_features=sqrt, min_samples_leaf=2, min_samples_split=10, n_estimators=100; total time=   0.1s\n",
            "[CV] END bootstrap=False, criterion=log_loss, max_features=sqrt, min_samples_leaf=2, min_samples_split=10, n_estimators=100; total time=   0.1s\n",
            "[CV] END bootstrap=False, criterion=log_loss, max_features=sqrt, min_samples_leaf=2, min_samples_split=10, n_estimators=100; total time=   0.1s\n",
            "[CV] END bootstrap=False, criterion=log_loss, max_features=sqrt, min_samples_leaf=2, min_samples_split=10, n_estimators=100; total time=   0.1s\n",
            "[CV] END bootstrap=False, criterion=log_loss, max_features=sqrt, min_samples_leaf=2, min_samples_split=10, n_estimators=100; total time=   0.1s\n",
            "[CV] END bootstrap=False, criterion=log_loss, max_features=sqrt, min_samples_leaf=2, min_samples_split=10, n_estimators=200; total time=   0.2s\n",
            "[CV] END bootstrap=False, criterion=log_loss, max_features=sqrt, min_samples_leaf=2, min_samples_split=10, n_estimators=200; total time=   0.2s\n",
            "[CV] END bootstrap=False, criterion=log_loss, max_features=sqrt, min_samples_leaf=2, min_samples_split=10, n_estimators=200; total time=   0.3s\n",
            "[CV] END bootstrap=False, criterion=log_loss, max_features=sqrt, min_samples_leaf=2, min_samples_split=10, n_estimators=200; total time=   0.2s\n",
            "[CV] END bootstrap=False, criterion=log_loss, max_features=sqrt, min_samples_leaf=2, min_samples_split=10, n_estimators=200; total time=   0.3s\n",
            "[CV] END bootstrap=False, criterion=log_loss, max_features=sqrt, min_samples_leaf=4, min_samples_split=2, n_estimators=50; total time=   0.0s\n",
            "[CV] END bootstrap=False, criterion=log_loss, max_features=sqrt, min_samples_leaf=4, min_samples_split=2, n_estimators=50; total time=   0.0s\n",
            "[CV] END bootstrap=False, criterion=log_loss, max_features=sqrt, min_samples_leaf=4, min_samples_split=2, n_estimators=50; total time=   0.0s\n",
            "[CV] END bootstrap=False, criterion=log_loss, max_features=sqrt, min_samples_leaf=4, min_samples_split=2, n_estimators=50; total time=   0.0s\n",
            "[CV] END bootstrap=False, criterion=log_loss, max_features=sqrt, min_samples_leaf=4, min_samples_split=2, n_estimators=50; total time=   0.0s\n",
            "[CV] END bootstrap=False, criterion=log_loss, max_features=sqrt, min_samples_leaf=4, min_samples_split=2, n_estimators=100; total time=   0.1s\n",
            "[CV] END bootstrap=False, criterion=log_loss, max_features=sqrt, min_samples_leaf=4, min_samples_split=2, n_estimators=100; total time=   0.1s\n",
            "[CV] END bootstrap=False, criterion=log_loss, max_features=sqrt, min_samples_leaf=4, min_samples_split=2, n_estimators=100; total time=   0.1s\n",
            "[CV] END bootstrap=False, criterion=log_loss, max_features=sqrt, min_samples_leaf=4, min_samples_split=2, n_estimators=100; total time=   0.1s\n",
            "[CV] END bootstrap=False, criterion=log_loss, max_features=sqrt, min_samples_leaf=4, min_samples_split=2, n_estimators=100; total time=   0.1s\n",
            "[CV] END bootstrap=False, criterion=log_loss, max_features=sqrt, min_samples_leaf=4, min_samples_split=2, n_estimators=200; total time=   0.2s\n",
            "[CV] END bootstrap=False, criterion=log_loss, max_features=sqrt, min_samples_leaf=4, min_samples_split=2, n_estimators=200; total time=   0.2s\n",
            "[CV] END bootstrap=False, criterion=log_loss, max_features=sqrt, min_samples_leaf=4, min_samples_split=2, n_estimators=200; total time=   0.2s\n",
            "[CV] END bootstrap=False, criterion=log_loss, max_features=sqrt, min_samples_leaf=4, min_samples_split=2, n_estimators=200; total time=   0.2s\n",
            "[CV] END bootstrap=False, criterion=log_loss, max_features=sqrt, min_samples_leaf=4, min_samples_split=2, n_estimators=200; total time=   0.3s\n",
            "[CV] END bootstrap=False, criterion=log_loss, max_features=sqrt, min_samples_leaf=4, min_samples_split=5, n_estimators=50; total time=   0.0s\n",
            "[CV] END bootstrap=False, criterion=log_loss, max_features=sqrt, min_samples_leaf=4, min_samples_split=5, n_estimators=50; total time=   0.0s\n",
            "[CV] END bootstrap=False, criterion=log_loss, max_features=sqrt, min_samples_leaf=4, min_samples_split=5, n_estimators=50; total time=   0.0s\n",
            "[CV] END bootstrap=False, criterion=log_loss, max_features=sqrt, min_samples_leaf=4, min_samples_split=5, n_estimators=50; total time=   0.0s\n",
            "[CV] END bootstrap=False, criterion=log_loss, max_features=sqrt, min_samples_leaf=4, min_samples_split=5, n_estimators=50; total time=   0.0s\n",
            "[CV] END bootstrap=False, criterion=log_loss, max_features=sqrt, min_samples_leaf=4, min_samples_split=5, n_estimators=100; total time=   0.1s\n",
            "[CV] END bootstrap=False, criterion=log_loss, max_features=sqrt, min_samples_leaf=4, min_samples_split=5, n_estimators=100; total time=   0.1s\n",
            "[CV] END bootstrap=False, criterion=log_loss, max_features=sqrt, min_samples_leaf=4, min_samples_split=5, n_estimators=100; total time=   0.1s\n",
            "[CV] END bootstrap=False, criterion=log_loss, max_features=sqrt, min_samples_leaf=4, min_samples_split=5, n_estimators=100; total time=   0.1s\n",
            "[CV] END bootstrap=False, criterion=log_loss, max_features=sqrt, min_samples_leaf=4, min_samples_split=5, n_estimators=100; total time=   0.1s\n",
            "[CV] END bootstrap=False, criterion=log_loss, max_features=sqrt, min_samples_leaf=4, min_samples_split=5, n_estimators=200; total time=   0.2s\n",
            "[CV] END bootstrap=False, criterion=log_loss, max_features=sqrt, min_samples_leaf=4, min_samples_split=5, n_estimators=200; total time=   0.2s\n",
            "[CV] END bootstrap=False, criterion=log_loss, max_features=sqrt, min_samples_leaf=4, min_samples_split=5, n_estimators=200; total time=   0.2s\n",
            "[CV] END bootstrap=False, criterion=log_loss, max_features=sqrt, min_samples_leaf=4, min_samples_split=5, n_estimators=200; total time=   0.2s\n",
            "[CV] END bootstrap=False, criterion=log_loss, max_features=sqrt, min_samples_leaf=4, min_samples_split=5, n_estimators=200; total time=   0.2s\n",
            "[CV] END bootstrap=False, criterion=log_loss, max_features=sqrt, min_samples_leaf=4, min_samples_split=10, n_estimators=50; total time=   0.0s\n",
            "[CV] END bootstrap=False, criterion=log_loss, max_features=sqrt, min_samples_leaf=4, min_samples_split=10, n_estimators=50; total time=   0.0s\n",
            "[CV] END bootstrap=False, criterion=log_loss, max_features=sqrt, min_samples_leaf=4, min_samples_split=10, n_estimators=50; total time=   0.0s\n",
            "[CV] END bootstrap=False, criterion=log_loss, max_features=sqrt, min_samples_leaf=4, min_samples_split=10, n_estimators=50; total time=   0.0s\n",
            "[CV] END bootstrap=False, criterion=log_loss, max_features=sqrt, min_samples_leaf=4, min_samples_split=10, n_estimators=50; total time=   0.0s\n",
            "[CV] END bootstrap=False, criterion=log_loss, max_features=sqrt, min_samples_leaf=4, min_samples_split=10, n_estimators=100; total time=   0.1s\n",
            "[CV] END bootstrap=False, criterion=log_loss, max_features=sqrt, min_samples_leaf=4, min_samples_split=10, n_estimators=100; total time=   0.1s\n",
            "[CV] END bootstrap=False, criterion=log_loss, max_features=sqrt, min_samples_leaf=4, min_samples_split=10, n_estimators=100; total time=   0.1s\n",
            "[CV] END bootstrap=False, criterion=log_loss, max_features=sqrt, min_samples_leaf=4, min_samples_split=10, n_estimators=100; total time=   0.1s\n",
            "[CV] END bootstrap=False, criterion=log_loss, max_features=sqrt, min_samples_leaf=4, min_samples_split=10, n_estimators=100; total time=   0.1s\n",
            "[CV] END bootstrap=False, criterion=log_loss, max_features=sqrt, min_samples_leaf=4, min_samples_split=10, n_estimators=200; total time=   0.2s\n",
            "[CV] END bootstrap=False, criterion=log_loss, max_features=sqrt, min_samples_leaf=4, min_samples_split=10, n_estimators=200; total time=   0.2s\n",
            "[CV] END bootstrap=False, criterion=log_loss, max_features=sqrt, min_samples_leaf=4, min_samples_split=10, n_estimators=200; total time=   0.2s\n",
            "[CV] END bootstrap=False, criterion=log_loss, max_features=sqrt, min_samples_leaf=4, min_samples_split=10, n_estimators=200; total time=   0.2s\n",
            "[CV] END bootstrap=False, criterion=log_loss, max_features=sqrt, min_samples_leaf=4, min_samples_split=10, n_estimators=200; total time=   0.2s\n",
            "[CV] END bootstrap=False, criterion=log_loss, max_features=log2, min_samples_leaf=1, min_samples_split=2, n_estimators=50; total time=   0.0s\n",
            "[CV] END bootstrap=False, criterion=log_loss, max_features=log2, min_samples_leaf=1, min_samples_split=2, n_estimators=50; total time=   0.0s\n",
            "[CV] END bootstrap=False, criterion=log_loss, max_features=log2, min_samples_leaf=1, min_samples_split=2, n_estimators=50; total time=   0.0s\n",
            "[CV] END bootstrap=False, criterion=log_loss, max_features=log2, min_samples_leaf=1, min_samples_split=2, n_estimators=50; total time=   0.0s\n",
            "[CV] END bootstrap=False, criterion=log_loss, max_features=log2, min_samples_leaf=1, min_samples_split=2, n_estimators=50; total time=   0.0s\n",
            "[CV] END bootstrap=False, criterion=log_loss, max_features=log2, min_samples_leaf=1, min_samples_split=2, n_estimators=100; total time=   0.2s\n",
            "[CV] END bootstrap=False, criterion=log_loss, max_features=log2, min_samples_leaf=1, min_samples_split=2, n_estimators=100; total time=   0.1s\n",
            "[CV] END bootstrap=False, criterion=log_loss, max_features=log2, min_samples_leaf=1, min_samples_split=2, n_estimators=100; total time=   0.1s\n",
            "[CV] END bootstrap=False, criterion=log_loss, max_features=log2, min_samples_leaf=1, min_samples_split=2, n_estimators=100; total time=   0.1s\n",
            "[CV] END bootstrap=False, criterion=log_loss, max_features=log2, min_samples_leaf=1, min_samples_split=2, n_estimators=100; total time=   0.1s\n",
            "[CV] END bootstrap=False, criterion=log_loss, max_features=log2, min_samples_leaf=1, min_samples_split=2, n_estimators=200; total time=   0.4s\n",
            "[CV] END bootstrap=False, criterion=log_loss, max_features=log2, min_samples_leaf=1, min_samples_split=2, n_estimators=200; total time=   0.4s\n",
            "[CV] END bootstrap=False, criterion=log_loss, max_features=log2, min_samples_leaf=1, min_samples_split=2, n_estimators=200; total time=   0.4s\n",
            "[CV] END bootstrap=False, criterion=log_loss, max_features=log2, min_samples_leaf=1, min_samples_split=2, n_estimators=200; total time=   0.4s\n",
            "[CV] END bootstrap=False, criterion=log_loss, max_features=log2, min_samples_leaf=1, min_samples_split=2, n_estimators=200; total time=   0.4s\n",
            "[CV] END bootstrap=False, criterion=log_loss, max_features=log2, min_samples_leaf=1, min_samples_split=5, n_estimators=50; total time=   0.0s\n",
            "[CV] END bootstrap=False, criterion=log_loss, max_features=log2, min_samples_leaf=1, min_samples_split=5, n_estimators=50; total time=   0.0s\n",
            "[CV] END bootstrap=False, criterion=log_loss, max_features=log2, min_samples_leaf=1, min_samples_split=5, n_estimators=50; total time=   0.0s\n",
            "[CV] END bootstrap=False, criterion=log_loss, max_features=log2, min_samples_leaf=1, min_samples_split=5, n_estimators=50; total time=   0.0s\n",
            "[CV] END bootstrap=False, criterion=log_loss, max_features=log2, min_samples_leaf=1, min_samples_split=5, n_estimators=50; total time=   0.0s\n",
            "[CV] END bootstrap=False, criterion=log_loss, max_features=log2, min_samples_leaf=1, min_samples_split=5, n_estimators=100; total time=   0.1s\n",
            "[CV] END bootstrap=False, criterion=log_loss, max_features=log2, min_samples_leaf=1, min_samples_split=5, n_estimators=100; total time=   0.1s\n",
            "[CV] END bootstrap=False, criterion=log_loss, max_features=log2, min_samples_leaf=1, min_samples_split=5, n_estimators=100; total time=   0.1s\n",
            "[CV] END bootstrap=False, criterion=log_loss, max_features=log2, min_samples_leaf=1, min_samples_split=5, n_estimators=100; total time=   0.1s\n",
            "[CV] END bootstrap=False, criterion=log_loss, max_features=log2, min_samples_leaf=1, min_samples_split=5, n_estimators=100; total time=   0.1s\n",
            "[CV] END bootstrap=False, criterion=log_loss, max_features=log2, min_samples_leaf=1, min_samples_split=5, n_estimators=200; total time=   0.3s\n",
            "[CV] END bootstrap=False, criterion=log_loss, max_features=log2, min_samples_leaf=1, min_samples_split=5, n_estimators=200; total time=   0.3s\n",
            "[CV] END bootstrap=False, criterion=log_loss, max_features=log2, min_samples_leaf=1, min_samples_split=5, n_estimators=200; total time=   0.3s\n",
            "[CV] END bootstrap=False, criterion=log_loss, max_features=log2, min_samples_leaf=1, min_samples_split=5, n_estimators=200; total time=   0.3s\n",
            "[CV] END bootstrap=False, criterion=log_loss, max_features=log2, min_samples_leaf=1, min_samples_split=5, n_estimators=200; total time=   0.3s\n",
            "[CV] END bootstrap=False, criterion=log_loss, max_features=log2, min_samples_leaf=1, min_samples_split=10, n_estimators=50; total time=   0.0s\n",
            "[CV] END bootstrap=False, criterion=log_loss, max_features=log2, min_samples_leaf=1, min_samples_split=10, n_estimators=50; total time=   0.0s\n",
            "[CV] END bootstrap=False, criterion=log_loss, max_features=log2, min_samples_leaf=1, min_samples_split=10, n_estimators=50; total time=   0.0s\n",
            "[CV] END bootstrap=False, criterion=log_loss, max_features=log2, min_samples_leaf=1, min_samples_split=10, n_estimators=50; total time=   0.0s\n",
            "[CV] END bootstrap=False, criterion=log_loss, max_features=log2, min_samples_leaf=1, min_samples_split=10, n_estimators=50; total time=   0.0s\n",
            "[CV] END bootstrap=False, criterion=log_loss, max_features=log2, min_samples_leaf=1, min_samples_split=10, n_estimators=100; total time=   0.1s\n",
            "[CV] END bootstrap=False, criterion=log_loss, max_features=log2, min_samples_leaf=1, min_samples_split=10, n_estimators=100; total time=   0.1s\n",
            "[CV] END bootstrap=False, criterion=log_loss, max_features=log2, min_samples_leaf=1, min_samples_split=10, n_estimators=100; total time=   0.1s\n",
            "[CV] END bootstrap=False, criterion=log_loss, max_features=log2, min_samples_leaf=1, min_samples_split=10, n_estimators=100; total time=   0.1s\n",
            "[CV] END bootstrap=False, criterion=log_loss, max_features=log2, min_samples_leaf=1, min_samples_split=10, n_estimators=100; total time=   0.1s\n",
            "[CV] END bootstrap=False, criterion=log_loss, max_features=log2, min_samples_leaf=1, min_samples_split=10, n_estimators=200; total time=   0.3s\n",
            "[CV] END bootstrap=False, criterion=log_loss, max_features=log2, min_samples_leaf=1, min_samples_split=10, n_estimators=200; total time=   0.3s\n",
            "[CV] END bootstrap=False, criterion=log_loss, max_features=log2, min_samples_leaf=1, min_samples_split=10, n_estimators=200; total time=   0.3s\n",
            "[CV] END bootstrap=False, criterion=log_loss, max_features=log2, min_samples_leaf=1, min_samples_split=10, n_estimators=200; total time=   0.3s\n",
            "[CV] END bootstrap=False, criterion=log_loss, max_features=log2, min_samples_leaf=1, min_samples_split=10, n_estimators=200; total time=   0.3s\n",
            "[CV] END bootstrap=False, criterion=log_loss, max_features=log2, min_samples_leaf=2, min_samples_split=2, n_estimators=50; total time=   0.0s\n",
            "[CV] END bootstrap=False, criterion=log_loss, max_features=log2, min_samples_leaf=2, min_samples_split=2, n_estimators=50; total time=   0.0s\n",
            "[CV] END bootstrap=False, criterion=log_loss, max_features=log2, min_samples_leaf=2, min_samples_split=2, n_estimators=50; total time=   0.0s\n",
            "[CV] END bootstrap=False, criterion=log_loss, max_features=log2, min_samples_leaf=2, min_samples_split=2, n_estimators=50; total time=   0.0s\n",
            "[CV] END bootstrap=False, criterion=log_loss, max_features=log2, min_samples_leaf=2, min_samples_split=2, n_estimators=50; total time=   0.0s\n",
            "[CV] END bootstrap=False, criterion=log_loss, max_features=log2, min_samples_leaf=2, min_samples_split=2, n_estimators=100; total time=   0.1s\n",
            "[CV] END bootstrap=False, criterion=log_loss, max_features=log2, min_samples_leaf=2, min_samples_split=2, n_estimators=100; total time=   0.1s\n",
            "[CV] END bootstrap=False, criterion=log_loss, max_features=log2, min_samples_leaf=2, min_samples_split=2, n_estimators=100; total time=   0.1s\n",
            "[CV] END bootstrap=False, criterion=log_loss, max_features=log2, min_samples_leaf=2, min_samples_split=2, n_estimators=100; total time=   0.1s\n",
            "[CV] END bootstrap=False, criterion=log_loss, max_features=log2, min_samples_leaf=2, min_samples_split=2, n_estimators=100; total time=   0.1s\n",
            "[CV] END bootstrap=False, criterion=log_loss, max_features=log2, min_samples_leaf=2, min_samples_split=2, n_estimators=200; total time=   0.3s\n",
            "[CV] END bootstrap=False, criterion=log_loss, max_features=log2, min_samples_leaf=2, min_samples_split=2, n_estimators=200; total time=   0.3s\n",
            "[CV] END bootstrap=False, criterion=log_loss, max_features=log2, min_samples_leaf=2, min_samples_split=2, n_estimators=200; total time=   0.3s\n",
            "[CV] END bootstrap=False, criterion=log_loss, max_features=log2, min_samples_leaf=2, min_samples_split=2, n_estimators=200; total time=   0.3s\n",
            "[CV] END bootstrap=False, criterion=log_loss, max_features=log2, min_samples_leaf=2, min_samples_split=2, n_estimators=200; total time=   0.3s\n",
            "[CV] END bootstrap=False, criterion=log_loss, max_features=log2, min_samples_leaf=2, min_samples_split=5, n_estimators=50; total time=   0.0s\n",
            "[CV] END bootstrap=False, criterion=log_loss, max_features=log2, min_samples_leaf=2, min_samples_split=5, n_estimators=50; total time=   0.0s\n",
            "[CV] END bootstrap=False, criterion=log_loss, max_features=log2, min_samples_leaf=2, min_samples_split=5, n_estimators=50; total time=   0.0s\n",
            "[CV] END bootstrap=False, criterion=log_loss, max_features=log2, min_samples_leaf=2, min_samples_split=5, n_estimators=50; total time=   0.0s\n",
            "[CV] END bootstrap=False, criterion=log_loss, max_features=log2, min_samples_leaf=2, min_samples_split=5, n_estimators=50; total time=   0.0s\n",
            "[CV] END bootstrap=False, criterion=log_loss, max_features=log2, min_samples_leaf=2, min_samples_split=5, n_estimators=100; total time=   0.1s\n",
            "[CV] END bootstrap=False, criterion=log_loss, max_features=log2, min_samples_leaf=2, min_samples_split=5, n_estimators=100; total time=   0.1s\n",
            "[CV] END bootstrap=False, criterion=log_loss, max_features=log2, min_samples_leaf=2, min_samples_split=5, n_estimators=100; total time=   0.1s\n",
            "[CV] END bootstrap=False, criterion=log_loss, max_features=log2, min_samples_leaf=2, min_samples_split=5, n_estimators=100; total time=   0.1s\n",
            "[CV] END bootstrap=False, criterion=log_loss, max_features=log2, min_samples_leaf=2, min_samples_split=5, n_estimators=100; total time=   0.1s\n",
            "[CV] END bootstrap=False, criterion=log_loss, max_features=log2, min_samples_leaf=2, min_samples_split=5, n_estimators=200; total time=   0.3s\n",
            "[CV] END bootstrap=False, criterion=log_loss, max_features=log2, min_samples_leaf=2, min_samples_split=5, n_estimators=200; total time=   0.3s\n",
            "[CV] END bootstrap=False, criterion=log_loss, max_features=log2, min_samples_leaf=2, min_samples_split=5, n_estimators=200; total time=   0.3s\n",
            "[CV] END bootstrap=False, criterion=log_loss, max_features=log2, min_samples_leaf=2, min_samples_split=5, n_estimators=200; total time=   0.3s\n",
            "[CV] END bootstrap=False, criterion=log_loss, max_features=log2, min_samples_leaf=2, min_samples_split=5, n_estimators=200; total time=   0.3s\n",
            "[CV] END bootstrap=False, criterion=log_loss, max_features=log2, min_samples_leaf=2, min_samples_split=10, n_estimators=50; total time=   0.0s\n",
            "[CV] END bootstrap=False, criterion=log_loss, max_features=log2, min_samples_leaf=2, min_samples_split=10, n_estimators=50; total time=   0.0s\n",
            "[CV] END bootstrap=False, criterion=log_loss, max_features=log2, min_samples_leaf=2, min_samples_split=10, n_estimators=50; total time=   0.0s\n",
            "[CV] END bootstrap=False, criterion=log_loss, max_features=log2, min_samples_leaf=2, min_samples_split=10, n_estimators=50; total time=   0.0s\n",
            "[CV] END bootstrap=False, criterion=log_loss, max_features=log2, min_samples_leaf=2, min_samples_split=10, n_estimators=50; total time=   0.0s\n",
            "[CV] END bootstrap=False, criterion=log_loss, max_features=log2, min_samples_leaf=2, min_samples_split=10, n_estimators=100; total time=   0.1s\n",
            "[CV] END bootstrap=False, criterion=log_loss, max_features=log2, min_samples_leaf=2, min_samples_split=10, n_estimators=100; total time=   0.1s\n",
            "[CV] END bootstrap=False, criterion=log_loss, max_features=log2, min_samples_leaf=2, min_samples_split=10, n_estimators=100; total time=   0.1s\n",
            "[CV] END bootstrap=False, criterion=log_loss, max_features=log2, min_samples_leaf=2, min_samples_split=10, n_estimators=100; total time=   0.1s\n",
            "[CV] END bootstrap=False, criterion=log_loss, max_features=log2, min_samples_leaf=2, min_samples_split=10, n_estimators=100; total time=   0.1s\n",
            "[CV] END bootstrap=False, criterion=log_loss, max_features=log2, min_samples_leaf=2, min_samples_split=10, n_estimators=200; total time=   0.3s\n",
            "[CV] END bootstrap=False, criterion=log_loss, max_features=log2, min_samples_leaf=2, min_samples_split=10, n_estimators=200; total time=   0.4s\n",
            "[CV] END bootstrap=False, criterion=log_loss, max_features=log2, min_samples_leaf=2, min_samples_split=10, n_estimators=200; total time=   0.3s\n",
            "[CV] END bootstrap=False, criterion=log_loss, max_features=log2, min_samples_leaf=2, min_samples_split=10, n_estimators=200; total time=   0.3s\n",
            "[CV] END bootstrap=False, criterion=log_loss, max_features=log2, min_samples_leaf=2, min_samples_split=10, n_estimators=200; total time=   0.4s\n",
            "[CV] END bootstrap=False, criterion=log_loss, max_features=log2, min_samples_leaf=4, min_samples_split=2, n_estimators=50; total time=   0.1s\n",
            "[CV] END bootstrap=False, criterion=log_loss, max_features=log2, min_samples_leaf=4, min_samples_split=2, n_estimators=50; total time=   0.0s\n",
            "[CV] END bootstrap=False, criterion=log_loss, max_features=log2, min_samples_leaf=4, min_samples_split=2, n_estimators=50; total time=   0.0s\n",
            "[CV] END bootstrap=False, criterion=log_loss, max_features=log2, min_samples_leaf=4, min_samples_split=2, n_estimators=50; total time=   0.0s\n",
            "[CV] END bootstrap=False, criterion=log_loss, max_features=log2, min_samples_leaf=4, min_samples_split=2, n_estimators=50; total time=   0.0s\n",
            "[CV] END bootstrap=False, criterion=log_loss, max_features=log2, min_samples_leaf=4, min_samples_split=2, n_estimators=100; total time=   0.1s\n",
            "[CV] END bootstrap=False, criterion=log_loss, max_features=log2, min_samples_leaf=4, min_samples_split=2, n_estimators=100; total time=   0.1s\n",
            "[CV] END bootstrap=False, criterion=log_loss, max_features=log2, min_samples_leaf=4, min_samples_split=2, n_estimators=100; total time=   0.1s\n",
            "[CV] END bootstrap=False, criterion=log_loss, max_features=log2, min_samples_leaf=4, min_samples_split=2, n_estimators=100; total time=   0.1s\n",
            "[CV] END bootstrap=False, criterion=log_loss, max_features=log2, min_samples_leaf=4, min_samples_split=2, n_estimators=100; total time=   0.1s\n",
            "[CV] END bootstrap=False, criterion=log_loss, max_features=log2, min_samples_leaf=4, min_samples_split=2, n_estimators=200; total time=   0.3s\n",
            "[CV] END bootstrap=False, criterion=log_loss, max_features=log2, min_samples_leaf=4, min_samples_split=2, n_estimators=200; total time=   0.3s\n",
            "[CV] END bootstrap=False, criterion=log_loss, max_features=log2, min_samples_leaf=4, min_samples_split=2, n_estimators=200; total time=   0.4s\n",
            "[CV] END bootstrap=False, criterion=log_loss, max_features=log2, min_samples_leaf=4, min_samples_split=2, n_estimators=200; total time=   0.4s\n",
            "[CV] END bootstrap=False, criterion=log_loss, max_features=log2, min_samples_leaf=4, min_samples_split=2, n_estimators=200; total time=   0.3s\n",
            "[CV] END bootstrap=False, criterion=log_loss, max_features=log2, min_samples_leaf=4, min_samples_split=5, n_estimators=50; total time=   0.0s\n",
            "[CV] END bootstrap=False, criterion=log_loss, max_features=log2, min_samples_leaf=4, min_samples_split=5, n_estimators=50; total time=   0.0s\n",
            "[CV] END bootstrap=False, criterion=log_loss, max_features=log2, min_samples_leaf=4, min_samples_split=5, n_estimators=50; total time=   0.0s\n",
            "[CV] END bootstrap=False, criterion=log_loss, max_features=log2, min_samples_leaf=4, min_samples_split=5, n_estimators=50; total time=   0.0s\n",
            "[CV] END bootstrap=False, criterion=log_loss, max_features=log2, min_samples_leaf=4, min_samples_split=5, n_estimators=50; total time=   0.0s\n",
            "[CV] END bootstrap=False, criterion=log_loss, max_features=log2, min_samples_leaf=4, min_samples_split=5, n_estimators=100; total time=   0.1s\n",
            "[CV] END bootstrap=False, criterion=log_loss, max_features=log2, min_samples_leaf=4, min_samples_split=5, n_estimators=100; total time=   0.1s\n",
            "[CV] END bootstrap=False, criterion=log_loss, max_features=log2, min_samples_leaf=4, min_samples_split=5, n_estimators=100; total time=   0.1s\n",
            "[CV] END bootstrap=False, criterion=log_loss, max_features=log2, min_samples_leaf=4, min_samples_split=5, n_estimators=100; total time=   0.1s\n",
            "[CV] END bootstrap=False, criterion=log_loss, max_features=log2, min_samples_leaf=4, min_samples_split=5, n_estimators=100; total time=   0.1s\n",
            "[CV] END bootstrap=False, criterion=log_loss, max_features=log2, min_samples_leaf=4, min_samples_split=5, n_estimators=200; total time=   0.2s\n",
            "[CV] END bootstrap=False, criterion=log_loss, max_features=log2, min_samples_leaf=4, min_samples_split=5, n_estimators=200; total time=   0.2s\n",
            "[CV] END bootstrap=False, criterion=log_loss, max_features=log2, min_samples_leaf=4, min_samples_split=5, n_estimators=200; total time=   0.2s\n",
            "[CV] END bootstrap=False, criterion=log_loss, max_features=log2, min_samples_leaf=4, min_samples_split=5, n_estimators=200; total time=   0.2s\n",
            "[CV] END bootstrap=False, criterion=log_loss, max_features=log2, min_samples_leaf=4, min_samples_split=5, n_estimators=200; total time=   0.2s\n",
            "[CV] END bootstrap=False, criterion=log_loss, max_features=log2, min_samples_leaf=4, min_samples_split=10, n_estimators=50; total time=   0.0s\n",
            "[CV] END bootstrap=False, criterion=log_loss, max_features=log2, min_samples_leaf=4, min_samples_split=10, n_estimators=50; total time=   0.0s\n",
            "[CV] END bootstrap=False, criterion=log_loss, max_features=log2, min_samples_leaf=4, min_samples_split=10, n_estimators=50; total time=   0.0s\n",
            "[CV] END bootstrap=False, criterion=log_loss, max_features=log2, min_samples_leaf=4, min_samples_split=10, n_estimators=50; total time=   0.0s\n",
            "[CV] END bootstrap=False, criterion=log_loss, max_features=log2, min_samples_leaf=4, min_samples_split=10, n_estimators=50; total time=   0.0s\n",
            "[CV] END bootstrap=False, criterion=log_loss, max_features=log2, min_samples_leaf=4, min_samples_split=10, n_estimators=100; total time=   0.1s\n",
            "[CV] END bootstrap=False, criterion=log_loss, max_features=log2, min_samples_leaf=4, min_samples_split=10, n_estimators=100; total time=   0.1s\n",
            "[CV] END bootstrap=False, criterion=log_loss, max_features=log2, min_samples_leaf=4, min_samples_split=10, n_estimators=100; total time=   0.1s\n",
            "[CV] END bootstrap=False, criterion=log_loss, max_features=log2, min_samples_leaf=4, min_samples_split=10, n_estimators=100; total time=   0.1s\n",
            "[CV] END bootstrap=False, criterion=log_loss, max_features=log2, min_samples_leaf=4, min_samples_split=10, n_estimators=100; total time=   0.1s\n",
            "[CV] END bootstrap=False, criterion=log_loss, max_features=log2, min_samples_leaf=4, min_samples_split=10, n_estimators=200; total time=   0.2s\n",
            "[CV] END bootstrap=False, criterion=log_loss, max_features=log2, min_samples_leaf=4, min_samples_split=10, n_estimators=200; total time=   0.2s\n",
            "[CV] END bootstrap=False, criterion=log_loss, max_features=log2, min_samples_leaf=4, min_samples_split=10, n_estimators=200; total time=   0.2s\n",
            "[CV] END bootstrap=False, criterion=log_loss, max_features=log2, min_samples_leaf=4, min_samples_split=10, n_estimators=200; total time=   0.2s\n",
            "[CV] END bootstrap=False, criterion=log_loss, max_features=log2, min_samples_leaf=4, min_samples_split=10, n_estimators=200; total time=   0.2s\n",
            "[CV] END bootstrap=True, criterion=gini, max_features=sqrt, min_samples_leaf=1, min_samples_split=2, n_estimators=50; total time=   0.0s\n",
            "[CV] END bootstrap=True, criterion=gini, max_features=sqrt, min_samples_leaf=1, min_samples_split=2, n_estimators=50; total time=   0.0s\n",
            "[CV] END bootstrap=True, criterion=gini, max_features=sqrt, min_samples_leaf=1, min_samples_split=2, n_estimators=50; total time=   0.0s\n",
            "[CV] END bootstrap=True, criterion=gini, max_features=sqrt, min_samples_leaf=1, min_samples_split=2, n_estimators=50; total time=   0.0s\n",
            "[CV] END bootstrap=True, criterion=gini, max_features=sqrt, min_samples_leaf=1, min_samples_split=2, n_estimators=50; total time=   0.0s\n",
            "[CV] END bootstrap=True, criterion=gini, max_features=sqrt, min_samples_leaf=1, min_samples_split=2, n_estimators=100; total time=   0.1s\n",
            "[CV] END bootstrap=True, criterion=gini, max_features=sqrt, min_samples_leaf=1, min_samples_split=2, n_estimators=100; total time=   0.2s\n",
            "[CV] END bootstrap=True, criterion=gini, max_features=sqrt, min_samples_leaf=1, min_samples_split=2, n_estimators=100; total time=   0.1s\n",
            "[CV] END bootstrap=True, criterion=gini, max_features=sqrt, min_samples_leaf=1, min_samples_split=2, n_estimators=100; total time=   0.1s\n",
            "[CV] END bootstrap=True, criterion=gini, max_features=sqrt, min_samples_leaf=1, min_samples_split=2, n_estimators=100; total time=   0.1s\n",
            "[CV] END bootstrap=True, criterion=gini, max_features=sqrt, min_samples_leaf=1, min_samples_split=2, n_estimators=200; total time=   0.3s\n",
            "[CV] END bootstrap=True, criterion=gini, max_features=sqrt, min_samples_leaf=1, min_samples_split=2, n_estimators=200; total time=   0.3s\n",
            "[CV] END bootstrap=True, criterion=gini, max_features=sqrt, min_samples_leaf=1, min_samples_split=2, n_estimators=200; total time=   0.3s\n",
            "[CV] END bootstrap=True, criterion=gini, max_features=sqrt, min_samples_leaf=1, min_samples_split=2, n_estimators=200; total time=   0.3s\n",
            "[CV] END bootstrap=True, criterion=gini, max_features=sqrt, min_samples_leaf=1, min_samples_split=2, n_estimators=200; total time=   0.3s\n",
            "[CV] END bootstrap=True, criterion=gini, max_features=sqrt, min_samples_leaf=1, min_samples_split=5, n_estimators=50; total time=   0.0s\n",
            "[CV] END bootstrap=True, criterion=gini, max_features=sqrt, min_samples_leaf=1, min_samples_split=5, n_estimators=50; total time=   0.0s\n",
            "[CV] END bootstrap=True, criterion=gini, max_features=sqrt, min_samples_leaf=1, min_samples_split=5, n_estimators=50; total time=   0.0s\n",
            "[CV] END bootstrap=True, criterion=gini, max_features=sqrt, min_samples_leaf=1, min_samples_split=5, n_estimators=50; total time=   0.0s\n",
            "[CV] END bootstrap=True, criterion=gini, max_features=sqrt, min_samples_leaf=1, min_samples_split=5, n_estimators=50; total time=   0.0s\n",
            "[CV] END bootstrap=True, criterion=gini, max_features=sqrt, min_samples_leaf=1, min_samples_split=5, n_estimators=100; total time=   0.1s\n",
            "[CV] END bootstrap=True, criterion=gini, max_features=sqrt, min_samples_leaf=1, min_samples_split=5, n_estimators=100; total time=   0.1s\n",
            "[CV] END bootstrap=True, criterion=gini, max_features=sqrt, min_samples_leaf=1, min_samples_split=5, n_estimators=100; total time=   0.1s\n",
            "[CV] END bootstrap=True, criterion=gini, max_features=sqrt, min_samples_leaf=1, min_samples_split=5, n_estimators=100; total time=   0.1s\n",
            "[CV] END bootstrap=True, criterion=gini, max_features=sqrt, min_samples_leaf=1, min_samples_split=5, n_estimators=100; total time=   0.1s\n",
            "[CV] END bootstrap=True, criterion=gini, max_features=sqrt, min_samples_leaf=1, min_samples_split=5, n_estimators=200; total time=   0.3s\n",
            "[CV] END bootstrap=True, criterion=gini, max_features=sqrt, min_samples_leaf=1, min_samples_split=5, n_estimators=200; total time=   0.3s\n",
            "[CV] END bootstrap=True, criterion=gini, max_features=sqrt, min_samples_leaf=1, min_samples_split=5, n_estimators=200; total time=   0.3s\n",
            "[CV] END bootstrap=True, criterion=gini, max_features=sqrt, min_samples_leaf=1, min_samples_split=5, n_estimators=200; total time=   0.3s\n",
            "[CV] END bootstrap=True, criterion=gini, max_features=sqrt, min_samples_leaf=1, min_samples_split=5, n_estimators=200; total time=   0.3s\n",
            "[CV] END bootstrap=True, criterion=gini, max_features=sqrt, min_samples_leaf=1, min_samples_split=10, n_estimators=50; total time=   0.0s\n",
            "[CV] END bootstrap=True, criterion=gini, max_features=sqrt, min_samples_leaf=1, min_samples_split=10, n_estimators=50; total time=   0.0s\n",
            "[CV] END bootstrap=True, criterion=gini, max_features=sqrt, min_samples_leaf=1, min_samples_split=10, n_estimators=50; total time=   0.0s\n",
            "[CV] END bootstrap=True, criterion=gini, max_features=sqrt, min_samples_leaf=1, min_samples_split=10, n_estimators=50; total time=   0.0s\n",
            "[CV] END bootstrap=True, criterion=gini, max_features=sqrt, min_samples_leaf=1, min_samples_split=10, n_estimators=50; total time=   0.0s\n",
            "[CV] END bootstrap=True, criterion=gini, max_features=sqrt, min_samples_leaf=1, min_samples_split=10, n_estimators=100; total time=   0.1s\n",
            "[CV] END bootstrap=True, criterion=gini, max_features=sqrt, min_samples_leaf=1, min_samples_split=10, n_estimators=100; total time=   0.1s\n",
            "[CV] END bootstrap=True, criterion=gini, max_features=sqrt, min_samples_leaf=1, min_samples_split=10, n_estimators=100; total time=   0.1s\n",
            "[CV] END bootstrap=True, criterion=gini, max_features=sqrt, min_samples_leaf=1, min_samples_split=10, n_estimators=100; total time=   0.1s\n",
            "[CV] END bootstrap=True, criterion=gini, max_features=sqrt, min_samples_leaf=1, min_samples_split=10, n_estimators=100; total time=   0.1s\n",
            "[CV] END bootstrap=True, criterion=gini, max_features=sqrt, min_samples_leaf=1, min_samples_split=10, n_estimators=200; total time=   0.3s\n",
            "[CV] END bootstrap=True, criterion=gini, max_features=sqrt, min_samples_leaf=1, min_samples_split=10, n_estimators=200; total time=   0.3s\n",
            "[CV] END bootstrap=True, criterion=gini, max_features=sqrt, min_samples_leaf=1, min_samples_split=10, n_estimators=200; total time=   0.3s\n",
            "[CV] END bootstrap=True, criterion=gini, max_features=sqrt, min_samples_leaf=1, min_samples_split=10, n_estimators=200; total time=   0.3s\n",
            "[CV] END bootstrap=True, criterion=gini, max_features=sqrt, min_samples_leaf=1, min_samples_split=10, n_estimators=200; total time=   0.3s\n",
            "[CV] END bootstrap=True, criterion=gini, max_features=sqrt, min_samples_leaf=2, min_samples_split=2, n_estimators=50; total time=   0.0s\n",
            "[CV] END bootstrap=True, criterion=gini, max_features=sqrt, min_samples_leaf=2, min_samples_split=2, n_estimators=50; total time=   0.0s\n",
            "[CV] END bootstrap=True, criterion=gini, max_features=sqrt, min_samples_leaf=2, min_samples_split=2, n_estimators=50; total time=   0.0s\n",
            "[CV] END bootstrap=True, criterion=gini, max_features=sqrt, min_samples_leaf=2, min_samples_split=2, n_estimators=50; total time=   0.0s\n",
            "[CV] END bootstrap=True, criterion=gini, max_features=sqrt, min_samples_leaf=2, min_samples_split=2, n_estimators=50; total time=   0.0s\n",
            "[CV] END bootstrap=True, criterion=gini, max_features=sqrt, min_samples_leaf=2, min_samples_split=2, n_estimators=100; total time=   0.1s\n",
            "[CV] END bootstrap=True, criterion=gini, max_features=sqrt, min_samples_leaf=2, min_samples_split=2, n_estimators=100; total time=   0.1s\n",
            "[CV] END bootstrap=True, criterion=gini, max_features=sqrt, min_samples_leaf=2, min_samples_split=2, n_estimators=100; total time=   0.1s\n",
            "[CV] END bootstrap=True, criterion=gini, max_features=sqrt, min_samples_leaf=2, min_samples_split=2, n_estimators=100; total time=   0.1s\n",
            "[CV] END bootstrap=True, criterion=gini, max_features=sqrt, min_samples_leaf=2, min_samples_split=2, n_estimators=100; total time=   0.1s\n",
            "[CV] END bootstrap=True, criterion=gini, max_features=sqrt, min_samples_leaf=2, min_samples_split=2, n_estimators=200; total time=   0.3s\n",
            "[CV] END bootstrap=True, criterion=gini, max_features=sqrt, min_samples_leaf=2, min_samples_split=2, n_estimators=200; total time=   0.3s\n",
            "[CV] END bootstrap=True, criterion=gini, max_features=sqrt, min_samples_leaf=2, min_samples_split=2, n_estimators=200; total time=   0.3s\n",
            "[CV] END bootstrap=True, criterion=gini, max_features=sqrt, min_samples_leaf=2, min_samples_split=2, n_estimators=200; total time=   0.3s\n",
            "[CV] END bootstrap=True, criterion=gini, max_features=sqrt, min_samples_leaf=2, min_samples_split=2, n_estimators=200; total time=   0.3s\n",
            "[CV] END bootstrap=True, criterion=gini, max_features=sqrt, min_samples_leaf=2, min_samples_split=5, n_estimators=50; total time=   0.0s\n",
            "[CV] END bootstrap=True, criterion=gini, max_features=sqrt, min_samples_leaf=2, min_samples_split=5, n_estimators=50; total time=   0.0s\n",
            "[CV] END bootstrap=True, criterion=gini, max_features=sqrt, min_samples_leaf=2, min_samples_split=5, n_estimators=50; total time=   0.0s\n",
            "[CV] END bootstrap=True, criterion=gini, max_features=sqrt, min_samples_leaf=2, min_samples_split=5, n_estimators=50; total time=   0.0s\n",
            "[CV] END bootstrap=True, criterion=gini, max_features=sqrt, min_samples_leaf=2, min_samples_split=5, n_estimators=50; total time=   0.0s\n",
            "[CV] END bootstrap=True, criterion=gini, max_features=sqrt, min_samples_leaf=2, min_samples_split=5, n_estimators=100; total time=   0.1s\n",
            "[CV] END bootstrap=True, criterion=gini, max_features=sqrt, min_samples_leaf=2, min_samples_split=5, n_estimators=100; total time=   0.1s\n",
            "[CV] END bootstrap=True, criterion=gini, max_features=sqrt, min_samples_leaf=2, min_samples_split=5, n_estimators=100; total time=   0.1s\n",
            "[CV] END bootstrap=True, criterion=gini, max_features=sqrt, min_samples_leaf=2, min_samples_split=5, n_estimators=100; total time=   0.1s\n",
            "[CV] END bootstrap=True, criterion=gini, max_features=sqrt, min_samples_leaf=2, min_samples_split=5, n_estimators=100; total time=   0.1s\n",
            "[CV] END bootstrap=True, criterion=gini, max_features=sqrt, min_samples_leaf=2, min_samples_split=5, n_estimators=200; total time=   0.3s\n",
            "[CV] END bootstrap=True, criterion=gini, max_features=sqrt, min_samples_leaf=2, min_samples_split=5, n_estimators=200; total time=   0.3s\n",
            "[CV] END bootstrap=True, criterion=gini, max_features=sqrt, min_samples_leaf=2, min_samples_split=5, n_estimators=200; total time=   0.3s\n",
            "[CV] END bootstrap=True, criterion=gini, max_features=sqrt, min_samples_leaf=2, min_samples_split=5, n_estimators=200; total time=   0.3s\n",
            "[CV] END bootstrap=True, criterion=gini, max_features=sqrt, min_samples_leaf=2, min_samples_split=5, n_estimators=200; total time=   0.3s\n",
            "[CV] END bootstrap=True, criterion=gini, max_features=sqrt, min_samples_leaf=2, min_samples_split=10, n_estimators=50; total time=   0.0s\n",
            "[CV] END bootstrap=True, criterion=gini, max_features=sqrt, min_samples_leaf=2, min_samples_split=10, n_estimators=50; total time=   0.0s\n",
            "[CV] END bootstrap=True, criterion=gini, max_features=sqrt, min_samples_leaf=2, min_samples_split=10, n_estimators=50; total time=   0.0s\n",
            "[CV] END bootstrap=True, criterion=gini, max_features=sqrt, min_samples_leaf=2, min_samples_split=10, n_estimators=50; total time=   0.0s\n",
            "[CV] END bootstrap=True, criterion=gini, max_features=sqrt, min_samples_leaf=2, min_samples_split=10, n_estimators=50; total time=   0.0s\n",
            "[CV] END bootstrap=True, criterion=gini, max_features=sqrt, min_samples_leaf=2, min_samples_split=10, n_estimators=100; total time=   0.1s\n",
            "[CV] END bootstrap=True, criterion=gini, max_features=sqrt, min_samples_leaf=2, min_samples_split=10, n_estimators=100; total time=   0.1s\n",
            "[CV] END bootstrap=True, criterion=gini, max_features=sqrt, min_samples_leaf=2, min_samples_split=10, n_estimators=100; total time=   0.1s\n",
            "[CV] END bootstrap=True, criterion=gini, max_features=sqrt, min_samples_leaf=2, min_samples_split=10, n_estimators=100; total time=   0.1s\n",
            "[CV] END bootstrap=True, criterion=gini, max_features=sqrt, min_samples_leaf=2, min_samples_split=10, n_estimators=100; total time=   0.1s\n",
            "[CV] END bootstrap=True, criterion=gini, max_features=sqrt, min_samples_leaf=2, min_samples_split=10, n_estimators=200; total time=   0.3s\n",
            "[CV] END bootstrap=True, criterion=gini, max_features=sqrt, min_samples_leaf=2, min_samples_split=10, n_estimators=200; total time=   0.2s\n",
            "[CV] END bootstrap=True, criterion=gini, max_features=sqrt, min_samples_leaf=2, min_samples_split=10, n_estimators=200; total time=   0.2s\n",
            "[CV] END bootstrap=True, criterion=gini, max_features=sqrt, min_samples_leaf=2, min_samples_split=10, n_estimators=200; total time=   0.2s\n",
            "[CV] END bootstrap=True, criterion=gini, max_features=sqrt, min_samples_leaf=2, min_samples_split=10, n_estimators=200; total time=   0.2s\n",
            "[CV] END bootstrap=True, criterion=gini, max_features=sqrt, min_samples_leaf=4, min_samples_split=2, n_estimators=50; total time=   0.0s\n",
            "[CV] END bootstrap=True, criterion=gini, max_features=sqrt, min_samples_leaf=4, min_samples_split=2, n_estimators=50; total time=   0.0s\n",
            "[CV] END bootstrap=True, criterion=gini, max_features=sqrt, min_samples_leaf=4, min_samples_split=2, n_estimators=50; total time=   0.0s\n",
            "[CV] END bootstrap=True, criterion=gini, max_features=sqrt, min_samples_leaf=4, min_samples_split=2, n_estimators=50; total time=   0.0s\n",
            "[CV] END bootstrap=True, criterion=gini, max_features=sqrt, min_samples_leaf=4, min_samples_split=2, n_estimators=50; total time=   0.0s\n",
            "[CV] END bootstrap=True, criterion=gini, max_features=sqrt, min_samples_leaf=4, min_samples_split=2, n_estimators=100; total time=   0.1s\n",
            "[CV] END bootstrap=True, criterion=gini, max_features=sqrt, min_samples_leaf=4, min_samples_split=2, n_estimators=100; total time=   0.1s\n",
            "[CV] END bootstrap=True, criterion=gini, max_features=sqrt, min_samples_leaf=4, min_samples_split=2, n_estimators=100; total time=   0.1s\n",
            "[CV] END bootstrap=True, criterion=gini, max_features=sqrt, min_samples_leaf=4, min_samples_split=2, n_estimators=100; total time=   0.1s\n",
            "[CV] END bootstrap=True, criterion=gini, max_features=sqrt, min_samples_leaf=4, min_samples_split=2, n_estimators=100; total time=   0.1s\n",
            "[CV] END bootstrap=True, criterion=gini, max_features=sqrt, min_samples_leaf=4, min_samples_split=2, n_estimators=200; total time=   0.2s\n",
            "[CV] END bootstrap=True, criterion=gini, max_features=sqrt, min_samples_leaf=4, min_samples_split=2, n_estimators=200; total time=   0.2s\n",
            "[CV] END bootstrap=True, criterion=gini, max_features=sqrt, min_samples_leaf=4, min_samples_split=2, n_estimators=200; total time=   0.2s\n",
            "[CV] END bootstrap=True, criterion=gini, max_features=sqrt, min_samples_leaf=4, min_samples_split=2, n_estimators=200; total time=   0.2s\n",
            "[CV] END bootstrap=True, criterion=gini, max_features=sqrt, min_samples_leaf=4, min_samples_split=2, n_estimators=200; total time=   0.2s\n",
            "[CV] END bootstrap=True, criterion=gini, max_features=sqrt, min_samples_leaf=4, min_samples_split=5, n_estimators=50; total time=   0.0s\n",
            "[CV] END bootstrap=True, criterion=gini, max_features=sqrt, min_samples_leaf=4, min_samples_split=5, n_estimators=50; total time=   0.0s\n",
            "[CV] END bootstrap=True, criterion=gini, max_features=sqrt, min_samples_leaf=4, min_samples_split=5, n_estimators=50; total time=   0.0s\n",
            "[CV] END bootstrap=True, criterion=gini, max_features=sqrt, min_samples_leaf=4, min_samples_split=5, n_estimators=50; total time=   0.0s\n",
            "[CV] END bootstrap=True, criterion=gini, max_features=sqrt, min_samples_leaf=4, min_samples_split=5, n_estimators=50; total time=   0.0s\n",
            "[CV] END bootstrap=True, criterion=gini, max_features=sqrt, min_samples_leaf=4, min_samples_split=5, n_estimators=100; total time=   0.1s\n",
            "[CV] END bootstrap=True, criterion=gini, max_features=sqrt, min_samples_leaf=4, min_samples_split=5, n_estimators=100; total time=   0.1s\n",
            "[CV] END bootstrap=True, criterion=gini, max_features=sqrt, min_samples_leaf=4, min_samples_split=5, n_estimators=100; total time=   0.1s\n",
            "[CV] END bootstrap=True, criterion=gini, max_features=sqrt, min_samples_leaf=4, min_samples_split=5, n_estimators=100; total time=   0.1s\n",
            "[CV] END bootstrap=True, criterion=gini, max_features=sqrt, min_samples_leaf=4, min_samples_split=5, n_estimators=100; total time=   0.1s\n",
            "[CV] END bootstrap=True, criterion=gini, max_features=sqrt, min_samples_leaf=4, min_samples_split=5, n_estimators=200; total time=   0.2s\n",
            "[CV] END bootstrap=True, criterion=gini, max_features=sqrt, min_samples_leaf=4, min_samples_split=5, n_estimators=200; total time=   0.2s\n",
            "[CV] END bootstrap=True, criterion=gini, max_features=sqrt, min_samples_leaf=4, min_samples_split=5, n_estimators=200; total time=   0.2s\n",
            "[CV] END bootstrap=True, criterion=gini, max_features=sqrt, min_samples_leaf=4, min_samples_split=5, n_estimators=200; total time=   0.2s\n",
            "[CV] END bootstrap=True, criterion=gini, max_features=sqrt, min_samples_leaf=4, min_samples_split=5, n_estimators=200; total time=   0.2s\n",
            "[CV] END bootstrap=True, criterion=gini, max_features=sqrt, min_samples_leaf=4, min_samples_split=10, n_estimators=50; total time=   0.0s\n",
            "[CV] END bootstrap=True, criterion=gini, max_features=sqrt, min_samples_leaf=4, min_samples_split=10, n_estimators=50; total time=   0.0s\n",
            "[CV] END bootstrap=True, criterion=gini, max_features=sqrt, min_samples_leaf=4, min_samples_split=10, n_estimators=50; total time=   0.0s\n",
            "[CV] END bootstrap=True, criterion=gini, max_features=sqrt, min_samples_leaf=4, min_samples_split=10, n_estimators=50; total time=   0.0s\n",
            "[CV] END bootstrap=True, criterion=gini, max_features=sqrt, min_samples_leaf=4, min_samples_split=10, n_estimators=50; total time=   0.0s\n",
            "[CV] END bootstrap=True, criterion=gini, max_features=sqrt, min_samples_leaf=4, min_samples_split=10, n_estimators=100; total time=   0.1s\n",
            "[CV] END bootstrap=True, criterion=gini, max_features=sqrt, min_samples_leaf=4, min_samples_split=10, n_estimators=100; total time=   0.1s\n",
            "[CV] END bootstrap=True, criterion=gini, max_features=sqrt, min_samples_leaf=4, min_samples_split=10, n_estimators=100; total time=   0.1s\n",
            "[CV] END bootstrap=True, criterion=gini, max_features=sqrt, min_samples_leaf=4, min_samples_split=10, n_estimators=100; total time=   0.1s\n",
            "[CV] END bootstrap=True, criterion=gini, max_features=sqrt, min_samples_leaf=4, min_samples_split=10, n_estimators=100; total time=   0.1s\n",
            "[CV] END bootstrap=True, criterion=gini, max_features=sqrt, min_samples_leaf=4, min_samples_split=10, n_estimators=200; total time=   0.2s\n",
            "[CV] END bootstrap=True, criterion=gini, max_features=sqrt, min_samples_leaf=4, min_samples_split=10, n_estimators=200; total time=   0.2s\n",
            "[CV] END bootstrap=True, criterion=gini, max_features=sqrt, min_samples_leaf=4, min_samples_split=10, n_estimators=200; total time=   0.2s\n",
            "[CV] END bootstrap=True, criterion=gini, max_features=sqrt, min_samples_leaf=4, min_samples_split=10, n_estimators=200; total time=   0.2s\n",
            "[CV] END bootstrap=True, criterion=gini, max_features=sqrt, min_samples_leaf=4, min_samples_split=10, n_estimators=200; total time=   0.2s\n",
            "[CV] END bootstrap=True, criterion=gini, max_features=log2, min_samples_leaf=1, min_samples_split=2, n_estimators=50; total time=   0.0s\n",
            "[CV] END bootstrap=True, criterion=gini, max_features=log2, min_samples_leaf=1, min_samples_split=2, n_estimators=50; total time=   0.0s\n",
            "[CV] END bootstrap=True, criterion=gini, max_features=log2, min_samples_leaf=1, min_samples_split=2, n_estimators=50; total time=   0.0s\n",
            "[CV] END bootstrap=True, criterion=gini, max_features=log2, min_samples_leaf=1, min_samples_split=2, n_estimators=50; total time=   0.0s\n",
            "[CV] END bootstrap=True, criterion=gini, max_features=log2, min_samples_leaf=1, min_samples_split=2, n_estimators=50; total time=   0.0s\n",
            "[CV] END bootstrap=True, criterion=gini, max_features=log2, min_samples_leaf=1, min_samples_split=2, n_estimators=100; total time=   0.1s\n",
            "[CV] END bootstrap=True, criterion=gini, max_features=log2, min_samples_leaf=1, min_samples_split=2, n_estimators=100; total time=   0.1s\n",
            "[CV] END bootstrap=True, criterion=gini, max_features=log2, min_samples_leaf=1, min_samples_split=2, n_estimators=100; total time=   0.1s\n",
            "[CV] END bootstrap=True, criterion=gini, max_features=log2, min_samples_leaf=1, min_samples_split=2, n_estimators=100; total time=   0.1s\n",
            "[CV] END bootstrap=True, criterion=gini, max_features=log2, min_samples_leaf=1, min_samples_split=2, n_estimators=100; total time=   0.1s\n",
            "[CV] END bootstrap=True, criterion=gini, max_features=log2, min_samples_leaf=1, min_samples_split=2, n_estimators=200; total time=   0.3s\n",
            "[CV] END bootstrap=True, criterion=gini, max_features=log2, min_samples_leaf=1, min_samples_split=2, n_estimators=200; total time=   0.4s\n",
            "[CV] END bootstrap=True, criterion=gini, max_features=log2, min_samples_leaf=1, min_samples_split=2, n_estimators=200; total time=   0.3s\n",
            "[CV] END bootstrap=True, criterion=gini, max_features=log2, min_samples_leaf=1, min_samples_split=2, n_estimators=200; total time=   0.3s\n",
            "[CV] END bootstrap=True, criterion=gini, max_features=log2, min_samples_leaf=1, min_samples_split=2, n_estimators=200; total time=   0.3s\n",
            "[CV] END bootstrap=True, criterion=gini, max_features=log2, min_samples_leaf=1, min_samples_split=5, n_estimators=50; total time=   0.0s\n",
            "[CV] END bootstrap=True, criterion=gini, max_features=log2, min_samples_leaf=1, min_samples_split=5, n_estimators=50; total time=   0.0s\n",
            "[CV] END bootstrap=True, criterion=gini, max_features=log2, min_samples_leaf=1, min_samples_split=5, n_estimators=50; total time=   0.0s\n",
            "[CV] END bootstrap=True, criterion=gini, max_features=log2, min_samples_leaf=1, min_samples_split=5, n_estimators=50; total time=   0.0s\n",
            "[CV] END bootstrap=True, criterion=gini, max_features=log2, min_samples_leaf=1, min_samples_split=5, n_estimators=50; total time=   0.0s\n",
            "[CV] END bootstrap=True, criterion=gini, max_features=log2, min_samples_leaf=1, min_samples_split=5, n_estimators=100; total time=   0.1s\n",
            "[CV] END bootstrap=True, criterion=gini, max_features=log2, min_samples_leaf=1, min_samples_split=5, n_estimators=100; total time=   0.1s\n",
            "[CV] END bootstrap=True, criterion=gini, max_features=log2, min_samples_leaf=1, min_samples_split=5, n_estimators=100; total time=   0.1s\n",
            "[CV] END bootstrap=True, criterion=gini, max_features=log2, min_samples_leaf=1, min_samples_split=5, n_estimators=100; total time=   0.1s\n",
            "[CV] END bootstrap=True, criterion=gini, max_features=log2, min_samples_leaf=1, min_samples_split=5, n_estimators=100; total time=   0.1s\n",
            "[CV] END bootstrap=True, criterion=gini, max_features=log2, min_samples_leaf=1, min_samples_split=5, n_estimators=200; total time=   0.3s\n",
            "[CV] END bootstrap=True, criterion=gini, max_features=log2, min_samples_leaf=1, min_samples_split=5, n_estimators=200; total time=   0.3s\n",
            "[CV] END bootstrap=True, criterion=gini, max_features=log2, min_samples_leaf=1, min_samples_split=5, n_estimators=200; total time=   0.3s\n",
            "[CV] END bootstrap=True, criterion=gini, max_features=log2, min_samples_leaf=1, min_samples_split=5, n_estimators=200; total time=   0.3s\n",
            "[CV] END bootstrap=True, criterion=gini, max_features=log2, min_samples_leaf=1, min_samples_split=5, n_estimators=200; total time=   0.3s\n",
            "[CV] END bootstrap=True, criterion=gini, max_features=log2, min_samples_leaf=1, min_samples_split=10, n_estimators=50; total time=   0.0s\n",
            "[CV] END bootstrap=True, criterion=gini, max_features=log2, min_samples_leaf=1, min_samples_split=10, n_estimators=50; total time=   0.0s\n",
            "[CV] END bootstrap=True, criterion=gini, max_features=log2, min_samples_leaf=1, min_samples_split=10, n_estimators=50; total time=   0.0s\n",
            "[CV] END bootstrap=True, criterion=gini, max_features=log2, min_samples_leaf=1, min_samples_split=10, n_estimators=50; total time=   0.0s\n",
            "[CV] END bootstrap=True, criterion=gini, max_features=log2, min_samples_leaf=1, min_samples_split=10, n_estimators=50; total time=   0.0s\n",
            "[CV] END bootstrap=True, criterion=gini, max_features=log2, min_samples_leaf=1, min_samples_split=10, n_estimators=100; total time=   0.1s\n",
            "[CV] END bootstrap=True, criterion=gini, max_features=log2, min_samples_leaf=1, min_samples_split=10, n_estimators=100; total time=   0.1s\n",
            "[CV] END bootstrap=True, criterion=gini, max_features=log2, min_samples_leaf=1, min_samples_split=10, n_estimators=100; total time=   0.1s\n",
            "[CV] END bootstrap=True, criterion=gini, max_features=log2, min_samples_leaf=1, min_samples_split=10, n_estimators=100; total time=   0.1s\n",
            "[CV] END bootstrap=True, criterion=gini, max_features=log2, min_samples_leaf=1, min_samples_split=10, n_estimators=100; total time=   0.1s\n",
            "[CV] END bootstrap=True, criterion=gini, max_features=log2, min_samples_leaf=1, min_samples_split=10, n_estimators=200; total time=   0.3s\n",
            "[CV] END bootstrap=True, criterion=gini, max_features=log2, min_samples_leaf=1, min_samples_split=10, n_estimators=200; total time=   0.3s\n",
            "[CV] END bootstrap=True, criterion=gini, max_features=log2, min_samples_leaf=1, min_samples_split=10, n_estimators=200; total time=   0.3s\n",
            "[CV] END bootstrap=True, criterion=gini, max_features=log2, min_samples_leaf=1, min_samples_split=10, n_estimators=200; total time=   0.3s\n",
            "[CV] END bootstrap=True, criterion=gini, max_features=log2, min_samples_leaf=1, min_samples_split=10, n_estimators=200; total time=   0.3s\n",
            "[CV] END bootstrap=True, criterion=gini, max_features=log2, min_samples_leaf=2, min_samples_split=2, n_estimators=50; total time=   0.0s\n",
            "[CV] END bootstrap=True, criterion=gini, max_features=log2, min_samples_leaf=2, min_samples_split=2, n_estimators=50; total time=   0.0s\n",
            "[CV] END bootstrap=True, criterion=gini, max_features=log2, min_samples_leaf=2, min_samples_split=2, n_estimators=50; total time=   0.0s\n",
            "[CV] END bootstrap=True, criterion=gini, max_features=log2, min_samples_leaf=2, min_samples_split=2, n_estimators=50; total time=   0.0s\n",
            "[CV] END bootstrap=True, criterion=gini, max_features=log2, min_samples_leaf=2, min_samples_split=2, n_estimators=50; total time=   0.0s\n",
            "[CV] END bootstrap=True, criterion=gini, max_features=log2, min_samples_leaf=2, min_samples_split=2, n_estimators=100; total time=   0.1s\n",
            "[CV] END bootstrap=True, criterion=gini, max_features=log2, min_samples_leaf=2, min_samples_split=2, n_estimators=100; total time=   0.1s\n",
            "[CV] END bootstrap=True, criterion=gini, max_features=log2, min_samples_leaf=2, min_samples_split=2, n_estimators=100; total time=   0.1s\n",
            "[CV] END bootstrap=True, criterion=gini, max_features=log2, min_samples_leaf=2, min_samples_split=2, n_estimators=100; total time=   0.1s\n",
            "[CV] END bootstrap=True, criterion=gini, max_features=log2, min_samples_leaf=2, min_samples_split=2, n_estimators=100; total time=   0.1s\n",
            "[CV] END bootstrap=True, criterion=gini, max_features=log2, min_samples_leaf=2, min_samples_split=2, n_estimators=200; total time=   0.3s\n",
            "[CV] END bootstrap=True, criterion=gini, max_features=log2, min_samples_leaf=2, min_samples_split=2, n_estimators=200; total time=   0.3s\n",
            "[CV] END bootstrap=True, criterion=gini, max_features=log2, min_samples_leaf=2, min_samples_split=2, n_estimators=200; total time=   0.3s\n",
            "[CV] END bootstrap=True, criterion=gini, max_features=log2, min_samples_leaf=2, min_samples_split=2, n_estimators=200; total time=   0.3s\n",
            "[CV] END bootstrap=True, criterion=gini, max_features=log2, min_samples_leaf=2, min_samples_split=2, n_estimators=200; total time=   0.3s\n",
            "[CV] END bootstrap=True, criterion=gini, max_features=log2, min_samples_leaf=2, min_samples_split=5, n_estimators=50; total time=   0.0s\n",
            "[CV] END bootstrap=True, criterion=gini, max_features=log2, min_samples_leaf=2, min_samples_split=5, n_estimators=50; total time=   0.0s\n",
            "[CV] END bootstrap=True, criterion=gini, max_features=log2, min_samples_leaf=2, min_samples_split=5, n_estimators=50; total time=   0.0s\n",
            "[CV] END bootstrap=True, criterion=gini, max_features=log2, min_samples_leaf=2, min_samples_split=5, n_estimators=50; total time=   0.0s\n",
            "[CV] END bootstrap=True, criterion=gini, max_features=log2, min_samples_leaf=2, min_samples_split=5, n_estimators=50; total time=   0.0s\n",
            "[CV] END bootstrap=True, criterion=gini, max_features=log2, min_samples_leaf=2, min_samples_split=5, n_estimators=100; total time=   0.1s\n",
            "[CV] END bootstrap=True, criterion=gini, max_features=log2, min_samples_leaf=2, min_samples_split=5, n_estimators=100; total time=   0.1s\n",
            "[CV] END bootstrap=True, criterion=gini, max_features=log2, min_samples_leaf=2, min_samples_split=5, n_estimators=100; total time=   0.1s\n",
            "[CV] END bootstrap=True, criterion=gini, max_features=log2, min_samples_leaf=2, min_samples_split=5, n_estimators=100; total time=   0.1s\n",
            "[CV] END bootstrap=True, criterion=gini, max_features=log2, min_samples_leaf=2, min_samples_split=5, n_estimators=100; total time=   0.1s\n",
            "[CV] END bootstrap=True, criterion=gini, max_features=log2, min_samples_leaf=2, min_samples_split=5, n_estimators=200; total time=   0.3s\n",
            "[CV] END bootstrap=True, criterion=gini, max_features=log2, min_samples_leaf=2, min_samples_split=5, n_estimators=200; total time=   0.3s\n",
            "[CV] END bootstrap=True, criterion=gini, max_features=log2, min_samples_leaf=2, min_samples_split=5, n_estimators=200; total time=   0.3s\n",
            "[CV] END bootstrap=True, criterion=gini, max_features=log2, min_samples_leaf=2, min_samples_split=5, n_estimators=200; total time=   0.3s\n",
            "[CV] END bootstrap=True, criterion=gini, max_features=log2, min_samples_leaf=2, min_samples_split=5, n_estimators=200; total time=   0.3s\n",
            "[CV] END bootstrap=True, criterion=gini, max_features=log2, min_samples_leaf=2, min_samples_split=10, n_estimators=50; total time=   0.0s\n",
            "[CV] END bootstrap=True, criterion=gini, max_features=log2, min_samples_leaf=2, min_samples_split=10, n_estimators=50; total time=   0.0s\n",
            "[CV] END bootstrap=True, criterion=gini, max_features=log2, min_samples_leaf=2, min_samples_split=10, n_estimators=50; total time=   0.0s\n",
            "[CV] END bootstrap=True, criterion=gini, max_features=log2, min_samples_leaf=2, min_samples_split=10, n_estimators=50; total time=   0.0s\n",
            "[CV] END bootstrap=True, criterion=gini, max_features=log2, min_samples_leaf=2, min_samples_split=10, n_estimators=50; total time=   0.0s\n",
            "[CV] END bootstrap=True, criterion=gini, max_features=log2, min_samples_leaf=2, min_samples_split=10, n_estimators=100; total time=   0.1s\n",
            "[CV] END bootstrap=True, criterion=gini, max_features=log2, min_samples_leaf=2, min_samples_split=10, n_estimators=100; total time=   0.1s\n",
            "[CV] END bootstrap=True, criterion=gini, max_features=log2, min_samples_leaf=2, min_samples_split=10, n_estimators=100; total time=   0.1s\n",
            "[CV] END bootstrap=True, criterion=gini, max_features=log2, min_samples_leaf=2, min_samples_split=10, n_estimators=100; total time=   0.1s\n",
            "[CV] END bootstrap=True, criterion=gini, max_features=log2, min_samples_leaf=2, min_samples_split=10, n_estimators=100; total time=   0.1s\n",
            "[CV] END bootstrap=True, criterion=gini, max_features=log2, min_samples_leaf=2, min_samples_split=10, n_estimators=200; total time=   0.2s\n",
            "[CV] END bootstrap=True, criterion=gini, max_features=log2, min_samples_leaf=2, min_samples_split=10, n_estimators=200; total time=   0.2s\n",
            "[CV] END bootstrap=True, criterion=gini, max_features=log2, min_samples_leaf=2, min_samples_split=10, n_estimators=200; total time=   0.3s\n",
            "[CV] END bootstrap=True, criterion=gini, max_features=log2, min_samples_leaf=2, min_samples_split=10, n_estimators=200; total time=   0.2s\n",
            "[CV] END bootstrap=True, criterion=gini, max_features=log2, min_samples_leaf=2, min_samples_split=10, n_estimators=200; total time=   0.2s\n",
            "[CV] END bootstrap=True, criterion=gini, max_features=log2, min_samples_leaf=4, min_samples_split=2, n_estimators=50; total time=   0.0s\n",
            "[CV] END bootstrap=True, criterion=gini, max_features=log2, min_samples_leaf=4, min_samples_split=2, n_estimators=50; total time=   0.0s\n",
            "[CV] END bootstrap=True, criterion=gini, max_features=log2, min_samples_leaf=4, min_samples_split=2, n_estimators=50; total time=   0.0s\n",
            "[CV] END bootstrap=True, criterion=gini, max_features=log2, min_samples_leaf=4, min_samples_split=2, n_estimators=50; total time=   0.0s\n",
            "[CV] END bootstrap=True, criterion=gini, max_features=log2, min_samples_leaf=4, min_samples_split=2, n_estimators=50; total time=   0.0s\n",
            "[CV] END bootstrap=True, criterion=gini, max_features=log2, min_samples_leaf=4, min_samples_split=2, n_estimators=100; total time=   0.1s\n",
            "[CV] END bootstrap=True, criterion=gini, max_features=log2, min_samples_leaf=4, min_samples_split=2, n_estimators=100; total time=   0.1s\n",
            "[CV] END bootstrap=True, criterion=gini, max_features=log2, min_samples_leaf=4, min_samples_split=2, n_estimators=100; total time=   0.1s\n",
            "[CV] END bootstrap=True, criterion=gini, max_features=log2, min_samples_leaf=4, min_samples_split=2, n_estimators=100; total time=   0.1s\n",
            "[CV] END bootstrap=True, criterion=gini, max_features=log2, min_samples_leaf=4, min_samples_split=2, n_estimators=100; total time=   0.1s\n",
            "[CV] END bootstrap=True, criterion=gini, max_features=log2, min_samples_leaf=4, min_samples_split=2, n_estimators=200; total time=   0.2s\n",
            "[CV] END bootstrap=True, criterion=gini, max_features=log2, min_samples_leaf=4, min_samples_split=2, n_estimators=200; total time=   0.2s\n",
            "[CV] END bootstrap=True, criterion=gini, max_features=log2, min_samples_leaf=4, min_samples_split=2, n_estimators=200; total time=   0.2s\n",
            "[CV] END bootstrap=True, criterion=gini, max_features=log2, min_samples_leaf=4, min_samples_split=2, n_estimators=200; total time=   0.2s\n",
            "[CV] END bootstrap=True, criterion=gini, max_features=log2, min_samples_leaf=4, min_samples_split=2, n_estimators=200; total time=   0.2s\n",
            "[CV] END bootstrap=True, criterion=gini, max_features=log2, min_samples_leaf=4, min_samples_split=5, n_estimators=50; total time=   0.0s\n",
            "[CV] END bootstrap=True, criterion=gini, max_features=log2, min_samples_leaf=4, min_samples_split=5, n_estimators=50; total time=   0.0s\n",
            "[CV] END bootstrap=True, criterion=gini, max_features=log2, min_samples_leaf=4, min_samples_split=5, n_estimators=50; total time=   0.0s\n",
            "[CV] END bootstrap=True, criterion=gini, max_features=log2, min_samples_leaf=4, min_samples_split=5, n_estimators=50; total time=   0.0s\n",
            "[CV] END bootstrap=True, criterion=gini, max_features=log2, min_samples_leaf=4, min_samples_split=5, n_estimators=50; total time=   0.0s\n",
            "[CV] END bootstrap=True, criterion=gini, max_features=log2, min_samples_leaf=4, min_samples_split=5, n_estimators=100; total time=   0.1s\n",
            "[CV] END bootstrap=True, criterion=gini, max_features=log2, min_samples_leaf=4, min_samples_split=5, n_estimators=100; total time=   0.1s\n",
            "[CV] END bootstrap=True, criterion=gini, max_features=log2, min_samples_leaf=4, min_samples_split=5, n_estimators=100; total time=   0.1s\n",
            "[CV] END bootstrap=True, criterion=gini, max_features=log2, min_samples_leaf=4, min_samples_split=5, n_estimators=100; total time=   0.1s\n",
            "[CV] END bootstrap=True, criterion=gini, max_features=log2, min_samples_leaf=4, min_samples_split=5, n_estimators=100; total time=   0.1s\n",
            "[CV] END bootstrap=True, criterion=gini, max_features=log2, min_samples_leaf=4, min_samples_split=5, n_estimators=200; total time=   0.2s\n",
            "[CV] END bootstrap=True, criterion=gini, max_features=log2, min_samples_leaf=4, min_samples_split=5, n_estimators=200; total time=   0.2s\n",
            "[CV] END bootstrap=True, criterion=gini, max_features=log2, min_samples_leaf=4, min_samples_split=5, n_estimators=200; total time=   0.2s\n",
            "[CV] END bootstrap=True, criterion=gini, max_features=log2, min_samples_leaf=4, min_samples_split=5, n_estimators=200; total time=   0.3s\n",
            "[CV] END bootstrap=True, criterion=gini, max_features=log2, min_samples_leaf=4, min_samples_split=5, n_estimators=200; total time=   0.2s\n",
            "[CV] END bootstrap=True, criterion=gini, max_features=log2, min_samples_leaf=4, min_samples_split=10, n_estimators=50; total time=   0.0s\n",
            "[CV] END bootstrap=True, criterion=gini, max_features=log2, min_samples_leaf=4, min_samples_split=10, n_estimators=50; total time=   0.0s\n",
            "[CV] END bootstrap=True, criterion=gini, max_features=log2, min_samples_leaf=4, min_samples_split=10, n_estimators=50; total time=   0.0s\n",
            "[CV] END bootstrap=True, criterion=gini, max_features=log2, min_samples_leaf=4, min_samples_split=10, n_estimators=50; total time=   0.0s\n",
            "[CV] END bootstrap=True, criterion=gini, max_features=log2, min_samples_leaf=4, min_samples_split=10, n_estimators=50; total time=   0.0s\n",
            "[CV] END bootstrap=True, criterion=gini, max_features=log2, min_samples_leaf=4, min_samples_split=10, n_estimators=100; total time=   0.1s\n",
            "[CV] END bootstrap=True, criterion=gini, max_features=log2, min_samples_leaf=4, min_samples_split=10, n_estimators=100; total time=   0.1s\n",
            "[CV] END bootstrap=True, criterion=gini, max_features=log2, min_samples_leaf=4, min_samples_split=10, n_estimators=100; total time=   0.1s\n",
            "[CV] END bootstrap=True, criterion=gini, max_features=log2, min_samples_leaf=4, min_samples_split=10, n_estimators=100; total time=   0.1s\n",
            "[CV] END bootstrap=True, criterion=gini, max_features=log2, min_samples_leaf=4, min_samples_split=10, n_estimators=100; total time=   0.1s\n",
            "[CV] END bootstrap=True, criterion=gini, max_features=log2, min_samples_leaf=4, min_samples_split=10, n_estimators=200; total time=   0.2s\n",
            "[CV] END bootstrap=True, criterion=gini, max_features=log2, min_samples_leaf=4, min_samples_split=10, n_estimators=200; total time=   0.2s\n",
            "[CV] END bootstrap=True, criterion=gini, max_features=log2, min_samples_leaf=4, min_samples_split=10, n_estimators=200; total time=   0.2s\n",
            "[CV] END bootstrap=True, criterion=gini, max_features=log2, min_samples_leaf=4, min_samples_split=10, n_estimators=200; total time=   0.2s\n",
            "[CV] END bootstrap=True, criterion=gini, max_features=log2, min_samples_leaf=4, min_samples_split=10, n_estimators=200; total time=   0.2s\n",
            "[CV] END bootstrap=True, criterion=entropy, max_features=sqrt, min_samples_leaf=1, min_samples_split=2, n_estimators=50; total time=   0.0s\n",
            "[CV] END bootstrap=True, criterion=entropy, max_features=sqrt, min_samples_leaf=1, min_samples_split=2, n_estimators=50; total time=   0.0s\n",
            "[CV] END bootstrap=True, criterion=entropy, max_features=sqrt, min_samples_leaf=1, min_samples_split=2, n_estimators=50; total time=   0.0s\n",
            "[CV] END bootstrap=True, criterion=entropy, max_features=sqrt, min_samples_leaf=1, min_samples_split=2, n_estimators=50; total time=   0.0s\n",
            "[CV] END bootstrap=True, criterion=entropy, max_features=sqrt, min_samples_leaf=1, min_samples_split=2, n_estimators=50; total time=   0.0s\n",
            "[CV] END bootstrap=True, criterion=entropy, max_features=sqrt, min_samples_leaf=1, min_samples_split=2, n_estimators=100; total time=   0.1s\n",
            "[CV] END bootstrap=True, criterion=entropy, max_features=sqrt, min_samples_leaf=1, min_samples_split=2, n_estimators=100; total time=   0.2s\n",
            "[CV] END bootstrap=True, criterion=entropy, max_features=sqrt, min_samples_leaf=1, min_samples_split=2, n_estimators=100; total time=   0.1s\n",
            "[CV] END bootstrap=True, criterion=entropy, max_features=sqrt, min_samples_leaf=1, min_samples_split=2, n_estimators=100; total time=   0.2s\n",
            "[CV] END bootstrap=True, criterion=entropy, max_features=sqrt, min_samples_leaf=1, min_samples_split=2, n_estimators=100; total time=   0.1s\n",
            "[CV] END bootstrap=True, criterion=entropy, max_features=sqrt, min_samples_leaf=1, min_samples_split=2, n_estimators=200; total time=   0.4s\n",
            "[CV] END bootstrap=True, criterion=entropy, max_features=sqrt, min_samples_leaf=1, min_samples_split=2, n_estimators=200; total time=   0.4s\n",
            "[CV] END bootstrap=True, criterion=entropy, max_features=sqrt, min_samples_leaf=1, min_samples_split=2, n_estimators=200; total time=   0.4s\n",
            "[CV] END bootstrap=True, criterion=entropy, max_features=sqrt, min_samples_leaf=1, min_samples_split=2, n_estimators=200; total time=   0.4s\n",
            "[CV] END bootstrap=True, criterion=entropy, max_features=sqrt, min_samples_leaf=1, min_samples_split=2, n_estimators=200; total time=   0.4s\n",
            "[CV] END bootstrap=True, criterion=entropy, max_features=sqrt, min_samples_leaf=1, min_samples_split=5, n_estimators=50; total time=   0.0s\n",
            "[CV] END bootstrap=True, criterion=entropy, max_features=sqrt, min_samples_leaf=1, min_samples_split=5, n_estimators=50; total time=   0.0s\n",
            "[CV] END bootstrap=True, criterion=entropy, max_features=sqrt, min_samples_leaf=1, min_samples_split=5, n_estimators=50; total time=   0.0s\n",
            "[CV] END bootstrap=True, criterion=entropy, max_features=sqrt, min_samples_leaf=1, min_samples_split=5, n_estimators=50; total time=   0.0s\n",
            "[CV] END bootstrap=True, criterion=entropy, max_features=sqrt, min_samples_leaf=1, min_samples_split=5, n_estimators=50; total time=   0.0s\n",
            "[CV] END bootstrap=True, criterion=entropy, max_features=sqrt, min_samples_leaf=1, min_samples_split=5, n_estimators=100; total time=   0.1s\n",
            "[CV] END bootstrap=True, criterion=entropy, max_features=sqrt, min_samples_leaf=1, min_samples_split=5, n_estimators=100; total time=   0.1s\n",
            "[CV] END bootstrap=True, criterion=entropy, max_features=sqrt, min_samples_leaf=1, min_samples_split=5, n_estimators=100; total time=   0.1s\n",
            "[CV] END bootstrap=True, criterion=entropy, max_features=sqrt, min_samples_leaf=1, min_samples_split=5, n_estimators=100; total time=   0.1s\n",
            "[CV] END bootstrap=True, criterion=entropy, max_features=sqrt, min_samples_leaf=1, min_samples_split=5, n_estimators=100; total time=   0.1s\n",
            "[CV] END bootstrap=True, criterion=entropy, max_features=sqrt, min_samples_leaf=1, min_samples_split=5, n_estimators=200; total time=   0.3s\n",
            "[CV] END bootstrap=True, criterion=entropy, max_features=sqrt, min_samples_leaf=1, min_samples_split=5, n_estimators=200; total time=   0.3s\n",
            "[CV] END bootstrap=True, criterion=entropy, max_features=sqrt, min_samples_leaf=1, min_samples_split=5, n_estimators=200; total time=   0.3s\n",
            "[CV] END bootstrap=True, criterion=entropy, max_features=sqrt, min_samples_leaf=1, min_samples_split=5, n_estimators=200; total time=   0.3s\n",
            "[CV] END bootstrap=True, criterion=entropy, max_features=sqrt, min_samples_leaf=1, min_samples_split=5, n_estimators=200; total time=   0.3s\n",
            "[CV] END bootstrap=True, criterion=entropy, max_features=sqrt, min_samples_leaf=1, min_samples_split=10, n_estimators=50; total time=   0.0s\n",
            "[CV] END bootstrap=True, criterion=entropy, max_features=sqrt, min_samples_leaf=1, min_samples_split=10, n_estimators=50; total time=   0.0s\n",
            "[CV] END bootstrap=True, criterion=entropy, max_features=sqrt, min_samples_leaf=1, min_samples_split=10, n_estimators=50; total time=   0.0s\n",
            "[CV] END bootstrap=True, criterion=entropy, max_features=sqrt, min_samples_leaf=1, min_samples_split=10, n_estimators=50; total time=   0.0s\n",
            "[CV] END bootstrap=True, criterion=entropy, max_features=sqrt, min_samples_leaf=1, min_samples_split=10, n_estimators=50; total time=   0.0s\n",
            "[CV] END bootstrap=True, criterion=entropy, max_features=sqrt, min_samples_leaf=1, min_samples_split=10, n_estimators=100; total time=   0.1s\n",
            "[CV] END bootstrap=True, criterion=entropy, max_features=sqrt, min_samples_leaf=1, min_samples_split=10, n_estimators=100; total time=   0.1s\n",
            "[CV] END bootstrap=True, criterion=entropy, max_features=sqrt, min_samples_leaf=1, min_samples_split=10, n_estimators=100; total time=   0.1s\n",
            "[CV] END bootstrap=True, criterion=entropy, max_features=sqrt, min_samples_leaf=1, min_samples_split=10, n_estimators=100; total time=   0.1s\n",
            "[CV] END bootstrap=True, criterion=entropy, max_features=sqrt, min_samples_leaf=1, min_samples_split=10, n_estimators=100; total time=   0.1s\n",
            "[CV] END bootstrap=True, criterion=entropy, max_features=sqrt, min_samples_leaf=1, min_samples_split=10, n_estimators=200; total time=   0.3s\n",
            "[CV] END bootstrap=True, criterion=entropy, max_features=sqrt, min_samples_leaf=1, min_samples_split=10, n_estimators=200; total time=   0.3s\n",
            "[CV] END bootstrap=True, criterion=entropy, max_features=sqrt, min_samples_leaf=1, min_samples_split=10, n_estimators=200; total time=   0.3s\n",
            "[CV] END bootstrap=True, criterion=entropy, max_features=sqrt, min_samples_leaf=1, min_samples_split=10, n_estimators=200; total time=   0.3s\n",
            "[CV] END bootstrap=True, criterion=entropy, max_features=sqrt, min_samples_leaf=1, min_samples_split=10, n_estimators=200; total time=   0.3s\n",
            "[CV] END bootstrap=True, criterion=entropy, max_features=sqrt, min_samples_leaf=2, min_samples_split=2, n_estimators=50; total time=   0.0s\n",
            "[CV] END bootstrap=True, criterion=entropy, max_features=sqrt, min_samples_leaf=2, min_samples_split=2, n_estimators=50; total time=   0.0s\n",
            "[CV] END bootstrap=True, criterion=entropy, max_features=sqrt, min_samples_leaf=2, min_samples_split=2, n_estimators=50; total time=   0.0s\n",
            "[CV] END bootstrap=True, criterion=entropy, max_features=sqrt, min_samples_leaf=2, min_samples_split=2, n_estimators=50; total time=   0.0s\n",
            "[CV] END bootstrap=True, criterion=entropy, max_features=sqrt, min_samples_leaf=2, min_samples_split=2, n_estimators=50; total time=   0.0s\n",
            "[CV] END bootstrap=True, criterion=entropy, max_features=sqrt, min_samples_leaf=2, min_samples_split=2, n_estimators=100; total time=   0.1s\n",
            "[CV] END bootstrap=True, criterion=entropy, max_features=sqrt, min_samples_leaf=2, min_samples_split=2, n_estimators=100; total time=   0.1s\n",
            "[CV] END bootstrap=True, criterion=entropy, max_features=sqrt, min_samples_leaf=2, min_samples_split=2, n_estimators=100; total time=   0.1s\n",
            "[CV] END bootstrap=True, criterion=entropy, max_features=sqrt, min_samples_leaf=2, min_samples_split=2, n_estimators=100; total time=   0.1s\n",
            "[CV] END bootstrap=True, criterion=entropy, max_features=sqrt, min_samples_leaf=2, min_samples_split=2, n_estimators=100; total time=   0.1s\n",
            "[CV] END bootstrap=True, criterion=entropy, max_features=sqrt, min_samples_leaf=2, min_samples_split=2, n_estimators=200; total time=   0.3s\n",
            "[CV] END bootstrap=True, criterion=entropy, max_features=sqrt, min_samples_leaf=2, min_samples_split=2, n_estimators=200; total time=   0.3s\n",
            "[CV] END bootstrap=True, criterion=entropy, max_features=sqrt, min_samples_leaf=2, min_samples_split=2, n_estimators=200; total time=   0.3s\n",
            "[CV] END bootstrap=True, criterion=entropy, max_features=sqrt, min_samples_leaf=2, min_samples_split=2, n_estimators=200; total time=   0.4s\n",
            "[CV] END bootstrap=True, criterion=entropy, max_features=sqrt, min_samples_leaf=2, min_samples_split=2, n_estimators=200; total time=   0.3s\n",
            "[CV] END bootstrap=True, criterion=entropy, max_features=sqrt, min_samples_leaf=2, min_samples_split=5, n_estimators=50; total time=   0.0s\n",
            "[CV] END bootstrap=True, criterion=entropy, max_features=sqrt, min_samples_leaf=2, min_samples_split=5, n_estimators=50; total time=   0.0s\n",
            "[CV] END bootstrap=True, criterion=entropy, max_features=sqrt, min_samples_leaf=2, min_samples_split=5, n_estimators=50; total time=   0.0s\n",
            "[CV] END bootstrap=True, criterion=entropy, max_features=sqrt, min_samples_leaf=2, min_samples_split=5, n_estimators=50; total time=   0.0s\n",
            "[CV] END bootstrap=True, criterion=entropy, max_features=sqrt, min_samples_leaf=2, min_samples_split=5, n_estimators=50; total time=   0.0s\n",
            "[CV] END bootstrap=True, criterion=entropy, max_features=sqrt, min_samples_leaf=2, min_samples_split=5, n_estimators=100; total time=   0.1s\n",
            "[CV] END bootstrap=True, criterion=entropy, max_features=sqrt, min_samples_leaf=2, min_samples_split=5, n_estimators=100; total time=   0.1s\n",
            "[CV] END bootstrap=True, criterion=entropy, max_features=sqrt, min_samples_leaf=2, min_samples_split=5, n_estimators=100; total time=   0.1s\n",
            "[CV] END bootstrap=True, criterion=entropy, max_features=sqrt, min_samples_leaf=2, min_samples_split=5, n_estimators=100; total time=   0.1s\n",
            "[CV] END bootstrap=True, criterion=entropy, max_features=sqrt, min_samples_leaf=2, min_samples_split=5, n_estimators=100; total time=   0.1s\n",
            "[CV] END bootstrap=True, criterion=entropy, max_features=sqrt, min_samples_leaf=2, min_samples_split=5, n_estimators=200; total time=   0.3s\n",
            "[CV] END bootstrap=True, criterion=entropy, max_features=sqrt, min_samples_leaf=2, min_samples_split=5, n_estimators=200; total time=   0.3s\n",
            "[CV] END bootstrap=True, criterion=entropy, max_features=sqrt, min_samples_leaf=2, min_samples_split=5, n_estimators=200; total time=   0.3s\n",
            "[CV] END bootstrap=True, criterion=entropy, max_features=sqrt, min_samples_leaf=2, min_samples_split=5, n_estimators=200; total time=   0.3s\n",
            "[CV] END bootstrap=True, criterion=entropy, max_features=sqrt, min_samples_leaf=2, min_samples_split=5, n_estimators=200; total time=   0.3s\n",
            "[CV] END bootstrap=True, criterion=entropy, max_features=sqrt, min_samples_leaf=2, min_samples_split=10, n_estimators=50; total time=   0.0s\n",
            "[CV] END bootstrap=True, criterion=entropy, max_features=sqrt, min_samples_leaf=2, min_samples_split=10, n_estimators=50; total time=   0.0s\n",
            "[CV] END bootstrap=True, criterion=entropy, max_features=sqrt, min_samples_leaf=2, min_samples_split=10, n_estimators=50; total time=   0.0s\n",
            "[CV] END bootstrap=True, criterion=entropy, max_features=sqrt, min_samples_leaf=2, min_samples_split=10, n_estimators=50; total time=   0.0s\n",
            "[CV] END bootstrap=True, criterion=entropy, max_features=sqrt, min_samples_leaf=2, min_samples_split=10, n_estimators=50; total time=   0.0s\n",
            "[CV] END bootstrap=True, criterion=entropy, max_features=sqrt, min_samples_leaf=2, min_samples_split=10, n_estimators=100; total time=   0.1s\n",
            "[CV] END bootstrap=True, criterion=entropy, max_features=sqrt, min_samples_leaf=2, min_samples_split=10, n_estimators=100; total time=   0.1s\n",
            "[CV] END bootstrap=True, criterion=entropy, max_features=sqrt, min_samples_leaf=2, min_samples_split=10, n_estimators=100; total time=   0.1s\n",
            "[CV] END bootstrap=True, criterion=entropy, max_features=sqrt, min_samples_leaf=2, min_samples_split=10, n_estimators=100; total time=   0.1s\n",
            "[CV] END bootstrap=True, criterion=entropy, max_features=sqrt, min_samples_leaf=2, min_samples_split=10, n_estimators=100; total time=   0.1s\n",
            "[CV] END bootstrap=True, criterion=entropy, max_features=sqrt, min_samples_leaf=2, min_samples_split=10, n_estimators=200; total time=   0.3s\n",
            "[CV] END bootstrap=True, criterion=entropy, max_features=sqrt, min_samples_leaf=2, min_samples_split=10, n_estimators=200; total time=   0.3s\n",
            "[CV] END bootstrap=True, criterion=entropy, max_features=sqrt, min_samples_leaf=2, min_samples_split=10, n_estimators=200; total time=   0.3s\n",
            "[CV] END bootstrap=True, criterion=entropy, max_features=sqrt, min_samples_leaf=2, min_samples_split=10, n_estimators=200; total time=   0.3s\n",
            "[CV] END bootstrap=True, criterion=entropy, max_features=sqrt, min_samples_leaf=2, min_samples_split=10, n_estimators=200; total time=   0.3s\n",
            "[CV] END bootstrap=True, criterion=entropy, max_features=sqrt, min_samples_leaf=4, min_samples_split=2, n_estimators=50; total time=   0.0s\n",
            "[CV] END bootstrap=True, criterion=entropy, max_features=sqrt, min_samples_leaf=4, min_samples_split=2, n_estimators=50; total time=   0.0s\n",
            "[CV] END bootstrap=True, criterion=entropy, max_features=sqrt, min_samples_leaf=4, min_samples_split=2, n_estimators=50; total time=   0.0s\n",
            "[CV] END bootstrap=True, criterion=entropy, max_features=sqrt, min_samples_leaf=4, min_samples_split=2, n_estimators=50; total time=   0.0s\n",
            "[CV] END bootstrap=True, criterion=entropy, max_features=sqrt, min_samples_leaf=4, min_samples_split=2, n_estimators=50; total time=   0.0s\n",
            "[CV] END bootstrap=True, criterion=entropy, max_features=sqrt, min_samples_leaf=4, min_samples_split=2, n_estimators=100; total time=   0.1s\n",
            "[CV] END bootstrap=True, criterion=entropy, max_features=sqrt, min_samples_leaf=4, min_samples_split=2, n_estimators=100; total time=   0.1s\n",
            "[CV] END bootstrap=True, criterion=entropy, max_features=sqrt, min_samples_leaf=4, min_samples_split=2, n_estimators=100; total time=   0.1s\n",
            "[CV] END bootstrap=True, criterion=entropy, max_features=sqrt, min_samples_leaf=4, min_samples_split=2, n_estimators=100; total time=   0.1s\n",
            "[CV] END bootstrap=True, criterion=entropy, max_features=sqrt, min_samples_leaf=4, min_samples_split=2, n_estimators=100; total time=   0.1s\n",
            "[CV] END bootstrap=True, criterion=entropy, max_features=sqrt, min_samples_leaf=4, min_samples_split=2, n_estimators=200; total time=   0.3s\n",
            "[CV] END bootstrap=True, criterion=entropy, max_features=sqrt, min_samples_leaf=4, min_samples_split=2, n_estimators=200; total time=   0.3s\n",
            "[CV] END bootstrap=True, criterion=entropy, max_features=sqrt, min_samples_leaf=4, min_samples_split=2, n_estimators=200; total time=   0.2s\n",
            "[CV] END bootstrap=True, criterion=entropy, max_features=sqrt, min_samples_leaf=4, min_samples_split=2, n_estimators=200; total time=   0.2s\n",
            "[CV] END bootstrap=True, criterion=entropy, max_features=sqrt, min_samples_leaf=4, min_samples_split=2, n_estimators=200; total time=   0.3s\n",
            "[CV] END bootstrap=True, criterion=entropy, max_features=sqrt, min_samples_leaf=4, min_samples_split=5, n_estimators=50; total time=   0.0s\n",
            "[CV] END bootstrap=True, criterion=entropy, max_features=sqrt, min_samples_leaf=4, min_samples_split=5, n_estimators=50; total time=   0.0s\n",
            "[CV] END bootstrap=True, criterion=entropy, max_features=sqrt, min_samples_leaf=4, min_samples_split=5, n_estimators=50; total time=   0.0s\n",
            "[CV] END bootstrap=True, criterion=entropy, max_features=sqrt, min_samples_leaf=4, min_samples_split=5, n_estimators=50; total time=   0.0s\n",
            "[CV] END bootstrap=True, criterion=entropy, max_features=sqrt, min_samples_leaf=4, min_samples_split=5, n_estimators=50; total time=   0.0s\n",
            "[CV] END bootstrap=True, criterion=entropy, max_features=sqrt, min_samples_leaf=4, min_samples_split=5, n_estimators=100; total time=   0.1s\n",
            "[CV] END bootstrap=True, criterion=entropy, max_features=sqrt, min_samples_leaf=4, min_samples_split=5, n_estimators=100; total time=   0.1s\n",
            "[CV] END bootstrap=True, criterion=entropy, max_features=sqrt, min_samples_leaf=4, min_samples_split=5, n_estimators=100; total time=   0.1s\n",
            "[CV] END bootstrap=True, criterion=entropy, max_features=sqrt, min_samples_leaf=4, min_samples_split=5, n_estimators=100; total time=   0.1s\n",
            "[CV] END bootstrap=True, criterion=entropy, max_features=sqrt, min_samples_leaf=4, min_samples_split=5, n_estimators=100; total time=   0.1s\n",
            "[CV] END bootstrap=True, criterion=entropy, max_features=sqrt, min_samples_leaf=4, min_samples_split=5, n_estimators=200; total time=   0.3s\n",
            "[CV] END bootstrap=True, criterion=entropy, max_features=sqrt, min_samples_leaf=4, min_samples_split=5, n_estimators=200; total time=   0.3s\n",
            "[CV] END bootstrap=True, criterion=entropy, max_features=sqrt, min_samples_leaf=4, min_samples_split=5, n_estimators=200; total time=   0.3s\n",
            "[CV] END bootstrap=True, criterion=entropy, max_features=sqrt, min_samples_leaf=4, min_samples_split=5, n_estimators=200; total time=   0.3s\n",
            "[CV] END bootstrap=True, criterion=entropy, max_features=sqrt, min_samples_leaf=4, min_samples_split=5, n_estimators=200; total time=   0.3s\n",
            "[CV] END bootstrap=True, criterion=entropy, max_features=sqrt, min_samples_leaf=4, min_samples_split=10, n_estimators=50; total time=   0.0s\n",
            "[CV] END bootstrap=True, criterion=entropy, max_features=sqrt, min_samples_leaf=4, min_samples_split=10, n_estimators=50; total time=   0.0s\n",
            "[CV] END bootstrap=True, criterion=entropy, max_features=sqrt, min_samples_leaf=4, min_samples_split=10, n_estimators=50; total time=   0.0s\n",
            "[CV] END bootstrap=True, criterion=entropy, max_features=sqrt, min_samples_leaf=4, min_samples_split=10, n_estimators=50; total time=   0.0s\n",
            "[CV] END bootstrap=True, criterion=entropy, max_features=sqrt, min_samples_leaf=4, min_samples_split=10, n_estimators=50; total time=   0.0s\n",
            "[CV] END bootstrap=True, criterion=entropy, max_features=sqrt, min_samples_leaf=4, min_samples_split=10, n_estimators=100; total time=   0.1s\n",
            "[CV] END bootstrap=True, criterion=entropy, max_features=sqrt, min_samples_leaf=4, min_samples_split=10, n_estimators=100; total time=   0.1s\n",
            "[CV] END bootstrap=True, criterion=entropy, max_features=sqrt, min_samples_leaf=4, min_samples_split=10, n_estimators=100; total time=   0.1s\n",
            "[CV] END bootstrap=True, criterion=entropy, max_features=sqrt, min_samples_leaf=4, min_samples_split=10, n_estimators=100; total time=   0.1s\n",
            "[CV] END bootstrap=True, criterion=entropy, max_features=sqrt, min_samples_leaf=4, min_samples_split=10, n_estimators=100; total time=   0.1s\n",
            "[CV] END bootstrap=True, criterion=entropy, max_features=sqrt, min_samples_leaf=4, min_samples_split=10, n_estimators=200; total time=   0.3s\n",
            "[CV] END bootstrap=True, criterion=entropy, max_features=sqrt, min_samples_leaf=4, min_samples_split=10, n_estimators=200; total time=   0.2s\n",
            "[CV] END bootstrap=True, criterion=entropy, max_features=sqrt, min_samples_leaf=4, min_samples_split=10, n_estimators=200; total time=   0.2s\n",
            "[CV] END bootstrap=True, criterion=entropy, max_features=sqrt, min_samples_leaf=4, min_samples_split=10, n_estimators=200; total time=   0.3s\n",
            "[CV] END bootstrap=True, criterion=entropy, max_features=sqrt, min_samples_leaf=4, min_samples_split=10, n_estimators=200; total time=   0.2s\n",
            "[CV] END bootstrap=True, criterion=entropy, max_features=log2, min_samples_leaf=1, min_samples_split=2, n_estimators=50; total time=   0.0s\n",
            "[CV] END bootstrap=True, criterion=entropy, max_features=log2, min_samples_leaf=1, min_samples_split=2, n_estimators=50; total time=   0.0s\n",
            "[CV] END bootstrap=True, criterion=entropy, max_features=log2, min_samples_leaf=1, min_samples_split=2, n_estimators=50; total time=   0.0s\n",
            "[CV] END bootstrap=True, criterion=entropy, max_features=log2, min_samples_leaf=1, min_samples_split=2, n_estimators=50; total time=   0.0s\n",
            "[CV] END bootstrap=True, criterion=entropy, max_features=log2, min_samples_leaf=1, min_samples_split=2, n_estimators=50; total time=   0.0s\n",
            "[CV] END bootstrap=True, criterion=entropy, max_features=log2, min_samples_leaf=1, min_samples_split=2, n_estimators=100; total time=   0.1s\n",
            "[CV] END bootstrap=True, criterion=entropy, max_features=log2, min_samples_leaf=1, min_samples_split=2, n_estimators=100; total time=   0.1s\n",
            "[CV] END bootstrap=True, criterion=entropy, max_features=log2, min_samples_leaf=1, min_samples_split=2, n_estimators=100; total time=   0.2s\n",
            "[CV] END bootstrap=True, criterion=entropy, max_features=log2, min_samples_leaf=1, min_samples_split=2, n_estimators=100; total time=   0.1s\n",
            "[CV] END bootstrap=True, criterion=entropy, max_features=log2, min_samples_leaf=1, min_samples_split=2, n_estimators=100; total time=   0.1s\n",
            "[CV] END bootstrap=True, criterion=entropy, max_features=log2, min_samples_leaf=1, min_samples_split=2, n_estimators=200; total time=   0.4s\n",
            "[CV] END bootstrap=True, criterion=entropy, max_features=log2, min_samples_leaf=1, min_samples_split=2, n_estimators=200; total time=   0.4s\n",
            "[CV] END bootstrap=True, criterion=entropy, max_features=log2, min_samples_leaf=1, min_samples_split=2, n_estimators=200; total time=   0.4s\n",
            "[CV] END bootstrap=True, criterion=entropy, max_features=log2, min_samples_leaf=1, min_samples_split=2, n_estimators=200; total time=   0.4s\n",
            "[CV] END bootstrap=True, criterion=entropy, max_features=log2, min_samples_leaf=1, min_samples_split=2, n_estimators=200; total time=   0.4s\n",
            "[CV] END bootstrap=True, criterion=entropy, max_features=log2, min_samples_leaf=1, min_samples_split=5, n_estimators=50; total time=   0.0s\n",
            "[CV] END bootstrap=True, criterion=entropy, max_features=log2, min_samples_leaf=1, min_samples_split=5, n_estimators=50; total time=   0.0s\n",
            "[CV] END bootstrap=True, criterion=entropy, max_features=log2, min_samples_leaf=1, min_samples_split=5, n_estimators=50; total time=   0.0s\n",
            "[CV] END bootstrap=True, criterion=entropy, max_features=log2, min_samples_leaf=1, min_samples_split=5, n_estimators=50; total time=   0.0s\n",
            "[CV] END bootstrap=True, criterion=entropy, max_features=log2, min_samples_leaf=1, min_samples_split=5, n_estimators=50; total time=   0.0s\n",
            "[CV] END bootstrap=True, criterion=entropy, max_features=log2, min_samples_leaf=1, min_samples_split=5, n_estimators=100; total time=   0.1s\n",
            "[CV] END bootstrap=True, criterion=entropy, max_features=log2, min_samples_leaf=1, min_samples_split=5, n_estimators=100; total time=   0.1s\n",
            "[CV] END bootstrap=True, criterion=entropy, max_features=log2, min_samples_leaf=1, min_samples_split=5, n_estimators=100; total time=   0.1s\n",
            "[CV] END bootstrap=True, criterion=entropy, max_features=log2, min_samples_leaf=1, min_samples_split=5, n_estimators=100; total time=   0.1s\n",
            "[CV] END bootstrap=True, criterion=entropy, max_features=log2, min_samples_leaf=1, min_samples_split=5, n_estimators=100; total time=   0.1s\n",
            "[CV] END bootstrap=True, criterion=entropy, max_features=log2, min_samples_leaf=1, min_samples_split=5, n_estimators=200; total time=   0.3s\n",
            "[CV] END bootstrap=True, criterion=entropy, max_features=log2, min_samples_leaf=1, min_samples_split=5, n_estimators=200; total time=   0.3s\n",
            "[CV] END bootstrap=True, criterion=entropy, max_features=log2, min_samples_leaf=1, min_samples_split=5, n_estimators=200; total time=   0.3s\n",
            "[CV] END bootstrap=True, criterion=entropy, max_features=log2, min_samples_leaf=1, min_samples_split=5, n_estimators=200; total time=   0.4s\n",
            "[CV] END bootstrap=True, criterion=entropy, max_features=log2, min_samples_leaf=1, min_samples_split=5, n_estimators=200; total time=   0.3s\n",
            "[CV] END bootstrap=True, criterion=entropy, max_features=log2, min_samples_leaf=1, min_samples_split=10, n_estimators=50; total time=   0.0s\n",
            "[CV] END bootstrap=True, criterion=entropy, max_features=log2, min_samples_leaf=1, min_samples_split=10, n_estimators=50; total time=   0.0s\n",
            "[CV] END bootstrap=True, criterion=entropy, max_features=log2, min_samples_leaf=1, min_samples_split=10, n_estimators=50; total time=   0.0s\n",
            "[CV] END bootstrap=True, criterion=entropy, max_features=log2, min_samples_leaf=1, min_samples_split=10, n_estimators=50; total time=   0.0s\n",
            "[CV] END bootstrap=True, criterion=entropy, max_features=log2, min_samples_leaf=1, min_samples_split=10, n_estimators=50; total time=   0.0s\n",
            "[CV] END bootstrap=True, criterion=entropy, max_features=log2, min_samples_leaf=1, min_samples_split=10, n_estimators=100; total time=   0.1s\n",
            "[CV] END bootstrap=True, criterion=entropy, max_features=log2, min_samples_leaf=1, min_samples_split=10, n_estimators=100; total time=   0.1s\n",
            "[CV] END bootstrap=True, criterion=entropy, max_features=log2, min_samples_leaf=1, min_samples_split=10, n_estimators=100; total time=   0.1s\n",
            "[CV] END bootstrap=True, criterion=entropy, max_features=log2, min_samples_leaf=1, min_samples_split=10, n_estimators=100; total time=   0.1s\n",
            "[CV] END bootstrap=True, criterion=entropy, max_features=log2, min_samples_leaf=1, min_samples_split=10, n_estimators=100; total time=   0.1s\n",
            "[CV] END bootstrap=True, criterion=entropy, max_features=log2, min_samples_leaf=1, min_samples_split=10, n_estimators=200; total time=   0.3s\n",
            "[CV] END bootstrap=True, criterion=entropy, max_features=log2, min_samples_leaf=1, min_samples_split=10, n_estimators=200; total time=   0.3s\n",
            "[CV] END bootstrap=True, criterion=entropy, max_features=log2, min_samples_leaf=1, min_samples_split=10, n_estimators=200; total time=   0.3s\n",
            "[CV] END bootstrap=True, criterion=entropy, max_features=log2, min_samples_leaf=1, min_samples_split=10, n_estimators=200; total time=   0.3s\n",
            "[CV] END bootstrap=True, criterion=entropy, max_features=log2, min_samples_leaf=1, min_samples_split=10, n_estimators=200; total time=   0.3s\n",
            "[CV] END bootstrap=True, criterion=entropy, max_features=log2, min_samples_leaf=2, min_samples_split=2, n_estimators=50; total time=   0.0s\n",
            "[CV] END bootstrap=True, criterion=entropy, max_features=log2, min_samples_leaf=2, min_samples_split=2, n_estimators=50; total time=   0.0s\n",
            "[CV] END bootstrap=True, criterion=entropy, max_features=log2, min_samples_leaf=2, min_samples_split=2, n_estimators=50; total time=   0.0s\n",
            "[CV] END bootstrap=True, criterion=entropy, max_features=log2, min_samples_leaf=2, min_samples_split=2, n_estimators=50; total time=   0.0s\n",
            "[CV] END bootstrap=True, criterion=entropy, max_features=log2, min_samples_leaf=2, min_samples_split=2, n_estimators=50; total time=   0.0s\n",
            "[CV] END bootstrap=True, criterion=entropy, max_features=log2, min_samples_leaf=2, min_samples_split=2, n_estimators=100; total time=   0.1s\n",
            "[CV] END bootstrap=True, criterion=entropy, max_features=log2, min_samples_leaf=2, min_samples_split=2, n_estimators=100; total time=   0.1s\n",
            "[CV] END bootstrap=True, criterion=entropy, max_features=log2, min_samples_leaf=2, min_samples_split=2, n_estimators=100; total time=   0.1s\n",
            "[CV] END bootstrap=True, criterion=entropy, max_features=log2, min_samples_leaf=2, min_samples_split=2, n_estimators=100; total time=   0.1s\n",
            "[CV] END bootstrap=True, criterion=entropy, max_features=log2, min_samples_leaf=2, min_samples_split=2, n_estimators=100; total time=   0.1s\n",
            "[CV] END bootstrap=True, criterion=entropy, max_features=log2, min_samples_leaf=2, min_samples_split=2, n_estimators=200; total time=   0.3s\n",
            "[CV] END bootstrap=True, criterion=entropy, max_features=log2, min_samples_leaf=2, min_samples_split=2, n_estimators=200; total time=   0.3s\n",
            "[CV] END bootstrap=True, criterion=entropy, max_features=log2, min_samples_leaf=2, min_samples_split=2, n_estimators=200; total time=   0.3s\n",
            "[CV] END bootstrap=True, criterion=entropy, max_features=log2, min_samples_leaf=2, min_samples_split=2, n_estimators=200; total time=   0.3s\n",
            "[CV] END bootstrap=True, criterion=entropy, max_features=log2, min_samples_leaf=2, min_samples_split=2, n_estimators=200; total time=   0.3s\n",
            "[CV] END bootstrap=True, criterion=entropy, max_features=log2, min_samples_leaf=2, min_samples_split=5, n_estimators=50; total time=   0.0s\n",
            "[CV] END bootstrap=True, criterion=entropy, max_features=log2, min_samples_leaf=2, min_samples_split=5, n_estimators=50; total time=   0.0s\n",
            "[CV] END bootstrap=True, criterion=entropy, max_features=log2, min_samples_leaf=2, min_samples_split=5, n_estimators=50; total time=   0.0s\n",
            "[CV] END bootstrap=True, criterion=entropy, max_features=log2, min_samples_leaf=2, min_samples_split=5, n_estimators=50; total time=   0.0s\n",
            "[CV] END bootstrap=True, criterion=entropy, max_features=log2, min_samples_leaf=2, min_samples_split=5, n_estimators=50; total time=   0.0s\n",
            "[CV] END bootstrap=True, criterion=entropy, max_features=log2, min_samples_leaf=2, min_samples_split=5, n_estimators=100; total time=   0.1s\n",
            "[CV] END bootstrap=True, criterion=entropy, max_features=log2, min_samples_leaf=2, min_samples_split=5, n_estimators=100; total time=   0.1s\n",
            "[CV] END bootstrap=True, criterion=entropy, max_features=log2, min_samples_leaf=2, min_samples_split=5, n_estimators=100; total time=   0.1s\n",
            "[CV] END bootstrap=True, criterion=entropy, max_features=log2, min_samples_leaf=2, min_samples_split=5, n_estimators=100; total time=   0.1s\n",
            "[CV] END bootstrap=True, criterion=entropy, max_features=log2, min_samples_leaf=2, min_samples_split=5, n_estimators=100; total time=   0.1s\n",
            "[CV] END bootstrap=True, criterion=entropy, max_features=log2, min_samples_leaf=2, min_samples_split=5, n_estimators=200; total time=   0.3s\n",
            "[CV] END bootstrap=True, criterion=entropy, max_features=log2, min_samples_leaf=2, min_samples_split=5, n_estimators=200; total time=   0.3s\n",
            "[CV] END bootstrap=True, criterion=entropy, max_features=log2, min_samples_leaf=2, min_samples_split=5, n_estimators=200; total time=   0.3s\n",
            "[CV] END bootstrap=True, criterion=entropy, max_features=log2, min_samples_leaf=2, min_samples_split=5, n_estimators=200; total time=   0.3s\n",
            "[CV] END bootstrap=True, criterion=entropy, max_features=log2, min_samples_leaf=2, min_samples_split=5, n_estimators=200; total time=   0.3s\n",
            "[CV] END bootstrap=True, criterion=entropy, max_features=log2, min_samples_leaf=2, min_samples_split=10, n_estimators=50; total time=   0.0s\n",
            "[CV] END bootstrap=True, criterion=entropy, max_features=log2, min_samples_leaf=2, min_samples_split=10, n_estimators=50; total time=   0.0s\n",
            "[CV] END bootstrap=True, criterion=entropy, max_features=log2, min_samples_leaf=2, min_samples_split=10, n_estimators=50; total time=   0.0s\n",
            "[CV] END bootstrap=True, criterion=entropy, max_features=log2, min_samples_leaf=2, min_samples_split=10, n_estimators=50; total time=   0.0s\n",
            "[CV] END bootstrap=True, criterion=entropy, max_features=log2, min_samples_leaf=2, min_samples_split=10, n_estimators=50; total time=   0.0s\n",
            "[CV] END bootstrap=True, criterion=entropy, max_features=log2, min_samples_leaf=2, min_samples_split=10, n_estimators=100; total time=   0.1s\n",
            "[CV] END bootstrap=True, criterion=entropy, max_features=log2, min_samples_leaf=2, min_samples_split=10, n_estimators=100; total time=   0.1s\n",
            "[CV] END bootstrap=True, criterion=entropy, max_features=log2, min_samples_leaf=2, min_samples_split=10, n_estimators=100; total time=   0.1s\n",
            "[CV] END bootstrap=True, criterion=entropy, max_features=log2, min_samples_leaf=2, min_samples_split=10, n_estimators=100; total time=   0.1s\n",
            "[CV] END bootstrap=True, criterion=entropy, max_features=log2, min_samples_leaf=2, min_samples_split=10, n_estimators=100; total time=   0.1s\n",
            "[CV] END bootstrap=True, criterion=entropy, max_features=log2, min_samples_leaf=2, min_samples_split=10, n_estimators=200; total time=   0.3s\n",
            "[CV] END bootstrap=True, criterion=entropy, max_features=log2, min_samples_leaf=2, min_samples_split=10, n_estimators=200; total time=   0.3s\n",
            "[CV] END bootstrap=True, criterion=entropy, max_features=log2, min_samples_leaf=2, min_samples_split=10, n_estimators=200; total time=   0.3s\n",
            "[CV] END bootstrap=True, criterion=entropy, max_features=log2, min_samples_leaf=2, min_samples_split=10, n_estimators=200; total time=   0.3s\n",
            "[CV] END bootstrap=True, criterion=entropy, max_features=log2, min_samples_leaf=2, min_samples_split=10, n_estimators=200; total time=   0.3s\n",
            "[CV] END bootstrap=True, criterion=entropy, max_features=log2, min_samples_leaf=4, min_samples_split=2, n_estimators=50; total time=   0.0s\n",
            "[CV] END bootstrap=True, criterion=entropy, max_features=log2, min_samples_leaf=4, min_samples_split=2, n_estimators=50; total time=   0.0s\n",
            "[CV] END bootstrap=True, criterion=entropy, max_features=log2, min_samples_leaf=4, min_samples_split=2, n_estimators=50; total time=   0.0s\n",
            "[CV] END bootstrap=True, criterion=entropy, max_features=log2, min_samples_leaf=4, min_samples_split=2, n_estimators=50; total time=   0.0s\n",
            "[CV] END bootstrap=True, criterion=entropy, max_features=log2, min_samples_leaf=4, min_samples_split=2, n_estimators=50; total time=   0.0s\n",
            "[CV] END bootstrap=True, criterion=entropy, max_features=log2, min_samples_leaf=4, min_samples_split=2, n_estimators=100; total time=   0.1s\n",
            "[CV] END bootstrap=True, criterion=entropy, max_features=log2, min_samples_leaf=4, min_samples_split=2, n_estimators=100; total time=   0.1s\n",
            "[CV] END bootstrap=True, criterion=entropy, max_features=log2, min_samples_leaf=4, min_samples_split=2, n_estimators=100; total time=   0.1s\n",
            "[CV] END bootstrap=True, criterion=entropy, max_features=log2, min_samples_leaf=4, min_samples_split=2, n_estimators=100; total time=   0.1s\n",
            "[CV] END bootstrap=True, criterion=entropy, max_features=log2, min_samples_leaf=4, min_samples_split=2, n_estimators=100; total time=   0.1s\n",
            "[CV] END bootstrap=True, criterion=entropy, max_features=log2, min_samples_leaf=4, min_samples_split=2, n_estimators=200; total time=   0.2s\n",
            "[CV] END bootstrap=True, criterion=entropy, max_features=log2, min_samples_leaf=4, min_samples_split=2, n_estimators=200; total time=   0.2s\n",
            "[CV] END bootstrap=True, criterion=entropy, max_features=log2, min_samples_leaf=4, min_samples_split=2, n_estimators=200; total time=   0.3s\n",
            "[CV] END bootstrap=True, criterion=entropy, max_features=log2, min_samples_leaf=4, min_samples_split=2, n_estimators=200; total time=   0.2s\n",
            "[CV] END bootstrap=True, criterion=entropy, max_features=log2, min_samples_leaf=4, min_samples_split=2, n_estimators=200; total time=   0.2s\n",
            "[CV] END bootstrap=True, criterion=entropy, max_features=log2, min_samples_leaf=4, min_samples_split=5, n_estimators=50; total time=   0.0s\n",
            "[CV] END bootstrap=True, criterion=entropy, max_features=log2, min_samples_leaf=4, min_samples_split=5, n_estimators=50; total time=   0.0s\n",
            "[CV] END bootstrap=True, criterion=entropy, max_features=log2, min_samples_leaf=4, min_samples_split=5, n_estimators=50; total time=   0.0s\n",
            "[CV] END bootstrap=True, criterion=entropy, max_features=log2, min_samples_leaf=4, min_samples_split=5, n_estimators=50; total time=   0.0s\n",
            "[CV] END bootstrap=True, criterion=entropy, max_features=log2, min_samples_leaf=4, min_samples_split=5, n_estimators=50; total time=   0.0s\n",
            "[CV] END bootstrap=True, criterion=entropy, max_features=log2, min_samples_leaf=4, min_samples_split=5, n_estimators=100; total time=   0.1s\n",
            "[CV] END bootstrap=True, criterion=entropy, max_features=log2, min_samples_leaf=4, min_samples_split=5, n_estimators=100; total time=   0.1s\n",
            "[CV] END bootstrap=True, criterion=entropy, max_features=log2, min_samples_leaf=4, min_samples_split=5, n_estimators=100; total time=   0.1s\n",
            "[CV] END bootstrap=True, criterion=entropy, max_features=log2, min_samples_leaf=4, min_samples_split=5, n_estimators=100; total time=   0.1s\n",
            "[CV] END bootstrap=True, criterion=entropy, max_features=log2, min_samples_leaf=4, min_samples_split=5, n_estimators=100; total time=   0.1s\n",
            "[CV] END bootstrap=True, criterion=entropy, max_features=log2, min_samples_leaf=4, min_samples_split=5, n_estimators=200; total time=   0.2s\n",
            "[CV] END bootstrap=True, criterion=entropy, max_features=log2, min_samples_leaf=4, min_samples_split=5, n_estimators=200; total time=   0.2s\n",
            "[CV] END bootstrap=True, criterion=entropy, max_features=log2, min_samples_leaf=4, min_samples_split=5, n_estimators=200; total time=   0.2s\n",
            "[CV] END bootstrap=True, criterion=entropy, max_features=log2, min_samples_leaf=4, min_samples_split=5, n_estimators=200; total time=   0.2s\n",
            "[CV] END bootstrap=True, criterion=entropy, max_features=log2, min_samples_leaf=4, min_samples_split=5, n_estimators=200; total time=   0.2s\n",
            "[CV] END bootstrap=True, criterion=entropy, max_features=log2, min_samples_leaf=4, min_samples_split=10, n_estimators=50; total time=   0.0s\n",
            "[CV] END bootstrap=True, criterion=entropy, max_features=log2, min_samples_leaf=4, min_samples_split=10, n_estimators=50; total time=   0.0s\n",
            "[CV] END bootstrap=True, criterion=entropy, max_features=log2, min_samples_leaf=4, min_samples_split=10, n_estimators=50; total time=   0.0s\n",
            "[CV] END bootstrap=True, criterion=entropy, max_features=log2, min_samples_leaf=4, min_samples_split=10, n_estimators=50; total time=   0.0s\n",
            "[CV] END bootstrap=True, criterion=entropy, max_features=log2, min_samples_leaf=4, min_samples_split=10, n_estimators=50; total time=   0.0s\n",
            "[CV] END bootstrap=True, criterion=entropy, max_features=log2, min_samples_leaf=4, min_samples_split=10, n_estimators=100; total time=   0.1s\n",
            "[CV] END bootstrap=True, criterion=entropy, max_features=log2, min_samples_leaf=4, min_samples_split=10, n_estimators=100; total time=   0.1s\n",
            "[CV] END bootstrap=True, criterion=entropy, max_features=log2, min_samples_leaf=4, min_samples_split=10, n_estimators=100; total time=   0.1s\n",
            "[CV] END bootstrap=True, criterion=entropy, max_features=log2, min_samples_leaf=4, min_samples_split=10, n_estimators=100; total time=   0.1s\n",
            "[CV] END bootstrap=True, criterion=entropy, max_features=log2, min_samples_leaf=4, min_samples_split=10, n_estimators=100; total time=   0.1s\n",
            "[CV] END bootstrap=True, criterion=entropy, max_features=log2, min_samples_leaf=4, min_samples_split=10, n_estimators=200; total time=   0.2s\n",
            "[CV] END bootstrap=True, criterion=entropy, max_features=log2, min_samples_leaf=4, min_samples_split=10, n_estimators=200; total time=   0.2s\n",
            "[CV] END bootstrap=True, criterion=entropy, max_features=log2, min_samples_leaf=4, min_samples_split=10, n_estimators=200; total time=   0.3s\n",
            "[CV] END bootstrap=True, criterion=entropy, max_features=log2, min_samples_leaf=4, min_samples_split=10, n_estimators=200; total time=   0.3s\n",
            "[CV] END bootstrap=True, criterion=entropy, max_features=log2, min_samples_leaf=4, min_samples_split=10, n_estimators=200; total time=   0.3s\n",
            "[CV] END bootstrap=True, criterion=log_loss, max_features=sqrt, min_samples_leaf=1, min_samples_split=2, n_estimators=50; total time=   0.0s\n",
            "[CV] END bootstrap=True, criterion=log_loss, max_features=sqrt, min_samples_leaf=1, min_samples_split=2, n_estimators=50; total time=   0.0s\n",
            "[CV] END bootstrap=True, criterion=log_loss, max_features=sqrt, min_samples_leaf=1, min_samples_split=2, n_estimators=50; total time=   0.0s\n",
            "[CV] END bootstrap=True, criterion=log_loss, max_features=sqrt, min_samples_leaf=1, min_samples_split=2, n_estimators=50; total time=   0.0s\n",
            "[CV] END bootstrap=True, criterion=log_loss, max_features=sqrt, min_samples_leaf=1, min_samples_split=2, n_estimators=50; total time=   0.0s\n",
            "[CV] END bootstrap=True, criterion=log_loss, max_features=sqrt, min_samples_leaf=1, min_samples_split=2, n_estimators=100; total time=   0.1s\n",
            "[CV] END bootstrap=True, criterion=log_loss, max_features=sqrt, min_samples_leaf=1, min_samples_split=2, n_estimators=100; total time=   0.1s\n",
            "[CV] END bootstrap=True, criterion=log_loss, max_features=sqrt, min_samples_leaf=1, min_samples_split=2, n_estimators=100; total time=   0.1s\n",
            "[CV] END bootstrap=True, criterion=log_loss, max_features=sqrt, min_samples_leaf=1, min_samples_split=2, n_estimators=100; total time=   0.1s\n",
            "[CV] END bootstrap=True, criterion=log_loss, max_features=sqrt, min_samples_leaf=1, min_samples_split=2, n_estimators=100; total time=   0.1s\n",
            "[CV] END bootstrap=True, criterion=log_loss, max_features=sqrt, min_samples_leaf=1, min_samples_split=2, n_estimators=200; total time=   0.4s\n",
            "[CV] END bootstrap=True, criterion=log_loss, max_features=sqrt, min_samples_leaf=1, min_samples_split=2, n_estimators=200; total time=   0.4s\n",
            "[CV] END bootstrap=True, criterion=log_loss, max_features=sqrt, min_samples_leaf=1, min_samples_split=2, n_estimators=200; total time=   0.4s\n",
            "[CV] END bootstrap=True, criterion=log_loss, max_features=sqrt, min_samples_leaf=1, min_samples_split=2, n_estimators=200; total time=   0.4s\n",
            "[CV] END bootstrap=True, criterion=log_loss, max_features=sqrt, min_samples_leaf=1, min_samples_split=2, n_estimators=200; total time=   0.4s\n",
            "[CV] END bootstrap=True, criterion=log_loss, max_features=sqrt, min_samples_leaf=1, min_samples_split=5, n_estimators=50; total time=   0.0s\n",
            "[CV] END bootstrap=True, criterion=log_loss, max_features=sqrt, min_samples_leaf=1, min_samples_split=5, n_estimators=50; total time=   0.0s\n",
            "[CV] END bootstrap=True, criterion=log_loss, max_features=sqrt, min_samples_leaf=1, min_samples_split=5, n_estimators=50; total time=   0.0s\n",
            "[CV] END bootstrap=True, criterion=log_loss, max_features=sqrt, min_samples_leaf=1, min_samples_split=5, n_estimators=50; total time=   0.0s\n",
            "[CV] END bootstrap=True, criterion=log_loss, max_features=sqrt, min_samples_leaf=1, min_samples_split=5, n_estimators=50; total time=   0.0s\n",
            "[CV] END bootstrap=True, criterion=log_loss, max_features=sqrt, min_samples_leaf=1, min_samples_split=5, n_estimators=100; total time=   0.1s\n",
            "[CV] END bootstrap=True, criterion=log_loss, max_features=sqrt, min_samples_leaf=1, min_samples_split=5, n_estimators=100; total time=   0.1s\n",
            "[CV] END bootstrap=True, criterion=log_loss, max_features=sqrt, min_samples_leaf=1, min_samples_split=5, n_estimators=100; total time=   0.1s\n",
            "[CV] END bootstrap=True, criterion=log_loss, max_features=sqrt, min_samples_leaf=1, min_samples_split=5, n_estimators=100; total time=   0.1s\n",
            "[CV] END bootstrap=True, criterion=log_loss, max_features=sqrt, min_samples_leaf=1, min_samples_split=5, n_estimators=100; total time=   0.1s\n",
            "[CV] END bootstrap=True, criterion=log_loss, max_features=sqrt, min_samples_leaf=1, min_samples_split=5, n_estimators=200; total time=   0.4s\n",
            "[CV] END bootstrap=True, criterion=log_loss, max_features=sqrt, min_samples_leaf=1, min_samples_split=5, n_estimators=200; total time=   0.3s\n",
            "[CV] END bootstrap=True, criterion=log_loss, max_features=sqrt, min_samples_leaf=1, min_samples_split=5, n_estimators=200; total time=   0.4s\n",
            "[CV] END bootstrap=True, criterion=log_loss, max_features=sqrt, min_samples_leaf=1, min_samples_split=5, n_estimators=200; total time=   0.4s\n",
            "[CV] END bootstrap=True, criterion=log_loss, max_features=sqrt, min_samples_leaf=1, min_samples_split=5, n_estimators=200; total time=   0.3s\n",
            "[CV] END bootstrap=True, criterion=log_loss, max_features=sqrt, min_samples_leaf=1, min_samples_split=10, n_estimators=50; total time=   0.0s\n",
            "[CV] END bootstrap=True, criterion=log_loss, max_features=sqrt, min_samples_leaf=1, min_samples_split=10, n_estimators=50; total time=   0.0s\n",
            "[CV] END bootstrap=True, criterion=log_loss, max_features=sqrt, min_samples_leaf=1, min_samples_split=10, n_estimators=50; total time=   0.0s\n",
            "[CV] END bootstrap=True, criterion=log_loss, max_features=sqrt, min_samples_leaf=1, min_samples_split=10, n_estimators=50; total time=   0.0s\n",
            "[CV] END bootstrap=True, criterion=log_loss, max_features=sqrt, min_samples_leaf=1, min_samples_split=10, n_estimators=50; total time=   0.0s\n",
            "[CV] END bootstrap=True, criterion=log_loss, max_features=sqrt, min_samples_leaf=1, min_samples_split=10, n_estimators=100; total time=   0.1s\n",
            "[CV] END bootstrap=True, criterion=log_loss, max_features=sqrt, min_samples_leaf=1, min_samples_split=10, n_estimators=100; total time=   0.1s\n",
            "[CV] END bootstrap=True, criterion=log_loss, max_features=sqrt, min_samples_leaf=1, min_samples_split=10, n_estimators=100; total time=   0.1s\n",
            "[CV] END bootstrap=True, criterion=log_loss, max_features=sqrt, min_samples_leaf=1, min_samples_split=10, n_estimators=100; total time=   0.1s\n",
            "[CV] END bootstrap=True, criterion=log_loss, max_features=sqrt, min_samples_leaf=1, min_samples_split=10, n_estimators=100; total time=   0.1s\n",
            "[CV] END bootstrap=True, criterion=log_loss, max_features=sqrt, min_samples_leaf=1, min_samples_split=10, n_estimators=200; total time=   0.3s\n",
            "[CV] END bootstrap=True, criterion=log_loss, max_features=sqrt, min_samples_leaf=1, min_samples_split=10, n_estimators=200; total time=   0.3s\n",
            "[CV] END bootstrap=True, criterion=log_loss, max_features=sqrt, min_samples_leaf=1, min_samples_split=10, n_estimators=200; total time=   0.3s\n",
            "[CV] END bootstrap=True, criterion=log_loss, max_features=sqrt, min_samples_leaf=1, min_samples_split=10, n_estimators=200; total time=   0.3s\n",
            "[CV] END bootstrap=True, criterion=log_loss, max_features=sqrt, min_samples_leaf=1, min_samples_split=10, n_estimators=200; total time=   0.4s\n",
            "[CV] END bootstrap=True, criterion=log_loss, max_features=sqrt, min_samples_leaf=2, min_samples_split=2, n_estimators=50; total time=   0.0s\n",
            "[CV] END bootstrap=True, criterion=log_loss, max_features=sqrt, min_samples_leaf=2, min_samples_split=2, n_estimators=50; total time=   0.0s\n",
            "[CV] END bootstrap=True, criterion=log_loss, max_features=sqrt, min_samples_leaf=2, min_samples_split=2, n_estimators=50; total time=   0.0s\n",
            "[CV] END bootstrap=True, criterion=log_loss, max_features=sqrt, min_samples_leaf=2, min_samples_split=2, n_estimators=50; total time=   0.0s\n",
            "[CV] END bootstrap=True, criterion=log_loss, max_features=sqrt, min_samples_leaf=2, min_samples_split=2, n_estimators=50; total time=   0.0s\n",
            "[CV] END bootstrap=True, criterion=log_loss, max_features=sqrt, min_samples_leaf=2, min_samples_split=2, n_estimators=100; total time=   0.1s\n",
            "[CV] END bootstrap=True, criterion=log_loss, max_features=sqrt, min_samples_leaf=2, min_samples_split=2, n_estimators=100; total time=   0.1s\n",
            "[CV] END bootstrap=True, criterion=log_loss, max_features=sqrt, min_samples_leaf=2, min_samples_split=2, n_estimators=100; total time=   0.1s\n",
            "[CV] END bootstrap=True, criterion=log_loss, max_features=sqrt, min_samples_leaf=2, min_samples_split=2, n_estimators=100; total time=   0.1s\n",
            "[CV] END bootstrap=True, criterion=log_loss, max_features=sqrt, min_samples_leaf=2, min_samples_split=2, n_estimators=100; total time=   0.1s\n",
            "[CV] END bootstrap=True, criterion=log_loss, max_features=sqrt, min_samples_leaf=2, min_samples_split=2, n_estimators=200; total time=   0.4s\n",
            "[CV] END bootstrap=True, criterion=log_loss, max_features=sqrt, min_samples_leaf=2, min_samples_split=2, n_estimators=200; total time=   0.3s\n",
            "[CV] END bootstrap=True, criterion=log_loss, max_features=sqrt, min_samples_leaf=2, min_samples_split=2, n_estimators=200; total time=   0.3s\n",
            "[CV] END bootstrap=True, criterion=log_loss, max_features=sqrt, min_samples_leaf=2, min_samples_split=2, n_estimators=200; total time=   0.3s\n",
            "[CV] END bootstrap=True, criterion=log_loss, max_features=sqrt, min_samples_leaf=2, min_samples_split=2, n_estimators=200; total time=   0.4s\n",
            "[CV] END bootstrap=True, criterion=log_loss, max_features=sqrt, min_samples_leaf=2, min_samples_split=5, n_estimators=50; total time=   0.0s\n",
            "[CV] END bootstrap=True, criterion=log_loss, max_features=sqrt, min_samples_leaf=2, min_samples_split=5, n_estimators=50; total time=   0.0s\n",
            "[CV] END bootstrap=True, criterion=log_loss, max_features=sqrt, min_samples_leaf=2, min_samples_split=5, n_estimators=50; total time=   0.0s\n",
            "[CV] END bootstrap=True, criterion=log_loss, max_features=sqrt, min_samples_leaf=2, min_samples_split=5, n_estimators=50; total time=   0.0s\n",
            "[CV] END bootstrap=True, criterion=log_loss, max_features=sqrt, min_samples_leaf=2, min_samples_split=5, n_estimators=50; total time=   0.0s\n",
            "[CV] END bootstrap=True, criterion=log_loss, max_features=sqrt, min_samples_leaf=2, min_samples_split=5, n_estimators=100; total time=   0.1s\n",
            "[CV] END bootstrap=True, criterion=log_loss, max_features=sqrt, min_samples_leaf=2, min_samples_split=5, n_estimators=100; total time=   0.1s\n",
            "[CV] END bootstrap=True, criterion=log_loss, max_features=sqrt, min_samples_leaf=2, min_samples_split=5, n_estimators=100; total time=   0.1s\n",
            "[CV] END bootstrap=True, criterion=log_loss, max_features=sqrt, min_samples_leaf=2, min_samples_split=5, n_estimators=100; total time=   0.1s\n",
            "[CV] END bootstrap=True, criterion=log_loss, max_features=sqrt, min_samples_leaf=2, min_samples_split=5, n_estimators=100; total time=   0.1s\n",
            "[CV] END bootstrap=True, criterion=log_loss, max_features=sqrt, min_samples_leaf=2, min_samples_split=5, n_estimators=200; total time=   0.3s\n",
            "[CV] END bootstrap=True, criterion=log_loss, max_features=sqrt, min_samples_leaf=2, min_samples_split=5, n_estimators=200; total time=   0.4s\n",
            "[CV] END bootstrap=True, criterion=log_loss, max_features=sqrt, min_samples_leaf=2, min_samples_split=5, n_estimators=200; total time=   0.3s\n",
            "[CV] END bootstrap=True, criterion=log_loss, max_features=sqrt, min_samples_leaf=2, min_samples_split=5, n_estimators=200; total time=   0.3s\n",
            "[CV] END bootstrap=True, criterion=log_loss, max_features=sqrt, min_samples_leaf=2, min_samples_split=5, n_estimators=200; total time=   0.3s\n",
            "[CV] END bootstrap=True, criterion=log_loss, max_features=sqrt, min_samples_leaf=2, min_samples_split=10, n_estimators=50; total time=   0.0s\n",
            "[CV] END bootstrap=True, criterion=log_loss, max_features=sqrt, min_samples_leaf=2, min_samples_split=10, n_estimators=50; total time=   0.0s\n",
            "[CV] END bootstrap=True, criterion=log_loss, max_features=sqrt, min_samples_leaf=2, min_samples_split=10, n_estimators=50; total time=   0.0s\n",
            "[CV] END bootstrap=True, criterion=log_loss, max_features=sqrt, min_samples_leaf=2, min_samples_split=10, n_estimators=50; total time=   0.0s\n",
            "[CV] END bootstrap=True, criterion=log_loss, max_features=sqrt, min_samples_leaf=2, min_samples_split=10, n_estimators=50; total time=   0.0s\n",
            "[CV] END bootstrap=True, criterion=log_loss, max_features=sqrt, min_samples_leaf=2, min_samples_split=10, n_estimators=100; total time=   0.1s\n",
            "[CV] END bootstrap=True, criterion=log_loss, max_features=sqrt, min_samples_leaf=2, min_samples_split=10, n_estimators=100; total time=   0.1s\n",
            "[CV] END bootstrap=True, criterion=log_loss, max_features=sqrt, min_samples_leaf=2, min_samples_split=10, n_estimators=100; total time=   0.1s\n",
            "[CV] END bootstrap=True, criterion=log_loss, max_features=sqrt, min_samples_leaf=2, min_samples_split=10, n_estimators=100; total time=   0.1s\n",
            "[CV] END bootstrap=True, criterion=log_loss, max_features=sqrt, min_samples_leaf=2, min_samples_split=10, n_estimators=100; total time=   0.1s\n",
            "[CV] END bootstrap=True, criterion=log_loss, max_features=sqrt, min_samples_leaf=2, min_samples_split=10, n_estimators=200; total time=   0.3s\n",
            "[CV] END bootstrap=True, criterion=log_loss, max_features=sqrt, min_samples_leaf=2, min_samples_split=10, n_estimators=200; total time=   0.3s\n",
            "[CV] END bootstrap=True, criterion=log_loss, max_features=sqrt, min_samples_leaf=2, min_samples_split=10, n_estimators=200; total time=   0.3s\n",
            "[CV] END bootstrap=True, criterion=log_loss, max_features=sqrt, min_samples_leaf=2, min_samples_split=10, n_estimators=200; total time=   0.2s\n",
            "[CV] END bootstrap=True, criterion=log_loss, max_features=sqrt, min_samples_leaf=2, min_samples_split=10, n_estimators=200; total time=   0.2s\n",
            "[CV] END bootstrap=True, criterion=log_loss, max_features=sqrt, min_samples_leaf=4, min_samples_split=2, n_estimators=50; total time=   0.0s\n",
            "[CV] END bootstrap=True, criterion=log_loss, max_features=sqrt, min_samples_leaf=4, min_samples_split=2, n_estimators=50; total time=   0.0s\n",
            "[CV] END bootstrap=True, criterion=log_loss, max_features=sqrt, min_samples_leaf=4, min_samples_split=2, n_estimators=50; total time=   0.0s\n",
            "[CV] END bootstrap=True, criterion=log_loss, max_features=sqrt, min_samples_leaf=4, min_samples_split=2, n_estimators=50; total time=   0.0s\n",
            "[CV] END bootstrap=True, criterion=log_loss, max_features=sqrt, min_samples_leaf=4, min_samples_split=2, n_estimators=50; total time=   0.0s\n",
            "[CV] END bootstrap=True, criterion=log_loss, max_features=sqrt, min_samples_leaf=4, min_samples_split=2, n_estimators=100; total time=   0.1s\n",
            "[CV] END bootstrap=True, criterion=log_loss, max_features=sqrt, min_samples_leaf=4, min_samples_split=2, n_estimators=100; total time=   0.1s\n",
            "[CV] END bootstrap=True, criterion=log_loss, max_features=sqrt, min_samples_leaf=4, min_samples_split=2, n_estimators=100; total time=   0.1s\n",
            "[CV] END bootstrap=True, criterion=log_loss, max_features=sqrt, min_samples_leaf=4, min_samples_split=2, n_estimators=100; total time=   0.1s\n",
            "[CV] END bootstrap=True, criterion=log_loss, max_features=sqrt, min_samples_leaf=4, min_samples_split=2, n_estimators=100; total time=   0.1s\n",
            "[CV] END bootstrap=True, criterion=log_loss, max_features=sqrt, min_samples_leaf=4, min_samples_split=2, n_estimators=200; total time=   0.2s\n",
            "[CV] END bootstrap=True, criterion=log_loss, max_features=sqrt, min_samples_leaf=4, min_samples_split=2, n_estimators=200; total time=   0.2s\n",
            "[CV] END bootstrap=True, criterion=log_loss, max_features=sqrt, min_samples_leaf=4, min_samples_split=2, n_estimators=200; total time=   0.2s\n",
            "[CV] END bootstrap=True, criterion=log_loss, max_features=sqrt, min_samples_leaf=4, min_samples_split=2, n_estimators=200; total time=   0.2s\n",
            "[CV] END bootstrap=True, criterion=log_loss, max_features=sqrt, min_samples_leaf=4, min_samples_split=2, n_estimators=200; total time=   0.2s\n",
            "[CV] END bootstrap=True, criterion=log_loss, max_features=sqrt, min_samples_leaf=4, min_samples_split=5, n_estimators=50; total time=   0.0s\n",
            "[CV] END bootstrap=True, criterion=log_loss, max_features=sqrt, min_samples_leaf=4, min_samples_split=5, n_estimators=50; total time=   0.0s\n",
            "[CV] END bootstrap=True, criterion=log_loss, max_features=sqrt, min_samples_leaf=4, min_samples_split=5, n_estimators=50; total time=   0.0s\n",
            "[CV] END bootstrap=True, criterion=log_loss, max_features=sqrt, min_samples_leaf=4, min_samples_split=5, n_estimators=50; total time=   0.0s\n",
            "[CV] END bootstrap=True, criterion=log_loss, max_features=sqrt, min_samples_leaf=4, min_samples_split=5, n_estimators=50; total time=   0.0s\n",
            "[CV] END bootstrap=True, criterion=log_loss, max_features=sqrt, min_samples_leaf=4, min_samples_split=5, n_estimators=100; total time=   0.1s\n",
            "[CV] END bootstrap=True, criterion=log_loss, max_features=sqrt, min_samples_leaf=4, min_samples_split=5, n_estimators=100; total time=   0.1s\n",
            "[CV] END bootstrap=True, criterion=log_loss, max_features=sqrt, min_samples_leaf=4, min_samples_split=5, n_estimators=100; total time=   0.1s\n",
            "[CV] END bootstrap=True, criterion=log_loss, max_features=sqrt, min_samples_leaf=4, min_samples_split=5, n_estimators=100; total time=   0.1s\n",
            "[CV] END bootstrap=True, criterion=log_loss, max_features=sqrt, min_samples_leaf=4, min_samples_split=5, n_estimators=100; total time=   0.1s\n",
            "[CV] END bootstrap=True, criterion=log_loss, max_features=sqrt, min_samples_leaf=4, min_samples_split=5, n_estimators=200; total time=   0.2s\n",
            "[CV] END bootstrap=True, criterion=log_loss, max_features=sqrt, min_samples_leaf=4, min_samples_split=5, n_estimators=200; total time=   0.2s\n",
            "[CV] END bootstrap=True, criterion=log_loss, max_features=sqrt, min_samples_leaf=4, min_samples_split=5, n_estimators=200; total time=   0.2s\n",
            "[CV] END bootstrap=True, criterion=log_loss, max_features=sqrt, min_samples_leaf=4, min_samples_split=5, n_estimators=200; total time=   0.2s\n",
            "[CV] END bootstrap=True, criterion=log_loss, max_features=sqrt, min_samples_leaf=4, min_samples_split=5, n_estimators=200; total time=   0.2s\n",
            "[CV] END bootstrap=True, criterion=log_loss, max_features=sqrt, min_samples_leaf=4, min_samples_split=10, n_estimators=50; total time=   0.0s\n",
            "[CV] END bootstrap=True, criterion=log_loss, max_features=sqrt, min_samples_leaf=4, min_samples_split=10, n_estimators=50; total time=   0.0s\n",
            "[CV] END bootstrap=True, criterion=log_loss, max_features=sqrt, min_samples_leaf=4, min_samples_split=10, n_estimators=50; total time=   0.0s\n",
            "[CV] END bootstrap=True, criterion=log_loss, max_features=sqrt, min_samples_leaf=4, min_samples_split=10, n_estimators=50; total time=   0.0s\n",
            "[CV] END bootstrap=True, criterion=log_loss, max_features=sqrt, min_samples_leaf=4, min_samples_split=10, n_estimators=50; total time=   0.0s\n",
            "[CV] END bootstrap=True, criterion=log_loss, max_features=sqrt, min_samples_leaf=4, min_samples_split=10, n_estimators=100; total time=   0.1s\n",
            "[CV] END bootstrap=True, criterion=log_loss, max_features=sqrt, min_samples_leaf=4, min_samples_split=10, n_estimators=100; total time=   0.1s\n",
            "[CV] END bootstrap=True, criterion=log_loss, max_features=sqrt, min_samples_leaf=4, min_samples_split=10, n_estimators=100; total time=   0.1s\n",
            "[CV] END bootstrap=True, criterion=log_loss, max_features=sqrt, min_samples_leaf=4, min_samples_split=10, n_estimators=100; total time=   0.1s\n",
            "[CV] END bootstrap=True, criterion=log_loss, max_features=sqrt, min_samples_leaf=4, min_samples_split=10, n_estimators=100; total time=   0.1s\n",
            "[CV] END bootstrap=True, criterion=log_loss, max_features=sqrt, min_samples_leaf=4, min_samples_split=10, n_estimators=200; total time=   0.2s\n",
            "[CV] END bootstrap=True, criterion=log_loss, max_features=sqrt, min_samples_leaf=4, min_samples_split=10, n_estimators=200; total time=   0.2s\n",
            "[CV] END bootstrap=True, criterion=log_loss, max_features=sqrt, min_samples_leaf=4, min_samples_split=10, n_estimators=200; total time=   0.2s\n",
            "[CV] END bootstrap=True, criterion=log_loss, max_features=sqrt, min_samples_leaf=4, min_samples_split=10, n_estimators=200; total time=   0.2s\n",
            "[CV] END bootstrap=True, criterion=log_loss, max_features=sqrt, min_samples_leaf=4, min_samples_split=10, n_estimators=200; total time=   0.2s\n",
            "[CV] END bootstrap=True, criterion=log_loss, max_features=log2, min_samples_leaf=1, min_samples_split=2, n_estimators=50; total time=   0.0s\n",
            "[CV] END bootstrap=True, criterion=log_loss, max_features=log2, min_samples_leaf=1, min_samples_split=2, n_estimators=50; total time=   0.0s\n",
            "[CV] END bootstrap=True, criterion=log_loss, max_features=log2, min_samples_leaf=1, min_samples_split=2, n_estimators=50; total time=   0.0s\n",
            "[CV] END bootstrap=True, criterion=log_loss, max_features=log2, min_samples_leaf=1, min_samples_split=2, n_estimators=50; total time=   0.0s\n",
            "[CV] END bootstrap=True, criterion=log_loss, max_features=log2, min_samples_leaf=1, min_samples_split=2, n_estimators=50; total time=   0.0s\n",
            "[CV] END bootstrap=True, criterion=log_loss, max_features=log2, min_samples_leaf=1, min_samples_split=2, n_estimators=100; total time=   0.1s\n",
            "[CV] END bootstrap=True, criterion=log_loss, max_features=log2, min_samples_leaf=1, min_samples_split=2, n_estimators=100; total time=   0.2s\n",
            "[CV] END bootstrap=True, criterion=log_loss, max_features=log2, min_samples_leaf=1, min_samples_split=2, n_estimators=100; total time=   0.2s\n",
            "[CV] END bootstrap=True, criterion=log_loss, max_features=log2, min_samples_leaf=1, min_samples_split=2, n_estimators=100; total time=   0.1s\n",
            "[CV] END bootstrap=True, criterion=log_loss, max_features=log2, min_samples_leaf=1, min_samples_split=2, n_estimators=100; total time=   0.2s\n",
            "[CV] END bootstrap=True, criterion=log_loss, max_features=log2, min_samples_leaf=1, min_samples_split=2, n_estimators=200; total time=   0.4s\n",
            "[CV] END bootstrap=True, criterion=log_loss, max_features=log2, min_samples_leaf=1, min_samples_split=2, n_estimators=200; total time=   0.4s\n",
            "[CV] END bootstrap=True, criterion=log_loss, max_features=log2, min_samples_leaf=1, min_samples_split=2, n_estimators=200; total time=   0.4s\n",
            "[CV] END bootstrap=True, criterion=log_loss, max_features=log2, min_samples_leaf=1, min_samples_split=2, n_estimators=200; total time=   0.4s\n",
            "[CV] END bootstrap=True, criterion=log_loss, max_features=log2, min_samples_leaf=1, min_samples_split=2, n_estimators=200; total time=   0.4s\n",
            "[CV] END bootstrap=True, criterion=log_loss, max_features=log2, min_samples_leaf=1, min_samples_split=5, n_estimators=50; total time=   0.0s\n",
            "[CV] END bootstrap=True, criterion=log_loss, max_features=log2, min_samples_leaf=1, min_samples_split=5, n_estimators=50; total time=   0.0s\n",
            "[CV] END bootstrap=True, criterion=log_loss, max_features=log2, min_samples_leaf=1, min_samples_split=5, n_estimators=50; total time=   0.0s\n",
            "[CV] END bootstrap=True, criterion=log_loss, max_features=log2, min_samples_leaf=1, min_samples_split=5, n_estimators=50; total time=   0.0s\n",
            "[CV] END bootstrap=True, criterion=log_loss, max_features=log2, min_samples_leaf=1, min_samples_split=5, n_estimators=50; total time=   0.0s\n",
            "[CV] END bootstrap=True, criterion=log_loss, max_features=log2, min_samples_leaf=1, min_samples_split=5, n_estimators=100; total time=   0.1s\n",
            "[CV] END bootstrap=True, criterion=log_loss, max_features=log2, min_samples_leaf=1, min_samples_split=5, n_estimators=100; total time=   0.1s\n",
            "[CV] END bootstrap=True, criterion=log_loss, max_features=log2, min_samples_leaf=1, min_samples_split=5, n_estimators=100; total time=   0.1s\n",
            "[CV] END bootstrap=True, criterion=log_loss, max_features=log2, min_samples_leaf=1, min_samples_split=5, n_estimators=100; total time=   0.1s\n",
            "[CV] END bootstrap=True, criterion=log_loss, max_features=log2, min_samples_leaf=1, min_samples_split=5, n_estimators=100; total time=   0.1s\n",
            "[CV] END bootstrap=True, criterion=log_loss, max_features=log2, min_samples_leaf=1, min_samples_split=5, n_estimators=200; total time=   0.3s\n",
            "[CV] END bootstrap=True, criterion=log_loss, max_features=log2, min_samples_leaf=1, min_samples_split=5, n_estimators=200; total time=   0.3s\n",
            "[CV] END bootstrap=True, criterion=log_loss, max_features=log2, min_samples_leaf=1, min_samples_split=5, n_estimators=200; total time=   0.3s\n",
            "[CV] END bootstrap=True, criterion=log_loss, max_features=log2, min_samples_leaf=1, min_samples_split=5, n_estimators=200; total time=   0.3s\n",
            "[CV] END bootstrap=True, criterion=log_loss, max_features=log2, min_samples_leaf=1, min_samples_split=5, n_estimators=200; total time=   0.3s\n",
            "[CV] END bootstrap=True, criterion=log_loss, max_features=log2, min_samples_leaf=1, min_samples_split=10, n_estimators=50; total time=   0.0s\n",
            "[CV] END bootstrap=True, criterion=log_loss, max_features=log2, min_samples_leaf=1, min_samples_split=10, n_estimators=50; total time=   0.0s\n",
            "[CV] END bootstrap=True, criterion=log_loss, max_features=log2, min_samples_leaf=1, min_samples_split=10, n_estimators=50; total time=   0.0s\n",
            "[CV] END bootstrap=True, criterion=log_loss, max_features=log2, min_samples_leaf=1, min_samples_split=10, n_estimators=50; total time=   0.0s\n",
            "[CV] END bootstrap=True, criterion=log_loss, max_features=log2, min_samples_leaf=1, min_samples_split=10, n_estimators=50; total time=   0.0s\n",
            "[CV] END bootstrap=True, criterion=log_loss, max_features=log2, min_samples_leaf=1, min_samples_split=10, n_estimators=100; total time=   0.1s\n",
            "[CV] END bootstrap=True, criterion=log_loss, max_features=log2, min_samples_leaf=1, min_samples_split=10, n_estimators=100; total time=   0.1s\n",
            "[CV] END bootstrap=True, criterion=log_loss, max_features=log2, min_samples_leaf=1, min_samples_split=10, n_estimators=100; total time=   0.1s\n",
            "[CV] END bootstrap=True, criterion=log_loss, max_features=log2, min_samples_leaf=1, min_samples_split=10, n_estimators=100; total time=   0.1s\n",
            "[CV] END bootstrap=True, criterion=log_loss, max_features=log2, min_samples_leaf=1, min_samples_split=10, n_estimators=100; total time=   0.1s\n",
            "[CV] END bootstrap=True, criterion=log_loss, max_features=log2, min_samples_leaf=1, min_samples_split=10, n_estimators=200; total time=   0.3s\n",
            "[CV] END bootstrap=True, criterion=log_loss, max_features=log2, min_samples_leaf=1, min_samples_split=10, n_estimators=200; total time=   0.3s\n",
            "[CV] END bootstrap=True, criterion=log_loss, max_features=log2, min_samples_leaf=1, min_samples_split=10, n_estimators=200; total time=   0.3s\n",
            "[CV] END bootstrap=True, criterion=log_loss, max_features=log2, min_samples_leaf=1, min_samples_split=10, n_estimators=200; total time=   0.3s\n",
            "[CV] END bootstrap=True, criterion=log_loss, max_features=log2, min_samples_leaf=1, min_samples_split=10, n_estimators=200; total time=   0.3s\n",
            "[CV] END bootstrap=True, criterion=log_loss, max_features=log2, min_samples_leaf=2, min_samples_split=2, n_estimators=50; total time=   0.0s\n",
            "[CV] END bootstrap=True, criterion=log_loss, max_features=log2, min_samples_leaf=2, min_samples_split=2, n_estimators=50; total time=   0.0s\n",
            "[CV] END bootstrap=True, criterion=log_loss, max_features=log2, min_samples_leaf=2, min_samples_split=2, n_estimators=50; total time=   0.0s\n",
            "[CV] END bootstrap=True, criterion=log_loss, max_features=log2, min_samples_leaf=2, min_samples_split=2, n_estimators=50; total time=   0.0s\n",
            "[CV] END bootstrap=True, criterion=log_loss, max_features=log2, min_samples_leaf=2, min_samples_split=2, n_estimators=50; total time=   0.0s\n",
            "[CV] END bootstrap=True, criterion=log_loss, max_features=log2, min_samples_leaf=2, min_samples_split=2, n_estimators=100; total time=   0.1s\n",
            "[CV] END bootstrap=True, criterion=log_loss, max_features=log2, min_samples_leaf=2, min_samples_split=2, n_estimators=100; total time=   0.1s\n",
            "[CV] END bootstrap=True, criterion=log_loss, max_features=log2, min_samples_leaf=2, min_samples_split=2, n_estimators=100; total time=   0.1s\n",
            "[CV] END bootstrap=True, criterion=log_loss, max_features=log2, min_samples_leaf=2, min_samples_split=2, n_estimators=100; total time=   0.1s\n",
            "[CV] END bootstrap=True, criterion=log_loss, max_features=log2, min_samples_leaf=2, min_samples_split=2, n_estimators=100; total time=   0.1s\n",
            "[CV] END bootstrap=True, criterion=log_loss, max_features=log2, min_samples_leaf=2, min_samples_split=2, n_estimators=200; total time=   0.3s\n",
            "[CV] END bootstrap=True, criterion=log_loss, max_features=log2, min_samples_leaf=2, min_samples_split=2, n_estimators=200; total time=   0.3s\n",
            "[CV] END bootstrap=True, criterion=log_loss, max_features=log2, min_samples_leaf=2, min_samples_split=2, n_estimators=200; total time=   0.3s\n",
            "[CV] END bootstrap=True, criterion=log_loss, max_features=log2, min_samples_leaf=2, min_samples_split=2, n_estimators=200; total time=   0.3s\n",
            "[CV] END bootstrap=True, criterion=log_loss, max_features=log2, min_samples_leaf=2, min_samples_split=2, n_estimators=200; total time=   0.3s\n",
            "[CV] END bootstrap=True, criterion=log_loss, max_features=log2, min_samples_leaf=2, min_samples_split=5, n_estimators=50; total time=   0.0s\n",
            "[CV] END bootstrap=True, criterion=log_loss, max_features=log2, min_samples_leaf=2, min_samples_split=5, n_estimators=50; total time=   0.0s\n",
            "[CV] END bootstrap=True, criterion=log_loss, max_features=log2, min_samples_leaf=2, min_samples_split=5, n_estimators=50; total time=   0.0s\n",
            "[CV] END bootstrap=True, criterion=log_loss, max_features=log2, min_samples_leaf=2, min_samples_split=5, n_estimators=50; total time=   0.0s\n",
            "[CV] END bootstrap=True, criterion=log_loss, max_features=log2, min_samples_leaf=2, min_samples_split=5, n_estimators=50; total time=   0.0s\n",
            "[CV] END bootstrap=True, criterion=log_loss, max_features=log2, min_samples_leaf=2, min_samples_split=5, n_estimators=100; total time=   0.1s\n",
            "[CV] END bootstrap=True, criterion=log_loss, max_features=log2, min_samples_leaf=2, min_samples_split=5, n_estimators=100; total time=   0.1s\n",
            "[CV] END bootstrap=True, criterion=log_loss, max_features=log2, min_samples_leaf=2, min_samples_split=5, n_estimators=100; total time=   0.1s\n",
            "[CV] END bootstrap=True, criterion=log_loss, max_features=log2, min_samples_leaf=2, min_samples_split=5, n_estimators=100; total time=   0.1s\n",
            "[CV] END bootstrap=True, criterion=log_loss, max_features=log2, min_samples_leaf=2, min_samples_split=5, n_estimators=100; total time=   0.1s\n",
            "[CV] END bootstrap=True, criterion=log_loss, max_features=log2, min_samples_leaf=2, min_samples_split=5, n_estimators=200; total time=   0.3s\n",
            "[CV] END bootstrap=True, criterion=log_loss, max_features=log2, min_samples_leaf=2, min_samples_split=5, n_estimators=200; total time=   0.3s\n",
            "[CV] END bootstrap=True, criterion=log_loss, max_features=log2, min_samples_leaf=2, min_samples_split=5, n_estimators=200; total time=   0.3s\n",
            "[CV] END bootstrap=True, criterion=log_loss, max_features=log2, min_samples_leaf=2, min_samples_split=5, n_estimators=200; total time=   0.3s\n",
            "[CV] END bootstrap=True, criterion=log_loss, max_features=log2, min_samples_leaf=2, min_samples_split=5, n_estimators=200; total time=   0.3s\n",
            "[CV] END bootstrap=True, criterion=log_loss, max_features=log2, min_samples_leaf=2, min_samples_split=10, n_estimators=50; total time=   0.0s\n",
            "[CV] END bootstrap=True, criterion=log_loss, max_features=log2, min_samples_leaf=2, min_samples_split=10, n_estimators=50; total time=   0.0s\n",
            "[CV] END bootstrap=True, criterion=log_loss, max_features=log2, min_samples_leaf=2, min_samples_split=10, n_estimators=50; total time=   0.0s\n",
            "[CV] END bootstrap=True, criterion=log_loss, max_features=log2, min_samples_leaf=2, min_samples_split=10, n_estimators=50; total time=   0.0s\n",
            "[CV] END bootstrap=True, criterion=log_loss, max_features=log2, min_samples_leaf=2, min_samples_split=10, n_estimators=50; total time=   0.0s\n",
            "[CV] END bootstrap=True, criterion=log_loss, max_features=log2, min_samples_leaf=2, min_samples_split=10, n_estimators=100; total time=   0.1s\n",
            "[CV] END bootstrap=True, criterion=log_loss, max_features=log2, min_samples_leaf=2, min_samples_split=10, n_estimators=100; total time=   0.1s\n",
            "[CV] END bootstrap=True, criterion=log_loss, max_features=log2, min_samples_leaf=2, min_samples_split=10, n_estimators=100; total time=   0.1s\n",
            "[CV] END bootstrap=True, criterion=log_loss, max_features=log2, min_samples_leaf=2, min_samples_split=10, n_estimators=100; total time=   0.1s\n",
            "[CV] END bootstrap=True, criterion=log_loss, max_features=log2, min_samples_leaf=2, min_samples_split=10, n_estimators=100; total time=   0.1s\n",
            "[CV] END bootstrap=True, criterion=log_loss, max_features=log2, min_samples_leaf=2, min_samples_split=10, n_estimators=200; total time=   0.2s\n",
            "[CV] END bootstrap=True, criterion=log_loss, max_features=log2, min_samples_leaf=2, min_samples_split=10, n_estimators=200; total time=   0.2s\n",
            "[CV] END bootstrap=True, criterion=log_loss, max_features=log2, min_samples_leaf=2, min_samples_split=10, n_estimators=200; total time=   0.2s\n",
            "[CV] END bootstrap=True, criterion=log_loss, max_features=log2, min_samples_leaf=2, min_samples_split=10, n_estimators=200; total time=   0.3s\n",
            "[CV] END bootstrap=True, criterion=log_loss, max_features=log2, min_samples_leaf=2, min_samples_split=10, n_estimators=200; total time=   0.3s\n",
            "[CV] END bootstrap=True, criterion=log_loss, max_features=log2, min_samples_leaf=4, min_samples_split=2, n_estimators=50; total time=   0.0s\n",
            "[CV] END bootstrap=True, criterion=log_loss, max_features=log2, min_samples_leaf=4, min_samples_split=2, n_estimators=50; total time=   0.0s\n",
            "[CV] END bootstrap=True, criterion=log_loss, max_features=log2, min_samples_leaf=4, min_samples_split=2, n_estimators=50; total time=   0.0s\n",
            "[CV] END bootstrap=True, criterion=log_loss, max_features=log2, min_samples_leaf=4, min_samples_split=2, n_estimators=50; total time=   0.0s\n",
            "[CV] END bootstrap=True, criterion=log_loss, max_features=log2, min_samples_leaf=4, min_samples_split=2, n_estimators=50; total time=   0.0s\n",
            "[CV] END bootstrap=True, criterion=log_loss, max_features=log2, min_samples_leaf=4, min_samples_split=2, n_estimators=100; total time=   0.1s\n",
            "[CV] END bootstrap=True, criterion=log_loss, max_features=log2, min_samples_leaf=4, min_samples_split=2, n_estimators=100; total time=   0.1s\n",
            "[CV] END bootstrap=True, criterion=log_loss, max_features=log2, min_samples_leaf=4, min_samples_split=2, n_estimators=100; total time=   0.1s\n",
            "[CV] END bootstrap=True, criterion=log_loss, max_features=log2, min_samples_leaf=4, min_samples_split=2, n_estimators=100; total time=   0.1s\n",
            "[CV] END bootstrap=True, criterion=log_loss, max_features=log2, min_samples_leaf=4, min_samples_split=2, n_estimators=100; total time=   0.1s\n",
            "[CV] END bootstrap=True, criterion=log_loss, max_features=log2, min_samples_leaf=4, min_samples_split=2, n_estimators=200; total time=   0.2s\n",
            "[CV] END bootstrap=True, criterion=log_loss, max_features=log2, min_samples_leaf=4, min_samples_split=2, n_estimators=200; total time=   0.2s\n",
            "[CV] END bootstrap=True, criterion=log_loss, max_features=log2, min_samples_leaf=4, min_samples_split=2, n_estimators=200; total time=   0.2s\n",
            "[CV] END bootstrap=True, criterion=log_loss, max_features=log2, min_samples_leaf=4, min_samples_split=2, n_estimators=200; total time=   0.2s\n",
            "[CV] END bootstrap=True, criterion=log_loss, max_features=log2, min_samples_leaf=4, min_samples_split=2, n_estimators=200; total time=   0.2s\n",
            "[CV] END bootstrap=True, criterion=log_loss, max_features=log2, min_samples_leaf=4, min_samples_split=5, n_estimators=50; total time=   0.0s\n",
            "[CV] END bootstrap=True, criterion=log_loss, max_features=log2, min_samples_leaf=4, min_samples_split=5, n_estimators=50; total time=   0.0s\n",
            "[CV] END bootstrap=True, criterion=log_loss, max_features=log2, min_samples_leaf=4, min_samples_split=5, n_estimators=50; total time=   0.0s\n",
            "[CV] END bootstrap=True, criterion=log_loss, max_features=log2, min_samples_leaf=4, min_samples_split=5, n_estimators=50; total time=   0.0s\n",
            "[CV] END bootstrap=True, criterion=log_loss, max_features=log2, min_samples_leaf=4, min_samples_split=5, n_estimators=50; total time=   0.0s\n",
            "[CV] END bootstrap=True, criterion=log_loss, max_features=log2, min_samples_leaf=4, min_samples_split=5, n_estimators=100; total time=   0.1s\n",
            "[CV] END bootstrap=True, criterion=log_loss, max_features=log2, min_samples_leaf=4, min_samples_split=5, n_estimators=100; total time=   0.1s\n",
            "[CV] END bootstrap=True, criterion=log_loss, max_features=log2, min_samples_leaf=4, min_samples_split=5, n_estimators=100; total time=   0.1s\n",
            "[CV] END bootstrap=True, criterion=log_loss, max_features=log2, min_samples_leaf=4, min_samples_split=5, n_estimators=100; total time=   0.1s\n",
            "[CV] END bootstrap=True, criterion=log_loss, max_features=log2, min_samples_leaf=4, min_samples_split=5, n_estimators=100; total time=   0.1s\n",
            "[CV] END bootstrap=True, criterion=log_loss, max_features=log2, min_samples_leaf=4, min_samples_split=5, n_estimators=200; total time=   0.2s\n",
            "[CV] END bootstrap=True, criterion=log_loss, max_features=log2, min_samples_leaf=4, min_samples_split=5, n_estimators=200; total time=   0.2s\n",
            "[CV] END bootstrap=True, criterion=log_loss, max_features=log2, min_samples_leaf=4, min_samples_split=5, n_estimators=200; total time=   0.2s\n",
            "[CV] END bootstrap=True, criterion=log_loss, max_features=log2, min_samples_leaf=4, min_samples_split=5, n_estimators=200; total time=   0.2s\n",
            "[CV] END bootstrap=True, criterion=log_loss, max_features=log2, min_samples_leaf=4, min_samples_split=5, n_estimators=200; total time=   0.2s\n",
            "[CV] END bootstrap=True, criterion=log_loss, max_features=log2, min_samples_leaf=4, min_samples_split=10, n_estimators=50; total time=   0.0s\n",
            "[CV] END bootstrap=True, criterion=log_loss, max_features=log2, min_samples_leaf=4, min_samples_split=10, n_estimators=50; total time=   0.0s\n",
            "[CV] END bootstrap=True, criterion=log_loss, max_features=log2, min_samples_leaf=4, min_samples_split=10, n_estimators=50; total time=   0.0s\n",
            "[CV] END bootstrap=True, criterion=log_loss, max_features=log2, min_samples_leaf=4, min_samples_split=10, n_estimators=50; total time=   0.0s\n",
            "[CV] END bootstrap=True, criterion=log_loss, max_features=log2, min_samples_leaf=4, min_samples_split=10, n_estimators=50; total time=   0.0s\n",
            "[CV] END bootstrap=True, criterion=log_loss, max_features=log2, min_samples_leaf=4, min_samples_split=10, n_estimators=100; total time=   0.1s\n",
            "[CV] END bootstrap=True, criterion=log_loss, max_features=log2, min_samples_leaf=4, min_samples_split=10, n_estimators=100; total time=   0.1s\n",
            "[CV] END bootstrap=True, criterion=log_loss, max_features=log2, min_samples_leaf=4, min_samples_split=10, n_estimators=100; total time=   0.1s\n",
            "[CV] END bootstrap=True, criterion=log_loss, max_features=log2, min_samples_leaf=4, min_samples_split=10, n_estimators=100; total time=   0.1s\n",
            "[CV] END bootstrap=True, criterion=log_loss, max_features=log2, min_samples_leaf=4, min_samples_split=10, n_estimators=100; total time=   0.1s\n",
            "[CV] END bootstrap=True, criterion=log_loss, max_features=log2, min_samples_leaf=4, min_samples_split=10, n_estimators=200; total time=   0.2s\n",
            "[CV] END bootstrap=True, criterion=log_loss, max_features=log2, min_samples_leaf=4, min_samples_split=10, n_estimators=200; total time=   0.2s\n",
            "[CV] END bootstrap=True, criterion=log_loss, max_features=log2, min_samples_leaf=4, min_samples_split=10, n_estimators=200; total time=   0.2s\n",
            "[CV] END bootstrap=True, criterion=log_loss, max_features=log2, min_samples_leaf=4, min_samples_split=10, n_estimators=200; total time=   0.2s\n",
            "[CV] END bootstrap=True, criterion=log_loss, max_features=log2, min_samples_leaf=4, min_samples_split=10, n_estimators=200; total time=   0.2s\n",
            "Tiempo de ejecución: 404.5236232280731 segundos\n"
          ]
        }
      ],
      "source": [
        "from sklearn.model_selection import GridSearchCV\n",
        "from sklearn.ensemble import ExtraTreesClassifier\n",
        "import time\n",
        "\n",
        "start_time = time.time()\n",
        "\n",
        "param_grid = [\n",
        "    {'criterion': ['gini', 'entropy', 'log_loss'],\n",
        "     'bootstrap': [False, True],\n",
        "     'max_features': ['sqrt', 'log2'],\n",
        "     'n_estimators': [50, 100, 200],\n",
        "     'min_samples_split': [2, 5, 10],\n",
        "     'min_samples_leaf': [1, 2, 4]}\n",
        "]\n",
        "\n",
        "extra_reg = ExtraTreesClassifier()\n",
        "\n",
        "grid_search = GridSearchCV(extra_reg, param_grid, cv=5,\n",
        "                           scoring='neg_mean_squared_error',\n",
        "                           return_train_score=True, n_jobs=1, verbose = 2)\n",
        "\n",
        "grid_search.fit(red_wine_prepared, y_train)\n",
        "\n",
        "end_time = time.time()\n",
        "execution_time_sequential = end_time - start_time\n",
        "print(\"Tiempo de ejecución: {} segundos\".format(execution_time_sequential))"
      ]
    },
    {
      "cell_type": "code",
      "execution_count": 24,
      "metadata": {
        "id": "7eLnWyt6u_su"
      },
      "outputs": [],
      "source": [
        "extra_best_search = grid_search.best_estimator_"
      ]
    },
    {
      "cell_type": "code",
      "execution_count": 25,
      "metadata": {
        "colab": {
          "base_uri": "https://localhost:8080/"
        },
        "id": "VQAJ6dMGvC1L",
        "outputId": "964078f6-edac-4c73-bd4f-d7be9107f0f1"
      },
      "outputs": [
        {
          "name": "stdout",
          "output_type": "stream",
          "text": [
            "0.749073501808141 {'bootstrap': False, 'criterion': 'gini', 'max_features': 'sqrt', 'min_samples_leaf': 1, 'min_samples_split': 2, 'n_estimators': 50}\n",
            "0.7153446039153534 {'bootstrap': False, 'criterion': 'gini', 'max_features': 'sqrt', 'min_samples_leaf': 1, 'min_samples_split': 2, 'n_estimators': 100}\n",
            "0.7100090981314079 {'bootstrap': False, 'criterion': 'gini', 'max_features': 'sqrt', 'min_samples_leaf': 1, 'min_samples_split': 2, 'n_estimators': 200}\n",
            "0.7245792360528052 {'bootstrap': False, 'criterion': 'gini', 'max_features': 'sqrt', 'min_samples_leaf': 1, 'min_samples_split': 5, 'n_estimators': 50}\n",
            "0.7126684524280533 {'bootstrap': False, 'criterion': 'gini', 'max_features': 'sqrt', 'min_samples_leaf': 1, 'min_samples_split': 5, 'n_estimators': 100}\n",
            "0.7184234184361786 {'bootstrap': False, 'criterion': 'gini', 'max_features': 'sqrt', 'min_samples_leaf': 1, 'min_samples_split': 5, 'n_estimators': 200}\n",
            "0.741850100241044 {'bootstrap': False, 'criterion': 'gini', 'max_features': 'sqrt', 'min_samples_leaf': 1, 'min_samples_split': 10, 'n_estimators': 50}\n",
            "0.7397250085036644 {'bootstrap': False, 'criterion': 'gini', 'max_features': 'sqrt', 'min_samples_leaf': 1, 'min_samples_split': 10, 'n_estimators': 100}\n",
            "0.7397222922967208 {'bootstrap': False, 'criterion': 'gini', 'max_features': 'sqrt', 'min_samples_leaf': 1, 'min_samples_split': 10, 'n_estimators': 200}\n",
            "0.7166621108115983 {'bootstrap': False, 'criterion': 'gini', 'max_features': 'sqrt', 'min_samples_leaf': 2, 'min_samples_split': 2, 'n_estimators': 50}\n",
            "0.7276203573073621 {'bootstrap': False, 'criterion': 'gini', 'max_features': 'sqrt', 'min_samples_leaf': 2, 'min_samples_split': 2, 'n_estimators': 100}\n",
            "0.7263365597786794 {'bootstrap': False, 'criterion': 'gini', 'max_features': 'sqrt', 'min_samples_leaf': 2, 'min_samples_split': 2, 'n_estimators': 200}\n",
            "0.7452710736886776 {'bootstrap': False, 'criterion': 'gini', 'max_features': 'sqrt', 'min_samples_leaf': 2, 'min_samples_split': 5, 'n_estimators': 50}\n",
            "0.7232580939360738 {'bootstrap': False, 'criterion': 'gini', 'max_features': 'sqrt', 'min_samples_leaf': 2, 'min_samples_split': 5, 'n_estimators': 100}\n",
            "0.722828758771212 {'bootstrap': False, 'criterion': 'gini', 'max_features': 'sqrt', 'min_samples_leaf': 2, 'min_samples_split': 5, 'n_estimators': 200}\n",
            "0.7628979361622384 {'bootstrap': False, 'criterion': 'gini', 'max_features': 'sqrt', 'min_samples_leaf': 2, 'min_samples_split': 10, 'n_estimators': 50}\n",
            "0.7380036498426229 {'bootstrap': False, 'criterion': 'gini', 'max_features': 'sqrt', 'min_samples_leaf': 2, 'min_samples_split': 10, 'n_estimators': 100}\n",
            "0.7511801711893794 {'bootstrap': False, 'criterion': 'gini', 'max_features': 'sqrt', 'min_samples_leaf': 2, 'min_samples_split': 10, 'n_estimators': 200}\n",
            "0.7817321046135718 {'bootstrap': False, 'criterion': 'gini', 'max_features': 'sqrt', 'min_samples_leaf': 4, 'min_samples_split': 2, 'n_estimators': 50}\n",
            "0.7780931649083384 {'bootstrap': False, 'criterion': 'gini', 'max_features': 'sqrt', 'min_samples_leaf': 4, 'min_samples_split': 2, 'n_estimators': 100}\n",
            "0.778904863779505 {'bootstrap': False, 'criterion': 'gini', 'max_features': 'sqrt', 'min_samples_leaf': 4, 'min_samples_split': 2, 'n_estimators': 200}\n",
            "0.7902014453870241 {'bootstrap': False, 'criterion': 'gini', 'max_features': 'sqrt', 'min_samples_leaf': 4, 'min_samples_split': 5, 'n_estimators': 50}\n",
            "0.7841815652932621 {'bootstrap': False, 'criterion': 'gini', 'max_features': 'sqrt', 'min_samples_leaf': 4, 'min_samples_split': 5, 'n_estimators': 100}\n",
            "0.7841764408446152 {'bootstrap': False, 'criterion': 'gini', 'max_features': 'sqrt', 'min_samples_leaf': 4, 'min_samples_split': 5, 'n_estimators': 200}\n",
            "0.7781073672345905 {'bootstrap': False, 'criterion': 'gini', 'max_features': 'sqrt', 'min_samples_leaf': 4, 'min_samples_split': 10, 'n_estimators': 50}\n",
            "0.7756387245248393 {'bootstrap': False, 'criterion': 'gini', 'max_features': 'sqrt', 'min_samples_leaf': 4, 'min_samples_split': 10, 'n_estimators': 100}\n",
            "0.7877936574349885 {'bootstrap': False, 'criterion': 'gini', 'max_features': 'sqrt', 'min_samples_leaf': 4, 'min_samples_split': 10, 'n_estimators': 200}\n",
            "0.7054923881551283 {'bootstrap': False, 'criterion': 'gini', 'max_features': 'log2', 'min_samples_leaf': 1, 'min_samples_split': 2, 'n_estimators': 50}\n",
            "0.7241160005956683 {'bootstrap': False, 'criterion': 'gini', 'max_features': 'log2', 'min_samples_leaf': 1, 'min_samples_split': 2, 'n_estimators': 100}\n",
            "0.7241437475867463 {'bootstrap': False, 'criterion': 'gini', 'max_features': 'log2', 'min_samples_leaf': 1, 'min_samples_split': 2, 'n_estimators': 200}\n",
            "0.730237588669033 {'bootstrap': False, 'criterion': 'gini', 'max_features': 'log2', 'min_samples_leaf': 1, 'min_samples_split': 5, 'n_estimators': 50}\n",
            "0.724159007978668 {'bootstrap': False, 'criterion': 'gini', 'max_features': 'log2', 'min_samples_leaf': 1, 'min_samples_split': 5, 'n_estimators': 100}\n",
            "0.7341479939865959 {'bootstrap': False, 'criterion': 'gini', 'max_features': 'log2', 'min_samples_leaf': 1, 'min_samples_split': 5, 'n_estimators': 200}\n",
            "0.7562478361174388 {'bootstrap': False, 'criterion': 'gini', 'max_features': 'log2', 'min_samples_leaf': 1, 'min_samples_split': 10, 'n_estimators': 50}\n",
            "0.7358606239951653 {'bootstrap': False, 'criterion': 'gini', 'max_features': 'log2', 'min_samples_leaf': 1, 'min_samples_split': 10, 'n_estimators': 100}\n",
            "0.7469662707272526 {'bootstrap': False, 'criterion': 'gini', 'max_features': 'log2', 'min_samples_leaf': 1, 'min_samples_split': 10, 'n_estimators': 200}\n",
            "0.7206336371969286 {'bootstrap': False, 'criterion': 'gini', 'max_features': 'log2', 'min_samples_leaf': 2, 'min_samples_split': 2, 'n_estimators': 50}\n",
            "0.7188609747822583 {'bootstrap': False, 'criterion': 'gini', 'max_features': 'log2', 'min_samples_leaf': 2, 'min_samples_split': 2, 'n_estimators': 100}\n",
            "0.7126755007005463 {'bootstrap': False, 'criterion': 'gini', 'max_features': 'log2', 'min_samples_leaf': 2, 'min_samples_split': 2, 'n_estimators': 200}\n",
            "0.7392821350104911 {'bootstrap': False, 'criterion': 'gini', 'max_features': 'log2', 'min_samples_leaf': 2, 'min_samples_split': 5, 'n_estimators': 50}\n",
            "0.739283493923803 {'bootstrap': False, 'criterion': 'gini', 'max_features': 'log2', 'min_samples_leaf': 2, 'min_samples_split': 5, 'n_estimators': 100}\n",
            "0.7258647576327958 {'bootstrap': False, 'criterion': 'gini', 'max_features': 'log2', 'min_samples_leaf': 2, 'min_samples_split': 5, 'n_estimators': 200}\n",
            "0.7528580597879412 {'bootstrap': False, 'criterion': 'gini', 'max_features': 'log2', 'min_samples_leaf': 2, 'min_samples_split': 10, 'n_estimators': 50}\n",
            "0.7637284157525688 {'bootstrap': False, 'criterion': 'gini', 'max_features': 'log2', 'min_samples_leaf': 2, 'min_samples_split': 10, 'n_estimators': 100}\n",
            "0.750766803775176 {'bootstrap': False, 'criterion': 'gini', 'max_features': 'log2', 'min_samples_leaf': 2, 'min_samples_split': 10, 'n_estimators': 200}\n",
            "0.7849831292203282 {'bootstrap': False, 'criterion': 'gini', 'max_features': 'log2', 'min_samples_leaf': 4, 'min_samples_split': 2, 'n_estimators': 50}\n",
            "0.7845722059269242 {'bootstrap': False, 'criterion': 'gini', 'max_features': 'log2', 'min_samples_leaf': 4, 'min_samples_split': 2, 'n_estimators': 100}\n",
            "0.792608256392315 {'bootstrap': False, 'criterion': 'gini', 'max_features': 'log2', 'min_samples_leaf': 4, 'min_samples_split': 2, 'n_estimators': 200}\n",
            "0.7821483733656995 {'bootstrap': False, 'criterion': 'gini', 'max_features': 'log2', 'min_samples_leaf': 4, 'min_samples_split': 5, 'n_estimators': 50}\n",
            "0.7752306234857563 {'bootstrap': False, 'criterion': 'gini', 'max_features': 'log2', 'min_samples_leaf': 4, 'min_samples_split': 5, 'n_estimators': 100}\n",
            "0.7821368133363685 {'bootstrap': False, 'criterion': 'gini', 'max_features': 'log2', 'min_samples_leaf': 4, 'min_samples_split': 5, 'n_estimators': 200}\n",
            "0.7801098823700597 {'bootstrap': False, 'criterion': 'gini', 'max_features': 'log2', 'min_samples_leaf': 4, 'min_samples_split': 10, 'n_estimators': 50}\n",
            "0.7873880285950785 {'bootstrap': False, 'criterion': 'gini', 'max_features': 'log2', 'min_samples_leaf': 4, 'min_samples_split': 10, 'n_estimators': 100}\n",
            "0.7857800399906705 {'bootstrap': False, 'criterion': 'gini', 'max_features': 'log2', 'min_samples_leaf': 4, 'min_samples_split': 10, 'n_estimators': 200}\n",
            "0.7140162240268764 {'bootstrap': False, 'criterion': 'entropy', 'max_features': 'sqrt', 'min_samples_leaf': 1, 'min_samples_split': 2, 'n_estimators': 50}\n",
            "0.7184374019931592 {'bootstrap': False, 'criterion': 'entropy', 'max_features': 'sqrt', 'min_samples_leaf': 1, 'min_samples_split': 2, 'n_estimators': 100}\n",
            "0.7289404841655422 {'bootstrap': False, 'criterion': 'entropy', 'max_features': 'sqrt', 'min_samples_leaf': 1, 'min_samples_split': 2, 'n_estimators': 200}\n",
            "0.7086678818509619 {'bootstrap': False, 'criterion': 'entropy', 'max_features': 'sqrt', 'min_samples_leaf': 1, 'min_samples_split': 5, 'n_estimators': 50}\n",
            "0.7175517055030414 {'bootstrap': False, 'criterion': 'entropy', 'max_features': 'sqrt', 'min_samples_leaf': 1, 'min_samples_split': 5, 'n_estimators': 100}\n",
            "0.7210851777943572 {'bootstrap': False, 'criterion': 'entropy', 'max_features': 'sqrt', 'min_samples_leaf': 1, 'min_samples_split': 5, 'n_estimators': 200}\n",
            "0.7465398045159701 {'bootstrap': False, 'criterion': 'entropy', 'max_features': 'sqrt', 'min_samples_leaf': 1, 'min_samples_split': 10, 'n_estimators': 50}\n",
            "0.7409937448843991 {'bootstrap': False, 'criterion': 'entropy', 'max_features': 'sqrt', 'min_samples_leaf': 1, 'min_samples_split': 10, 'n_estimators': 100}\n",
            "0.7405760482644641 {'bootstrap': False, 'criterion': 'entropy', 'max_features': 'sqrt', 'min_samples_leaf': 1, 'min_samples_split': 10, 'n_estimators': 200}\n",
            "0.7153333687244635 {'bootstrap': False, 'criterion': 'entropy', 'max_features': 'sqrt', 'min_samples_leaf': 2, 'min_samples_split': 2, 'n_estimators': 50}\n",
            "0.7139951187059089 {'bootstrap': False, 'criterion': 'entropy', 'max_features': 'sqrt', 'min_samples_leaf': 2, 'min_samples_split': 2, 'n_estimators': 100}\n",
            "0.7315337665462529 {'bootstrap': False, 'criterion': 'entropy', 'max_features': 'sqrt', 'min_samples_leaf': 2, 'min_samples_split': 2, 'n_estimators': 200}\n",
            "0.7245750765733804 {'bootstrap': False, 'criterion': 'entropy', 'max_features': 'sqrt', 'min_samples_leaf': 2, 'min_samples_split': 5, 'n_estimators': 50}\n",
            "0.7315310199248674 {'bootstrap': False, 'criterion': 'entropy', 'max_features': 'sqrt', 'min_samples_leaf': 2, 'min_samples_split': 5, 'n_estimators': 100}\n",
            "0.7362741734087733 {'bootstrap': False, 'criterion': 'entropy', 'max_features': 'sqrt', 'min_samples_leaf': 2, 'min_samples_split': 5, 'n_estimators': 200}\n",
            "0.740995100658784 {'bootstrap': False, 'criterion': 'entropy', 'max_features': 'sqrt', 'min_samples_leaf': 2, 'min_samples_split': 10, 'n_estimators': 50}\n",
            "0.7520182475481355 {'bootstrap': False, 'criterion': 'entropy', 'max_features': 'sqrt', 'min_samples_leaf': 2, 'min_samples_split': 10, 'n_estimators': 100}\n",
            "0.7578932974711001 {'bootstrap': False, 'criterion': 'entropy', 'max_features': 'sqrt', 'min_samples_leaf': 2, 'min_samples_split': 10, 'n_estimators': 200}\n",
            "0.7857762044756719 {'bootstrap': False, 'criterion': 'entropy', 'max_features': 'sqrt', 'min_samples_leaf': 4, 'min_samples_split': 2, 'n_estimators': 50}\n",
            "0.7873893044849921 {'bootstrap': False, 'criterion': 'entropy', 'max_features': 'sqrt', 'min_samples_leaf': 4, 'min_samples_split': 2, 'n_estimators': 100}\n",
            "0.7886055631158172 {'bootstrap': False, 'criterion': 'entropy', 'max_features': 'sqrt', 'min_samples_leaf': 4, 'min_samples_split': 2, 'n_estimators': 200}\n",
            "0.8068672504789863 {'bootstrap': False, 'criterion': 'entropy', 'max_features': 'sqrt', 'min_samples_leaf': 4, 'min_samples_split': 5, 'n_estimators': 50}\n",
            "0.7829545850548348 {'bootstrap': False, 'criterion': 'entropy', 'max_features': 'sqrt', 'min_samples_leaf': 4, 'min_samples_split': 5, 'n_estimators': 100}\n",
            "0.7780789623228501 {'bootstrap': False, 'criterion': 'entropy', 'max_features': 'sqrt', 'min_samples_leaf': 4, 'min_samples_split': 5, 'n_estimators': 200}\n",
            "0.7910108796812856 {'bootstrap': False, 'criterion': 'entropy', 'max_features': 'sqrt', 'min_samples_leaf': 4, 'min_samples_split': 10, 'n_estimators': 50}\n",
            "0.7801266235196251 {'bootstrap': False, 'criterion': 'entropy', 'max_features': 'sqrt', 'min_samples_leaf': 4, 'min_samples_split': 10, 'n_estimators': 100}\n",
            "0.7833714866370549 {'bootstrap': False, 'criterion': 'entropy', 'max_features': 'sqrt', 'min_samples_leaf': 4, 'min_samples_split': 10, 'n_estimators': 200}\n",
            "0.7162316270737107 {'bootstrap': False, 'criterion': 'entropy', 'max_features': 'log2', 'min_samples_leaf': 1, 'min_samples_split': 2, 'n_estimators': 50}\n",
            "0.7310955500034728 {'bootstrap': False, 'criterion': 'entropy', 'max_features': 'log2', 'min_samples_leaf': 1, 'min_samples_split': 2, 'n_estimators': 100}\n",
            "0.7241312615723321 {'bootstrap': False, 'criterion': 'entropy', 'max_features': 'log2', 'min_samples_leaf': 1, 'min_samples_split': 2, 'n_estimators': 200}\n",
            "0.7241576206836002 {'bootstrap': False, 'criterion': 'entropy', 'max_features': 'log2', 'min_samples_leaf': 1, 'min_samples_split': 5, 'n_estimators': 50}\n",
            "0.7175503054335688 {'bootstrap': False, 'criterion': 'entropy', 'max_features': 'log2', 'min_samples_leaf': 1, 'min_samples_split': 5, 'n_estimators': 100}\n",
            "0.7250006062367125 {'bootstrap': False, 'criterion': 'entropy', 'max_features': 'log2', 'min_samples_leaf': 1, 'min_samples_split': 5, 'n_estimators': 200}\n",
            "0.7262992141832503 {'bootstrap': False, 'criterion': 'entropy', 'max_features': 'log2', 'min_samples_leaf': 1, 'min_samples_split': 10, 'n_estimators': 50}\n",
            "0.7297944640891363 {'bootstrap': False, 'criterion': 'entropy', 'max_features': 'log2', 'min_samples_leaf': 1, 'min_samples_split': 10, 'n_estimators': 100}\n",
            "0.7384187200689606 {'bootstrap': False, 'criterion': 'entropy', 'max_features': 'log2', 'min_samples_leaf': 1, 'min_samples_split': 10, 'n_estimators': 200}\n",
            "0.7254535831782709 {'bootstrap': False, 'criterion': 'entropy', 'max_features': 'log2', 'min_samples_leaf': 2, 'min_samples_split': 2, 'n_estimators': 50}\n",
            "0.728926702097227 {'bootstrap': False, 'criterion': 'entropy', 'max_features': 'log2', 'min_samples_leaf': 2, 'min_samples_split': 2, 'n_estimators': 100}\n",
            "0.7193234045528845 {'bootstrap': False, 'criterion': 'entropy', 'max_features': 'log2', 'min_samples_leaf': 2, 'min_samples_split': 2, 'n_estimators': 200}\n",
            "0.7349849886181845 {'bootstrap': False, 'criterion': 'entropy', 'max_features': 'log2', 'min_samples_leaf': 2, 'min_samples_split': 5, 'n_estimators': 50}\n",
            "0.741860933846615 {'bootstrap': False, 'criterion': 'entropy', 'max_features': 'log2', 'min_samples_leaf': 2, 'min_samples_split': 5, 'n_estimators': 100}\n",
            "0.7215211199556764 {'bootstrap': False, 'criterion': 'entropy', 'max_features': 'log2', 'min_samples_leaf': 2, 'min_samples_split': 5, 'n_estimators': 200}\n",
            "0.7490560666321371 {'bootstrap': False, 'criterion': 'entropy', 'max_features': 'log2', 'min_samples_leaf': 2, 'min_samples_split': 10, 'n_estimators': 50}\n",
            "0.7465263473592793 {'bootstrap': False, 'criterion': 'entropy', 'max_features': 'log2', 'min_samples_leaf': 2, 'min_samples_split': 10, 'n_estimators': 100}\n",
            "0.7495025475047393 {'bootstrap': False, 'criterion': 'entropy', 'max_features': 'log2', 'min_samples_leaf': 2, 'min_samples_split': 10, 'n_estimators': 200}\n",
            "0.7918080676994521 {'bootstrap': False, 'criterion': 'entropy', 'max_features': 'log2', 'min_samples_leaf': 4, 'min_samples_split': 2, 'n_estimators': 50}\n",
            "0.7744085871394003 {'bootstrap': False, 'criterion': 'entropy', 'max_features': 'log2', 'min_samples_leaf': 4, 'min_samples_split': 2, 'n_estimators': 100}\n",
            "0.8009575844196627 {'bootstrap': False, 'criterion': 'entropy', 'max_features': 'log2', 'min_samples_leaf': 4, 'min_samples_split': 2, 'n_estimators': 200}\n",
            "0.779697679210632 {'bootstrap': False, 'criterion': 'entropy', 'max_features': 'log2', 'min_samples_leaf': 4, 'min_samples_split': 5, 'n_estimators': 50}\n",
            "0.7849882484028667 {'bootstrap': False, 'criterion': 'entropy', 'max_features': 'log2', 'min_samples_leaf': 4, 'min_samples_split': 5, 'n_estimators': 100}\n",
            "0.785778761487751 {'bootstrap': False, 'criterion': 'entropy', 'max_features': 'log2', 'min_samples_leaf': 4, 'min_samples_split': 5, 'n_estimators': 200}\n",
            "0.7930086813750442 {'bootstrap': False, 'criterion': 'entropy', 'max_features': 'log2', 'min_samples_leaf': 4, 'min_samples_split': 10, 'n_estimators': 50}\n",
            "0.8009437872733078 {'bootstrap': False, 'criterion': 'entropy', 'max_features': 'log2', 'min_samples_leaf': 4, 'min_samples_split': 10, 'n_estimators': 100}\n",
            "0.782554150582265 {'bootstrap': False, 'criterion': 'entropy', 'max_features': 'log2', 'min_samples_leaf': 4, 'min_samples_split': 10, 'n_estimators': 200}\n",
            "0.738441848266366 {'bootstrap': False, 'criterion': 'log_loss', 'max_features': 'sqrt', 'min_samples_leaf': 1, 'min_samples_split': 2, 'n_estimators': 50}\n",
            "0.7171119493638591 {'bootstrap': False, 'criterion': 'log_loss', 'max_features': 'sqrt', 'min_samples_leaf': 1, 'min_samples_split': 2, 'n_estimators': 100}\n",
            "0.7149077058813054 {'bootstrap': False, 'criterion': 'log_loss', 'max_features': 'sqrt', 'min_samples_leaf': 1, 'min_samples_split': 2, 'n_estimators': 200}\n",
            "0.7228162500415238 {'bootstrap': False, 'criterion': 'log_loss', 'max_features': 'sqrt', 'min_samples_leaf': 1, 'min_samples_split': 5, 'n_estimators': 50}\n",
            "0.7397263666033961 {'bootstrap': False, 'criterion': 'log_loss', 'max_features': 'sqrt', 'min_samples_leaf': 1, 'min_samples_split': 5, 'n_estimators': 100}\n",
            "0.7236982798939616 {'bootstrap': False, 'criterion': 'log_loss', 'max_features': 'sqrt', 'min_samples_leaf': 1, 'min_samples_split': 5, 'n_estimators': 200}\n",
            "0.7345679781523445 {'bootstrap': False, 'criterion': 'log_loss', 'max_features': 'sqrt', 'min_samples_leaf': 1, 'min_samples_split': 10, 'n_estimators': 50}\n",
            "0.7310886793148301 {'bootstrap': False, 'criterion': 'log_loss', 'max_features': 'sqrt', 'min_samples_leaf': 1, 'min_samples_split': 10, 'n_estimators': 100}\n",
            "0.7418514544503925 {'bootstrap': False, 'criterion': 'log_loss', 'max_features': 'sqrt', 'min_samples_leaf': 1, 'min_samples_split': 10, 'n_estimators': 200}\n",
            "0.7077657017171892 {'bootstrap': False, 'criterion': 'log_loss', 'max_features': 'sqrt', 'min_samples_leaf': 2, 'min_samples_split': 2, 'n_estimators': 50}\n",
            "0.7250200055438599 {'bootstrap': False, 'criterion': 'log_loss', 'max_features': 'sqrt', 'min_samples_leaf': 2, 'min_samples_split': 2, 'n_estimators': 100}\n",
            "0.7289391059704368 {'bootstrap': False, 'criterion': 'log_loss', 'max_features': 'sqrt', 'min_samples_leaf': 2, 'min_samples_split': 2, 'n_estimators': 200}\n",
            "0.7367120368748368 {'bootstrap': False, 'criterion': 'log_loss', 'max_features': 'sqrt', 'min_samples_leaf': 2, 'min_samples_split': 5, 'n_estimators': 50}\n",
            "0.7271949791309736 {'bootstrap': False, 'criterion': 'log_loss', 'max_features': 'sqrt', 'min_samples_leaf': 2, 'min_samples_split': 5, 'n_estimators': 100}\n",
            "0.7362960045450616 {'bootstrap': False, 'criterion': 'log_loss', 'max_features': 'sqrt', 'min_samples_leaf': 2, 'min_samples_split': 5, 'n_estimators': 200}\n",
            "0.7435490433234415 {'bootstrap': False, 'criterion': 'log_loss', 'max_features': 'sqrt', 'min_samples_leaf': 2, 'min_samples_split': 10, 'n_estimators': 50}\n",
            "0.7460955901870782 {'bootstrap': False, 'criterion': 'log_loss', 'max_features': 'sqrt', 'min_samples_leaf': 2, 'min_samples_split': 10, 'n_estimators': 100}\n",
            "0.7452602896551982 {'bootstrap': False, 'criterion': 'log_loss', 'max_features': 'sqrt', 'min_samples_leaf': 2, 'min_samples_split': 10, 'n_estimators': 200}\n",
            "0.7813426155671699 {'bootstrap': False, 'criterion': 'log_loss', 'max_features': 'sqrt', 'min_samples_leaf': 4, 'min_samples_split': 2, 'n_estimators': 50}\n",
            "0.7946058348582886 {'bootstrap': False, 'criterion': 'log_loss', 'max_features': 'sqrt', 'min_samples_leaf': 4, 'min_samples_split': 2, 'n_estimators': 100}\n",
            "0.7825477316949762 {'bootstrap': False, 'criterion': 'log_loss', 'max_features': 'sqrt', 'min_samples_leaf': 4, 'min_samples_split': 2, 'n_estimators': 200}\n",
            "0.7793187753845454 {'bootstrap': False, 'criterion': 'log_loss', 'max_features': 'sqrt', 'min_samples_leaf': 4, 'min_samples_split': 5, 'n_estimators': 50}\n",
            "0.7913994187412107 {'bootstrap': False, 'criterion': 'log_loss', 'max_features': 'sqrt', 'min_samples_leaf': 4, 'min_samples_split': 5, 'n_estimators': 100}\n",
            "0.7925968489204493 {'bootstrap': False, 'criterion': 'log_loss', 'max_features': 'sqrt', 'min_samples_leaf': 4, 'min_samples_split': 5, 'n_estimators': 200}\n",
            "0.771549302573066 {'bootstrap': False, 'criterion': 'log_loss', 'max_features': 'sqrt', 'min_samples_leaf': 4, 'min_samples_split': 10, 'n_estimators': 50}\n",
            "0.7821483733656995 {'bootstrap': False, 'criterion': 'log_loss', 'max_features': 'sqrt', 'min_samples_leaf': 4, 'min_samples_split': 10, 'n_estimators': 100}\n",
            "0.7981694950931961 {'bootstrap': False, 'criterion': 'log_loss', 'max_features': 'sqrt', 'min_samples_leaf': 4, 'min_samples_split': 10, 'n_estimators': 200}\n",
            "0.7337044926259466 {'bootstrap': False, 'criterion': 'log_loss', 'max_features': 'log2', 'min_samples_leaf': 1, 'min_samples_split': 2, 'n_estimators': 50}\n",
            "0.7237066089076237 {'bootstrap': False, 'criterion': 'log_loss', 'max_features': 'log2', 'min_samples_leaf': 1, 'min_samples_split': 2, 'n_estimators': 100}\n",
            "0.7263213451382632 {'bootstrap': False, 'criterion': 'log_loss', 'max_features': 'log2', 'min_samples_leaf': 1, 'min_samples_split': 2, 'n_estimators': 200}\n",
            "0.7113294257507692 {'bootstrap': False, 'criterion': 'log_loss', 'max_features': 'log2', 'min_samples_leaf': 1, 'min_samples_split': 5, 'n_estimators': 50}\n",
            "0.7179869946542669 {'bootstrap': False, 'criterion': 'log_loss', 'max_features': 'log2', 'min_samples_leaf': 1, 'min_samples_split': 5, 'n_estimators': 100}\n",
            "0.722381089465053 {'bootstrap': False, 'criterion': 'log_loss', 'max_features': 'log2', 'min_samples_leaf': 1, 'min_samples_split': 5, 'n_estimators': 200}\n",
            "0.7490815486755794 {'bootstrap': False, 'criterion': 'log_loss', 'max_features': 'log2', 'min_samples_leaf': 1, 'min_samples_split': 10, 'n_estimators': 50}\n",
            "0.7315035531438007 {'bootstrap': False, 'criterion': 'log_loss', 'max_features': 'log2', 'min_samples_leaf': 1, 'min_samples_split': 10, 'n_estimators': 100}\n",
            "0.7422819677118087 {'bootstrap': False, 'criterion': 'log_loss', 'max_features': 'log2', 'min_samples_leaf': 1, 'min_samples_split': 10, 'n_estimators': 200}\n",
            "0.7014952886112217 {'bootstrap': False, 'criterion': 'log_loss', 'max_features': 'log2', 'min_samples_leaf': 2, 'min_samples_split': 2, 'n_estimators': 50}\n",
            "0.7086707170838654 {'bootstrap': False, 'criterion': 'log_loss', 'max_features': 'log2', 'min_samples_leaf': 2, 'min_samples_split': 2, 'n_estimators': 100}\n",
            "0.726766587353512 {'bootstrap': False, 'criterion': 'log_loss', 'max_features': 'log2', 'min_samples_leaf': 2, 'min_samples_split': 2, 'n_estimators': 200}\n",
            "0.7188665648331134 {'bootstrap': False, 'criterion': 'log_loss', 'max_features': 'log2', 'min_samples_leaf': 2, 'min_samples_split': 5, 'n_estimators': 50}\n",
            "0.7337209233827836 {'bootstrap': False, 'criterion': 'log_loss', 'max_features': 'log2', 'min_samples_leaf': 2, 'min_samples_split': 5, 'n_estimators': 100}\n",
            "0.7276314027776822 {'bootstrap': False, 'criterion': 'log_loss', 'max_features': 'log2', 'min_samples_leaf': 2, 'min_samples_split': 5, 'n_estimators': 200}\n",
            "0.764963908294088 {'bootstrap': False, 'criterion': 'log_loss', 'max_features': 'log2', 'min_samples_leaf': 2, 'min_samples_split': 10, 'n_estimators': 50}\n",
            "0.7549794515564335 {'bootstrap': False, 'criterion': 'log_loss', 'max_features': 'log2', 'min_samples_leaf': 2, 'min_samples_split': 10, 'n_estimators': 100}\n",
            "0.7507560986836331 {'bootstrap': False, 'criterion': 'log_loss', 'max_features': 'log2', 'min_samples_leaf': 2, 'min_samples_split': 10, 'n_estimators': 200}\n",
            "0.7954158391956494 {'bootstrap': False, 'criterion': 'log_loss', 'max_features': 'log2', 'min_samples_leaf': 4, 'min_samples_split': 2, 'n_estimators': 50}\n",
            "0.7711338262185864 {'bootstrap': False, 'criterion': 'log_loss', 'max_features': 'log2', 'min_samples_leaf': 4, 'min_samples_split': 2, 'n_estimators': 100}\n",
            "0.7731907852242136 {'bootstrap': False, 'criterion': 'log_loss', 'max_features': 'log2', 'min_samples_leaf': 4, 'min_samples_split': 2, 'n_estimators': 200}\n",
            "0.7997689037322812 {'bootstrap': False, 'criterion': 'log_loss', 'max_features': 'log2', 'min_samples_leaf': 4, 'min_samples_split': 5, 'n_estimators': 50}\n",
            "0.7793174862816515 {'bootstrap': False, 'criterion': 'log_loss', 'max_features': 'log2', 'min_samples_leaf': 4, 'min_samples_split': 5, 'n_estimators': 100}\n",
            "0.7882041758229971 {'bootstrap': False, 'criterion': 'log_loss', 'max_features': 'log2', 'min_samples_leaf': 4, 'min_samples_split': 5, 'n_estimators': 200}\n",
            "0.7797247367239754 {'bootstrap': False, 'criterion': 'log_loss', 'max_features': 'log2', 'min_samples_leaf': 4, 'min_samples_split': 10, 'n_estimators': 50}\n",
            "0.7910019892999968 {'bootstrap': False, 'criterion': 'log_loss', 'max_features': 'log2', 'min_samples_leaf': 4, 'min_samples_split': 10, 'n_estimators': 100}\n",
            "0.793009948221775 {'bootstrap': False, 'criterion': 'log_loss', 'max_features': 'log2', 'min_samples_leaf': 4, 'min_samples_split': 10, 'n_estimators': 200}\n",
            "0.7104447664133865 {'bootstrap': True, 'criterion': 'gini', 'max_features': 'sqrt', 'min_samples_leaf': 1, 'min_samples_split': 2, 'n_estimators': 50}\n",
            "0.7258772138288662 {'bootstrap': True, 'criterion': 'gini', 'max_features': 'sqrt', 'min_samples_leaf': 1, 'min_samples_split': 2, 'n_estimators': 100}\n",
            "0.7263365597786794 {'bootstrap': True, 'criterion': 'gini', 'max_features': 'sqrt', 'min_samples_leaf': 1, 'min_samples_split': 2, 'n_estimators': 200}\n",
            "0.7439718225407325 {'bootstrap': True, 'criterion': 'gini', 'max_features': 'sqrt', 'min_samples_leaf': 1, 'min_samples_split': 5, 'n_estimators': 50}\n",
            "0.7410195041735418 {'bootstrap': True, 'criterion': 'gini', 'max_features': 'sqrt', 'min_samples_leaf': 1, 'min_samples_split': 5, 'n_estimators': 100}\n",
            "0.7392998006887141 {'bootstrap': True, 'criterion': 'gini', 'max_features': 'sqrt', 'min_samples_leaf': 1, 'min_samples_split': 5, 'n_estimators': 200}\n",
            "0.7740219025102596 {'bootstrap': True, 'criterion': 'gini', 'max_features': 'sqrt', 'min_samples_leaf': 1, 'min_samples_split': 10, 'n_estimators': 50}\n",
            "0.7694931779125324 {'bootstrap': True, 'criterion': 'gini', 'max_features': 'sqrt', 'min_samples_leaf': 1, 'min_samples_split': 10, 'n_estimators': 100}\n",
            "0.7570484547697052 {'bootstrap': True, 'criterion': 'gini', 'max_features': 'sqrt', 'min_samples_leaf': 1, 'min_samples_split': 10, 'n_estimators': 200}\n",
            "0.7558040107277201 {'bootstrap': True, 'criterion': 'gini', 'max_features': 'sqrt', 'min_samples_leaf': 2, 'min_samples_split': 2, 'n_estimators': 50}\n",
            "0.7507694800242114 {'bootstrap': True, 'criterion': 'gini', 'max_features': 'sqrt', 'min_samples_leaf': 2, 'min_samples_split': 2, 'n_estimators': 100}\n",
            "0.7620560051814778 {'bootstrap': True, 'criterion': 'gini', 'max_features': 'sqrt', 'min_samples_leaf': 2, 'min_samples_split': 2, 'n_estimators': 200}\n",
            "0.7657816523525273 {'bootstrap': True, 'criterion': 'gini', 'max_features': 'sqrt', 'min_samples_leaf': 2, 'min_samples_split': 5, 'n_estimators': 50}\n",
            "0.7566582092131297 {'bootstrap': True, 'criterion': 'gini', 'max_features': 'sqrt', 'min_samples_leaf': 2, 'min_samples_split': 5, 'n_estimators': 100}\n",
            "0.7657973948701796 {'bootstrap': True, 'criterion': 'gini', 'max_features': 'sqrt', 'min_samples_leaf': 2, 'min_samples_split': 5, 'n_estimators': 200}\n",
            "0.7885902759145768 {'bootstrap': True, 'criterion': 'gini', 'max_features': 'sqrt', 'min_samples_leaf': 2, 'min_samples_split': 10, 'n_estimators': 50}\n",
            "0.782152226670842 {'bootstrap': True, 'criterion': 'gini', 'max_features': 'sqrt', 'min_samples_leaf': 2, 'min_samples_split': 10, 'n_estimators': 100}\n",
            "0.784567084029771 {'bootstrap': True, 'criterion': 'gini', 'max_features': 'sqrt', 'min_samples_leaf': 2, 'min_samples_split': 10, 'n_estimators': 200}\n",
            "0.7934139690862326 {'bootstrap': True, 'criterion': 'gini', 'max_features': 'sqrt', 'min_samples_leaf': 4, 'min_samples_split': 2, 'n_estimators': 50}\n",
            "0.7929909453083108 {'bootstrap': True, 'criterion': 'gini', 'max_features': 'sqrt', 'min_samples_leaf': 4, 'min_samples_split': 2, 'n_estimators': 100}\n",
            "0.8162086154397189 {'bootstrap': True, 'criterion': 'gini', 'max_features': 'sqrt', 'min_samples_leaf': 4, 'min_samples_split': 2, 'n_estimators': 200}\n",
            "0.8169910539032398 {'bootstrap': True, 'criterion': 'gini', 'max_features': 'sqrt', 'min_samples_leaf': 4, 'min_samples_split': 5, 'n_estimators': 50}\n",
            "0.794608363457036 {'bootstrap': True, 'criterion': 'gini', 'max_features': 'sqrt', 'min_samples_leaf': 4, 'min_samples_split': 5, 'n_estimators': 100}\n",
            "0.8096005707676233 {'bootstrap': True, 'criterion': 'gini', 'max_features': 'sqrt', 'min_samples_leaf': 4, 'min_samples_split': 5, 'n_estimators': 200}\n",
            "0.8080255965484735 {'bootstrap': True, 'criterion': 'gini', 'max_features': 'sqrt', 'min_samples_leaf': 4, 'min_samples_split': 10, 'n_estimators': 50}\n",
            "0.806858534811345 {'bootstrap': True, 'criterion': 'gini', 'max_features': 'sqrt', 'min_samples_leaf': 4, 'min_samples_split': 10, 'n_estimators': 100}\n",
            "0.8068498190495561 {'bootstrap': True, 'criterion': 'gini', 'max_features': 'sqrt', 'min_samples_leaf': 4, 'min_samples_split': 10, 'n_estimators': 200}\n",
            "0.7473736750022691 {'bootstrap': True, 'criterion': 'gini', 'max_features': 'log2', 'min_samples_leaf': 1, 'min_samples_split': 2, 'n_estimators': 50}\n",
            "0.7254757399296282 {'bootstrap': True, 'criterion': 'gini', 'max_features': 'log2', 'min_samples_leaf': 1, 'min_samples_split': 2, 'n_estimators': 100}\n",
            "0.7184443936695853 {'bootstrap': True, 'criterion': 'gini', 'max_features': 'log2', 'min_samples_leaf': 1, 'min_samples_split': 2, 'n_estimators': 200}\n",
            "0.7171035437545548 {'bootstrap': True, 'criterion': 'gini', 'max_features': 'log2', 'min_samples_leaf': 1, 'min_samples_split': 5, 'n_estimators': 50}\n",
            "0.7422724936925155 {'bootstrap': True, 'criterion': 'gini', 'max_features': 'log2', 'min_samples_leaf': 1, 'min_samples_split': 5, 'n_estimators': 100}\n",
            "0.7298054766547551 {'bootstrap': True, 'criterion': 'gini', 'max_features': 'log2', 'min_samples_leaf': 1, 'min_samples_split': 5, 'n_estimators': 200}\n",
            "0.7612184220286347 {'bootstrap': True, 'criterion': 'gini', 'max_features': 'log2', 'min_samples_leaf': 1, 'min_samples_split': 10, 'n_estimators': 50}\n",
            "0.7486388425242614 {'bootstrap': True, 'criterion': 'gini', 'max_features': 'log2', 'min_samples_leaf': 1, 'min_samples_split': 10, 'n_estimators': 100}\n",
            "0.765361732434268 {'bootstrap': True, 'criterion': 'gini', 'max_features': 'log2', 'min_samples_leaf': 1, 'min_samples_split': 10, 'n_estimators': 200}\n",
            "0.7645461672604303 {'bootstrap': True, 'criterion': 'gini', 'max_features': 'log2', 'min_samples_leaf': 2, 'min_samples_split': 2, 'n_estimators': 50}\n",
            "0.749064113686874 {'bootstrap': True, 'criterion': 'gini', 'max_features': 'log2', 'min_samples_leaf': 2, 'min_samples_split': 2, 'n_estimators': 100}\n",
            "0.7439691218387682 {'bootstrap': True, 'criterion': 'gini', 'max_features': 'log2', 'min_samples_leaf': 2, 'min_samples_split': 2, 'n_estimators': 200}\n",
            "0.7591449035123878 {'bootstrap': True, 'criterion': 'gini', 'max_features': 'log2', 'min_samples_leaf': 2, 'min_samples_split': 5, 'n_estimators': 50}\n",
            "0.7515866279497254 {'bootstrap': True, 'criterion': 'gini', 'max_features': 'log2', 'min_samples_leaf': 2, 'min_samples_split': 5, 'n_estimators': 100}\n",
            "0.7545388744125773 {'bootstrap': True, 'criterion': 'gini', 'max_features': 'log2', 'min_samples_leaf': 2, 'min_samples_split': 5, 'n_estimators': 200}\n",
            "0.7793136189601754 {'bootstrap': True, 'criterion': 'gini', 'max_features': 'log2', 'min_samples_leaf': 2, 'min_samples_split': 10, 'n_estimators': 50}\n",
            "0.7817423855233187 {'bootstrap': True, 'criterion': 'gini', 'max_features': 'log2', 'min_samples_leaf': 2, 'min_samples_split': 10, 'n_estimators': 100}\n",
            "0.7809426409660336 {'bootstrap': True, 'criterion': 'gini', 'max_features': 'log2', 'min_samples_leaf': 2, 'min_samples_split': 10, 'n_estimators': 200}\n",
            "0.8150668292269586 {'bootstrap': True, 'criterion': 'gini', 'max_features': 'log2', 'min_samples_leaf': 4, 'min_samples_split': 2, 'n_estimators': 50}\n",
            "0.8056735725873114 {'bootstrap': True, 'criterion': 'gini', 'max_features': 'log2', 'min_samples_leaf': 4, 'min_samples_split': 2, 'n_estimators': 100}\n",
            "0.8173807631914044 {'bootstrap': True, 'criterion': 'gini', 'max_features': 'log2', 'min_samples_leaf': 4, 'min_samples_split': 2, 'n_estimators': 200}\n",
            "0.8103769925176857 {'bootstrap': True, 'criterion': 'gini', 'max_features': 'log2', 'min_samples_leaf': 4, 'min_samples_split': 5, 'n_estimators': 50}\n",
            "0.8025401705438476 {'bootstrap': True, 'criterion': 'gini', 'max_features': 'log2', 'min_samples_leaf': 4, 'min_samples_split': 5, 'n_estimators': 100}\n",
            "0.8146587486999902 {'bootstrap': True, 'criterion': 'gini', 'max_features': 'log2', 'min_samples_leaf': 4, 'min_samples_split': 5, 'n_estimators': 200}\n",
            "0.812709224077927 {'bootstrap': True, 'criterion': 'gini', 'max_features': 'log2', 'min_samples_leaf': 4, 'min_samples_split': 10, 'n_estimators': 50}\n",
            "0.816995972528622 {'bootstrap': True, 'criterion': 'gini', 'max_features': 'log2', 'min_samples_leaf': 4, 'min_samples_split': 10, 'n_estimators': 100}\n",
            "0.8060637682422996 {'bootstrap': True, 'criterion': 'gini', 'max_features': 'log2', 'min_samples_leaf': 4, 'min_samples_split': 10, 'n_estimators': 200}\n",
            "0.7306749448455965 {'bootstrap': True, 'criterion': 'entropy', 'max_features': 'sqrt', 'min_samples_leaf': 1, 'min_samples_split': 2, 'n_estimators': 50}\n",
            "0.7241340362608074 {'bootstrap': True, 'criterion': 'entropy', 'max_features': 'sqrt', 'min_samples_leaf': 1, 'min_samples_split': 2, 'n_estimators': 100}\n",
            "0.7193164214203475 {'bootstrap': True, 'criterion': 'entropy', 'max_features': 'sqrt', 'min_samples_leaf': 1, 'min_samples_split': 2, 'n_estimators': 200}\n",
            "0.7392889295520716 {'bootstrap': True, 'criterion': 'entropy', 'max_features': 'sqrt', 'min_samples_leaf': 1, 'min_samples_split': 5, 'n_estimators': 50}\n",
            "0.7349849886181845 {'bootstrap': True, 'criterion': 'entropy', 'max_features': 'sqrt', 'min_samples_leaf': 1, 'min_samples_split': 5, 'n_estimators': 100}\n",
            "0.7315227799988345 {'bootstrap': True, 'criterion': 'entropy', 'max_features': 'sqrt', 'min_samples_leaf': 1, 'min_samples_split': 5, 'n_estimators': 200}\n",
            "0.7764879226831121 {'bootstrap': True, 'criterion': 'entropy', 'max_features': 'sqrt', 'min_samples_leaf': 1, 'min_samples_split': 10, 'n_estimators': 50}\n",
            "0.7612184220286345 {'bootstrap': True, 'criterion': 'entropy', 'max_features': 'sqrt', 'min_samples_leaf': 1, 'min_samples_split': 10, 'n_estimators': 100}\n",
            "0.7703256763076659 {'bootstrap': True, 'criterion': 'entropy', 'max_features': 'sqrt', 'min_samples_leaf': 1, 'min_samples_split': 10, 'n_estimators': 200}\n",
            "0.7503224141231714 {'bootstrap': True, 'criterion': 'entropy', 'max_features': 'sqrt', 'min_samples_leaf': 2, 'min_samples_split': 2, 'n_estimators': 50}\n",
            "0.7332552427050149 {'bootstrap': True, 'criterion': 'entropy', 'max_features': 'sqrt', 'min_samples_leaf': 2, 'min_samples_split': 2, 'n_estimators': 100}\n",
            "0.741835203775054 {'bootstrap': True, 'criterion': 'entropy', 'max_features': 'sqrt', 'min_samples_leaf': 2, 'min_samples_split': 2, 'n_estimators': 200}\n",
            "0.7587186622449843 {'bootstrap': True, 'criterion': 'entropy', 'max_features': 'sqrt', 'min_samples_leaf': 2, 'min_samples_split': 5, 'n_estimators': 50}\n",
            "0.7624790632408545 {'bootstrap': True, 'criterion': 'entropy', 'max_features': 'sqrt', 'min_samples_leaf': 2, 'min_samples_split': 5, 'n_estimators': 100}\n",
            "0.7469474413966227 {'bootstrap': True, 'criterion': 'entropy', 'max_features': 'sqrt', 'min_samples_leaf': 2, 'min_samples_split': 5, 'n_estimators': 200}\n",
            "0.8009651100356835 {'bootstrap': True, 'criterion': 'entropy', 'max_features': 'sqrt', 'min_samples_leaf': 2, 'min_samples_split': 10, 'n_estimators': 50}\n",
            "0.7707194293765828 {'bootstrap': True, 'criterion': 'entropy', 'max_features': 'sqrt', 'min_samples_leaf': 2, 'min_samples_split': 10, 'n_estimators': 100}\n",
            "0.7768656208684237 {'bootstrap': True, 'criterion': 'entropy', 'max_features': 'sqrt', 'min_samples_leaf': 2, 'min_samples_split': 10, 'n_estimators': 200}\n",
            "0.8080442458895739 {'bootstrap': True, 'criterion': 'entropy', 'max_features': 'sqrt', 'min_samples_leaf': 4, 'min_samples_split': 2, 'n_estimators': 50}\n",
            "0.8041108965410841 {'bootstrap': True, 'criterion': 'entropy', 'max_features': 'sqrt', 'min_samples_leaf': 4, 'min_samples_split': 2, 'n_estimators': 100}\n",
            "0.8052744550528216 {'bootstrap': True, 'criterion': 'entropy', 'max_features': 'sqrt', 'min_samples_leaf': 4, 'min_samples_split': 2, 'n_estimators': 200}\n",
            "0.8080318130433322 {'bootstrap': True, 'criterion': 'entropy', 'max_features': 'sqrt', 'min_samples_leaf': 4, 'min_samples_split': 5, 'n_estimators': 50}\n",
            "0.8041083978239968 {'bootstrap': True, 'criterion': 'entropy', 'max_features': 'sqrt', 'min_samples_leaf': 4, 'min_samples_split': 5, 'n_estimators': 100}\n",
            "0.8021332317757365 {'bootstrap': True, 'criterion': 'entropy', 'max_features': 'sqrt', 'min_samples_leaf': 4, 'min_samples_split': 5, 'n_estimators': 200}\n",
            "0.8200631171894041 {'bootstrap': True, 'criterion': 'entropy', 'max_features': 'sqrt', 'min_samples_leaf': 4, 'min_samples_split': 10, 'n_estimators': 50}\n",
            "0.80882340369979 {'bootstrap': True, 'criterion': 'entropy', 'max_features': 'sqrt', 'min_samples_leaf': 4, 'min_samples_split': 10, 'n_estimators': 100}\n",
            "0.8185389591995892 {'bootstrap': True, 'criterion': 'entropy', 'max_features': 'sqrt', 'min_samples_leaf': 4, 'min_samples_split': 10, 'n_estimators': 200}\n",
            "0.7077657017171892 {'bootstrap': True, 'criterion': 'entropy', 'max_features': 'log2', 'min_samples_leaf': 1, 'min_samples_split': 2, 'n_estimators': 50}\n",
            "0.7367338550362132 {'bootstrap': True, 'criterion': 'entropy', 'max_features': 'log2', 'min_samples_leaf': 1, 'min_samples_split': 2, 'n_estimators': 100}\n",
            "0.7188875271366825 {'bootstrap': True, 'criterion': 'entropy', 'max_features': 'log2', 'min_samples_leaf': 1, 'min_samples_split': 2, 'n_estimators': 200}\n",
            "0.744398410375452 {'bootstrap': True, 'criterion': 'entropy', 'max_features': 'log2', 'min_samples_leaf': 1, 'min_samples_split': 5, 'n_estimators': 50}\n",
            "0.7444051582183439 {'bootstrap': True, 'criterion': 'entropy', 'max_features': 'log2', 'min_samples_leaf': 1, 'min_samples_split': 5, 'n_estimators': 100}\n",
            "0.7349672192291098 {'bootstrap': True, 'criterion': 'entropy', 'max_features': 'log2', 'min_samples_leaf': 1, 'min_samples_split': 5, 'n_estimators': 200}\n",
            "0.7670203864676494 {'bootstrap': True, 'criterion': 'entropy', 'max_features': 'log2', 'min_samples_leaf': 1, 'min_samples_split': 10, 'n_estimators': 50}\n",
            "0.7740102211101361 {'bootstrap': True, 'criterion': 'entropy', 'max_features': 'log2', 'min_samples_leaf': 1, 'min_samples_split': 10, 'n_estimators': 100}\n",
            "0.7653814213269862 {'bootstrap': True, 'criterion': 'entropy', 'max_features': 'log2', 'min_samples_leaf': 1, 'min_samples_split': 10, 'n_estimators': 200}\n",
            "0.7735869759263565 {'bootstrap': True, 'criterion': 'entropy', 'max_features': 'log2', 'min_samples_leaf': 2, 'min_samples_split': 2, 'n_estimators': 50}\n",
            "0.7499058945716329 {'bootstrap': True, 'criterion': 'entropy', 'max_features': 'log2', 'min_samples_leaf': 2, 'min_samples_split': 2, 'n_estimators': 100}\n",
            "0.7332511324415691 {'bootstrap': True, 'criterion': 'entropy', 'max_features': 'log2', 'min_samples_leaf': 2, 'min_samples_split': 2, 'n_estimators': 200}\n",
            "0.763302101695576 {'bootstrap': True, 'criterion': 'entropy', 'max_features': 'log2', 'min_samples_leaf': 2, 'min_samples_split': 5, 'n_estimators': 50}\n",
            "0.75746900447915 {'bootstrap': True, 'criterion': 'entropy', 'max_features': 'log2', 'min_samples_leaf': 2, 'min_samples_split': 5, 'n_estimators': 100}\n",
            "0.750761451248485 {'bootstrap': True, 'criterion': 'entropy', 'max_features': 'log2', 'min_samples_leaf': 2, 'min_samples_split': 5, 'n_estimators': 200}\n",
            "0.7865940240874951 {'bootstrap': True, 'criterion': 'entropy', 'max_features': 'log2', 'min_samples_leaf': 2, 'min_samples_split': 10, 'n_estimators': 50}\n",
            "0.7817552364703704 {'bootstrap': True, 'criterion': 'entropy', 'max_features': 'log2', 'min_samples_leaf': 2, 'min_samples_split': 10, 'n_estimators': 100}\n",
            "0.7845798887099602 {'bootstrap': True, 'criterion': 'entropy', 'max_features': 'log2', 'min_samples_leaf': 2, 'min_samples_split': 10, 'n_estimators': 200}\n",
            "0.7897919651412819 {'bootstrap': True, 'criterion': 'entropy', 'max_features': 'log2', 'min_samples_leaf': 4, 'min_samples_split': 2, 'n_estimators': 50}\n",
            "0.8084208704613386 {'bootstrap': True, 'criterion': 'entropy', 'max_features': 'log2', 'min_samples_leaf': 4, 'min_samples_split': 2, 'n_estimators': 100}\n",
            "0.811939981806944 {'bootstrap': True, 'criterion': 'entropy', 'max_features': 'log2', 'min_samples_leaf': 4, 'min_samples_split': 2, 'n_estimators': 200}\n",
            "0.8212432197342109 {'bootstrap': True, 'criterion': 'entropy', 'max_features': 'log2', 'min_samples_leaf': 4, 'min_samples_split': 5, 'n_estimators': 50}\n",
            "0.8166048493659813 {'bootstrap': True, 'criterion': 'entropy', 'max_features': 'log2', 'min_samples_leaf': 4, 'min_samples_split': 5, 'n_estimators': 100}\n",
            "0.8072357125896552 {'bootstrap': True, 'criterion': 'entropy', 'max_features': 'log2', 'min_samples_leaf': 4, 'min_samples_split': 5, 'n_estimators': 200}\n",
            "0.7973824467124264 {'bootstrap': True, 'criterion': 'entropy', 'max_features': 'log2', 'min_samples_leaf': 4, 'min_samples_split': 10, 'n_estimators': 50}\n",
            "0.8115625145910889 {'bootstrap': True, 'criterion': 'entropy', 'max_features': 'log2', 'min_samples_leaf': 4, 'min_samples_split': 10, 'n_estimators': 100}\n",
            "0.808035542917291 {'bootstrap': True, 'criterion': 'entropy', 'max_features': 'log2', 'min_samples_leaf': 4, 'min_samples_split': 10, 'n_estimators': 200}\n",
            "0.7140049679333288 {'bootstrap': True, 'criterion': 'log_loss', 'max_features': 'sqrt', 'min_samples_leaf': 1, 'min_samples_split': 2, 'n_estimators': 50}\n",
            "0.7157587784253208 {'bootstrap': True, 'criterion': 'log_loss', 'max_features': 'sqrt', 'min_samples_leaf': 1, 'min_samples_split': 2, 'n_estimators': 100}\n",
            "0.7104645631693316 {'bootstrap': True, 'criterion': 'log_loss', 'max_features': 'sqrt', 'min_samples_leaf': 1, 'min_samples_split': 2, 'n_estimators': 200}\n",
            "0.7353990304428549 {'bootstrap': True, 'criterion': 'log_loss', 'max_features': 'sqrt', 'min_samples_leaf': 1, 'min_samples_split': 5, 'n_estimators': 50}\n",
            "0.7232761509940342 {'bootstrap': True, 'criterion': 'log_loss', 'max_features': 'sqrt', 'min_samples_leaf': 1, 'min_samples_split': 5, 'n_estimators': 100}\n",
            "0.7236774569404143 {'bootstrap': True, 'criterion': 'log_loss', 'max_features': 'sqrt', 'min_samples_leaf': 1, 'min_samples_split': 5, 'n_estimators': 200}\n",
            "0.7719632539317763 {'bootstrap': True, 'criterion': 'log_loss', 'max_features': 'sqrt', 'min_samples_leaf': 1, 'min_samples_split': 10, 'n_estimators': 50}\n",
            "0.7825592856541878 {'bootstrap': True, 'criterion': 'log_loss', 'max_features': 'sqrt', 'min_samples_leaf': 1, 'min_samples_split': 10, 'n_estimators': 100}\n",
            "0.7666168707784782 {'bootstrap': True, 'criterion': 'log_loss', 'max_features': 'sqrt', 'min_samples_leaf': 1, 'min_samples_split': 10, 'n_estimators': 200}\n",
            "0.7486522617084794 {'bootstrap': True, 'criterion': 'log_loss', 'max_features': 'sqrt', 'min_samples_leaf': 2, 'min_samples_split': 2, 'n_estimators': 50}\n",
            "0.7520155757431741 {'bootstrap': True, 'criterion': 'log_loss', 'max_features': 'sqrt', 'min_samples_leaf': 2, 'min_samples_split': 2, 'n_estimators': 100}\n",
            "0.7439988290211823 {'bootstrap': True, 'criterion': 'log_loss', 'max_features': 'sqrt', 'min_samples_leaf': 2, 'min_samples_split': 2, 'n_estimators': 200}\n",
            "0.7520209193436043 {'bootstrap': True, 'criterion': 'log_loss', 'max_features': 'sqrt', 'min_samples_leaf': 2, 'min_samples_split': 5, 'n_estimators': 50}\n",
            "0.7444173041814098 {'bootstrap': True, 'criterion': 'log_loss', 'max_features': 'sqrt', 'min_samples_leaf': 2, 'min_samples_split': 5, 'n_estimators': 100}\n",
            "0.7435557988744241 {'bootstrap': True, 'criterion': 'log_loss', 'max_features': 'sqrt', 'min_samples_leaf': 2, 'min_samples_split': 5, 'n_estimators': 200}\n",
            "0.7925981164254311 {'bootstrap': True, 'criterion': 'log_loss', 'max_features': 'sqrt', 'min_samples_leaf': 2, 'min_samples_split': 10, 'n_estimators': 50}\n",
            "0.7801163213162551 {'bootstrap': True, 'criterion': 'log_loss', 'max_features': 'sqrt', 'min_samples_leaf': 2, 'min_samples_split': 10, 'n_estimators': 100}\n",
            "0.7841674729789035 {'bootstrap': True, 'criterion': 'log_loss', 'max_features': 'sqrt', 'min_samples_leaf': 2, 'min_samples_split': 10, 'n_estimators': 200}\n",
            "0.8111576251178432 {'bootstrap': True, 'criterion': 'log_loss', 'max_features': 'sqrt', 'min_samples_leaf': 4, 'min_samples_split': 2, 'n_estimators': 50}\n",
            "0.8162098462776215 {'bootstrap': True, 'criterion': 'log_loss', 'max_features': 'sqrt', 'min_samples_leaf': 4, 'min_samples_split': 2, 'n_estimators': 100}\n",
            "0.8115377565086542 {'bootstrap': True, 'criterion': 'log_loss', 'max_features': 'sqrt', 'min_samples_leaf': 4, 'min_samples_split': 2, 'n_estimators': 200}\n",
            "0.8009412786757084 {'bootstrap': True, 'criterion': 'log_loss', 'max_features': 'sqrt', 'min_samples_leaf': 4, 'min_samples_split': 5, 'n_estimators': 50}\n",
            "0.7997689037322812 {'bootstrap': True, 'criterion': 'log_loss', 'max_features': 'sqrt', 'min_samples_leaf': 4, 'min_samples_split': 5, 'n_estimators': 100}\n",
            "0.8064612494320127 {'bootstrap': True, 'criterion': 'log_loss', 'max_features': 'sqrt', 'min_samples_leaf': 4, 'min_samples_split': 5, 'n_estimators': 200}\n",
            "0.8021232122179627 {'bootstrap': True, 'criterion': 'log_loss', 'max_features': 'sqrt', 'min_samples_leaf': 4, 'min_samples_split': 10, 'n_estimators': 50}\n",
            "0.8111601021203215 {'bootstrap': True, 'criterion': 'log_loss', 'max_features': 'sqrt', 'min_samples_leaf': 4, 'min_samples_split': 10, 'n_estimators': 100}\n",
            "0.799766391449468 {'bootstrap': True, 'criterion': 'log_loss', 'max_features': 'sqrt', 'min_samples_leaf': 4, 'min_samples_split': 10, 'n_estimators': 200}\n",
            "0.7324203862962904 {'bootstrap': True, 'criterion': 'log_loss', 'max_features': 'log2', 'min_samples_leaf': 1, 'min_samples_split': 2, 'n_estimators': 50}\n",
            "0.7328194264854326 {'bootstrap': True, 'criterion': 'log_loss', 'max_features': 'log2', 'min_samples_leaf': 1, 'min_samples_split': 2, 'n_estimators': 100}\n",
            "0.7184318086030281 {'bootstrap': True, 'criterion': 'log_loss', 'max_features': 'log2', 'min_samples_leaf': 1, 'min_samples_split': 2, 'n_estimators': 200}\n",
            "0.7328235391702324 {'bootstrap': True, 'criterion': 'log_loss', 'max_features': 'log2', 'min_samples_leaf': 1, 'min_samples_split': 5, 'n_estimators': 50}\n",
            "0.7332757936766519 {'bootstrap': True, 'criterion': 'log_loss', 'max_features': 'log2', 'min_samples_leaf': 1, 'min_samples_split': 5, 'n_estimators': 100}\n",
            "0.7336771072135114 {'bootstrap': True, 'criterion': 'log_loss', 'max_features': 'log2', 'min_samples_leaf': 1, 'min_samples_split': 5, 'n_estimators': 200}\n",
            "0.783370204203245 {'bootstrap': True, 'criterion': 'log_loss', 'max_features': 'log2', 'min_samples_leaf': 1, 'min_samples_split': 10, 'n_estimators': 50}\n",
            "0.764550109280066 {'bootstrap': True, 'criterion': 'log_loss', 'max_features': 'log2', 'min_samples_leaf': 1, 'min_samples_split': 10, 'n_estimators': 100}\n",
            "0.7752358070678732 {'bootstrap': True, 'criterion': 'log_loss', 'max_features': 'log2', 'min_samples_leaf': 1, 'min_samples_split': 10, 'n_estimators': 200}\n",
            "0.7532782816330683 {'bootstrap': True, 'criterion': 'log_loss', 'max_features': 'log2', 'min_samples_leaf': 2, 'min_samples_split': 2, 'n_estimators': 50}\n",
            "0.7490882543324134 {'bootstrap': True, 'criterion': 'log_loss', 'max_features': 'log2', 'min_samples_leaf': 2, 'min_samples_split': 2, 'n_estimators': 100}\n",
            "0.7570670328738508 {'bootstrap': True, 'criterion': 'log_loss', 'max_features': 'log2', 'min_samples_leaf': 2, 'min_samples_split': 2, 'n_estimators': 200}\n",
            "0.7735999623500772 {'bootstrap': True, 'criterion': 'log_loss', 'max_features': 'log2', 'min_samples_leaf': 2, 'min_samples_split': 5, 'n_estimators': 50}\n",
            "0.7587345513082988 {'bootstrap': True, 'criterion': 'log_loss', 'max_features': 'log2', 'min_samples_leaf': 2, 'min_samples_split': 5, 'n_estimators': 100}\n",
            "0.7670190766952714 {'bootstrap': True, 'criterion': 'log_loss', 'max_features': 'log2', 'min_samples_leaf': 2, 'min_samples_split': 5, 'n_estimators': 200}\n",
            "0.7817488110232511 {'bootstrap': True, 'criterion': 'log_loss', 'max_features': 'log2', 'min_samples_leaf': 2, 'min_samples_split': 10, 'n_estimators': 50}\n",
            "0.7744293432686363 {'bootstrap': True, 'criterion': 'log_loss', 'max_features': 'log2', 'min_samples_leaf': 2, 'min_samples_split': 10, 'n_estimators': 100}\n",
            "0.7877809049917625 {'bootstrap': True, 'criterion': 'log_loss', 'max_features': 'log2', 'min_samples_leaf': 2, 'min_samples_split': 10, 'n_estimators': 200}\n",
            "0.8173856794717076 {'bootstrap': True, 'criterion': 'log_loss', 'max_features': 'log2', 'min_samples_leaf': 4, 'min_samples_split': 2, 'n_estimators': 50}\n",
            "0.805672325652983 {'bootstrap': True, 'criterion': 'log_loss', 'max_features': 'log2', 'min_samples_leaf': 4, 'min_samples_split': 2, 'n_estimators': 100}\n",
            "0.8166097703175608 {'bootstrap': True, 'criterion': 'log_loss', 'max_features': 'log2', 'min_samples_leaf': 4, 'min_samples_split': 2, 'n_estimators': 200}\n",
            "0.8173844504044039 {'bootstrap': True, 'criterion': 'log_loss', 'max_features': 'log2', 'min_samples_leaf': 4, 'min_samples_split': 5, 'n_estimators': 50}\n",
            "0.7997601107079084 {'bootstrap': True, 'criterion': 'log_loss', 'max_features': 'log2', 'min_samples_leaf': 4, 'min_samples_split': 5, 'n_estimators': 100}\n",
            "0.7989607978115211 {'bootstrap': True, 'criterion': 'log_loss', 'max_features': 'log2', 'min_samples_leaf': 4, 'min_samples_split': 5, 'n_estimators': 200}\n",
            "0.8088122249260785 {'bootstrap': True, 'criterion': 'log_loss', 'max_features': 'log2', 'min_samples_leaf': 4, 'min_samples_split': 10, 'n_estimators': 50}\n",
            "0.8084158996626712 {'bootstrap': True, 'criterion': 'log_loss', 'max_features': 'log2', 'min_samples_leaf': 4, 'min_samples_split': 10, 'n_estimators': 100}\n",
            "0.8072406906556376 {'bootstrap': True, 'criterion': 'log_loss', 'max_features': 'log2', 'min_samples_leaf': 4, 'min_samples_split': 10, 'n_estimators': 200}\n"
          ]
        }
      ],
      "source": [
        "import numpy as np\n",
        "cvres = grid_search.cv_results_\n",
        "for mean_score, params in zip(cvres[\"mean_test_score\"], cvres[\"params\"]):\n",
        "  print(np.sqrt(-mean_score), params)"
      ]
    },
    {
      "cell_type": "code",
      "execution_count": 26,
      "metadata": {
        "colab": {
          "base_uri": "https://localhost:8080/"
        },
        "id": "YgoaB9kdvF5T",
        "outputId": "20c63261-5635-42fd-95f3-b6be596f0ba8"
      },
      "outputs": [
        {
          "name": "stdout",
          "output_type": "stream",
          "text": [
            "0.7014952886112217\n",
            "{'bootstrap': False, 'criterion': 'log_loss', 'max_features': 'log2', 'min_samples_leaf': 2, 'min_samples_split': 2, 'n_estimators': 50}\n"
          ]
        }
      ],
      "source": [
        "extra_grid_search_results = [[],[]]\n",
        "for mean_score, params in zip(cvres[\"mean_test_score\"], cvres[\"params\"]):\n",
        "  extra_grid_search_results[0].append(np.sqrt(-mean_score))\n",
        "  extra_grid_search_results[1].append(params)\n",
        "extra_grid_search_results\n",
        "print(min(extra_grid_search_results[0]))\n",
        "print(extra_grid_search_results[1][extra_grid_search_results[0].index(min(extra_grid_search_results[0]))])"
      ]
    },
    {
      "cell_type": "markdown",
      "metadata": {
        "id": "UMf9jDdxtAJP"
      },
      "source": [
        "#### 5.1.1.1 Extra Trees Grid-Search Metrics"
      ]
    },
    {
      "cell_type": "code",
      "execution_count": 27,
      "metadata": {
        "colab": {
          "base_uri": "https://localhost:8080/"
        },
        "id": "M_Atyq1atHzc",
        "outputId": "78c8b932-9517-4dfd-ded7-d2da1296fab2"
      },
      "outputs": [
        {
          "data": {
            "text/plain": [
              "array([0.70886076, 0.70886076, 0.75      , 0.68670886, 0.72698413])"
            ]
          },
          "execution_count": 27,
          "metadata": {},
          "output_type": "execute_result"
        }
      ],
      "source": [
        "from sklearn.model_selection import cross_val_score\n",
        "accuracy = cross_val_score(extra_best_search, red_wine_prepared, y_train,\n",
        "                        scoring=\"accuracy\", cv=5)\n",
        "\n",
        "accuracy"
      ]
    },
    {
      "cell_type": "code",
      "execution_count": 28,
      "metadata": {
        "id": "C6pgXk_MtHzd"
      },
      "outputs": [],
      "source": [
        "y_pred = extra_best_search.predict(red_test)"
      ]
    },
    {
      "cell_type": "code",
      "execution_count": 29,
      "metadata": {
        "colab": {
          "base_uri": "https://localhost:8080/"
        },
        "id": "Df45h4-ttHze",
        "outputId": "8fc2c0f7-9d24-4a20-ad49-9491dd88c7d4"
      },
      "outputs": [
        {
          "data": {
            "text/plain": [
              "0.7833333333333333"
            ]
          },
          "execution_count": 29,
          "metadata": {},
          "output_type": "execute_result"
        }
      ],
      "source": [
        "from sklearn.metrics import precision_score\n",
        "precision_score(y_test, y_pred, average = 'macro')"
      ]
    },
    {
      "cell_type": "code",
      "execution_count": 30,
      "metadata": {
        "colab": {
          "base_uri": "https://localhost:8080/"
        },
        "id": "aHS4xyPOtHze",
        "outputId": "48049624-87ba-4e9c-cd92-594aaa7a1a5c"
      },
      "outputs": [
        {
          "data": {
            "text/plain": [
              "0.6944444444444443"
            ]
          },
          "execution_count": 30,
          "metadata": {},
          "output_type": "execute_result"
        }
      ],
      "source": [
        "from sklearn.metrics import recall_score\n",
        "recall_score(y_test, y_pred, average='macro')"
      ]
    },
    {
      "cell_type": "code",
      "execution_count": 31,
      "metadata": {
        "colab": {
          "base_uri": "https://localhost:8080/"
        },
        "id": "DrGtmA7etHze",
        "outputId": "ce1a1443-92e8-4db2-a9d2-3bd7b75e2efe"
      },
      "outputs": [
        {
          "data": {
            "text/plain": [
              "0.7241830065359478"
            ]
          },
          "execution_count": 31,
          "metadata": {},
          "output_type": "execute_result"
        }
      ],
      "source": [
        "from sklearn.metrics import f1_score\n",
        "f1scoreextra = f1_score(y_test, y_pred, average='macro')\n",
        "f1scoreextra"
      ]
    },
    {
      "cell_type": "code",
      "execution_count": 32,
      "metadata": {
        "id": "ZzLdaIpmt7RM"
      },
      "outputs": [],
      "source": [
        "y_pred_proba = extra_best_search.predict_proba(red_test)"
      ]
    },
    {
      "cell_type": "code",
      "execution_count": 33,
      "metadata": {
        "colab": {
          "base_uri": "https://localhost:8080/"
        },
        "id": "JWdyVCJKtHze",
        "outputId": "9c4542c4-ce10-42e4-d11e-2a1bd92ecb16"
      },
      "outputs": [
        {
          "data": {
            "text/plain": [
              "0.8812636165577342"
            ]
          },
          "execution_count": 33,
          "metadata": {},
          "output_type": "execute_result"
        }
      ],
      "source": [
        "from sklearn.metrics import roc_auc_score\n",
        "roc_auc_score(y_test, y_pred_proba, multi_class='ovr')"
      ]
    },
    {
      "cell_type": "code",
      "execution_count": 34,
      "metadata": {
        "colab": {
          "base_uri": "https://localhost:8080/"
        },
        "id": "jr2yN2aAtHze",
        "outputId": "65145bcb-2cff-449d-9957-018dc7edfd12"
      },
      "outputs": [
        {
          "data": {
            "text/plain": [
              "array([[6, 2, 0],\n",
              "       [3, 6, 0],\n",
              "       [1, 0, 2]], dtype=int64)"
            ]
          },
          "execution_count": 34,
          "metadata": {},
          "output_type": "execute_result"
        }
      ],
      "source": [
        "from sklearn.metrics import confusion_matrix\n",
        "conf_mx = confusion_matrix(y_test, y_pred)\n",
        "conf_mx"
      ]
    },
    {
      "cell_type": "code",
      "execution_count": 35,
      "metadata": {
        "colab": {
          "base_uri": "https://localhost:8080/",
          "height": 437
        },
        "id": "64zVvsjAtHze",
        "outputId": "7c6adee0-9152-4673-9bea-422942494598"
      },
      "outputs": [
        {
          "data": {
            "image/png": "[encoded data removed]",
            "text/plain": [
              "<Figure size 480x480 with 1 Axes>"
            ]
          },
          "metadata": {},
          "output_type": "display_data"
        }
      ],
      "source": [
        "plt.matshow(conf_mx, cmap=plt.cm.pink)\n",
        "plt.show()"
      ]
    },
    {
      "cell_type": "code",
      "execution_count": 36,
      "metadata": {
        "colab": {
          "base_uri": "https://localhost:8080/"
        },
        "id": "qARM-CB2tHze",
        "outputId": "eb1a9974-ba3f-4f0d-ee56-08bbb09edfad"
      },
      "outputs": [
        {
          "name": "stdout",
          "output_type": "stream",
          "text": [
            "              precision    recall  f1-score   support\n",
            "\n",
            "           0       0.60      0.75      0.67         8\n",
            "           1       0.75      0.67      0.71         9\n",
            "           2       1.00      0.67      0.80         3\n",
            "\n",
            "    accuracy                           0.70        20\n",
            "   macro avg       0.78      0.69      0.72        20\n",
            "weighted avg       0.73      0.70      0.70        20\n",
            "\n"
          ]
        }
      ],
      "source": [
        "from sklearn.metrics import classification_report\n",
        "print(classification_report(y_test, y_pred))\n"
      ]
    },
    {
      "cell_type": "code",
      "execution_count": 37,
      "metadata": {
        "colab": {
          "base_uri": "https://localhost:8080/"
        },
        "id": "6drr1uoJOP5X",
        "outputId": "1fb980f7-fb6b-4924-964c-21d0d6292136"
      },
      "outputs": [
        {
          "name": "stderr",
          "output_type": "stream",
          "text": [
            "c:\\Users\\luis_\\AppData\\Local\\Programs\\Python\\Python311\\Lib\\site-packages\\sklearn\\model_selection\\_split.py:700: UserWarning: The least populated class in y has only 3 members, which is less than n_splits=5.\n",
            "  warnings.warn(\n"
          ]
        },
        {
          "name": "stdout",
          "output_type": "stream",
          "text": [
            "Accuracy with hyperparameters: [0.75 0.75 0.25 0.5  0.75]\n",
            "F1 Score with hyperparameters: 0.7241830065359478\n"
          ]
        }
      ],
      "source": [
        "\n",
        "\n",
        "accuracy_trees = cross_val_score(extra_best_search, red_test, y_test,\n",
        "                        scoring=\"accuracy\", cv=5)\n",
        "\n",
        "print(\"Accuracy with hyperparameters: \" + str(accuracy_trees))\n",
        "\n",
        "print(\"F1 Score with hyperparameters: \" + str(f1scoreextra))"
      ]
    },
    {
      "cell_type": "markdown",
      "metadata": {
        "id": "_yp_twfxW48b"
      },
      "source": [
        "### 5.1.2 Extra Trees Grid-Search - Parallel"
      ]
    },
    {
      "cell_type": "code",
      "execution_count": 38,
      "metadata": {
        "colab": {
          "base_uri": "https://localhost:8080/"
        },
        "id": "ODDnTXh2W48i",
        "outputId": "45de78f3-bfb6-4163-bb4f-f5d6a4f10474"
      },
      "outputs": [
        {
          "name": "stdout",
          "output_type": "stream",
          "text": [
            "Tiempo de ejecución: 119.64504718780518 segundos\n"
          ]
        }
      ],
      "source": [
        "from sklearn.model_selection import GridSearchCV\n",
        "import time\n",
        "\n",
        "start_time = time.time()\n",
        "\n",
        "param_grid = [\n",
        "    {'criterion': ['gini', 'entropy', 'log_loss'],\n",
        "     'bootstrap': [False, True],\n",
        "     'max_features': ['sqrt', 'log2'],\n",
        "     'n_estimators': [50, 100, 200],\n",
        "     'min_samples_split': [2, 5, 10],\n",
        "     'min_samples_leaf': [1, 2, 4]}\n",
        "]\n",
        "\n",
        "extra_reg = ExtraTreesClassifier()\n",
        "\n",
        "grid_search_parallel = GridSearchCV(extra_reg, param_grid, cv=5,\n",
        "                           scoring='neg_mean_squared_error',\n",
        "                           return_train_score=True, n_jobs = -1)\n",
        "\n",
        "grid_search_parallel.fit(red_wine_prepared, y_train)\n",
        "end_time = time.time()\n",
        "execution_time_parallel = end_time - start_time\n",
        "print(\"Tiempo de ejecución: {} segundos\".format(execution_time_parallel))"
      ]
    },
    {
      "cell_type": "code",
      "execution_count": 39,
      "metadata": {
        "id": "34Hon6cOW48j"
      },
      "outputs": [],
      "source": [
        "extra_best_search_parallel = grid_search_parallel.best_estimator_"
      ]
    },
    {
      "cell_type": "code",
      "execution_count": 40,
      "metadata": {
        "colab": {
          "base_uri": "https://localhost:8080/"
        },
        "id": "GnoLviHzW48j",
        "outputId": "c95c7518-3c4b-4c0c-8988-f4af5bfcc953"
      },
      "outputs": [
        {
          "name": "stdout",
          "output_type": "stream",
          "text": [
            "0.7201985527580684 {'bootstrap': False, 'criterion': 'gini', 'max_features': 'sqrt', 'min_samples_leaf': 1, 'min_samples_split': 2, 'n_estimators': 50}\n",
            "0.7068666338248456 {'bootstrap': False, 'criterion': 'gini', 'max_features': 'sqrt', 'min_samples_leaf': 1, 'min_samples_split': 2, 'n_estimators': 100}\n",
            "0.7223880429722621 {'bootstrap': False, 'criterion': 'gini', 'max_features': 'sqrt', 'min_samples_leaf': 1, 'min_samples_split': 2, 'n_estimators': 200}\n",
            "0.7362741734087733 {'bootstrap': False, 'criterion': 'gini', 'max_features': 'sqrt', 'min_samples_leaf': 1, 'min_samples_split': 5, 'n_estimators': 50}\n",
            "0.7166565035656017 {'bootstrap': False, 'criterion': 'gini', 'max_features': 'sqrt', 'min_samples_leaf': 1, 'min_samples_split': 5, 'n_estimators': 100}\n",
            "0.7241631698479254 {'bootstrap': False, 'criterion': 'gini', 'max_features': 'sqrt', 'min_samples_leaf': 1, 'min_samples_split': 5, 'n_estimators': 200}\n",
            "0.7456955710405417 {'bootstrap': False, 'criterion': 'gini', 'max_features': 'sqrt', 'min_samples_leaf': 1, 'min_samples_split': 10, 'n_estimators': 50}\n",
            "0.7486629968826737 {'bootstrap': False, 'criterion': 'gini', 'max_features': 'sqrt', 'min_samples_leaf': 1, 'min_samples_split': 10, 'n_estimators': 100}\n",
            "0.7499246496205463 {'bootstrap': False, 'criterion': 'gini', 'max_features': 'sqrt', 'min_samples_leaf': 1, 'min_samples_split': 10, 'n_estimators': 200}\n",
            "0.7228273689230476 {'bootstrap': False, 'criterion': 'gini', 'max_features': 'sqrt', 'min_samples_leaf': 2, 'min_samples_split': 2, 'n_estimators': 50}\n",
            "0.7188847321981898 {'bootstrap': False, 'criterion': 'gini', 'max_features': 'sqrt', 'min_samples_leaf': 2, 'min_samples_split': 2, 'n_estimators': 100}\n",
            "0.7354181554540987 {'bootstrap': False, 'criterion': 'gini', 'max_features': 'sqrt', 'min_samples_leaf': 2, 'min_samples_split': 2, 'n_estimators': 200}\n",
            "0.7228120804168565 {'bootstrap': False, 'criterion': 'gini', 'max_features': 'sqrt', 'min_samples_leaf': 2, 'min_samples_split': 5, 'n_estimators': 50}\n",
            "0.7250200055438599 {'bootstrap': False, 'criterion': 'gini', 'max_features': 'sqrt', 'min_samples_leaf': 2, 'min_samples_split': 5, 'n_estimators': 100}\n",
            "0.7148908427293527 {'bootstrap': False, 'criterion': 'gini', 'max_features': 'sqrt', 'min_samples_leaf': 2, 'min_samples_split': 5, 'n_estimators': 200}\n",
            "0.7562239240245102 {'bootstrap': False, 'criterion': 'gini', 'max_features': 'sqrt', 'min_samples_leaf': 2, 'min_samples_split': 10, 'n_estimators': 50}\n",
            "0.762059960082341 {'bootstrap': False, 'criterion': 'gini', 'max_features': 'sqrt', 'min_samples_leaf': 2, 'min_samples_split': 10, 'n_estimators': 100}\n",
            "0.7553679044591451 {'bootstrap': False, 'criterion': 'gini', 'max_features': 'sqrt', 'min_samples_leaf': 2, 'min_samples_split': 10, 'n_estimators': 200}\n",
            "0.775634838861028 {'bootstrap': False, 'criterion': 'gini', 'max_features': 'sqrt', 'min_samples_leaf': 4, 'min_samples_split': 2, 'n_estimators': 50}\n",
            "0.7809413545436609 {'bootstrap': False, 'criterion': 'gini', 'max_features': 'sqrt', 'min_samples_leaf': 4, 'min_samples_split': 2, 'n_estimators': 100}\n",
            "0.7833702042032451 {'bootstrap': False, 'criterion': 'gini', 'max_features': 'sqrt', 'min_samples_leaf': 4, 'min_samples_split': 2, 'n_estimators': 200}\n",
            "0.7938101909452557 {'bootstrap': False, 'criterion': 'gini', 'max_features': 'sqrt', 'min_samples_leaf': 4, 'min_samples_split': 5, 'n_estimators': 50}\n",
            "0.7801085945744431 {'bootstrap': False, 'criterion': 'gini', 'max_features': 'sqrt', 'min_samples_leaf': 4, 'min_samples_split': 5, 'n_estimators': 100}\n",
            "0.7849882484028667 {'bootstrap': False, 'criterion': 'gini', 'max_features': 'sqrt', 'min_samples_leaf': 4, 'min_samples_split': 5, 'n_estimators': 200}\n",
            "0.7735986637175154 {'bootstrap': False, 'criterion': 'gini', 'max_features': 'sqrt', 'min_samples_leaf': 4, 'min_samples_split': 10, 'n_estimators': 50}\n",
            "0.7853772086426588 {'bootstrap': False, 'criterion': 'gini', 'max_features': 'sqrt', 'min_samples_leaf': 4, 'min_samples_split': 10, 'n_estimators': 100}\n",
            "0.7780957471687567 {'bootstrap': False, 'criterion': 'gini', 'max_features': 'sqrt', 'min_samples_leaf': 4, 'min_samples_split': 10, 'n_estimators': 200}\n",
            "0.7245750765733804 {'bootstrap': False, 'criterion': 'gini', 'max_features': 'log2', 'min_samples_leaf': 1, 'min_samples_split': 2, 'n_estimators': 50}\n",
            "0.7210768185010709 {'bootstrap': False, 'criterion': 'gini', 'max_features': 'log2', 'min_samples_leaf': 1, 'min_samples_split': 2, 'n_estimators': 100}\n",
            "0.7166775305118801 {'bootstrap': False, 'criterion': 'gini', 'max_features': 'log2', 'min_samples_leaf': 1, 'min_samples_split': 2, 'n_estimators': 200}\n",
            "0.7289308367450826 {'bootstrap': False, 'criterion': 'gini', 'max_features': 'log2', 'min_samples_leaf': 1, 'min_samples_split': 5, 'n_estimators': 50}\n",
            "0.7193303876176305 {'bootstrap': False, 'criterion': 'gini', 'max_features': 'log2', 'min_samples_leaf': 1, 'min_samples_split': 5, 'n_estimators': 100}\n",
            "0.7254494287120542 {'bootstrap': False, 'criterion': 'gini', 'max_features': 'log2', 'min_samples_leaf': 1, 'min_samples_split': 5, 'n_estimators': 200}\n",
            "0.7302417158946142 {'bootstrap': False, 'criterion': 'gini', 'max_features': 'log2', 'min_samples_leaf': 1, 'min_samples_split': 10, 'n_estimators': 50}\n",
            "0.7371578172812541 {'bootstrap': False, 'criterion': 'gini', 'max_features': 'log2', 'min_samples_leaf': 1, 'min_samples_split': 10, 'n_estimators': 100}\n",
            "0.7371428259918097 {'bootstrap': False, 'criterion': 'gini', 'max_features': 'log2', 'min_samples_leaf': 1, 'min_samples_split': 10, 'n_estimators': 200}\n",
            "0.731547499498497 {'bootstrap': False, 'criterion': 'gini', 'max_features': 'log2', 'min_samples_leaf': 2, 'min_samples_split': 2, 'n_estimators': 50}\n",
            "0.721974888484475 {'bootstrap': False, 'criterion': 'gini', 'max_features': 'log2', 'min_samples_leaf': 2, 'min_samples_split': 2, 'n_estimators': 100}\n",
            "0.7166691198073999 {'bootstrap': False, 'criterion': 'gini', 'max_features': 'log2', 'min_samples_leaf': 2, 'min_samples_split': 2, 'n_estimators': 200}\n",
            "0.7289308367450826 {'bootstrap': False, 'criterion': 'gini', 'max_features': 'log2', 'min_samples_leaf': 2, 'min_samples_split': 5, 'n_estimators': 50}\n",
            "0.7215127657131232 {'bootstrap': False, 'criterion': 'gini', 'max_features': 'log2', 'min_samples_leaf': 2, 'min_samples_split': 5, 'n_estimators': 100}\n",
            "0.7223838708759686 {'bootstrap': False, 'criterion': 'gini', 'max_features': 'log2', 'min_samples_leaf': 2, 'min_samples_split': 5, 'n_estimators': 200}\n",
            "0.7486281070036988 {'bootstrap': False, 'criterion': 'gini', 'max_features': 'log2', 'min_samples_leaf': 2, 'min_samples_split': 10, 'n_estimators': 50}\n",
            "0.7653604198234113 {'bootstrap': False, 'criterion': 'gini', 'max_features': 'log2', 'min_samples_leaf': 2, 'min_samples_split': 10, 'n_estimators': 100}\n",
            "0.7549634834627873 {'bootstrap': False, 'criterion': 'gini', 'max_features': 'log2', 'min_samples_leaf': 2, 'min_samples_split': 10, 'n_estimators': 200}\n",
            "0.7898059570992101 {'bootstrap': False, 'criterion': 'gini', 'max_features': 'log2', 'min_samples_leaf': 4, 'min_samples_split': 2, 'n_estimators': 50}\n",
            "0.7914083046579276 {'bootstrap': False, 'criterion': 'gini', 'max_features': 'log2', 'min_samples_leaf': 4, 'min_samples_split': 2, 'n_estimators': 100}\n",
            "0.7813451870885091 {'bootstrap': False, 'criterion': 'gini', 'max_features': 'log2', 'min_samples_leaf': 4, 'min_samples_split': 2, 'n_estimators': 200}\n",
            "0.7781099494478766 {'bootstrap': False, 'criterion': 'gini', 'max_features': 'log2', 'min_samples_leaf': 4, 'min_samples_split': 5, 'n_estimators': 50}\n",
            "0.7841777219599163 {'bootstrap': False, 'criterion': 'gini', 'max_features': 'log2', 'min_samples_leaf': 4, 'min_samples_split': 5, 'n_estimators': 100}\n",
            "0.7857774829827516 {'bootstrap': False, 'criterion': 'gini', 'max_features': 'log2', 'min_samples_leaf': 4, 'min_samples_split': 5, 'n_estimators': 200}\n",
            "0.7760453164167729 {'bootstrap': False, 'criterion': 'gini', 'max_features': 'log2', 'min_samples_leaf': 4, 'min_samples_split': 10, 'n_estimators': 50}\n",
            "0.7829610006066499 {'bootstrap': False, 'criterion': 'gini', 'max_features': 'log2', 'min_samples_leaf': 4, 'min_samples_split': 10, 'n_estimators': 100}\n",
            "0.7925879763288216 {'bootstrap': False, 'criterion': 'gini', 'max_features': 'log2', 'min_samples_leaf': 4, 'min_samples_split': 10, 'n_estimators': 200}\n",
            "0.7144396056846133 {'bootstrap': False, 'criterion': 'entropy', 'max_features': 'sqrt', 'min_samples_leaf': 1, 'min_samples_split': 2, 'n_estimators': 50}\n",
            "0.710017587728972 {'bootstrap': False, 'criterion': 'entropy', 'max_features': 'sqrt', 'min_samples_leaf': 1, 'min_samples_split': 2, 'n_estimators': 100}\n",
            "0.7126783199900258 {'bootstrap': False, 'criterion': 'entropy', 'max_features': 'sqrt', 'min_samples_leaf': 1, 'min_samples_split': 2, 'n_estimators': 200}\n",
            "0.7371428259918097 {'bootstrap': False, 'criterion': 'entropy', 'max_features': 'sqrt', 'min_samples_leaf': 1, 'min_samples_split': 5, 'n_estimators': 50}\n",
            "0.7179785992894028 {'bootstrap': False, 'criterion': 'entropy', 'max_features': 'sqrt', 'min_samples_leaf': 1, 'min_samples_split': 5, 'n_estimators': 100}\n",
            "0.7197618095505223 {'bootstrap': False, 'criterion': 'entropy', 'max_features': 'sqrt', 'min_samples_leaf': 1, 'min_samples_split': 5, 'n_estimators': 200}\n",
            "0.751594647910649 {'bootstrap': False, 'criterion': 'entropy', 'max_features': 'sqrt', 'min_samples_leaf': 1, 'min_samples_split': 10, 'n_estimators': 50}\n",
            "0.7401214677472161 {'bootstrap': False, 'criterion': 'entropy', 'max_features': 'sqrt', 'min_samples_leaf': 1, 'min_samples_split': 10, 'n_estimators': 100}\n",
            "0.7380009273002315 {'bootstrap': False, 'criterion': 'entropy', 'max_features': 'sqrt', 'min_samples_leaf': 1, 'min_samples_split': 10, 'n_estimators': 200}\n",
            "0.7236955035347724 {'bootstrap': False, 'criterion': 'entropy', 'max_features': 'sqrt', 'min_samples_leaf': 2, 'min_samples_split': 2, 'n_estimators': 50}\n",
            "0.7302320856653051 {'bootstrap': False, 'criterion': 'entropy', 'max_features': 'sqrt', 'min_samples_leaf': 2, 'min_samples_split': 2, 'n_estimators': 100}\n",
            "0.7126881874153763 {'bootstrap': False, 'criterion': 'entropy', 'max_features': 'sqrt', 'min_samples_leaf': 2, 'min_samples_split': 2, 'n_estimators': 200}\n",
            "0.7341397834332706 {'bootstrap': False, 'criterion': 'entropy', 'max_features': 'sqrt', 'min_samples_leaf': 2, 'min_samples_split': 5, 'n_estimators': 50}\n",
            "0.7311175357732363 {'bootstrap': False, 'criterion': 'entropy', 'max_features': 'sqrt', 'min_samples_leaf': 2, 'min_samples_split': 5, 'n_estimators': 100}\n",
            "0.7263171956355633 {'bootstrap': False, 'criterion': 'entropy', 'max_features': 'sqrt', 'min_samples_leaf': 2, 'min_samples_split': 5, 'n_estimators': 200}\n",
            "0.7486267650528037 {'bootstrap': False, 'criterion': 'entropy', 'max_features': 'sqrt', 'min_samples_leaf': 2, 'min_samples_split': 10, 'n_estimators': 50}\n",
            "0.7427162893310022 {'bootstrap': False, 'criterion': 'entropy', 'max_features': 'sqrt', 'min_samples_leaf': 2, 'min_samples_split': 10, 'n_estimators': 100}\n",
            "0.7536982691850058 {'bootstrap': False, 'criterion': 'entropy', 'max_features': 'sqrt', 'min_samples_leaf': 2, 'min_samples_split': 10, 'n_estimators': 200}\n",
            "0.7877962078988622 {'bootstrap': False, 'criterion': 'entropy', 'max_features': 'sqrt', 'min_samples_leaf': 4, 'min_samples_split': 2, 'n_estimators': 50}\n",
            "0.783366356889219 {'bootstrap': False, 'criterion': 'entropy', 'max_features': 'sqrt', 'min_samples_leaf': 4, 'min_samples_split': 2, 'n_estimators': 100}\n",
            "0.7841661918468582 {'bootstrap': False, 'criterion': 'entropy', 'max_features': 'sqrt', 'min_samples_leaf': 4, 'min_samples_split': 2, 'n_estimators': 200}\n",
            "0.7817578066344306 {'bootstrap': False, 'criterion': 'entropy', 'max_features': 'sqrt', 'min_samples_leaf': 4, 'min_samples_split': 5, 'n_estimators': 50}\n",
            "0.789407725425857 {'bootstrap': False, 'criterion': 'entropy', 'max_features': 'sqrt', 'min_samples_leaf': 4, 'min_samples_split': 5, 'n_estimators': 100}\n",
            "0.7861877763042407 {'bootstrap': False, 'criterion': 'entropy', 'max_features': 'sqrt', 'min_samples_leaf': 4, 'min_samples_split': 5, 'n_estimators': 200}\n",
            "0.7845786082513453 {'bootstrap': False, 'criterion': 'entropy', 'max_features': 'sqrt', 'min_samples_leaf': 4, 'min_samples_split': 10, 'n_estimators': 50}\n",
            "0.7853759294839757 {'bootstrap': False, 'criterion': 'entropy', 'max_features': 'sqrt', 'min_samples_leaf': 4, 'min_samples_split': 10, 'n_estimators': 100}\n",
            "0.7825567181224383 {'bootstrap': False, 'criterion': 'entropy', 'max_features': 'sqrt', 'min_samples_leaf': 4, 'min_samples_split': 10, 'n_estimators': 200}\n",
            "0.7293483154433856 {'bootstrap': False, 'criterion': 'entropy', 'max_features': 'log2', 'min_samples_leaf': 1, 'min_samples_split': 2, 'n_estimators': 50}\n",
            "0.7232567049129425 {'bootstrap': False, 'criterion': 'entropy', 'max_features': 'log2', 'min_samples_leaf': 1, 'min_samples_split': 2, 'n_estimators': 100}\n",
            "0.719756226452665 {'bootstrap': False, 'criterion': 'entropy', 'max_features': 'log2', 'min_samples_leaf': 1, 'min_samples_split': 2, 'n_estimators': 200}\n",
            "0.7319909352956724 {'bootstrap': False, 'criterion': 'entropy', 'max_features': 'log2', 'min_samples_leaf': 1, 'min_samples_split': 5, 'n_estimators': 50}\n",
            "0.7306955683886752 {'bootstrap': False, 'criterion': 'entropy', 'max_features': 'log2', 'min_samples_leaf': 1, 'min_samples_split': 5, 'n_estimators': 100}\n",
            "0.7215127657131232 {'bootstrap': False, 'criterion': 'entropy', 'max_features': 'log2', 'min_samples_leaf': 1, 'min_samples_split': 5, 'n_estimators': 200}\n",
            "0.7397222922967208 {'bootstrap': False, 'criterion': 'entropy', 'max_features': 'log2', 'min_samples_leaf': 1, 'min_samples_split': 10, 'n_estimators': 50}\n",
            "0.7422806142878845 {'bootstrap': False, 'criterion': 'entropy', 'max_features': 'log2', 'min_samples_leaf': 1, 'min_samples_split': 10, 'n_estimators': 100}\n",
            "0.7452589416400413 {'bootstrap': False, 'criterion': 'entropy', 'max_features': 'log2', 'min_samples_leaf': 1, 'min_samples_split': 10, 'n_estimators': 200}\n",
            "0.7250255481077069 {'bootstrap': False, 'criterion': 'entropy', 'max_features': 'log2', 'min_samples_leaf': 2, 'min_samples_split': 2, 'n_estimators': 50}\n",
            "0.7362823601607373 {'bootstrap': False, 'criterion': 'entropy', 'max_features': 'log2', 'min_samples_leaf': 2, 'min_samples_split': 2, 'n_estimators': 100}\n",
            "0.7241576206836002 {'bootstrap': False, 'criterion': 'entropy', 'max_features': 'log2', 'min_samples_leaf': 2, 'min_samples_split': 2, 'n_estimators': 200}\n",
            "0.7193122315082847 {'bootstrap': False, 'criterion': 'entropy', 'max_features': 'log2', 'min_samples_leaf': 2, 'min_samples_split': 5, 'n_estimators': 50}\n",
            "0.7362809957083981 {'bootstrap': False, 'criterion': 'entropy', 'max_features': 'log2', 'min_samples_leaf': 2, 'min_samples_split': 5, 'n_estimators': 100}\n",
            "0.7232483707181329 {'bootstrap': False, 'criterion': 'entropy', 'max_features': 'log2', 'min_samples_leaf': 2, 'min_samples_split': 5, 'n_estimators': 200}\n",
            "0.7583001304258742 {'bootstrap': False, 'criterion': 'entropy', 'max_features': 'log2', 'min_samples_leaf': 2, 'min_samples_split': 10, 'n_estimators': 50}\n",
            "0.7587424957151793 {'bootstrap': False, 'criterion': 'entropy', 'max_features': 'log2', 'min_samples_leaf': 2, 'min_samples_split': 10, 'n_estimators': 100}\n",
            "0.7439772239152496 {'bootstrap': False, 'criterion': 'entropy', 'max_features': 'log2', 'min_samples_leaf': 2, 'min_samples_split': 10, 'n_estimators': 200}\n",
            "0.7869975091225381 {'bootstrap': False, 'criterion': 'entropy', 'max_features': 'log2', 'min_samples_leaf': 4, 'min_samples_split': 2, 'n_estimators': 50}\n",
            "0.7877936574349885 {'bootstrap': False, 'criterion': 'entropy', 'max_features': 'log2', 'min_samples_leaf': 4, 'min_samples_split': 2, 'n_estimators': 100}\n",
            "0.7902039880795169 {'bootstrap': False, 'criterion': 'entropy', 'max_features': 'log2', 'min_samples_leaf': 4, 'min_samples_split': 2, 'n_estimators': 200}\n",
            "0.7780841269293864 {'bootstrap': False, 'criterion': 'entropy', 'max_features': 'log2', 'min_samples_leaf': 4, 'min_samples_split': 5, 'n_estimators': 50}\n",
            "0.7902039880795169 {'bootstrap': False, 'criterion': 'entropy', 'max_features': 'log2', 'min_samples_leaf': 4, 'min_samples_split': 5, 'n_estimators': 100}\n",
            "0.7849818494194774 {'bootstrap': False, 'criterion': 'entropy', 'max_features': 'log2', 'min_samples_leaf': 4, 'min_samples_split': 5, 'n_estimators': 200}\n",
            "0.7760479054913041 {'bootstrap': False, 'criterion': 'entropy', 'max_features': 'log2', 'min_samples_leaf': 4, 'min_samples_split': 10, 'n_estimators': 50}\n",
            "0.7792955712061934 {'bootstrap': False, 'criterion': 'entropy', 'max_features': 'log2', 'min_samples_leaf': 4, 'min_samples_split': 10, 'n_estimators': 100}\n",
            "0.794595720382833 {'bootstrap': False, 'criterion': 'entropy', 'max_features': 'log2', 'min_samples_leaf': 4, 'min_samples_split': 10, 'n_estimators': 200}\n",
            "0.7236996680695621 {'bootstrap': False, 'criterion': 'log_loss', 'max_features': 'sqrt', 'min_samples_leaf': 1, 'min_samples_split': 2, 'n_estimators': 50}\n",
            "0.7179827969841057 {'bootstrap': False, 'criterion': 'log_loss', 'max_features': 'sqrt', 'min_samples_leaf': 1, 'min_samples_split': 2, 'n_estimators': 100}\n",
            "0.7175615059128607 {'bootstrap': False, 'criterion': 'log_loss', 'max_features': 'sqrt', 'min_samples_leaf': 1, 'min_samples_split': 2, 'n_estimators': 200}\n",
            "0.7267679696684393 {'bootstrap': False, 'criterion': 'log_loss', 'max_features': 'sqrt', 'min_samples_leaf': 1, 'min_samples_split': 5, 'n_estimators': 50}\n",
            "0.7285089817896011 {'bootstrap': False, 'criterion': 'log_loss', 'max_features': 'sqrt', 'min_samples_leaf': 1, 'min_samples_split': 5, 'n_estimators': 100}\n",
            "0.7371428259918097 {'bootstrap': False, 'criterion': 'log_loss', 'max_features': 'sqrt', 'min_samples_leaf': 1, 'min_samples_split': 5, 'n_estimators': 200}\n",
            "0.7341110457734732 {'bootstrap': False, 'criterion': 'log_loss', 'max_features': 'sqrt', 'min_samples_leaf': 1, 'min_samples_split': 10, 'n_estimators': 50}\n",
            "0.7426932942438947 {'bootstrap': False, 'criterion': 'log_loss', 'max_features': 'sqrt', 'min_samples_leaf': 1, 'min_samples_split': 10, 'n_estimators': 100}\n",
            "0.7405543433015304 {'bootstrap': False, 'criterion': 'log_loss', 'max_features': 'sqrt', 'min_samples_leaf': 1, 'min_samples_split': 10, 'n_estimators': 200}\n",
            "0.7113378995906323 {'bootstrap': False, 'criterion': 'log_loss', 'max_features': 'sqrt', 'min_samples_leaf': 2, 'min_samples_split': 2, 'n_estimators': 50}\n",
            "0.7237121615301448 {'bootstrap': False, 'criterion': 'log_loss', 'max_features': 'sqrt', 'min_samples_leaf': 2, 'min_samples_split': 2, 'n_estimators': 100}\n",
            "0.718852589624469 {'bootstrap': False, 'criterion': 'log_loss', 'max_features': 'sqrt', 'min_samples_leaf': 2, 'min_samples_split': 2, 'n_estimators': 200}\n",
            "0.7249867492709401 {'bootstrap': False, 'criterion': 'log_loss', 'max_features': 'sqrt', 'min_samples_leaf': 2, 'min_samples_split': 5, 'n_estimators': 50}\n",
            "0.7228162500415239 {'bootstrap': False, 'criterion': 'log_loss', 'max_features': 'sqrt', 'min_samples_leaf': 2, 'min_samples_split': 5, 'n_estimators': 100}\n",
            "0.7224033404525245 {'bootstrap': False, 'criterion': 'log_loss', 'max_features': 'sqrt', 'min_samples_leaf': 2, 'min_samples_split': 5, 'n_estimators': 200}\n",
            "0.756194697106298 {'bootstrap': False, 'criterion': 'log_loss', 'max_features': 'sqrt', 'min_samples_leaf': 2, 'min_samples_split': 10, 'n_estimators': 50}\n",
            "0.7578906463775538 {'bootstrap': False, 'criterion': 'log_loss', 'max_features': 'sqrt', 'min_samples_leaf': 2, 'min_samples_split': 10, 'n_estimators': 100}\n",
            "0.7341411518652016 {'bootstrap': False, 'criterion': 'log_loss', 'max_features': 'sqrt', 'min_samples_leaf': 2, 'min_samples_split': 10, 'n_estimators': 200}\n",
            "0.7861941654723626 {'bootstrap': False, 'criterion': 'log_loss', 'max_features': 'sqrt', 'min_samples_leaf': 4, 'min_samples_split': 2, 'n_estimators': 50}\n",
            "0.7853976748982541 {'bootstrap': False, 'criterion': 'log_loss', 'max_features': 'sqrt', 'min_samples_leaf': 4, 'min_samples_split': 2, 'n_estimators': 100}\n",
            "0.7885979195522403 {'bootstrap': False, 'criterion': 'log_loss', 'max_features': 'sqrt', 'min_samples_leaf': 4, 'min_samples_split': 2, 'n_estimators': 200}\n",
            "0.790601818669896 {'bootstrap': False, 'criterion': 'log_loss', 'max_features': 'sqrt', 'min_samples_leaf': 4, 'min_samples_split': 5, 'n_estimators': 50}\n",
            "0.7841802841842398 {'bootstrap': False, 'criterion': 'log_loss', 'max_features': 'sqrt', 'min_samples_leaf': 4, 'min_samples_split': 5, 'n_estimators': 100}\n",
            "0.7780867092197995 {'bootstrap': False, 'criterion': 'log_loss', 'max_features': 'sqrt', 'min_samples_leaf': 4, 'min_samples_split': 5, 'n_estimators': 200}\n",
            "0.7969880007990845 {'bootstrap': False, 'criterion': 'log_loss', 'max_features': 'sqrt', 'min_samples_leaf': 4, 'min_samples_split': 10, 'n_estimators': 50}\n",
            "0.8005623902276301 {'bootstrap': False, 'criterion': 'log_loss', 'max_features': 'sqrt', 'min_samples_leaf': 4, 'min_samples_split': 10, 'n_estimators': 100}\n",
            "0.7937950039766919 {'bootstrap': False, 'criterion': 'log_loss', 'max_features': 'sqrt', 'min_samples_leaf': 4, 'min_samples_split': 10, 'n_estimators': 200}\n",
            "0.7215169428464913 {'bootstrap': False, 'criterion': 'log_loss', 'max_features': 'log2', 'min_samples_leaf': 1, 'min_samples_split': 2, 'n_estimators': 50}\n",
            "0.7276327834496831 {'bootstrap': False, 'criterion': 'log_loss', 'max_features': 'log2', 'min_samples_leaf': 1, 'min_samples_split': 2, 'n_estimators': 100}\n",
            "0.7184401986718947 {'bootstrap': False, 'criterion': 'log_loss', 'max_features': 'log2', 'min_samples_leaf': 1, 'min_samples_split': 2, 'n_estimators': 200}\n",
            "0.7206308490306554 {'bootstrap': False, 'criterion': 'log_loss', 'max_features': 'log2', 'min_samples_leaf': 1, 'min_samples_split': 5, 'n_estimators': 50}\n",
            "0.7131292627488992 {'bootstrap': False, 'criterion': 'log_loss', 'max_features': 'log2', 'min_samples_leaf': 1, 'min_samples_split': 5, 'n_estimators': 100}\n",
            "0.7215308664497332 {'bootstrap': False, 'criterion': 'log_loss', 'max_features': 'log2', 'min_samples_leaf': 1, 'min_samples_split': 5, 'n_estimators': 200}\n",
            "0.7358469715378316 {'bootstrap': False, 'criterion': 'log_loss', 'max_features': 'log2', 'min_samples_leaf': 1, 'min_samples_split': 10, 'n_estimators': 50}\n",
            "0.7350027575776672 {'bootstrap': False, 'criterion': 'log_loss', 'max_features': 'log2', 'min_samples_leaf': 1, 'min_samples_split': 10, 'n_estimators': 100}\n",
            "0.7345652428762146 {'bootstrap': False, 'criterion': 'log_loss', 'max_features': 'log2', 'min_samples_leaf': 1, 'min_samples_split': 10, 'n_estimators': 200}\n",
            "0.7157868493785136 {'bootstrap': False, 'criterion': 'log_loss', 'max_features': 'log2', 'min_samples_leaf': 2, 'min_samples_split': 2, 'n_estimators': 50}\n",
            "0.7144578856192212 {'bootstrap': False, 'criterion': 'log_loss', 'max_features': 'log2', 'min_samples_leaf': 2, 'min_samples_split': 2, 'n_estimators': 100}\n",
            "0.7276369254499664 {'bootstrap': False, 'criterion': 'log_loss', 'max_features': 'log2', 'min_samples_leaf': 2, 'min_samples_split': 2, 'n_estimators': 200}\n",
            "0.7223852615774103 {'bootstrap': False, 'criterion': 'log_loss', 'max_features': 'log2', 'min_samples_leaf': 2, 'min_samples_split': 5, 'n_estimators': 50}\n",
            "0.7332634631627868 {'bootstrap': False, 'criterion': 'log_loss', 'max_features': 'log2', 'min_samples_leaf': 2, 'min_samples_split': 5, 'n_estimators': 100}\n",
            "0.7315433796398931 {'bootstrap': False, 'criterion': 'log_loss', 'max_features': 'log2', 'min_samples_leaf': 2, 'min_samples_split': 5, 'n_estimators': 200}\n",
            "0.7524536249533554 {'bootstrap': False, 'criterion': 'log_loss', 'max_features': 'log2', 'min_samples_leaf': 2, 'min_samples_split': 10, 'n_estimators': 50}\n",
            "0.7537129311880915 {'bootstrap': False, 'criterion': 'log_loss', 'max_features': 'log2', 'min_samples_leaf': 2, 'min_samples_split': 10, 'n_estimators': 100}\n",
            "0.7503277697817708 {'bootstrap': False, 'criterion': 'log_loss', 'max_features': 'log2', 'min_samples_leaf': 2, 'min_samples_split': 10, 'n_estimators': 200}\n",
            "0.7662118314310179 {'bootstrap': False, 'criterion': 'log_loss', 'max_features': 'log2', 'min_samples_leaf': 4, 'min_samples_split': 2, 'n_estimators': 50}\n",
            "0.7873995115298742 {'bootstrap': False, 'criterion': 'log_loss', 'max_features': 'log2', 'min_samples_leaf': 4, 'min_samples_split': 2, 'n_estimators': 100}\n",
            "0.7845581206292932 {'bootstrap': False, 'criterion': 'log_loss', 'max_features': 'log2', 'min_samples_leaf': 4, 'min_samples_split': 2, 'n_estimators': 200}\n",
            "0.7674197627271736 {'bootstrap': False, 'criterion': 'log_loss', 'max_features': 'log2', 'min_samples_leaf': 4, 'min_samples_split': 5, 'n_estimators': 50}\n",
            "0.7869987856455656 {'bootstrap': False, 'criterion': 'log_loss', 'max_features': 'log2', 'min_samples_leaf': 4, 'min_samples_split': 5, 'n_estimators': 100}\n",
            "0.777284495832978 {'bootstrap': False, 'criterion': 'log_loss', 'max_features': 'log2', 'min_samples_leaf': 4, 'min_samples_split': 5, 'n_estimators': 200}\n",
            "0.786993679541032 {'bootstrap': False, 'criterion': 'log_loss', 'max_features': 'log2', 'min_samples_leaf': 4, 'min_samples_split': 10, 'n_estimators': 50}\n",
            "0.7953956307166077 {'bootstrap': False, 'criterion': 'log_loss', 'max_features': 'log2', 'min_samples_leaf': 4, 'min_samples_split': 10, 'n_estimators': 100}\n",
            "0.7921911431678864 {'bootstrap': False, 'criterion': 'log_loss', 'max_features': 'log2', 'min_samples_leaf': 4, 'min_samples_split': 10, 'n_estimators': 200}\n",
            "0.7280427271650052 {'bootstrap': True, 'criterion': 'gini', 'max_features': 'sqrt', 'min_samples_leaf': 1, 'min_samples_split': 2, 'n_estimators': 50}\n",
            "0.7162176004507982 {'bootstrap': True, 'criterion': 'gini', 'max_features': 'sqrt', 'min_samples_leaf': 1, 'min_samples_split': 2, 'n_estimators': 100}\n",
            "0.7250186198962776 {'bootstrap': True, 'criterion': 'gini', 'max_features': 'sqrt', 'min_samples_leaf': 1, 'min_samples_split': 2, 'n_estimators': 200}\n",
            "0.73455566932955 {'bootstrap': True, 'criterion': 'gini', 'max_features': 'sqrt', 'min_samples_leaf': 1, 'min_samples_split': 5, 'n_estimators': 50}\n",
            "0.7388607514043786 {'bootstrap': True, 'criterion': 'gini', 'max_features': 'sqrt', 'min_samples_leaf': 1, 'min_samples_split': 5, 'n_estimators': 100}\n",
            "0.7306804445140008 {'bootstrap': True, 'criterion': 'gini', 'max_features': 'sqrt', 'min_samples_leaf': 1, 'min_samples_split': 5, 'n_estimators': 200}\n",
            "0.7674420169283124 {'bootstrap': True, 'criterion': 'gini', 'max_features': 'sqrt', 'min_samples_leaf': 1, 'min_samples_split': 10, 'n_estimators': 50}\n",
            "0.75746900447915 {'bootstrap': True, 'criterion': 'gini', 'max_features': 'sqrt', 'min_samples_leaf': 1, 'min_samples_split': 10, 'n_estimators': 100}\n",
            "0.7603984129609915 {'bootstrap': True, 'criterion': 'gini', 'max_features': 'sqrt', 'min_samples_leaf': 1, 'min_samples_split': 10, 'n_estimators': 200}\n",
            "0.757052435830402 {'bootstrap': True, 'criterion': 'gini', 'max_features': 'sqrt', 'min_samples_leaf': 2, 'min_samples_split': 2, 'n_estimators': 50}\n",
            "0.7620850073111891 {'bootstrap': True, 'criterion': 'gini', 'max_features': 'sqrt', 'min_samples_leaf': 2, 'min_samples_split': 2, 'n_estimators': 100}\n",
            "0.7507467316033151 {'bootstrap': True, 'criterion': 'gini', 'max_features': 'sqrt', 'min_samples_leaf': 2, 'min_samples_split': 2, 'n_estimators': 200}\n",
            "0.7723743820556562 {'bootstrap': True, 'criterion': 'gini', 'max_features': 'sqrt', 'min_samples_leaf': 2, 'min_samples_split': 5, 'n_estimators': 50}\n",
            "0.7371237457279297 {'bootstrap': True, 'criterion': 'gini', 'max_features': 'sqrt', 'min_samples_leaf': 2, 'min_samples_split': 5, 'n_estimators': 100}\n",
            "0.7612302997243375 {'bootstrap': True, 'criterion': 'gini', 'max_features': 'sqrt', 'min_samples_leaf': 2, 'min_samples_split': 5, 'n_estimators': 200}\n",
            "0.7797015446271685 {'bootstrap': True, 'criterion': 'gini', 'max_features': 'sqrt', 'min_samples_leaf': 2, 'min_samples_split': 10, 'n_estimators': 50}\n",
            "0.7801253357516441 {'bootstrap': True, 'criterion': 'gini', 'max_features': 'sqrt', 'min_samples_leaf': 2, 'min_samples_split': 10, 'n_estimators': 100}\n",
            "0.7744098844137758 {'bootstrap': True, 'criterion': 'gini', 'max_features': 'sqrt', 'min_samples_leaf': 2, 'min_samples_split': 10, 'n_estimators': 200}\n",
            "0.8084245985402814 {'bootstrap': True, 'criterion': 'gini', 'max_features': 'sqrt', 'min_samples_leaf': 4, 'min_samples_split': 2, 'n_estimators': 50}\n",
            "0.8052856829369681 {'bootstrap': True, 'criterion': 'gini', 'max_features': 'sqrt', 'min_samples_leaf': 4, 'min_samples_split': 2, 'n_estimators': 100}\n",
            "0.8131108698811663 {'bootstrap': True, 'criterion': 'gini', 'max_features': 'sqrt', 'min_samples_leaf': 4, 'min_samples_split': 2, 'n_estimators': 200}\n",
            "0.8033096597723849 {'bootstrap': True, 'criterion': 'gini', 'max_features': 'sqrt', 'min_samples_leaf': 4, 'min_samples_split': 5, 'n_estimators': 50}\n",
            "0.8115513735474614 {'bootstrap': True, 'criterion': 'gini', 'max_features': 'sqrt', 'min_samples_leaf': 4, 'min_samples_split': 5, 'n_estimators': 100}\n",
            "0.811938744496249 {'bootstrap': True, 'criterion': 'gini', 'max_features': 'sqrt', 'min_samples_leaf': 4, 'min_samples_split': 5, 'n_estimators': 200}\n",
            "0.8161987686696779 {'bootstrap': True, 'criterion': 'gini', 'max_features': 'sqrt', 'min_samples_leaf': 4, 'min_samples_split': 10, 'n_estimators': 50}\n",
            "0.8048913656564707 {'bootstrap': True, 'criterion': 'gini', 'max_features': 'sqrt', 'min_samples_leaf': 4, 'min_samples_split': 10, 'n_estimators': 100}\n",
            "0.8111625791152361 {'bootstrap': True, 'criterion': 'gini', 'max_features': 'sqrt', 'min_samples_leaf': 4, 'min_samples_split': 10, 'n_estimators': 200}\n",
            "0.728046866833039 {'bootstrap': True, 'criterion': 'gini', 'max_features': 'log2', 'min_samples_leaf': 1, 'min_samples_split': 2, 'n_estimators': 50}\n",
            "0.7126797296305831 {'bootstrap': True, 'criterion': 'gini', 'max_features': 'log2', 'min_samples_leaf': 1, 'min_samples_split': 2, 'n_estimators': 100}\n",
            "0.6992102091763504 {'bootstrap': True, 'criterion': 'gini', 'max_features': 'log2', 'min_samples_leaf': 1, 'min_samples_split': 2, 'n_estimators': 200}\n",
            "0.7367147641803454 {'bootstrap': True, 'criterion': 'gini', 'max_features': 'log2', 'min_samples_leaf': 1, 'min_samples_split': 5, 'n_estimators': 50}\n",
            "0.7157700069387037 {'bootstrap': True, 'criterion': 'gini', 'max_features': 'log2', 'min_samples_leaf': 1, 'min_samples_split': 5, 'n_estimators': 100}\n",
            "0.7341329412353539 {'bootstrap': True, 'criterion': 'gini', 'max_features': 'log2', 'min_samples_leaf': 1, 'min_samples_split': 5, 'n_estimators': 200}\n",
            "0.754525559921361 {'bootstrap': True, 'criterion': 'gini', 'max_features': 'log2', 'min_samples_leaf': 1, 'min_samples_split': 10, 'n_estimators': 50}\n",
            "0.7711325234329062 {'bootstrap': True, 'criterion': 'gini', 'max_features': 'log2', 'min_samples_leaf': 1, 'min_samples_split': 10, 'n_estimators': 100}\n",
            "0.7744150734895466 {'bootstrap': True, 'criterion': 'gini', 'max_features': 'log2', 'min_samples_leaf': 1, 'min_samples_split': 10, 'n_estimators': 200}\n",
            "0.7469272665870672 {'bootstrap': True, 'criterion': 'gini', 'max_features': 'log2', 'min_samples_leaf': 2, 'min_samples_split': 2, 'n_estimators': 50}\n",
            "0.7426919415695398 {'bootstrap': True, 'criterion': 'gini', 'max_features': 'log2', 'min_samples_leaf': 2, 'min_samples_split': 2, 'n_estimators': 100}\n",
            "0.7426851781608105 {'bootstrap': True, 'criterion': 'gini', 'max_features': 'log2', 'min_samples_leaf': 2, 'min_samples_split': 2, 'n_estimators': 200}\n",
            "0.7608223927311111 {'bootstrap': True, 'criterion': 'gini', 'max_features': 'log2', 'min_samples_leaf': 2, 'min_samples_split': 5, 'n_estimators': 50}\n",
            "0.765780340461448 {'bootstrap': True, 'criterion': 'gini', 'max_features': 'log2', 'min_samples_leaf': 2, 'min_samples_split': 5, 'n_estimators': 100}\n",
            "0.7629045203779964 {'bootstrap': True, 'criterion': 'gini', 'max_features': 'log2', 'min_samples_leaf': 2, 'min_samples_split': 5, 'n_estimators': 200}\n",
            "0.788207999523195 {'bootstrap': True, 'criterion': 'gini', 'max_features': 'log2', 'min_samples_leaf': 2, 'min_samples_split': 10, 'n_estimators': 50}\n",
            "0.7760336654744876 {'bootstrap': True, 'criterion': 'gini', 'max_features': 'log2', 'min_samples_leaf': 2, 'min_samples_split': 10, 'n_estimators': 100}\n",
            "0.7797144292105591 {'bootstrap': True, 'criterion': 'gini', 'max_features': 'log2', 'min_samples_leaf': 2, 'min_samples_split': 10, 'n_estimators': 200}\n",
            "0.8068398580636537 {'bootstrap': True, 'criterion': 'gini', 'max_features': 'log2', 'min_samples_leaf': 4, 'min_samples_split': 2, 'n_estimators': 50}\n",
            "0.811931320592482 {'bootstrap': True, 'criterion': 'gini', 'max_features': 'log2', 'min_samples_leaf': 4, 'min_samples_split': 2, 'n_estimators': 100}\n",
            "0.8123321143067637 {'bootstrap': True, 'criterion': 'gini', 'max_features': 'log2', 'min_samples_leaf': 4, 'min_samples_split': 2, 'n_estimators': 200}\n",
            "0.7945818127688565 {'bootstrap': True, 'criterion': 'gini', 'max_features': 'log2', 'min_samples_leaf': 4, 'min_samples_split': 5, 'n_estimators': 50}\n",
            "0.8060600292443665 {'bootstrap': True, 'criterion': 'gini', 'max_features': 'log2', 'min_samples_leaf': 4, 'min_samples_split': 5, 'n_estimators': 100}\n",
            "0.8166060796066563 {'bootstrap': True, 'criterion': 'gini', 'max_features': 'log2', 'min_samples_leaf': 4, 'min_samples_split': 5, 'n_estimators': 200}\n",
            "0.8239568937930026 {'bootstrap': True, 'criterion': 'gini', 'max_features': 'log2', 'min_samples_leaf': 4, 'min_samples_split': 10, 'n_estimators': 50}\n",
            "0.809187250535731 {'bootstrap': True, 'criterion': 'gini', 'max_features': 'log2', 'min_samples_leaf': 4, 'min_samples_split': 10, 'n_estimators': 100}\n",
            "0.8131009855969813 {'bootstrap': True, 'criterion': 'gini', 'max_features': 'log2', 'min_samples_leaf': 4, 'min_samples_split': 10, 'n_estimators': 200}\n",
            "0.7215071961643472 {'bootstrap': True, 'criterion': 'entropy', 'max_features': 'sqrt', 'min_samples_leaf': 1, 'min_samples_split': 2, 'n_estimators': 50}\n",
            "0.7117755773934925 {'bootstrap': True, 'criterion': 'entropy', 'max_features': 'sqrt', 'min_samples_leaf': 1, 'min_samples_split': 2, 'n_estimators': 100}\n",
            "0.7082226095072364 {'bootstrap': True, 'criterion': 'entropy', 'max_features': 'sqrt', 'min_samples_leaf': 1, 'min_samples_split': 2, 'n_estimators': 200}\n",
            "0.7456834458983513 {'bootstrap': True, 'criterion': 'entropy', 'max_features': 'sqrt', 'min_samples_leaf': 1, 'min_samples_split': 5, 'n_estimators': 50}\n",
            "0.7375624669178792 {'bootstrap': True, 'criterion': 'entropy', 'max_features': 'sqrt', 'min_samples_leaf': 1, 'min_samples_split': 5, 'n_estimators': 100}\n",
            "0.7319634857728367 {'bootstrap': True, 'criterion': 'entropy', 'max_features': 'sqrt', 'min_samples_leaf': 1, 'min_samples_split': 5, 'n_estimators': 200}\n",
            "0.7740270941870602 {'bootstrap': True, 'criterion': 'entropy', 'max_features': 'sqrt', 'min_samples_leaf': 1, 'min_samples_split': 10, 'n_estimators': 50}\n",
            "0.7727930914196057 {'bootstrap': True, 'criterion': 'entropy', 'max_features': 'sqrt', 'min_samples_leaf': 1, 'min_samples_split': 10, 'n_estimators': 100}\n",
            "0.7628755494035957 {'bootstrap': True, 'criterion': 'entropy', 'max_features': 'sqrt', 'min_samples_leaf': 1, 'min_samples_split': 10, 'n_estimators': 200}\n",
            "0.7599649431970446 {'bootstrap': True, 'criterion': 'entropy', 'max_features': 'sqrt', 'min_samples_leaf': 2, 'min_samples_split': 2, 'n_estimators': 50}\n",
            "0.7490493606871518 {'bootstrap': True, 'criterion': 'entropy', 'max_features': 'sqrt', 'min_samples_leaf': 2, 'min_samples_split': 2, 'n_estimators': 100}\n",
            "0.7448234050846582 {'bootstrap': True, 'criterion': 'entropy', 'max_features': 'sqrt', 'min_samples_leaf': 2, 'min_samples_split': 2, 'n_estimators': 200}\n",
            "0.7616327121294449 {'bootstrap': True, 'criterion': 'entropy', 'max_features': 'sqrt', 'min_samples_leaf': 2, 'min_samples_split': 5, 'n_estimators': 50}\n",
            "0.7465438416156748 {'bootstrap': True, 'criterion': 'entropy', 'max_features': 'sqrt', 'min_samples_leaf': 2, 'min_samples_split': 5, 'n_estimators': 100}\n",
            "0.7553718943769002 {'bootstrap': True, 'criterion': 'entropy', 'max_features': 'sqrt', 'min_samples_leaf': 2, 'min_samples_split': 5, 'n_estimators': 200}\n",
            "0.7973774071009494 {'bootstrap': True, 'criterion': 'entropy', 'max_features': 'sqrt', 'min_samples_leaf': 2, 'min_samples_split': 10, 'n_estimators': 50}\n",
            "0.7752474700009133 {'bootstrap': True, 'criterion': 'entropy', 'max_features': 'sqrt', 'min_samples_leaf': 2, 'min_samples_split': 10, 'n_estimators': 100}\n",
            "0.7857864324740644 {'bootstrap': True, 'criterion': 'entropy', 'max_features': 'sqrt', 'min_samples_leaf': 2, 'min_samples_split': 10, 'n_estimators': 200}\n",
            "0.8158158833680278 {'bootstrap': True, 'criterion': 'entropy', 'max_features': 'sqrt', 'min_samples_leaf': 4, 'min_samples_split': 2, 'n_estimators': 50}\n",
            "0.8134987331697552 {'bootstrap': True, 'criterion': 'entropy', 'max_features': 'sqrt', 'min_samples_leaf': 4, 'min_samples_split': 2, 'n_estimators': 100}\n",
            "0.816225847001454 {'bootstrap': True, 'criterion': 'entropy', 'max_features': 'sqrt', 'min_samples_leaf': 4, 'min_samples_split': 2, 'n_estimators': 200}\n",
            "0.8224045271940119 {'bootstrap': True, 'criterion': 'entropy', 'max_features': 'sqrt', 'min_samples_leaf': 4, 'min_samples_split': 5, 'n_estimators': 50}\n",
            "0.818147345754467 {'bootstrap': True, 'criterion': 'entropy', 'max_features': 'sqrt', 'min_samples_leaf': 4, 'min_samples_split': 5, 'n_estimators': 100}\n",
            "0.8107537725639906 {'bootstrap': True, 'criterion': 'entropy', 'max_features': 'sqrt', 'min_samples_leaf': 4, 'min_samples_split': 5, 'n_estimators': 200}\n",
            "0.8177764291818252 {'bootstrap': True, 'criterion': 'entropy', 'max_features': 'sqrt', 'min_samples_leaf': 4, 'min_samples_split': 10, 'n_estimators': 50}\n",
            "0.8103819512872135 {'bootstrap': True, 'criterion': 'entropy', 'max_features': 'sqrt', 'min_samples_leaf': 4, 'min_samples_split': 10, 'n_estimators': 100}\n",
            "0.8142714379637446 {'bootstrap': True, 'criterion': 'entropy', 'max_features': 'sqrt', 'min_samples_leaf': 4, 'min_samples_split': 10, 'n_estimators': 200}\n",
            "0.7232622609894624 {'bootstrap': True, 'criterion': 'entropy', 'max_features': 'log2', 'min_samples_leaf': 1, 'min_samples_split': 2, 'n_estimators': 50}\n",
            "0.7302224553089918 {'bootstrap': True, 'criterion': 'entropy', 'max_features': 'log2', 'min_samples_leaf': 1, 'min_samples_split': 2, 'n_estimators': 100}\n",
            "0.7293910143113139 {'bootstrap': True, 'criterion': 'entropy', 'max_features': 'log2', 'min_samples_leaf': 1, 'min_samples_split': 2, 'n_estimators': 200}\n",
            "0.7354372799679976 {'bootstrap': True, 'criterion': 'entropy', 'max_features': 'log2', 'min_samples_leaf': 1, 'min_samples_split': 5, 'n_estimators': 50}\n",
            "0.7332675733571139 {'bootstrap': True, 'criterion': 'entropy', 'max_features': 'log2', 'min_samples_leaf': 1, 'min_samples_split': 5, 'n_estimators': 100}\n",
            "0.7362919112563133 {'bootstrap': True, 'criterion': 'entropy', 'max_features': 'log2', 'min_samples_leaf': 1, 'min_samples_split': 5, 'n_estimators': 200}\n",
            "0.7736103513320938 {'bootstrap': True, 'criterion': 'entropy', 'max_features': 'log2', 'min_samples_leaf': 1, 'min_samples_split': 10, 'n_estimators': 50}\n",
            "0.7511708093972345 {'bootstrap': True, 'criterion': 'entropy', 'max_features': 'log2', 'min_samples_leaf': 1, 'min_samples_split': 10, 'n_estimators': 100}\n",
            "0.7694866500735085 {'bootstrap': True, 'criterion': 'entropy', 'max_features': 'log2', 'min_samples_leaf': 1, 'min_samples_split': 10, 'n_estimators': 200}\n",
            "0.7443876136995934 {'bootstrap': True, 'criterion': 'entropy', 'max_features': 'log2', 'min_samples_leaf': 2, 'min_samples_split': 2, 'n_estimators': 50}\n",
            "0.756646259745583 {'bootstrap': True, 'criterion': 'entropy', 'max_features': 'log2', 'min_samples_leaf': 2, 'min_samples_split': 2, 'n_estimators': 100}\n",
            "0.7358497020495622 {'bootstrap': True, 'criterion': 'entropy', 'max_features': 'log2', 'min_samples_leaf': 2, 'min_samples_split': 2, 'n_estimators': 200}\n",
            "0.7645461672604305 {'bootstrap': True, 'criterion': 'entropy', 'max_features': 'log2', 'min_samples_leaf': 2, 'min_samples_split': 5, 'n_estimators': 50}\n",
            "0.7595444527929457 {'bootstrap': True, 'criterion': 'entropy', 'max_features': 'log2', 'min_samples_leaf': 2, 'min_samples_split': 5, 'n_estimators': 100}\n",
            "0.7599874156926889 {'bootstrap': True, 'criterion': 'entropy', 'max_features': 'log2', 'min_samples_leaf': 2, 'min_samples_split': 5, 'n_estimators': 200}\n",
            "0.7829610006066499 {'bootstrap': True, 'criterion': 'entropy', 'max_features': 'log2', 'min_samples_leaf': 2, 'min_samples_split': 10, 'n_estimators': 50}\n",
            "0.7906348562955924 {'bootstrap': True, 'criterion': 'entropy', 'max_features': 'log2', 'min_samples_leaf': 2, 'min_samples_split': 10, 'n_estimators': 100}\n",
            "0.7781009116638844 {'bootstrap': True, 'criterion': 'entropy', 'max_features': 'log2', 'min_samples_leaf': 2, 'min_samples_split': 10, 'n_estimators': 200}\n",
            "0.8166023888790712 {'bootstrap': True, 'criterion': 'entropy', 'max_features': 'log2', 'min_samples_leaf': 4, 'min_samples_split': 2, 'n_estimators': 50}\n",
            "0.7993655812765749 {'bootstrap': True, 'criterion': 'entropy', 'max_features': 'log2', 'min_samples_leaf': 4, 'min_samples_split': 2, 'n_estimators': 100}\n",
            "0.8131046922176314 {'bootstrap': True, 'criterion': 'entropy', 'max_features': 'log2', 'min_samples_leaf': 4, 'min_samples_split': 2, 'n_estimators': 200}\n",
            "0.8048901175103487 {'bootstrap': True, 'criterion': 'entropy', 'max_features': 'log2', 'min_samples_leaf': 4, 'min_samples_split': 5, 'n_estimators': 50}\n",
            "0.8169910539032398 {'bootstrap': True, 'criterion': 'entropy', 'max_features': 'log2', 'min_samples_leaf': 4, 'min_samples_split': 5, 'n_estimators': 100}\n",
            "0.804491860060346 {'bootstrap': True, 'criterion': 'entropy', 'max_features': 'log2', 'min_samples_leaf': 4, 'min_samples_split': 5, 'n_estimators': 200}\n",
            "0.8029118696118976 {'bootstrap': True, 'criterion': 'entropy', 'max_features': 'log2', 'min_samples_leaf': 4, 'min_samples_split': 10, 'n_estimators': 50}\n",
            "0.8068473288146093 {'bootstrap': True, 'criterion': 'entropy', 'max_features': 'log2', 'min_samples_leaf': 4, 'min_samples_split': 10, 'n_estimators': 100}\n",
            "0.8131083988213846 {'bootstrap': True, 'criterion': 'entropy', 'max_features': 'log2', 'min_samples_leaf': 4, 'min_samples_split': 10, 'n_estimators': 200}\n",
            "0.7246014195398157 {'bootstrap': True, 'criterion': 'log_loss', 'max_features': 'sqrt', 'min_samples_leaf': 1, 'min_samples_split': 2, 'n_estimators': 50}\n",
            "0.7362728089412625 {'bootstrap': True, 'criterion': 'log_loss', 'max_features': 'sqrt', 'min_samples_leaf': 1, 'min_samples_split': 2, 'n_estimators': 100}\n",
            "0.7117925143495304 {'bootstrap': True, 'criterion': 'log_loss', 'max_features': 'sqrt', 'min_samples_leaf': 1, 'min_samples_split': 2, 'n_estimators': 200}\n",
            "0.7396992041349988 {'bootstrap': True, 'criterion': 'log_loss', 'max_features': 'sqrt', 'min_samples_leaf': 1, 'min_samples_split': 5, 'n_estimators': 50}\n",
            "0.7401309693006383 {'bootstrap': True, 'criterion': 'log_loss', 'max_features': 'sqrt', 'min_samples_leaf': 1, 'min_samples_split': 5, 'n_estimators': 100}\n",
            "0.7298164890541997 {'bootstrap': True, 'criterion': 'log_loss', 'max_features': 'sqrt', 'min_samples_leaf': 1, 'min_samples_split': 5, 'n_estimators': 200}\n",
            "0.769066140557063 {'bootstrap': True, 'criterion': 'log_loss', 'max_features': 'sqrt', 'min_samples_leaf': 1, 'min_samples_split': 10, 'n_estimators': 50}\n",
            "0.752452289825029 {'bootstrap': True, 'criterion': 'log_loss', 'max_features': 'sqrt', 'min_samples_leaf': 1, 'min_samples_split': 10, 'n_estimators': 100}\n",
            "0.7653748584190231 {'bootstrap': True, 'criterion': 'log_loss', 'max_features': 'sqrt', 'min_samples_leaf': 1, 'min_samples_split': 10, 'n_estimators': 200}\n",
            "0.7486455521464371 {'bootstrap': True, 'criterion': 'log_loss', 'max_features': 'sqrt', 'min_samples_leaf': 2, 'min_samples_split': 2, 'n_estimators': 50}\n",
            "0.7388553126260788 {'bootstrap': True, 'criterion': 'log_loss', 'max_features': 'sqrt', 'min_samples_leaf': 2, 'min_samples_split': 2, 'n_estimators': 100}\n",
            "0.7566303268286259 {'bootstrap': True, 'criterion': 'log_loss', 'max_features': 'sqrt', 'min_samples_leaf': 2, 'min_samples_split': 2, 'n_estimators': 200}\n",
            "0.7752332152811473 {'bootstrap': True, 'criterion': 'log_loss', 'max_features': 'sqrt', 'min_samples_leaf': 2, 'min_samples_split': 5, 'n_estimators': 50}\n",
            "0.7662039644701539 {'bootstrap': True, 'criterion': 'log_loss', 'max_features': 'sqrt', 'min_samples_leaf': 2, 'min_samples_split': 5, 'n_estimators': 100}\n",
            "0.7532702795975524 {'bootstrap': True, 'criterion': 'log_loss', 'max_features': 'sqrt', 'min_samples_leaf': 2, 'min_samples_split': 5, 'n_estimators': 200}\n",
            "0.784965211818537 {'bootstrap': True, 'criterion': 'log_loss', 'max_features': 'sqrt', 'min_samples_leaf': 2, 'min_samples_split': 10, 'n_estimators': 50}\n",
            "0.8017248333804504 {'bootstrap': True, 'criterion': 'log_loss', 'max_features': 'sqrt', 'min_samples_leaf': 2, 'min_samples_split': 10, 'n_estimators': 100}\n",
            "0.7756348388610279 {'bootstrap': True, 'criterion': 'log_loss', 'max_features': 'sqrt', 'min_samples_leaf': 2, 'min_samples_split': 10, 'n_estimators': 200}\n",
            "0.7890041996622003 {'bootstrap': True, 'criterion': 'log_loss', 'max_features': 'sqrt', 'min_samples_leaf': 4, 'min_samples_split': 2, 'n_estimators': 50}\n",
            "0.8208504486883801 {'bootstrap': True, 'criterion': 'log_loss', 'max_features': 'sqrt', 'min_samples_leaf': 4, 'min_samples_split': 2, 'n_estimators': 100}\n",
            "0.8040896571983384 {'bootstrap': True, 'criterion': 'log_loss', 'max_features': 'sqrt', 'min_samples_leaf': 4, 'min_samples_split': 2, 'n_estimators': 200}\n",
            "0.819711451409844 {'bootstrap': True, 'criterion': 'log_loss', 'max_features': 'sqrt', 'min_samples_leaf': 4, 'min_samples_split': 5, 'n_estimators': 50}\n",
            "0.802520141464561 {'bootstrap': True, 'criterion': 'log_loss', 'max_features': 'sqrt', 'min_samples_leaf': 4, 'min_samples_split': 5, 'n_estimators': 100}\n",
            "0.8154439062963516 {'bootstrap': True, 'criterion': 'log_loss', 'max_features': 'sqrt', 'min_samples_leaf': 4, 'min_samples_split': 5, 'n_estimators': 200}\n",
            "0.8212224234862615 {'bootstrap': True, 'criterion': 'log_loss', 'max_features': 'sqrt', 'min_samples_leaf': 4, 'min_samples_split': 10, 'n_estimators': 50}\n",
            "0.8107500551953088 {'bootstrap': True, 'criterion': 'log_loss', 'max_features': 'sqrt', 'min_samples_leaf': 4, 'min_samples_split': 10, 'n_estimators': 100}\n",
            "0.8177702867632198 {'bootstrap': True, 'criterion': 'log_loss', 'max_features': 'sqrt', 'min_samples_leaf': 4, 'min_samples_split': 10, 'n_estimators': 200}\n",
            "0.7258910537960316 {'bootstrap': True, 'criterion': 'log_loss', 'max_features': 'log2', 'min_samples_leaf': 1, 'min_samples_split': 2, 'n_estimators': 50}\n",
            "0.708207005719068 {'bootstrap': True, 'criterion': 'log_loss', 'max_features': 'log2', 'min_samples_leaf': 1, 'min_samples_split': 2, 'n_estimators': 100}\n",
            "0.7263324103629002 {'bootstrap': True, 'criterion': 'log_loss', 'max_features': 'log2', 'min_samples_leaf': 1, 'min_samples_split': 2, 'n_estimators': 200}\n",
            "0.7443862641041005 {'bootstrap': True, 'criterion': 'log_loss', 'max_features': 'log2', 'min_samples_leaf': 1, 'min_samples_split': 5, 'n_estimators': 50}\n",
            "0.723687174393297 {'bootstrap': True, 'criterion': 'log_loss', 'max_features': 'log2', 'min_samples_leaf': 1, 'min_samples_split': 5, 'n_estimators': 100}\n",
            "0.7280634252697987 {'bootstrap': True, 'criterion': 'log_loss', 'max_features': 'log2', 'min_samples_leaf': 1, 'min_samples_split': 5, 'n_estimators': 200}\n",
            "0.7756322484076728 {'bootstrap': True, 'criterion': 'log_loss', 'max_features': 'log2', 'min_samples_leaf': 1, 'min_samples_split': 10, 'n_estimators': 50}\n",
            "0.7686636988023696 {'bootstrap': True, 'criterion': 'log_loss', 'max_features': 'log2', 'min_samples_leaf': 1, 'min_samples_split': 10, 'n_estimators': 100}\n",
            "0.7674354716420256 {'bootstrap': True, 'criterion': 'log_loss', 'max_features': 'log2', 'min_samples_leaf': 1, 'min_samples_split': 10, 'n_estimators': 200}\n",
            "0.7549395306890389 {'bootstrap': True, 'criterion': 'log_loss', 'max_features': 'log2', 'min_samples_leaf': 2, 'min_samples_split': 2, 'n_estimators': 50}\n",
            "0.7507467316033152 {'bootstrap': True, 'criterion': 'log_loss', 'max_features': 'log2', 'min_samples_leaf': 2, 'min_samples_split': 2, 'n_estimators': 100}\n",
            "0.7612355786407168 {'bootstrap': True, 'criterion': 'log_loss', 'max_features': 'log2', 'min_samples_leaf': 2, 'min_samples_split': 2, 'n_estimators': 200}\n",
            "0.7578879952747339 {'bootstrap': True, 'criterion': 'log_loss', 'max_features': 'log2', 'min_samples_leaf': 2, 'min_samples_split': 5, 'n_estimators': 50}\n",
            "0.757897274094032 {'bootstrap': True, 'criterion': 'log_loss', 'max_features': 'log2', 'min_samples_leaf': 2, 'min_samples_split': 5, 'n_estimators': 100}\n",
            "0.7516026677859957 {'bootstrap': True, 'criterion': 'log_loss', 'max_features': 'log2', 'min_samples_leaf': 2, 'min_samples_split': 5, 'n_estimators': 200}\n",
            "0.7752526534703892 {'bootstrap': True, 'criterion': 'log_loss', 'max_features': 'log2', 'min_samples_leaf': 2, 'min_samples_split': 10, 'n_estimators': 50}\n",
            "0.7805347388819842 {'bootstrap': True, 'criterion': 'log_loss', 'max_features': 'log2', 'min_samples_leaf': 2, 'min_samples_split': 10, 'n_estimators': 100}\n",
            "0.7674393988204965 {'bootstrap': True, 'criterion': 'log_loss', 'max_features': 'log2', 'min_samples_leaf': 2, 'min_samples_split': 10, 'n_estimators': 200}\n",
            "0.8154389783091012 {'bootstrap': True, 'criterion': 'log_loss', 'max_features': 'log2', 'min_samples_leaf': 4, 'min_samples_split': 2, 'n_estimators': 50}\n",
            "0.8037185028268397 {'bootstrap': True, 'criterion': 'log_loss', 'max_features': 'log2', 'min_samples_leaf': 4, 'min_samples_split': 2, 'n_estimators': 100}\n",
            "0.7989620552204827 {'bootstrap': True, 'criterion': 'log_loss', 'max_features': 'log2', 'min_samples_leaf': 4, 'min_samples_split': 2, 'n_estimators': 200}\n",
            "0.8169738384812015 {'bootstrap': True, 'criterion': 'log_loss', 'max_features': 'log2', 'min_samples_leaf': 4, 'min_samples_split': 5, 'n_estimators': 50}\n",
            "0.8103757528205626 {'bootstrap': True, 'criterion': 'log_loss', 'max_features': 'log2', 'min_samples_leaf': 4, 'min_samples_split': 5, 'n_estimators': 100}\n",
            "0.8111539095999432 {'bootstrap': True, 'criterion': 'log_loss', 'max_features': 'log2', 'min_samples_leaf': 4, 'min_samples_split': 5, 'n_estimators': 200}\n",
            "0.8056847949094248 {'bootstrap': True, 'criterion': 'log_loss', 'max_features': 'log2', 'min_samples_leaf': 4, 'min_samples_split': 10, 'n_estimators': 50}\n",
            "0.8107562508003094 {'bootstrap': True, 'criterion': 'log_loss', 'max_features': 'log2', 'min_samples_leaf': 4, 'min_samples_split': 10, 'n_estimators': 100}\n",
            "0.8056673378963702 {'bootstrap': True, 'criterion': 'log_loss', 'max_features': 'log2', 'min_samples_leaf': 4, 'min_samples_split': 10, 'n_estimators': 200}\n"
          ]
        }
      ],
      "source": [
        "cvres = grid_search_parallel.cv_results_\n",
        "for mean_score, params in zip(cvres[\"mean_test_score\"], cvres[\"params\"]):\n",
        "  print(np.sqrt(-mean_score), params)"
      ]
    },
    {
      "cell_type": "code",
      "execution_count": 41,
      "metadata": {
        "colab": {
          "base_uri": "https://localhost:8080/"
        },
        "id": "Gm1zVtrUW48j",
        "outputId": "8618183d-4f3a-43b5-dec1-ecbf2fa3d43b"
      },
      "outputs": [
        {
          "name": "stdout",
          "output_type": "stream",
          "text": [
            "0.6992102091763504\n",
            "{'bootstrap': True, 'criterion': 'gini', 'max_features': 'log2', 'min_samples_leaf': 1, 'min_samples_split': 2, 'n_estimators': 200}\n"
          ]
        }
      ],
      "source": [
        "extra_grid_search_results_parallel = [[],[]]\n",
        "for mean_score, params in zip(cvres[\"mean_test_score\"], cvres[\"params\"]):\n",
        "  extra_grid_search_results_parallel[0].append(np.sqrt(-mean_score))\n",
        "  extra_grid_search_results_parallel[1].append(params)\n",
        "extra_grid_search_results_parallel\n",
        "print(min(extra_grid_search_results_parallel[0]))\n",
        "print(extra_grid_search_results_parallel[1][extra_grid_search_results_parallel[0].index(min(extra_grid_search_results_parallel[0]))])"
      ]
    },
    {
      "cell_type": "markdown",
      "metadata": {
        "id": "XB1GYagZW48j"
      },
      "source": [
        "#### 5.1.1.1 Extra Trees Grid-Search Metrics"
      ]
    },
    {
      "cell_type": "code",
      "execution_count": 42,
      "metadata": {
        "colab": {
          "base_uri": "https://localhost:8080/"
        },
        "id": "0X_mIYw5W48k",
        "outputId": "0bb19e4a-7e8e-4024-f2e4-4aaa1f295f01"
      },
      "outputs": [
        {
          "data": {
            "text/plain": [
              "array([0.70886076, 0.70886076, 0.75      , 0.68670886, 0.72698413])"
            ]
          },
          "execution_count": 42,
          "metadata": {},
          "output_type": "execute_result"
        }
      ],
      "source": [
        "accuracy_parallel = cross_val_score(extra_best_search_parallel, red_wine_prepared, y_train,\n",
        "                        scoring=\"accuracy\", cv=5)\n",
        "\n",
        "accuracy"
      ]
    },
    {
      "cell_type": "code",
      "execution_count": 43,
      "metadata": {
        "id": "-B0sjS0OW48k"
      },
      "outputs": [],
      "source": [
        "y_pred_parallel = extra_best_search_parallel.predict(red_test)"
      ]
    },
    {
      "cell_type": "code",
      "execution_count": 44,
      "metadata": {
        "colab": {
          "base_uri": "https://localhost:8080/"
        },
        "id": "d1A_S2RbW48k",
        "outputId": "ac4ceb5f-fda4-4582-9b44-718c0e5d6c0f"
      },
      "outputs": [
        {
          "data": {
            "text/plain": [
              "0.7833333333333333"
            ]
          },
          "execution_count": 44,
          "metadata": {},
          "output_type": "execute_result"
        }
      ],
      "source": [
        "precision_score(y_test, y_pred_parallel, average = 'macro')"
      ]
    },
    {
      "cell_type": "code",
      "execution_count": 45,
      "metadata": {
        "colab": {
          "base_uri": "https://localhost:8080/"
        },
        "id": "JF-YtZquW48k",
        "outputId": "2fcda4df-b54d-4760-a9a4-7d6afe36dc12"
      },
      "outputs": [
        {
          "data": {
            "text/plain": [
              "0.6944444444444443"
            ]
          },
          "execution_count": 45,
          "metadata": {},
          "output_type": "execute_result"
        }
      ],
      "source": [
        "recall_score(y_test, y_pred_parallel, average='macro')"
      ]
    },
    {
      "cell_type": "code",
      "execution_count": 46,
      "metadata": {
        "colab": {
          "base_uri": "https://localhost:8080/"
        },
        "id": "YU7Epgq2W48k",
        "outputId": "761a4ede-553e-423f-ea6e-03fbece4525f"
      },
      "outputs": [
        {
          "data": {
            "text/plain": [
              "0.7241830065359478"
            ]
          },
          "execution_count": 46,
          "metadata": {},
          "output_type": "execute_result"
        }
      ],
      "source": [
        "f1scoreextra_parallel = f1_score(y_test, y_pred_parallel, average='macro')\n",
        "f1scoreextra_parallel"
      ]
    },
    {
      "cell_type": "code",
      "execution_count": 47,
      "metadata": {
        "id": "6oZBfNYFW48k"
      },
      "outputs": [],
      "source": [
        "y_pred_proba_parallel = extra_best_search_parallel.predict_proba(red_test)"
      ]
    },
    {
      "cell_type": "code",
      "execution_count": 48,
      "metadata": {
        "colab": {
          "base_uri": "https://localhost:8080/"
        },
        "id": "o0hXrnRkW48l",
        "outputId": "1797bf08-f4e3-4acc-fb92-63ceaeb8c04c"
      },
      "outputs": [
        {
          "data": {
            "text/plain": [
              "0.883918845315904"
            ]
          },
          "execution_count": 48,
          "metadata": {},
          "output_type": "execute_result"
        }
      ],
      "source": [
        "roc_auc_score(y_test, y_pred_proba_parallel, multi_class='ovr')"
      ]
    },
    {
      "cell_type": "code",
      "execution_count": 49,
      "metadata": {
        "colab": {
          "base_uri": "https://localhost:8080/"
        },
        "id": "wPIM52SCW48l",
        "outputId": "2fe81196-d21f-4f86-9d79-047a0b1852b2"
      },
      "outputs": [
        {
          "data": {
            "text/plain": [
              "array([[6, 2, 0],\n",
              "       [3, 6, 0],\n",
              "       [1, 0, 2]], dtype=int64)"
            ]
          },
          "execution_count": 49,
          "metadata": {},
          "output_type": "execute_result"
        }
      ],
      "source": [
        "conf_mx_parallel = confusion_matrix(y_test, y_pred)\n",
        "conf_mx_parallel"
      ]
    },
    {
      "cell_type": "code",
      "execution_count": 50,
      "metadata": {
        "colab": {
          "base_uri": "https://localhost:8080/",
          "height": 437
        },
        "id": "hd4PvSP6W48l",
        "outputId": "c6d23350-b3bd-4a03-ca4e-fa0e081547e7"
      },
      "outputs": [
        {
          "data": {
            "image/png": "[encoded data removed]",
            "text/plain": [
              "<Figure size 480x480 with 1 Axes>"
            ]
          },
          "metadata": {},
          "output_type": "display_data"
        }
      ],
      "source": [
        "plt.matshow(conf_mx_parallel, cmap=plt.cm.pink)\n",
        "plt.show()"
      ]
    },
    {
      "cell_type": "code",
      "execution_count": 51,
      "metadata": {
        "colab": {
          "base_uri": "https://localhost:8080/"
        },
        "id": "FWo2G4AaW48l",
        "outputId": "505f58cb-9a4e-4050-8226-14f1ee6c6ced"
      },
      "outputs": [
        {
          "name": "stdout",
          "output_type": "stream",
          "text": [
            "              precision    recall  f1-score   support\n",
            "\n",
            "           0       0.60      0.75      0.67         8\n",
            "           1       0.75      0.67      0.71         9\n",
            "           2       1.00      0.67      0.80         3\n",
            "\n",
            "    accuracy                           0.70        20\n",
            "   macro avg       0.78      0.69      0.72        20\n",
            "weighted avg       0.73      0.70      0.70        20\n",
            "\n"
          ]
        }
      ],
      "source": [
        "print(classification_report(y_test, y_pred_parallel))\n"
      ]
    },
    {
      "cell_type": "code",
      "execution_count": 52,
      "metadata": {
        "colab": {
          "base_uri": "https://localhost:8080/"
        },
        "id": "HgPCwu8jW48l",
        "outputId": "b1b15a5a-f995-4778-ac2a-25c0719abae1"
      },
      "outputs": [
        {
          "name": "stderr",
          "output_type": "stream",
          "text": [
            "c:\\Users\\luis_\\AppData\\Local\\Programs\\Python\\Python311\\Lib\\site-packages\\sklearn\\model_selection\\_split.py:700: UserWarning: The least populated class in y has only 3 members, which is less than n_splits=5.\n",
            "  warnings.warn(\n"
          ]
        },
        {
          "name": "stdout",
          "output_type": "stream",
          "text": [
            "Accuracy with hyperparameters: [0.75 0.75 0.25 0.5  0.75]\n",
            "F1 Score with hyperparameters: 0.7241830065359478\n"
          ]
        }
      ],
      "source": [
        "accuracy_trees_parallel = cross_val_score(extra_best_search, red_test, y_test,\n",
        "                        scoring=\"accuracy\", cv=5)\n",
        "\n",
        "print(\"Accuracy with hyperparameters: \" + str(accuracy_trees_parallel))\n",
        "\n",
        "print(\"F1 Score with hyperparameters: \" + str(f1scoreextra_parallel))"
      ]
    },
    {
      "cell_type": "markdown",
      "metadata": {
        "id": "XEKWOPYOENFy"
      },
      "source": [
        "#6. Results"
      ]
    },
    {
      "cell_type": "code",
      "execution_count": 53,
      "metadata": {
        "colab": {
          "base_uri": "https://localhost:8080/"
        },
        "id": "TpPMS_EfEOaW",
        "outputId": "d95afab9-2d5d-406f-f72f-8598f2fc7245"
      },
      "outputs": [
        {
          "name": "stdout",
          "output_type": "stream",
          "text": [
            "Extra Trees Classifier - Sequential:  0.7014952886112217\n",
            "Extra Trees F1 Score - Sequential 0.7241830065359478\n",
            "Extra Trees Classifier - Parallel:  0.6992102091763504\n",
            "Extra Trees F1 Score - Parallel 0.7241830065359478\n",
            "\n",
            "\n",
            "Best F1 Score:  0.7241830065359478\n",
            "Extra Trees Classifier\n"
          ]
        }
      ],
      "source": [
        "print(\"Extra Trees Classifier - Sequential: \",  min(extra_grid_search_results[0]))\n",
        "print(\"Extra Trees F1 Score - Sequential\", f1scoreextra)\n",
        "\n",
        "print(\"Extra Trees Classifier - Parallel: \",  min(extra_grid_search_results_parallel[0]))\n",
        "print(\"Extra Trees F1 Score - Parallel\", f1scoreextra_parallel)\n",
        "\n",
        "\n",
        "print(\"\\n\\nBest F1 Score: \", max(f1scoreextra, f1scoreextra_parallel))\n",
        "print(\"Extra Trees Classifier\")"
      ]
    },
    {
      "cell_type": "markdown",
      "metadata": {
        "id": "tj5eot8qHJvF"
      },
      "source": [
        "#7. Export Model"
      ]
    },
    {
      "cell_type": "code",
      "execution_count": 54,
      "metadata": {
        "colab": {
          "base_uri": "https://localhost:8080/"
        },
        "id": "q82GkzJ5G4Z5",
        "outputId": "b5845228-365f-47a7-954b-560e7aff1e08"
      },
      "outputs": [
        {
          "data": {
            "text/plain": [
              "['my_model.pkl']"
            ]
          },
          "execution_count": 54,
          "metadata": {},
          "output_type": "execute_result"
        }
      ],
      "source": [
        "import joblib\n",
        "joblib.dump (extra_best_search, \"my_model.pkl\")"
      ]
    },
    {
      "cell_type": "code",
      "execution_count": 55,
      "metadata": {
        "colab": {
          "base_uri": "https://localhost:8080/"
        },
        "id": "7_QTOQpwqVQg",
        "outputId": "5d112f7b-1f31-4082-f529-be3a1a69220f"
      },
      "outputs": [
        {
          "name": "stdout",
          "output_type": "stream",
          "text": [
            "No se está utilizando TPU ni GPU\n"
          ]
        }
      ],
      "source": [
        "import tensorflow as tf\n",
        "\n",
        "try:\n",
        "    # Verificar si se está utilizando una TPU\n",
        "    tpua = tf.distribute.cluster_resolver.TPUClusterResolver()\n",
        "    if tpua.master():\n",
        "        print('Se está utilizando TPU')\n",
        "except ValueError:\n",
        "    # Verificar si se está utilizando una GPU\n",
        "    if tf.config.list_physical_devices('GPU'):\n",
        "        print('Se está utilizando GPU')\n",
        "    else:\n",
        "        print('No se está utilizando TPU ni GPU')\n"
      ]
    },
    {
      "cell_type": "code",
      "execution_count": 56,
      "metadata": {
        "colab": {
          "base_uri": "https://localhost:8080/"
        },
        "id": "b4aFN3HJrSJu",
        "outputId": "6c98ea1f-06fc-4504-d917-064b690a7b69"
      },
      "outputs": [
        {
          "name": "stdout",
          "output_type": "stream",
          "text": [
            "Nombre: Intel i5 8th Gen\n",
            "Frecuencia: 2301.0\n",
            "Núcleos físicos: 4\n",
            "Núcleos lógicos: 8\n",
            "Tiempo de ejecución en cómputo secuencial 404.5236232280731\n",
            "Tiempo de ejecución en cómputo paralelo 119.64504718780518\n"
          ]
        }
      ],
      "source": [
        "import psutil\n",
        "\n",
        "# Obtener información sobre el CPU\n",
        "cpu_info = {\n",
        "    'Nombre': 'Intel i5 8th Gen',\n",
        "    'Frecuencia': '',\n",
        "    'Núcleos físicos': '',\n",
        "    'Núcleos lógicos': ''\n",
        "}\n",
        "\n",
        "# Obtener la frecuencia del CPU\n",
        "cpu_info['Frecuencia'] = psutil.cpu_freq().current if psutil.cpu_freq().current else 'Desconocida'\n",
        "\n",
        "\n",
        "# Obtener el número de núcleos físicos y lógicos del CPU\n",
        "cpu_info['Núcleos físicos'] = psutil.cpu_count(logical=False)\n",
        "cpu_info['Núcleos lógicos'] = psutil.cpu_count(logical=True)\n",
        "\n",
        "# Imprimir la información del CPU\n",
        "for key, value in cpu_info.items():\n",
        "    print(key + ':', value)\n",
        "\n",
        "\n",
        "print(\"Tiempo de ejecución en cómputo secuencial\", execution_time_sequential)\n",
        "print(\"Tiempo de ejecución en cómputo paralelo\", execution_time_parallel)\n"
      ]
    },
    {
      "cell_type": "markdown",
      "metadata": {
        "id": "5vVMCx4qvMnu"
      },
      "source": [
        "#8. Conclusions"
      ]
    },
    {
      "cell_type": "markdown",
      "metadata": {
        "id": "5LRR8kHMvPS8"
      },
      "source": [
        "La matriz de confusión y el classification report de SVC sugieren que el modelo ha obtenido una precisión moderada en la clasificación de las muestras en las tres clases. La matriz de confusión muestra que el modelo ha clasificado correctamente la mayoría de las muestras de la clase 0 y 1, pero ha tenido dificultades en la clasificación de la clase 2, con solo 2 de las 3 muestras clasificadas correctamente. En general, el modelo SVM ha logrado una precisión aceptable en la clasificación de las muestras en las tres clases, con un F1 score de 0.724183006535947 con hiperparámetros. \n",
        "\n",
        "Random Forest ha logrado una precisión razonable en las tres clases. De los 8 casos de la clase 0, el modelo ha clasificado correctamente 6 de ellos, pero ha clasificado incorrectamente 2 casos de la clase 0. De los 9 casos de la clase 1, el modelo ha clasificado correctamente 6 de ellos y ha clasificado incorrectamente 3 casos de la clase 1. De los 3 casos de la clase 2, el modelo ha clasificado correctamente 2 de ellos y ha clasificado incorrectamente 1 caso de la clase 2. En general, el modelo Random Forest ha logrado una precisión aceptable en la clasificación de las tres clases.\n",
        "\n",
        "Extra Trees ha clasificado correctamente 6 de los 8 casos de la clase 0 y ha clasificado incorrectamente 2 de ellos como pertenecientes a la clase 1. Además, ha clasificado correctamente 6 de los 9 casos de la clase 1 y ha clasificado incorrectamente 3 de ellos como pertenecientes a la clase 0. Finalmente, el modelo ha clasificado correctamente 2 de los 3 casos de la clase 2 y ha clasificado incorrectamente 1 de ellos como perteneciente a la clase 0. En general, el modelo tiene un rendimiento aceptable en la clasificación de las tres clases, aunque puede haber margen de mejora, especialmente en la clasificación de los casos de la clase 0 y 1, donde se producen las principales confusiones.\n",
        "\n"
      ]
    }
  ],
  "metadata": {
    "colab": {
      "provenance": []
    },
    "kernelspec": {
      "display_name": "Python 3.11.2 64-bit",
      "language": "python",
      "name": "python3"
    },
    "language_info": {
      "codemirror_mode": {
        "name": "ipython",
        "version": 3
      },
      "file_extension": ".py",
      "mimetype": "text/x-python",
      "name": "python",
      "nbconvert_exporter": "python",
      "pygments_lexer": "ipython3",
      "version": "3.11.3"
    },
    "vscode": {
      "interpreter": {
        "hash": "d8f1965f81373559962f270d5a4969bcab023c967b33e0fab0684855ed401715"
      }
    }
  },
  "nbformat": 4,
  "nbformat_minor": 0
}
